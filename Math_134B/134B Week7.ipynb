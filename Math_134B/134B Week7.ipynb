{
 "cells": [
  {
   "cell_type": "markdown",
   "metadata": {},
   "source": [
    "# 134B Week 7"
   ]
  },
  {
   "cell_type": "code",
   "execution_count": 1,
   "metadata": {},
   "outputs": [],
   "source": [
    "import numpy as np\n",
    "import matplotlib.pyplot as plt\n",
    "import pandas as pd"
   ]
  },
  {
   "cell_type": "markdown",
   "metadata": {},
   "source": [
    "## Exercise 5.2\n",
    "A $50 stock pays a $1 dividend every 3 months, with the first dividend coming 3\n",
    "months from today. The continuously compounded risk-free rate is 6%.\n",
    "- a. What is the price of a prepaid forward contract that expires 1 year from today,\n",
    "immediately after the fourth-quarter dividend?\n",
    "- b. What is the price of a forward contract that expires at the same time?"
   ]
  },
  {
   "cell_type": "markdown",
   "metadata": {},
   "source": [
    "### Solution:\n",
    "- (a): We use the formula:\n",
    "$$ F^P_{0,T} = S_0 - \\sum_{i=1}^4 D e^{-0.06\\times\\frac{3i}{12}}$$"
   ]
  },
  {
   "cell_type": "code",
   "execution_count": 2,
   "metadata": {},
   "outputs": [
    {
     "name": "stdout",
     "output_type": "stream",
     "text": [
      "The prepaid forward price is $46.15\n"
     ]
    }
   ],
   "source": [
    "S0 = 50\n",
    "n = 4\n",
    "F0 = S0\n",
    "D = 1\n",
    "r = 0.06\n",
    "period = 3/12\n",
    "for i in range(1, n+1):\n",
    "    F0 -= D*np.exp(-r*i*period)\n",
    "print(f'The prepaid forward price is ${F0:.2f}')"
   ]
  },
  {
   "cell_type": "markdown",
   "metadata": {},
   "source": [
    "- (b): The forward price is equivalent to the future value of the prepaid forward. With an interest\n",
    "rate of 6 percent and an expiration of the forward in one year, we thus have:\n",
    "$$ F_{0,T} = F_{0,T}^P\\times e^{0.06\\times 1}$$"
   ]
  },
  {
   "cell_type": "code",
   "execution_count": 3,
   "metadata": {},
   "outputs": [
    {
     "name": "stdout",
     "output_type": "stream",
     "text": [
      "The forward price is $49.00\n"
     ]
    }
   ],
   "source": [
    "print(f'The forward price is ${F0*np.exp(r*1):.2f}')"
   ]
  },
  {
   "cell_type": "markdown",
   "metadata": {},
   "source": [
    "## Exercise 5.4\n",
    "Suppose the stock price is $35 and the continuously compounded interest rate is 5%.\n",
    "- a. What is the 6-month forward price, assuming dividends are zero?\n",
    "- b. If the 6-month forward price is $35.50, what is the annualized forward\n",
    "premium?\n",
    "- c. If the forward price is $35.50, what is the annualized continuous dividend\n",
    "yield?"
   ]
  },
  {
   "cell_type": "markdown",
   "metadata": {},
   "source": [
    "### Solution:\n",
    "- (a):\n",
    "Use the formula:\n",
    "$$ F_{0,T} = S_0\\times e^{r\\times T}$$"
   ]
  },
  {
   "cell_type": "code",
   "execution_count": 4,
   "metadata": {},
   "outputs": [
    {
     "name": "stdout",
     "output_type": "stream",
     "text": [
      "The prepaid forward price is $35.89\n"
     ]
    }
   ],
   "source": [
    "S0 = 35\n",
    "r = 0.05\n",
    "T = 0.5\n",
    "print(f'The prepaid forward price is ${S0*np.exp(r*T):.2f}')"
   ]
  },
  {
   "cell_type": "markdown",
   "metadata": {},
   "source": [
    "- (b): The annualized forward premium is calculated as\n",
    "$$ \\text{annualized forward premium} = \\frac{1}{T}\\ln(\\frac{F_{0,T}}{S_0})$$"
   ]
  },
  {
   "cell_type": "code",
   "execution_count": 5,
   "metadata": {},
   "outputs": [
    {
     "name": "stdout",
     "output_type": "stream",
     "text": [
      "The anuualized forward premium is 2.84%\n"
     ]
    }
   ],
   "source": [
    "F0 = 35.5\n",
    "print(f'The anuualized forward premium is {1/T*np.log(F0/S0)*100:.2f}%')"
   ]
  },
  {
   "cell_type": "markdown",
   "metadata": {},
   "source": [
    "- (c):For the case of continuous dividends, the forward premium is simply the difference between\n",
    "the risk-free rate and the dividend yield:\n",
    "$$\\text{annualized forward premium} = \\frac{1}{T} \\ln \\left(\\frac{F_{0, T}}{S_0}\\right)=\\frac{1}{T} \\ln \\left(\\frac{S_0 \\times e^{(r-\\delta) T}}{S_0}\\right) = r- \\delta$$\n",
    "\n",
    "Thus, use (a) and (b), we can solve for $\\delta$.\n",
    "\n"
   ]
  },
  {
   "cell_type": "code",
   "execution_count": 6,
   "metadata": {},
   "outputs": [
    {
     "name": "stdout",
     "output_type": "stream",
     "text": [
      "The continuous dividend yield is 2.16%\n"
     ]
    }
   ],
   "source": [
    "print(f'The continuous dividend yield is {(r-1/T*np.log(F0/S0))*100:.2f}%')"
   ]
  },
  {
   "cell_type": "markdown",
   "metadata": {},
   "source": [
    "## Exercise 5.6\n",
    "Suppose you are a market-maker in S&R index forward contracts. The S&R index\n",
    "spot price is 1100, the risk-free rate is 5%, and the dividend yield on the index is 1.5%.\n",
    "- a. What is the no-arbitrage forward price for delivery in 9 months?\n",
    "- b. Suppose a customer wishes to enter a short index futures position. If you take\n",
    "the opposite position, demonstrate how you would hedge your resulting long\n",
    "position using the index and borrowing or lending.\n",
    "- c. Suppose a customer wishes to enter a long index futures position. If you take\n",
    "the opposite position, demonstrate how you would hedge your resulting short\n",
    "position using the index and borrowing or lending."
   ]
  },
  {
   "cell_type": "markdown",
   "metadata": {},
   "source": [
    "### Solution:\n",
    "- (a): Use the formula:\n",
    "$$ F_{0,T} = S_0 \\times e^{(r-\\delta)\\times T}$$"
   ]
  },
  {
   "cell_type": "code",
   "execution_count": 7,
   "metadata": {},
   "outputs": [
    {
     "name": "stdout",
     "output_type": "stream",
     "text": [
      "The forward price is $1129.26\n"
     ]
    }
   ],
   "source": [
    "S0 = 1100\n",
    "r = 0.05\n",
    "delta = 0.015\n",
    "T = 9/12\n",
    "print(f'The forward price is ${S0*np.exp((r-delta)*T):.2f}')"
   ]
  },
  {
   "cell_type": "markdown",
   "metadata": {},
   "source": [
    "- (b): We can adopt the following strategy:\n",
    "  - Long forward, resulting from customer purchase: Received 0 at 0, $S_T - F_{0,T}$ at T\n",
    "  - Sell short tailed position of the index: Received $S_0\\times e^{-\\delta T}$ at 0, $-S_T$ at T\n",
    "  - Lend $S_0\\times e^{-\\delta T}$: Received $-S_0\\times e^{-\\delta T}$ at 0, $S_0\\times e^{(r-\\delta)T}$ at T\n",
    "\n",
    "Thus, at 0, the net gain is 0, same as at T, since we have $F_{0,T} = S_0 \\times e^{(r-\\delta)\\times T}$. It is perfectly hedged with no risk."
   ]
  },
  {
   "cell_type": "markdown",
   "metadata": {},
   "source": [
    "- (c): We can adopt the following strategy:\n",
    "  - Short forward, resulting from customer purchase: Received 0 at 0, $F_{0,T}-S_T$ at T\n",
    "  - Buy tailed position in index: Received $-S_0\\times e^{-\\delta T}$ at 0, $S_T$ at T\n",
    "  - Borrow $S_0\\times e^{-\\delta T}$: Received $S_0\\times e^{-\\delta T}$ at 0, $-S_0\\times e^{(r-\\delta)T}$ at T\n",
    "\n",
    "Thus, at 0, the net gain is 0, same as at T, since we have $F_{0,T} = S_0 \\times e^{(r-\\delta)\\times T}$. It is perfectly hedged with no risk, because he has successfully created a synthetic long position in the forward contract\n",
    "that perfectly offsets his obligation from the sold forward contract."
   ]
  },
  {
   "cell_type": "markdown",
   "metadata": {},
   "source": [
    "## Exercise 5.8\n",
    "The S&R index spot price is 1100, the risk-free rate is 5%, and the continuous\n",
    "dividend yield on the index is 2%.\n",
    "- a. Suppose you observe a 6-month forward price of 1120. What arbitrage would\n",
    "you undertake?\n",
    "- b. Suppose you observe a 6-month forward price of 1110. What arbitrage would\n",
    "you undertake?"
   ]
  },
  {
   "cell_type": "markdown",
   "metadata": {},
   "source": [
    "### Solution:\n",
    "We first compute the fair price of the forward contract."
   ]
  },
  {
   "cell_type": "code",
   "execution_count": 8,
   "metadata": {},
   "outputs": [
    {
     "name": "stdout",
     "output_type": "stream",
     "text": [
      "The forward fair price is $1116.62\n"
     ]
    }
   ],
   "source": [
    "S0 = 1100\n",
    "r = 0.05\n",
    "delta = 0.02\n",
    "T = 6/12\n",
    "F0 = S0*np.exp((r-delta)*T)\n",
    "print(f'The forward fair price is ${F0:.2f}')"
   ]
  },
  {
   "cell_type": "markdown",
   "metadata": {},
   "source": [
    "- (a): If we observe a forward price of $1,120, we know that the forward is too expensive, relative\n",
    "to the fair value we have determined. Therefore, we will sell the forward at $1,120, and\n",
    "create a synthetic forward for $1,116.82, making a sure profit of $3.38. As we sell the real\n",
    "forward, we engage in cash and carry arbitrage:\n",
    "  - Short forward: receive 0 at 0, 1120-$S_T$ at T\n",
    "  - Buy tailed position in index: receive $-S_0\\times e^{-\\delta T}$ at 0, $S_T$ at T\n",
    "  - Borrow the money to buy the tailed position in index: receive $S_0\\times e^{-\\delta T}$ at 0, $-S_0\\times e^{(r-\\delta)\\times T}$ at T.\n",
    "\n",
    "Thus, by comparing the fair price, we will get \\$3.38 at T."
   ]
  },
  {
   "cell_type": "markdown",
   "metadata": {},
   "source": [
    "- (b): Similar to (a), but this time we need to buy the forward contract and short sell a synthetic forward.\n",
    "  - Long forward: receive 0 at 0, $S_T - 1110$ at T\n",
    "  - Short tailed position in index: receive $S_0\\times e^{-\\delta T}$ at 0, $-S_T$ at T\n",
    "  - Lend the money of short selling the tailed position in index: receive $-S_0\\times e^{-\\delta T}$ at 0, $S_0\\times e^{(r-\\delta)\\times T}$ at T.\n",
    "\n",
    "Thus, by comparing the fair price, we will get \\$6.62 at T."
   ]
  },
  {
   "cell_type": "markdown",
   "metadata": {},
   "source": [
    "## Exercise 5.10\n",
    "The S&R index spot price is 1100 and the continuously compounded risk-free rate\n",
    "is 5%. You observe a 9-month forward price of 1129.257.\n",
    "- a. What dividend yield is implied by this forward price?\n",
    "- b. Suppose you believe the dividend yield over the next 9 months will be only\n",
    "0.5%. What arbitrage would you undertake?\n",
    "- c. Suppose you believe the dividend yield will be 3% over the next 9 months.\n",
    "What arbitrage would you undertake?"
   ]
  },
  {
   "cell_type": "markdown",
   "metadata": {},
   "source": [
    "### Solution:\n",
    "\n",
    "- (a): We use the formula:\n",
    "$$\\text{annualized forward premium} = \\frac{1}{T} \\ln \\left(\\frac{F_{0, T}}{S_0}\\right)=\\frac{1}{T} \\ln \\left(\\frac{S_0 \\times e^{(r-\\delta) T}}{S_0}\\right) = r- \\delta$$"
   ]
  },
  {
   "cell_type": "code",
   "execution_count": 9,
   "metadata": {},
   "outputs": [
    {
     "name": "stdout",
     "output_type": "stream",
     "text": [
      "The continuous dividend yield is 1.50%\n"
     ]
    }
   ],
   "source": [
    "S0 = 1100\n",
    "r = 0.05\n",
    "F0 = 1129.257\n",
    "T = 9/12\n",
    "delta = r - 1/T*np.log(F0/S0)\n",
    "print(f'The continuous dividend yield is {delta*100:.2f}%')"
   ]
  },
  {
   "cell_type": "markdown",
   "metadata": {},
   "source": [
    "- (b): The actual dividen is 0.5%, we can first take a look at the fair forward price."
   ]
  },
  {
   "cell_type": "code",
   "execution_count": 10,
   "metadata": {},
   "outputs": [
    {
     "name": "stdout",
     "output_type": "stream",
     "text": [
      "The fair forward price is $1137.76\n"
     ]
    }
   ],
   "source": [
    "delta_true = 0.005\n",
    "F0_true = S0*np.exp((r-delta_true)*T)\n",
    "print(f'The fair forward price is ${F0_true:.2f}')"
   ]
  },
  {
   "cell_type": "markdown",
   "metadata": {},
   "source": [
    "Thus, we should short sell a sythetic forward contract and buy a forward contract. \n",
    "- Long forward: receive 0 at 0, $S_T - 1129.257$ at T\n",
    "- Short tailed position in index: receive $S_0\\times e^{-\\delta T}$ at 0, $-S_T$ at T\n",
    "- Lend the money of short selling the tailed position in index: receive $-S_0\\times e^{-\\delta T}$ at 0, $S_0\\times e^{(r-\\delta)\\times T}$ at T."
   ]
  },
  {
   "cell_type": "code",
   "execution_count": 11,
   "metadata": {},
   "outputs": [
    {
     "name": "stdout",
     "output_type": "stream",
     "text": [
      "The risk free arbitrage profit is $8.50\n"
     ]
    }
   ],
   "source": [
    "print(f'The risk free arbitrage profit is ${F0_true-F0:.2f}')"
   ]
  },
  {
   "cell_type": "markdown",
   "metadata": {},
   "source": [
    "- (c): The actual dividen is 3%, then the fair forward price."
   ]
  },
  {
   "cell_type": "code",
   "execution_count": 12,
   "metadata": {},
   "outputs": [
    {
     "name": "stdout",
     "output_type": "stream",
     "text": [
      "The fair forward price is $1116.62\n"
     ]
    }
   ],
   "source": [
    "delta_newtrue = 0.03\n",
    "F0_newtrue = S0*np.exp((r-delta_newtrue)*T)\n",
    "print(f'The fair forward price is ${F0_newtrue:.2f}')"
   ]
  },
  {
   "cell_type": "markdown",
   "metadata": {},
   "source": [
    "Thus, we should long a sythetic forward contract and short sell a forward contract:\n",
    "- Short forward: receive 0 at 0, 1129.257-$S_T$ at T\n",
    "- Buy tailed position in index: receive $-S_0\\times e^{-\\delta T}$ at 0, $S_T$ at T\n",
    "- Borrow the money to buy the tailed position in index: receive $S_0\\times e^{-\\delta T}$ at 0, $-S_0\\times e^{(r-\\delta)\\times T}$ at T.\n"
   ]
  },
  {
   "cell_type": "code",
   "execution_count": 13,
   "metadata": {},
   "outputs": [
    {
     "name": "stdout",
     "output_type": "stream",
     "text": [
      "The risk free arbitrage profit is $12.63\n"
     ]
    }
   ],
   "source": [
    "print(f'The risk free arbitrage profit is ${F0-F0_newtrue:.2f}')"
   ]
  },
  {
   "cell_type": "markdown",
   "metadata": {},
   "source": [
    "## Exercise 5.12\n",
    "Suppose the S&P 500 index is currently 950 and the initial margin is 10%. You wish\n",
    "to enter into 10 S&P 500 futures contracts.\n",
    "- a. What is the notional value of your position? What is the margin?\n",
    "- b. Suppose you earn a continuously compounded rate of 6% on your margin\n",
    "balance, your position is marked to market weekly, and the maintenance\n",
    "margin is 80% of the initial margin. What is the greatest S&P 500 index\n",
    "futures price 1 week from today at which you will receive a margin call?"
   ]
  },
  {
   "cell_type": "markdown",
   "metadata": {},
   "source": [
    "### Solution:\n",
    "- (a): The notion value (from the text book) is given by:\n",
    "$$ 250\\times index \\times number$$\n",
    "\n",
    "With an initial margin of 10 percent of the notional value:\n",
    "$$ \\text{margin} = 0.1\\times \\text{notional value}$$"
   ]
  },
  {
   "cell_type": "code",
   "execution_count": 14,
   "metadata": {},
   "outputs": [
    {
     "name": "stdout",
     "output_type": "stream",
     "text": [
      "The notional value is $2375000.00\n",
      "The margin is $237500.00\n"
     ]
    }
   ],
   "source": [
    "n = 250\n",
    "S0 = 950\n",
    "number = 10\n",
    "print(f'The notional value is ${n*S0*number:.2f}')\n",
    "print(f'The margin is ${0.1*n*S0*number:.2f}')"
   ]
  },
  {
   "cell_type": "markdown",
   "metadata": {},
   "source": [
    "- (b): After one week, the margin becomes:\n",
    "$$ \\text{balance} = \\text{margin}\\times e^{0.06\\times \\frac{1}{52}}$$\n",
    "We need to use the margin to compensate the drop of the index. We will get a margin call if the initial margin falls by 20 percent. Then we want to solve:\n",
    "$$ \\text{balance} + (F-950)\\times 250 \\times 10 \\geq \\text{margin}\\times 0.8$$"
   ]
  },
  {
   "cell_type": "code",
   "execution_count": 15,
   "metadata": {},
   "outputs": [
    {
     "name": "stdout",
     "output_type": "stream",
     "text": [
      "the greatest S&P 500 index futures price at which we will receive a margin call is 930.89\n"
     ]
    }
   ],
   "source": [
    "margin = 0.1*n*S0*number\n",
    "balance = margin*np.exp(0.06*1/52)\n",
    "F = (margin*0.8 - balance + S0*n*number)/(n*number)\n",
    "print(f'the greatest S&P 500 index futures price at which we will receive a margin call is {F:.2f}')"
   ]
  },
  {
   "cell_type": "markdown",
   "metadata": {},
   "source": [
    "## Exercise 5.14\n",
    "Verify that when there are transaction costs, the lower no-arbitrage bound is given\n",
    "by equation:\n",
    "$$ F^a < F^- = (S^b_0-2k)e^{r^l T}$$"
   ]
  },
  {
   "cell_type": "markdown",
   "metadata": {},
   "source": [
    "### Solution:\n",
    "An arbitrageur believing that the observed forward price, F(0,T), is too low will undertake a\n",
    "reverse cash and carry arbitrage: buy the forward, short sell the stock, and lend out the proceeds\n",
    "from the short sale. The relevant prices are, therefore, the bid price of the stock and the lending\n",
    "interest rate. Also, she will incur the transaction costs twice. We will do the following:\n",
    "- Long forward: receive 0 at 0, $S_T - F_{0,T}$ at T\n",
    "- Sell short tailed position of the index: receive $S_b e^{-\\delta T}$, $-S_T$ at T\n",
    "- Pay twice the transaction cost: $-2\\times k$ at 0.\n",
    "- Lend money: receive $-S_0^b e^{-\\delta T} + 2\\times k$, $(S_0^b e^{-\\delta T} - 2\\times k)\\times e^{r^l T}$.\n",
    "\n",
    "To make it non-profitable, we need the net gain at $T$ to be less than 0 (since at 0 it is already 0).\n",
    "Thus:\n",
    "$$(S_0^b e^{-\\delta T} - 2\\times k)\\times e^{r^l T} - F_{0,T} \\leq 0$$\n",
    "\n",
    "Thus, when $F_{0,T}$ is less than this bound, there is an arbitrage strategy."
   ]
  },
  {
   "cell_type": "markdown",
   "metadata": {},
   "source": [
    "## Exercise 5.16\n",
    "Suppose the S&P 500 currently has a level of 875. The continuously compounded\n",
    "return on a 1-year T-bill is 4.75%. You wish to hedge an $800,000 portfolio that has\n",
    "a beta of 1.1 and a correlation of 1.0 with the S&P 500.\n",
    "- a. What is the 1-year futures price for the S&P 500 assuming no dividends?\n",
    "- b. How many S&P 500 futures contracts should you short to hedge your portfolio?\n",
    "What return do you expect on the hedged portfolio?"
   ]
  },
  {
   "cell_type": "markdown",
   "metadata": {},
   "source": [
    "### Solution:\n",
    "- (a):\n",
    "We use the same formula to get the future price:"
   ]
  },
  {
   "cell_type": "code",
   "execution_count": 16,
   "metadata": {},
   "outputs": [
    {
     "name": "stdout",
     "output_type": "stream",
     "text": [
      "The forward price is $917.57\n"
     ]
    }
   ],
   "source": [
    "S0 = 875\n",
    "r = 0.0475\n",
    "T = 1\n",
    "F0 = S0*np.exp(r*T)\n",
    "print(f'The forward price is ${F0:.2f}')"
   ]
  },
  {
   "cell_type": "markdown",
   "metadata": {},
   "source": [
    "- (b):\n",
    "One future contract have value $250\\times 875$. Then to get \\$800000, we need:"
   ]
  },
  {
   "cell_type": "code",
   "execution_count": 17,
   "metadata": {},
   "outputs": [
    {
     "name": "stdout",
     "output_type": "stream",
     "text": [
      "The value of the forward contract is $218750.00\n",
      "We need 3.66 contracts to hedge the position\n"
     ]
    }
   ],
   "source": [
    "value = 250*S0\n",
    "print(f'The value of the forward contract is ${value:.2f}')\n",
    "print(f'We need {800000/value:.2f} contracts to hedge the position')"
   ]
  },
  {
   "cell_type": "markdown",
   "metadata": {},
   "source": [
    "Moreover, recall beta:\n",
    "$$ r_{stock} = \\beta r_{index}$$\n",
    "\n",
    "To hedge 1 share of the stock, we need 1.1 share of the future contract."
   ]
  },
  {
   "cell_type": "code",
   "execution_count": 18,
   "metadata": {},
   "outputs": [
    {
     "name": "stdout",
     "output_type": "stream",
     "text": [
      "We need short sell 4.02 contracts to hedge the position\n"
     ]
    }
   ],
   "source": [
    "print(f'We need short sell {800000/value * 1.1:.2f} contracts to hedge the position')"
   ]
  },
  {
   "cell_type": "markdown",
   "metadata": {},
   "source": [
    "As the correlation between the index and our portfolio is assumed to be one, we have no\n",
    "basis risk and have perfectly hedged our position and transformed it into a riskless\n",
    "investment. Therefore, we expect to earn the risk-free interest rate as a return over one year."
   ]
  },
  {
   "cell_type": "markdown",
   "metadata": {},
   "source": [
    "## Exercise 5.18\n",
    "Suppose the current exchange rate between Germany and Japan is 0.02 =C/¥. The\n",
    "euro-denominated annual continuously compounded risk-free rate is 4% and the\n",
    "yen-denominated annual continuously compounded risk-free rate is 1%. What are\n",
    "the 6-month euro/yen and yen/euro forward prices?"
   ]
  },
  {
   "cell_type": "markdown",
   "metadata": {},
   "source": [
    "### Solution:\n",
    "The current exchange rate is 0.02E/Y, which implies 50Y/E. The euro continuously compounded\n",
    "interest rate is 0.04, the yen continuously compounded interest rate 0.01. Time to expiration is\n",
    "0.5 years. Thus, we have:\n",
    "$$ \\text{Euro/Yen forward} = 0.02 e^{(0.04-0.01)*0.5}$$\n",
    "$$ \\text{Yen/Euro forward} = 50 e^{(0.01 - 0.04)*0.5}$$"
   ]
  },
  {
   "cell_type": "code",
   "execution_count": 19,
   "metadata": {},
   "outputs": [
    {
     "name": "stdout",
     "output_type": "stream",
     "text": [
      "The value of Euro/Yen forward contract is $0.02030226129231438\n",
      "The value of Yen/Euro forward contract is $49.25559698015313\n"
     ]
    }
   ],
   "source": [
    "print(f'The value of Euro/Yen forward contract is ${0.02*np.exp((0.04-0.01)/2)}')\n",
    "print(f'The value of Yen/Euro forward contract is ${50*np.exp((0.01-0.04)/2)}')"
   ]
  },
  {
   "cell_type": "markdown",
   "metadata": {},
   "source": [
    "## Exercise 5.20\n",
    "Suppose we wish to borrow $10 million for 91 days beginning next June, and that\n",
    "the quoted Eurodollar futures price is 93.23.\n",
    "- a. What 3-month LIBOR rate is implied by this price?\n",
    "- b. How much will be needed to repay the loan?"
   ]
  },
  {
   "cell_type": "markdown",
   "metadata": {},
   "source": [
    "### Solution:\n",
    "- (a):The Eurodollar futures price is 93.23. Therefore, we can use equation in the main text\n",
    "to back out the three-month LIBOR rate:\n",
    "$$r_{91}=(100-F) \\times \\frac{1}{100} \\times \\frac{1}{4} \\times \\frac{91}{90}$$"
   ]
  },
  {
   "cell_type": "code",
   "execution_count": 20,
   "metadata": {},
   "outputs": [
    {
     "name": "stdout",
     "output_type": "stream",
     "text": [
      "The annualized interest rate is 1.71%\n"
     ]
    }
   ],
   "source": [
    "F = 93.23\n",
    "r91 = (100-F)/100/4*91/90\n",
    "print(f'The annualized interest rate is {r91*100:.2f}%')"
   ]
  },
  {
   "cell_type": "markdown",
   "metadata": {},
   "source": [
    "- (b):\n",
    "We will have to repay principal plus interest on the loan that we are taking from the\n",
    "following June to September. Because we shorted a Eurodollar futures, we are guaranteed the\n",
    "interest rate we calculated in part (a)."
   ]
  },
  {
   "cell_type": "code",
   "execution_count": 21,
   "metadata": {},
   "outputs": [
    {
     "name": "stdout",
     "output_type": "stream",
     "text": [
      "We need to repay $10171130.56 in 91 days\n"
     ]
    }
   ],
   "source": [
    "print(f'We need to repay ${10000000*(1+r91):.2f} in 91 days')"
   ]
  },
  {
   "cell_type": "markdown",
   "metadata": {},
   "source": []
  }
 ],
 "metadata": {
  "kernelspec": {
   "display_name": "math-134-notes-ujRLJM6v-py3.12",
   "language": "python",
   "name": "python3"
  },
  "language_info": {
   "codemirror_mode": {
    "name": "ipython",
    "version": 3
   },
   "file_extension": ".py",
   "mimetype": "text/x-python",
   "name": "python",
   "nbconvert_exporter": "python",
   "pygments_lexer": "ipython3",
   "version": "3.12.0"
  }
 },
 "nbformat": 4,
 "nbformat_minor": 2
}
