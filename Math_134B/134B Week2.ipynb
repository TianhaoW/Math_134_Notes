{
  "cells": [
    {
      "cell_type": "markdown",
      "id": "c9c79f79",
      "metadata": {
        "id": "c9c79f79"
      },
      "source": [
        "# 134B Week 2"
      ]
    },
    {
      "cell_type": "markdown",
      "id": "cc1bb56d",
      "metadata": {
        "id": "cc1bb56d"
      },
      "source": [
        "## WHAT IS A DERIVATIVE?\n",
        "A **derivative** is a financial instrument that has a value determined by the price of something else."
      ]
    },
    {
      "cell_type": "markdown",
      "id": "9e0bcb50",
      "metadata": {
        "id": "9e0bcb50"
      },
      "source": [
        "# Bid and Ask Price:\n",
        "In the stock market, there are two prices\n",
        "- **Bid Price** : the price at which you can sell;\n",
        "- **Ask Price** : the price at which you can buy."
      ]
    },
    {
      "cell_type": "markdown",
      "id": "02a406dd",
      "metadata": {
        "id": "02a406dd"
      },
      "source": [
        "## Market Size and Activity:\n",
        "- **Trading volume**: This measure counts the number\n",
        "of financial claims that change hands\n",
        "\n",
        "- **Market value**: The market value is the sum of the\n",
        "market value of the claims that could be traded,\n",
        "without regard to whether they have traded\n",
        "- **Notional value**: Notional value measure the scale\n",
        "of a position, usually with reference to some\n",
        "underlying asset\n",
        "- **Open Interest**: Open interest measures the total\n",
        "number of contracts for which counterparties\n",
        "have a future obligation to perform"
      ]
    },
    {
      "cell_type": "markdown",
      "id": "6f94dab5",
      "metadata": {
        "id": "6f94dab5"
      },
      "source": [
        "## Exercise 1.3\n",
        "\n",
        "ABC stock has a bid price of \\$ 40.95 and an ask price of \\$41.05. Assume there is a \\$20 brokerage commision.\n",
        "- a. What amount will you pay to buy 100 shares?\n",
        "- b. What amount will you reveive for selling 100 shares?\n",
        "- c. Suppose you buy 100 shares, then immediately sell 100 shares with the bid and ask prices being the ssame in both cases. What is your round-trip transaction cost?"
      ]
    },
    {
      "cell_type": "markdown",
      "id": "7e003ef2",
      "metadata": {
        "id": "7e003ef2"
      },
      "source": [
        "### Solution:\n"
      ]
    },
    {
      "cell_type": "markdown",
      "id": "dda3e5ee",
      "metadata": {
        "id": "dda3e5ee"
      },
      "source": [
        "- a. Recall bid price and ask price.\n",
        "Therefore, to buy 100 shares, you will pay:\n",
        "$$41.05\\times 100 + 20 = 4125$$"
      ]
    },
    {
      "cell_type": "code",
      "execution_count": 1,
      "id": "8a469e83",
      "metadata": {
        "id": "8a469e83",
        "outputId": "c0dc000c-182e-465a-e112-33cbd5873177"
      },
      "outputs": [
        {
          "name": "stdout",
          "output_type": "stream",
          "text": [
            "The price you will pay is $4125.00.\n"
          ]
        }
      ],
      "source": [
        "print(f'The price you will pay is ${41.05*100 + 20:.2f}.')"
      ]
    },
    {
      "cell_type": "markdown",
      "id": "cd8c3806",
      "metadata": {
        "id": "cd8c3806"
      },
      "source": [
        "- b. Similary, we will use the bid price:\n",
        "$$ 40.95 \\times 100 - 20 = 4075$$\n",
        "Be careful you will need to subtract $20 for the commission since you are receiving money."
      ]
    },
    {
      "cell_type": "code",
      "execution_count": 2,
      "id": "26c27c39",
      "metadata": {
        "id": "26c27c39",
        "outputId": "3743ab1b-dca0-48c7-a2e9-774ba10ac068"
      },
      "outputs": [
        {
          "name": "stdout",
          "output_type": "stream",
          "text": [
            "The price you will receive is $4075.00.\n"
          ]
        }
      ],
      "source": [
        "print(f'The price you will receive is ${40.95*100 - 20:.2f}.')"
      ]
    },
    {
      "cell_type": "markdown",
      "id": "8110e280",
      "metadata": {
        "id": "8110e280"
      },
      "source": [
        "- c. The round-trip, you pay \\$4125 and then reveive \\$4095:"
      ]
    },
    {
      "cell_type": "code",
      "execution_count": 3,
      "id": "c1ea63b4",
      "metadata": {
        "id": "c1ea63b4",
        "outputId": "365d73a0-0b34-4f8f-f99e-80491164bd32"
      },
      "outputs": [
        {
          "name": "stdout",
          "output_type": "stream",
          "text": [
            "The net cost is $40.00.\n"
          ]
        }
      ],
      "source": [
        "print(f'The net cost is ${40.95*100 + 20 - 40.95*100 + 20:.2f}.')"
      ]
    },
    {
      "cell_type": "markdown",
      "id": "649efd78",
      "metadata": {
        "id": "649efd78"
      },
      "source": [
        "## Exercise 1.4\n",
        "Repeat the previous problem supposing that the brokerage fee is quoted as 0.3% of the bid or ask price."
      ]
    },
    {
      "cell_type": "markdown",
      "id": "9350185e",
      "metadata": {
        "id": "9350185e"
      },
      "source": [
        "### Solution:\n",
        "Similarly, to buy 100 shares, we pay:\n",
        "$$ (41.05 \\times 100) \\times (1+0.003) = 4117.315 $$"
      ]
    },
    {
      "cell_type": "code",
      "execution_count": 4,
      "id": "a592ee7d",
      "metadata": {
        "id": "a592ee7d",
        "outputId": "6a169057-24be-489d-b355-69991a80298f"
      },
      "outputs": [
        {
          "name": "stdout",
          "output_type": "stream",
          "text": [
            "We will pay $4117.31.\n"
          ]
        }
      ],
      "source": [
        "print(f'We will pay ${(41.05*100)*(1+0.003):.2f}.')"
      ]
    },
    {
      "cell_type": "markdown",
      "id": "21e9f7d7",
      "metadata": {
        "id": "21e9f7d7"
      },
      "source": [
        "To sell 100 shares, we receive:\n",
        "$$ (40.95*100)\\times(1 - 0.003) = 4082.715 $$\n"
      ]
    },
    {
      "cell_type": "code",
      "execution_count": 5,
      "id": "82fece6e",
      "metadata": {
        "id": "82fece6e",
        "outputId": "9d8baaac-8146-497b-b7e5-3a775376a799"
      },
      "outputs": [
        {
          "name": "stdout",
          "output_type": "stream",
          "text": [
            "We will receive $4082.72.\n"
          ]
        }
      ],
      "source": [
        "print(f'We will receive ${(40.95*100)*(1-0.003):.2f}.')"
      ]
    },
    {
      "cell_type": "markdown",
      "id": "b5ad4031",
      "metadata": {
        "id": "b5ad4031"
      },
      "source": [
        "The net pay is:"
      ]
    },
    {
      "cell_type": "code",
      "execution_count": 6,
      "id": "b238c86e",
      "metadata": {
        "colab": {
          "base_uri": "https://localhost:8080/"
        },
        "id": "b238c86e",
        "outputId": "8f801e67-0a46-45f6-89a5-6d5120da4c9b"
      },
      "outputs": [
        {
          "name": "stdout",
          "output_type": "stream",
          "text": [
            "The net cost is $34.60.\n"
          ]
        }
      ],
      "source": [
        "print(f'The net cost is ${(41.05*100)*(1+0.003) - (40.95*100)*(1-0.003):.2f}.')"
      ]
    },
    {
      "cell_type": "markdown",
      "id": "2a6eb29c",
      "metadata": {
        "id": "2a6eb29c"
      },
      "source": [
        "## Exercise 1.5\n",
        "Suppose a security has a bid price of \\$100 and an ask price of \\$100.12. At what price\n",
        "can the market-maker purchase a security? At what price can a market-maker sell a\n",
        "security? What is the spread in dollar terms when 100 shares are traded?"
      ]
    },
    {
      "cell_type": "markdown",
      "id": "371677a4",
      "metadata": {
        "id": "371677a4"
      },
      "source": [
        "### Solution:\n",
        "Note that now you are the market maker. Now the role changes:\n",
        "- Purchase: You will use the bid price to purchase, which is \\$100;\n",
        "- Sells: You will use the ask price to sell, which is \\$100.12;\n",
        "- The spread: $$ 100*(100.12 - 100) = 12 $$."
      ]
    },
    {
      "cell_type": "code",
      "execution_count": 7,
      "id": "e455ace9",
      "metadata": {
        "id": "e455ace9",
        "outputId": "c36410f3-2e86-48b9-b924-128d06d1b725"
      },
      "outputs": [
        {
          "name": "stdout",
          "output_type": "stream",
          "text": [
            "The spread is $12.00.\n"
          ]
        }
      ],
      "source": [
        "print(f'The spread is ${100 * (100.12 - 100):.2f}.')"
      ]
    },
    {
      "cell_type": "markdown",
      "id": "789896d5",
      "metadata": {
        "id": "789896d5"
      },
      "source": [
        "## Exercise 1.6\n",
        "Suppose you short-sell 300 shares of XYZ stock at \\$30.19 with a commission charge\n",
        "of 0.5%. Supposing you pay commission charges for purchasing the security to cover\n",
        "the short-sale, how much profit have you made if you close the short-sale at a price\n",
        "of \\$29.87?"
      ]
    },
    {
      "cell_type": "markdown",
      "id": "3119d39e",
      "metadata": {
        "id": "3119d39e"
      },
      "source": [
        "### Solution\n",
        "The profit is given by:\n",
        "- You will receive for short-sell:\n",
        "$$ 300\\times 30.19 \\times (1-0.005) = 9011.72$$\n",
        "\n",
        "- You will cost when you want to close out the position:\n",
        "$$ 300\\times 29.87 \\times(1+0.05) = 9005.81$$\n",
        "\n",
        "- The net profit is $ 9011.72 - 9005.81 = 5.91$."
      ]
    },
    {
      "cell_type": "code",
      "execution_count": 8,
      "id": "07f221a8",
      "metadata": {
        "id": "07f221a8",
        "outputId": "bd3dc580-2a85-4f58-e917-b368f48ddf66"
      },
      "outputs": [
        {
          "name": "stdout",
          "output_type": "stream",
          "text": [
            "You reveice $9011.72.\n",
            "You pay $9005.80.\n",
            "The net profit is $5.91.\n"
          ]
        }
      ],
      "source": [
        "\n",
        "print(f'You reveice ${300*30.19*(1-0.005):.2f}.')\n",
        "print(f'You pay ${300*29.87*(1+0.005):.2f}.')\n",
        "print(f'The net profit is ${300*30.19*(1-0.005)-300*29.87*(1+0.005):.2f}.')"
      ]
    },
    {
      "cell_type": "markdown",
      "id": "a400d93d",
      "metadata": {
        "id": "a400d93d"
      },
      "source": [
        "Note: Be carefull you will need to pay the commission twice, which will significantly reduces the profits we can make."
      ]
    },
    {
      "cell_type": "markdown",
      "id": "b4a2813f",
      "metadata": {
        "id": "b4a2813f"
      },
      "source": [
        "## Exercise 1.7\n",
        "Suppose you desire to short-sell 400 shares of JKI stock, which has a bid price of\n",
        "\\$25.12 and an ask price of $25.31. You cover the short position 180 days later when\n",
        "the bid price is \\$22.87 and the ask price is \\$23.06.\n",
        "\n",
        "- a. Taking into account only the bid and ask prices (ignoring commissions and\n",
        "interest), what profit did you earn?\n",
        "\n",
        "- b. Suppose that there is a 0.3% commission to engage in the short-sale (this is the\n",
        "commission to sell the stock) and a 0.3% commission to close the short-sale\n",
        "(this is the commission to buy the stock back). How do these commissions\n",
        "change the profit in the previous answer?\n",
        "\n",
        "- c. Suppose the 6-month interest rate is 3% and that you are paid nothing on the\n",
        "short-sale proceeds. How much interest do you lose during the 6 months in\n",
        "which you have the short position?"
      ]
    },
    {
      "cell_type": "markdown",
      "id": "8a9c8b38",
      "metadata": {
        "id": "8a9c8b38"
      },
      "source": [
        "### Solution:\n"
      ]
    },
    {
      "cell_type": "markdown",
      "id": "9487c98a",
      "metadata": {
        "id": "9487c98a"
      },
      "source": [
        "- a: Short sell at initial time, so we will use the bid price. In the closing day, we need to pay, so we use the ask price. Thus the profit:\n",
        "$$ (25.12 - 23.06)\\times 400 = 825$$"
      ]
    },
    {
      "cell_type": "code",
      "execution_count": 9,
      "id": "396031c6",
      "metadata": {
        "id": "396031c6",
        "outputId": "688437ea-aa0d-4867-936d-91967d52e20a"
      },
      "outputs": [
        {
          "name": "stdout",
          "output_type": "stream",
          "text": [
            "You will gain $824.00.\n"
          ]
        }
      ],
      "source": [
        "print(f'You will gain ${400*(25.12 - 23.06):.2f}.')"
      ]
    },
    {
      "cell_type": "markdown",
      "id": "6477f523",
      "metadata": {
        "id": "6477f523"
      },
      "source": [
        "- b: We will need to subtract the commision twice:\n",
        "$$ (25.12\\times 400)\\times (1-0.003) - (23.06 \\times 400)\\times (1+0.003) = 766.18$$"
      ]
    },
    {
      "cell_type": "code",
      "execution_count": 10,
      "id": "07ea314e",
      "metadata": {
        "id": "07ea314e",
        "outputId": "077ba75b-23e5-407f-ca08-5856e9577cbc"
      },
      "outputs": [
        {
          "name": "stdout",
          "output_type": "stream",
          "text": [
            "You will gain $766.18.\n"
          ]
        }
      ],
      "source": [
        "print(f'You will gain ${400*25.12*(1-0.003)- 400*23.06*(1+0.003):.2f}.')"
      ]
    },
    {
      "cell_type": "markdown",
      "id": "90d038a0",
      "metadata": {
        "id": "90d038a0"
      },
      "source": [
        "- c: The total amount of money in your short sell procedure:\n",
        "$$ 400\\times 25.12 \\times (1-0.003) $$\n",
        "\n",
        "Interest you lose:\n",
        "$$ 400\\times 25.12 \\times (1-0.003) \\times 0.03 = 300.54$$"
      ]
    },
    {
      "cell_type": "code",
      "execution_count": 11,
      "id": "cf7e03b6",
      "metadata": {
        "id": "cf7e03b6",
        "outputId": "be2ed7d7-7668-42aa-a1e9-d95191b899b5"
      },
      "outputs": [
        {
          "name": "stdout",
          "output_type": "stream",
          "text": [
            "The interest you will lose is $300.54.\n"
          ]
        }
      ],
      "source": [
        "print(f\"The interest you will lose is ${400*25.12*(1-0.003)*0.03:.2f}.\")"
      ]
    },
    {
      "cell_type": "markdown",
      "id": "0ea3f076",
      "metadata": {
        "id": "0ea3f076"
      },
      "source": [
        "## Exercise 1.8\n",
        "When you open a brokerage account, you typically sign an agreement giving the\n",
        "broker the right to lend your shares without notifying or compensating you. Why do\n",
        "brokers want you to sign this agreement?"
      ]
    },
    {
      "cell_type": "markdown",
      "id": "16c9dd21",
      "metadata": {
        "id": "16c9dd21"
      },
      "source": [
        "### Solution:\n",
        "We learned from the main text that short selling is equivalent to borrowing money and that a\n",
        "short seller will often have to deposit the proceeds of the short sale with the lender as collateral.\n",
        "\n",
        "A short seller is entitled to earn interest on his collateral, and the interest rate he earns is called\n",
        "the short rebate in the stock market. Usually, the short rebate is close to the prevailing market\n",
        "interest rate. Sometimes, though, a particular stock is scarce and difficult to borrow. In this case,\n",
        "the short rebate is substantially less than the current market interest rate, and an equity lender can\n",
        "earn a nice profit in the form of the difference between the current market interest rate and the\n",
        "short rebate.\n",
        "\n",
        "By signing an agreement as mentioned in the problem, you give your brokerage firm the\n",
        "possibility to act as an equity lender, using the shares of your account. Brokers want you to sign\n",
        "such an agreement because they can make additional profits."
      ]
    },
    {
      "cell_type": "markdown",
      "id": "8c1d712a",
      "metadata": {
        "id": "8c1d712a"
      },
      "source": [
        "## Exercise 1.9\n",
        "Suppose a stock pays a quarterly dividend of $3. You plan to hold a short position in\n",
        "the stock across the dividend ex-date. What is your obligation on that date? If you\n",
        "are a taxable investor, what would you guess is the tax consequence of the payment?"
      ]
    },
    {
      "cell_type": "markdown",
      "id": "d6aace23",
      "metadata": {
        "id": "d6aace23"
      },
      "source": [
        "### Solution:\n",
        "If we borrow an asset from a lender, we have the obligation to make any payments to the lender\n",
        "that she is entitled to as a stockholder. Because the lender is entitled to the dividend on the day\n",
        "the stock goes ex dividend but does not receive it from the company because we have sold her\n",
        "stock, we must provide the dividend. This payment is tax-deductible for us.\n",
        "\n",
        "In a perfect capital market, we would expect that the stock price falls exactly by the amount of\n",
        "the dividend on the ex-date. Therefore, we should not care.\n",
        "\n",
        "However, two complications may arise. First, we may have borrowed a large amount of shares,\n",
        "and the increased dividend forces us to pay more to the lender, and we may not have the\n",
        "additional required money.\n",
        "\n",
        "An unexpected increase of the dividend could be a sign that the company is doing well.\n",
        "Empirically, we observe sharp price increases after such announcements. As we have a short\n",
        "position in the stock, we make money if the stock price falls. Therefore, an unexpected increase\n",
        "in the dividend is very bad for our position, and we should care!"
      ]
    },
    {
      "cell_type": "markdown",
      "id": "c0fad836",
      "metadata": {
        "id": "c0fad836"
      },
      "source": [
        "## Exercise 1.11\n",
        "Suppose that you go to a bank and borrow \\$100. You promise to repay the loan in\n",
        "90 days for \\$102. Explain this transaction using the terminology of short-sales."
      ]
    },
    {
      "cell_type": "markdown",
      "id": "a0afd217",
      "metadata": {
        "id": "a0afd217"
      },
      "source": [
        "### Solution:\n",
        "We are interested in borrowing the asset “money.” Therefore, we go to an owner (or if you\n",
        "prefer, to a collector) of the asset, called Bank. The Bank provides the \\$100 of the asset money\n",
        "in digital form by increasing our bank account. We sell the digital money by going to the ATM\n",
        "and withdrawing cash. After 90 days, we buy back the digital money for \\$102 by depositing cash\n",
        "into our bank account. The lender is repaid, and we have covered our short position."
      ]
    },
    {
      "cell_type": "markdown",
      "id": "13787aa8",
      "metadata": {
        "id": "13787aa8"
      },
      "source": [
        "## Exercise 1.12\n",
        "Suppose your bank’s loan officer tells you that if you take out a mortgage (i.e., you\n",
        "borrow money to buy a house), you will be permitted to borrow no more than 80% of\n",
        "the value of the house. Describe this transaction using the terminology of short-sales."
      ]
    },
    {
      "cell_type": "markdown",
      "id": "1d2e0670",
      "metadata": {
        "id": "1d2e0670"
      },
      "source": [
        "### Solution:\n",
        "We are interested in borrowing the asset “money” to buy a house. Therefore, we go to an owner\n",
        "of the asset, called Bank. The Bank provides the dollar amount, say \\$250,000, in digital form in\n",
        "our mortgage account. As \\$250,000 is a large amount of money, the bank is subject to substantial\n",
        "credit risk (e.g., we may lose our job) and demands a collateral. Although the money itself is\n",
        "not subject to large variations in price (besides inflation risk, it is difficult to imagine a reason for\n",
        "money to vary in value), the Bank knows that we want to buy a house, and real estate prices vary\n",
        "substantially. Therefore, the Bank wants more collateral than the $250,000 they are lending.\n",
        "\n",
        "In fact, as the Bank is only lending up to 80 percent of the value of the house, we could get a\n",
        "mortgage of \\$250,000 for a house that is worth \\$250,000 ÷ 0.8 = \\$312,500. We see that the bank\n",
        "factored in a haircut of \\$312,500 − \\$250,000 = \\$62,500 to protect itself from credit risk and\n",
        "adverse fluctuations in property prices.\n",
        "\n",
        "We buy back the asset money over a long horizon of time by reducing our mortgage through\n",
        "annuity payments."
      ]
    },
    {
      "cell_type": "markdown",
      "id": "e01140a6",
      "metadata": {
        "id": "e01140a6"
      },
      "source": [
        "## Exercise 1.14\n",
        "Consider the widget exchange. Suppose that each widget contract has a market value\n",
        "of \\$0 and a notional value of \\$100. There are three traders, A, B, and C. Over one\n",
        "day, the following trades occur:\n",
        "- A long, B short, 5 contracts.\n",
        "- A long, C short, 15 contract\n",
        "- B long, C short, 10 contracts.\n",
        "- C long, A short, 20 contracts.\n",
        "\n",
        "- a. What is each trader’s net position in the contract at the end of the day?\n",
        "(Calculate long positions minus short positions.)\n",
        "\n",
        "- b. What are trading volume, open interest, and the notional values of trading\n",
        "volume and open interest? (Calculate open interest as the sum of the net long\n",
        "positions, from your previous answer.)\n",
        "\n",
        "- c. How would your answers have been different if there were an additional trade:\n",
        "C long, B short, 5 contracts?\n",
        "\n",
        "- d. How would you expect the measures in part (b) to be different if each contract\n",
        "had a notional value of $20?"
      ]
    },
    {
      "cell_type": "markdown",
      "id": "e0635790",
      "metadata": {
        "id": "e0635790"
      },
      "source": [
        "### Solution:\n",
        "- a:\n",
        "\n",
        "A: +5 -> +15 -> -20 = 0\n",
        "\n",
        "B: -5 -> +10 = +5\n",
        "\n",
        "C: -15 -> -10 -> +20 = -5\n",
        "\n",
        "- b:\n",
        "\n",
        "Trading Volume: $5+15+10+20 = 50$\n",
        "\n",
        "Open interest: $5$\n",
        "\n",
        "Notional value of trading volume: Volume $\\times$ Notional value = \\$ $50\\times 100 = \\$ 5000$\n",
        "\n",
        "Notional value of open interest: Open interest $\\times$ Notional value = \\$ $5\\times 100 = \\$ 500$.\n",
        "\n",
        "- c: Now all traders have a net position of zero. Trading volume has increased by five contracts to\n",
        "55 . The notional value of trading volume is equal to $55 × \\$100 = \\$5,500$. Open interest and\n",
        "the notional value of open interest are equal to zero.\n",
        "\n",
        "- d: Trading volume and open interest would be identical; the notional values of trading volume\n",
        "and open interest would be lower."
      ]
    },
    {
      "cell_type": "markdown",
      "id": "091c40d1",
      "metadata": {
        "id": "091c40d1"
      },
      "source": []
    }
  ],
  "metadata": {
    "colab": {
      "provenance": []
    },
    "kernelspec": {
      "display_name": "math-134-notes-ujRLJM6v-py3.12",
      "language": "python",
      "name": "python3"
    },
    "language_info": {
      "codemirror_mode": {
        "name": "ipython",
        "version": 3
      },
      "file_extension": ".py",
      "mimetype": "text/x-python",
      "name": "python",
      "nbconvert_exporter": "python",
      "pygments_lexer": "ipython3",
      "version": "3.12.0"
    }
  },
  "nbformat": 4,
  "nbformat_minor": 5
}
