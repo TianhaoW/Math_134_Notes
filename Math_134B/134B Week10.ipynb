{
 "cells": [
  {
   "cell_type": "markdown",
   "metadata": {},
   "source": [
    "# 134B Week 10"
   ]
  },
  {
   "cell_type": "code",
   "execution_count": 1,
   "metadata": {},
   "outputs": [],
   "source": [
    "import numpy as np\n",
    "import matplotlib.pyplot as plt\n",
    "import pandas as pd"
   ]
  },
  {
   "cell_type": "markdown",
   "metadata": {},
   "source": [
    "Assume that the current exchange rate is\n",
    "$0.90/=C.\n",
    "\n",
    "![table](../img/134B_Week9_1.png \"Title\")"
   ]
  },
  {
   "cell_type": "markdown",
   "metadata": {},
   "source": [
    "## Exercise 8.10\n",
    "Using the zero-coupon bond prices and oil forward prices in Table 8.9, what is the\n",
    "price of an 8-period swap for which two barrels of oil are delivered in even-numbered\n",
    "quarters and one barrel of oil in odd-numbered quarters?"
   ]
  },
  {
   "cell_type": "markdown",
   "metadata": {},
   "source": [
    "### Solution:\n",
    "Simlarily, we will use the formula:\n",
    "$$X=\\frac{\\sum_{i=1}^8 Q_{t_i} P_0\\left(0, t_i\\right) F_{0, t_i}}{\\sum_{i=1}^8 Q_{t_i} P_0\\left(0, t_i\\right)}$$\n",
    "where $Q = [1,2,1,2,1,2]$."
   ]
  },
  {
   "cell_type": "code",
   "execution_count": 1,
   "metadata": {},
   "outputs": [
    {
     "name": "stdout",
     "output_type": "stream",
     "text": [
      "The swap price is 20.4099\n"
     ]
    }
   ],
   "source": [
    "cashflow = [21, 21.1, 20.8, 20.5, 20.2, 20, 19.9, 19.8]\n",
    "coupons = [0.9852, 0.9701, 0.9546, 0.9388, 0.9231, 0.9075, 0.8919, 0.8763]\n",
    "Q = [1,2,1,2,1,2,1,2]\n",
    "numerator = sum([Q[i]*cashflow[i]*coupons[i] for i in range(len(cashflow))])\n",
    "denominator = sum([Q[i]*coupons[i] for i in range(len(cashflow))])\n",
    "print(f'The swap price is {numerator/denominator:.4f}')"
   ]
  },
  {
   "cell_type": "markdown",
   "metadata": {},
   "source": [
    "## Exercise 8.11\n",
    "Using the zero-coupon bond prices and natural gas swap prices in Table 8.9, what\n",
    "are gas forward prices for each of the 8 quarters?"
   ]
  },
  {
   "cell_type": "markdown",
   "metadata": {},
   "source": [
    "### Solution:\n",
    "We are now asked to invert our equations. The swap prices are given, and we want to back out\n",
    "the forward prices. We do so recursively. For a one-quarter swap, the swap price and the forward\n",
    "price are identical. Given the one-quarter forward price, we can find the second quarter forward\n",
    "price, etc."
   ]
  },
  {
   "cell_type": "code",
   "execution_count": 5,
   "metadata": {},
   "outputs": [
    {
     "data": {
      "application/vnd.microsoft.datawrangler.viewer.v0+json": {
       "columns": [
        {
         "name": "index",
         "rawType": "int64",
         "type": "integer"
        },
        {
         "name": "Quarter",
         "rawType": "int64",
         "type": "integer"
        },
        {
         "name": "Forward price",
         "rawType": "float64",
         "type": "float"
        }
       ],
       "conversionMethod": "pd.DataFrame",
       "ref": "5c8708e5-7a38-4efc-841c-bcf96e03fc5f",
       "rows": [
        [
         "0",
         "1",
         "2.25"
        ],
        [
         "1",
         "2",
         "2.6"
        ],
        [
         "2",
         "3",
         "2.2"
        ],
        [
         "3",
         "4",
         "1.9"
        ],
        [
         "4",
         "5",
         "2.2"
        ],
        [
         "5",
         "6",
         "2.5"
        ],
        [
         "6",
         "7",
         "2.15"
        ],
        [
         "7",
         "8",
         "1.8"
        ]
       ],
       "shape": {
        "columns": 2,
        "rows": 8
       }
      },
      "text/html": [
       "<div>\n",
       "<style scoped>\n",
       "    .dataframe tbody tr th:only-of-type {\n",
       "        vertical-align: middle;\n",
       "    }\n",
       "\n",
       "    .dataframe tbody tr th {\n",
       "        vertical-align: top;\n",
       "    }\n",
       "\n",
       "    .dataframe thead th {\n",
       "        text-align: right;\n",
       "    }\n",
       "</style>\n",
       "<table border=\"1\" class=\"dataframe\">\n",
       "  <thead>\n",
       "    <tr style=\"text-align: right;\">\n",
       "      <th></th>\n",
       "      <th>Quarter</th>\n",
       "      <th>Forward price</th>\n",
       "    </tr>\n",
       "  </thead>\n",
       "  <tbody>\n",
       "    <tr>\n",
       "      <th>0</th>\n",
       "      <td>1</td>\n",
       "      <td>2.25</td>\n",
       "    </tr>\n",
       "    <tr>\n",
       "      <th>1</th>\n",
       "      <td>2</td>\n",
       "      <td>2.60</td>\n",
       "    </tr>\n",
       "    <tr>\n",
       "      <th>2</th>\n",
       "      <td>3</td>\n",
       "      <td>2.20</td>\n",
       "    </tr>\n",
       "    <tr>\n",
       "      <th>3</th>\n",
       "      <td>4</td>\n",
       "      <td>1.90</td>\n",
       "    </tr>\n",
       "    <tr>\n",
       "      <th>4</th>\n",
       "      <td>5</td>\n",
       "      <td>2.20</td>\n",
       "    </tr>\n",
       "    <tr>\n",
       "      <th>5</th>\n",
       "      <td>6</td>\n",
       "      <td>2.50</td>\n",
       "    </tr>\n",
       "    <tr>\n",
       "      <th>6</th>\n",
       "      <td>7</td>\n",
       "      <td>2.15</td>\n",
       "    </tr>\n",
       "    <tr>\n",
       "      <th>7</th>\n",
       "      <td>8</td>\n",
       "      <td>1.80</td>\n",
       "    </tr>\n",
       "  </tbody>\n",
       "</table>\n",
       "</div>"
      ],
      "text/plain": [
       "   Quarter  Forward price\n",
       "0        1           2.25\n",
       "1        2           2.60\n",
       "2        3           2.20\n",
       "3        4           1.90\n",
       "4        5           2.20\n",
       "5        6           2.50\n",
       "6        7           2.15\n",
       "7        8           1.80"
      ]
     },
     "execution_count": 5,
     "metadata": {},
     "output_type": "execute_result"
    }
   ],
   "source": [
    "data = {\n",
    "    \"Quarter\": [1, 2, 3, 4, 5, 6, 7, 8],\n",
    "    \"Forward price\": [2.25, 2.60, 2.20, 1.90, 2.20, 2.50, 2.15, 1.80]\n",
    "}\n",
    "\n",
    "df_forward = pd.DataFrame(data)\n",
    "df_forward"
   ]
  },
  {
   "cell_type": "markdown",
   "metadata": {},
   "source": [
    "## Exercise 8.12\n",
    "Using the zero-coupon bond prices and natural gas swap prices in Table 8.9, what\n",
    "is the implicit loan amount in each quarter in an 8-quarter natural gas swap?"
   ]
  },
  {
   "cell_type": "markdown",
   "metadata": {},
   "source": [
    "### Solution:\n",
    "With a swap price of $2.2044, and the forward prices of question 8.11, we can calculate the\n",
    "implied loan amount. We can calculate the net position by subtracting the swap price from the\n",
    "forward prices. The one-quarter implied forward rate is calculated from the zero-coupon bond\n",
    "prices. The column implicit loan balance adds the net position each quarter and the implicit loan\n",
    "balance plus interest of the previous quarter. Please note that the shape of the forward curve—we\n",
    "are initially loaning money, because the swap price is lower than the forward price."
   ]
  },
  {
   "cell_type": "code",
   "execution_count": 6,
   "metadata": {},
   "outputs": [
    {
     "data": {
      "application/vnd.microsoft.datawrangler.viewer.v0+json": {
       "columns": [
        {
         "name": "index",
         "rawType": "int64",
         "type": "integer"
        },
        {
         "name": "Quarter",
         "rawType": "int64",
         "type": "integer"
        },
        {
         "name": "Forward price",
         "rawType": "float64",
         "type": "float"
        },
        {
         "name": "Net balance",
         "rawType": "float64",
         "type": "float"
        },
        {
         "name": "Forward interest rate",
         "rawType": "float64",
         "type": "float"
        },
        {
         "name": "Implicit loan balance",
         "rawType": "float64",
         "type": "float"
        }
       ],
       "conversionMethod": "pd.DataFrame",
       "ref": "513684cb-dbc5-4b56-9b39-a515a2806dfb",
       "rows": [
        [
         "0",
         "1",
         "2.25",
         "0.0456",
         "1.015",
         "0.0456"
        ],
        [
         "1",
         "2",
         "2.6",
         "0.3955",
         "1.0156",
         "0.4418"
        ],
        [
         "2",
         "3",
         "2.2",
         "-0.0042",
         "1.0162",
         "0.4447"
        ],
        [
         "3",
         "4",
         "1.9",
         "-0.3046",
         "1.0168",
         "0.1476"
        ],
        [
         "4",
         "5",
         "2.2",
         "-0.0043",
         "1.017",
         "0.1458"
        ],
        [
         "5",
         "6",
         "2.5",
         "0.2954",
         "1.0172",
         "0.4437"
        ],
        [
         "6",
         "7",
         "2.15",
         "-0.0543",
         "1.0175",
         "0.3971"
        ],
        [
         "7",
         "8",
         "1.8",
         "-0.4042",
         "1.0178",
         "0.0"
        ]
       ],
       "shape": {
        "columns": 5,
        "rows": 8
       }
      },
      "text/html": [
       "<div>\n",
       "<style scoped>\n",
       "    .dataframe tbody tr th:only-of-type {\n",
       "        vertical-align: middle;\n",
       "    }\n",
       "\n",
       "    .dataframe tbody tr th {\n",
       "        vertical-align: top;\n",
       "    }\n",
       "\n",
       "    .dataframe thead th {\n",
       "        text-align: right;\n",
       "    }\n",
       "</style>\n",
       "<table border=\"1\" class=\"dataframe\">\n",
       "  <thead>\n",
       "    <tr style=\"text-align: right;\">\n",
       "      <th></th>\n",
       "      <th>Quarter</th>\n",
       "      <th>Forward price</th>\n",
       "      <th>Net balance</th>\n",
       "      <th>Forward interest rate</th>\n",
       "      <th>Implicit loan balance</th>\n",
       "    </tr>\n",
       "  </thead>\n",
       "  <tbody>\n",
       "    <tr>\n",
       "      <th>0</th>\n",
       "      <td>1</td>\n",
       "      <td>2.25</td>\n",
       "      <td>0.0456</td>\n",
       "      <td>1.0150</td>\n",
       "      <td>0.0456</td>\n",
       "    </tr>\n",
       "    <tr>\n",
       "      <th>1</th>\n",
       "      <td>2</td>\n",
       "      <td>2.60</td>\n",
       "      <td>0.3955</td>\n",
       "      <td>1.0156</td>\n",
       "      <td>0.4418</td>\n",
       "    </tr>\n",
       "    <tr>\n",
       "      <th>2</th>\n",
       "      <td>3</td>\n",
       "      <td>2.20</td>\n",
       "      <td>-0.0042</td>\n",
       "      <td>1.0162</td>\n",
       "      <td>0.4447</td>\n",
       "    </tr>\n",
       "    <tr>\n",
       "      <th>3</th>\n",
       "      <td>4</td>\n",
       "      <td>1.90</td>\n",
       "      <td>-0.3046</td>\n",
       "      <td>1.0168</td>\n",
       "      <td>0.1476</td>\n",
       "    </tr>\n",
       "    <tr>\n",
       "      <th>4</th>\n",
       "      <td>5</td>\n",
       "      <td>2.20</td>\n",
       "      <td>-0.0043</td>\n",
       "      <td>1.0170</td>\n",
       "      <td>0.1458</td>\n",
       "    </tr>\n",
       "    <tr>\n",
       "      <th>5</th>\n",
       "      <td>6</td>\n",
       "      <td>2.50</td>\n",
       "      <td>0.2954</td>\n",
       "      <td>1.0172</td>\n",
       "      <td>0.4437</td>\n",
       "    </tr>\n",
       "    <tr>\n",
       "      <th>6</th>\n",
       "      <td>7</td>\n",
       "      <td>2.15</td>\n",
       "      <td>-0.0543</td>\n",
       "      <td>1.0175</td>\n",
       "      <td>0.3971</td>\n",
       "    </tr>\n",
       "    <tr>\n",
       "      <th>7</th>\n",
       "      <td>8</td>\n",
       "      <td>1.80</td>\n",
       "      <td>-0.4042</td>\n",
       "      <td>1.0178</td>\n",
       "      <td>0.0000</td>\n",
       "    </tr>\n",
       "  </tbody>\n",
       "</table>\n",
       "</div>"
      ],
      "text/plain": [
       "   Quarter  Forward price  Net balance  Forward interest rate  \\\n",
       "0        1           2.25       0.0456                 1.0150   \n",
       "1        2           2.60       0.3955                 1.0156   \n",
       "2        3           2.20      -0.0042                 1.0162   \n",
       "3        4           1.90      -0.3046                 1.0168   \n",
       "4        5           2.20      -0.0043                 1.0170   \n",
       "5        6           2.50       0.2954                 1.0172   \n",
       "6        7           2.15      -0.0543                 1.0175   \n",
       "7        8           1.80      -0.4042                 1.0178   \n",
       "\n",
       "   Implicit loan balance  \n",
       "0                 0.0456  \n",
       "1                 0.4418  \n",
       "2                 0.4447  \n",
       "3                 0.1476  \n",
       "4                 0.1458  \n",
       "5                 0.4437  \n",
       "6                 0.3971  \n",
       "7                 0.0000  "
      ]
     },
     "execution_count": 6,
     "metadata": {},
     "output_type": "execute_result"
    }
   ],
   "source": [
    "data = {\n",
    "    \"Quarter\": [1, 2, 3, 4, 5, 6, 7, 8],\n",
    "    \"Forward price\": [2.25, 2.60, 2.20, 1.90, 2.20, 2.50, 2.15, 1.80],\n",
    "    \"Net balance\": [0.0456, 0.3955, -0.0042, -0.3046, -0.0043, 0.2954, -0.0543, -0.4042],\n",
    "    \"Forward interest rate\": [1.0150, 1.0156, 1.0162, 1.0168, 1.0170, 1.0172, 1.0175, 1.0178],\n",
    "    \"Implicit loan balance\": [0.0456, 0.4418, 0.4447, 0.1476, 0.1458, 0.4437, 0.3971, 0.0000]\n",
    "}\n",
    "\n",
    "df_loan = pd.DataFrame(data)\n",
    "df_loan"
   ]
  },
  {
   "cell_type": "markdown",
   "metadata": {},
   "source": [
    "## Exercise 8.13\n",
    "What is the fixed rate in a 5-quarter interest rate swap with the first settlement in\n",
    "quarter 2?"
   ]
  },
  {
   "cell_type": "markdown",
   "metadata": {},
   "source": [
    "### Solution:\n",
    "First we need the forward interest rate:"
   ]
  },
  {
   "cell_type": "code",
   "execution_count": 3,
   "metadata": {},
   "outputs": [
    {
     "data": {
      "text/plain": [
       "[1.0150223304912709,\n",
       " 1.0155654056282857,\n",
       " 1.016237167399958,\n",
       " 1.0168299957392417,\n",
       " 1.0170079081356298,\n",
       " 1.017190082644628,\n",
       " 1.0174907500840902,\n",
       " 1.017802122560767]"
      ]
     },
     "execution_count": 3,
     "metadata": {},
     "output_type": "execute_result"
    }
   ],
   "source": [
    "interest_rate = [1/coupons[0]] + [coupons[i-1]/coupons[i] for i in range(1, len(coupons))]\n",
    "interest_rate"
   ]
  },
  {
   "cell_type": "markdown",
   "metadata": {},
   "source": [
    "Now, we can calculate the deferred swap price according to the formula:\n",
    "$$X=\\frac{\\sum_{i=2}^6 P_0\\left(0, t_i\\right) r_0\\left(t_{i-1}, t_i\\right)}{\\sum_{i=2}^6 P_0\\left(0, t_i\\right)}$$\n"
   ]
  },
  {
   "cell_type": "code",
   "execution_count": 4,
   "metadata": {},
   "outputs": [
    {
     "name": "stdout",
     "output_type": "stream",
     "text": [
      "The swap rate is 0.0166\n"
     ]
    }
   ],
   "source": [
    "X = sum(coupons[i]*(interest_rate[i]-1) for i in range(len(coupons)))/sum(coupons[i] for i in range(len(coupons)))\n",
    "print(f'The swap rate is {X:.4f}')"
   ]
  },
  {
   "cell_type": "markdown",
   "metadata": {},
   "source": [
    "## Exercise 8.14\n",
    "Using the zero-coupon bond yields in Table 8.9, what is the fixed rate in a 4-quarter\n",
    "interest rate swap? What is the fixed rate in an 8-quarter interest rate swap?"
   ]
  },
  {
   "cell_type": "markdown",
   "metadata": {},
   "source": [
    "### Solution:\n",
    "Now, we can calculate the swap prices for four and eight quarters according to the formula:\n",
    "$$X=\\frac{\\sum_{i=1}^n P_0\\left(0, t_i\\right) r_0\\left(t_{i-1}, t_i\\right)}{\\sum_{i=1}^n P_0\\left(0, t_i\\right)}$$\n",
    "where $n = 4$ or $8$. Thus:"
   ]
  },
  {
   "cell_type": "code",
   "execution_count": 5,
   "metadata": {},
   "outputs": [
    {
     "name": "stdout",
     "output_type": "stream",
     "text": [
      "The swap rate is 0.0166\n"
     ]
    }
   ],
   "source": [
    "n = 8\n",
    "X = sum(coupons[i]*(interest_rate[i]-1) for i in range(n))/sum(coupons[i] for i in range(n))\n",
    "print(f'The swap rate is {X:.4f}')"
   ]
  },
  {
   "cell_type": "markdown",
   "metadata": {},
   "source": [
    "## Exercise 8.15\n",
    "What 8-quarter dollar annuity is equivalent to an 8-quarter annuity of 1 Euro?"
   ]
  },
  {
   "cell_type": "markdown",
   "metadata": {},
   "source": [
    "### Solution:\n",
    "We can use the formula:\n",
    "$$X=\\frac{\\sum_{i=1}^n P_0\\left(0, t_i\\right) R*F_{0,t_i}}{\\sum_{i=1}^n P_0\\left(0, t_i\\right)}$$\n",
    "where $R$ is the Euro annuity of one Euro. Thus, we can solve for R.\n"
   ]
  },
  {
   "cell_type": "code",
   "execution_count": 6,
   "metadata": {},
   "outputs": [
    {
     "name": "stdout",
     "output_type": "stream",
     "text": [
      "The annuiity rate is 0.0179\n"
     ]
    }
   ],
   "source": [
    "cashflow2 = [0.9056, 0.9115, 0.9178, 0.9244, 0.9312, 0.9381, 0.9452, 0.9524]\n",
    "\n",
    "denominartor = sum(coupons[i]* cashflow2[i] for i in range(n))/sum(coupons[i] for i in range(n))\n",
    "R = X/denominartor\n",
    "print(f'The annuiity rate is {R:.4f}')"
   ]
  },
  {
   "cell_type": "markdown",
   "metadata": {},
   "source": [
    "## Exercise 8.16\n",
    "Using the assumptions in Tables 8.5 and 8.6, verify that equation (8.13) equals 6%. (We assume the current exchange rate is \\$0.9/E).\n",
    "\n",
    "$$R=\\frac{\\sum_{i=1}^n P_{0, t_i} R^* F_{0, t_i} / x_0+P_{0, t_n}\\left(F_{0, t_n} / x_0-1\\right)}{\\sum_{i=1}^n P_{0, t_i}}$$\n",
    "\n",
    "![table](../img/134B_Week10_1.png \"Title\")\n",
    "![table](../img/134B_Week10_2.png \"Title\")\n"
   ]
  },
  {
   "cell_type": "markdown",
   "metadata": {},
   "source": [
    "### Solution:\n",
    "From the question, we know the annual interest rate is 6\\%, then we can compute the zero coupon bond. And $R_*$ is 0.035. Thus, we can compute."
   ]
  },
  {
   "cell_type": "code",
   "execution_count": 7,
   "metadata": {},
   "outputs": [
    {
     "name": "stdout",
     "output_type": "stream",
     "text": [
      "The R is 0.0600\n"
     ]
    }
   ],
   "source": [
    "r = 0.06\n",
    "R = 0.035\n",
    "n = 3\n",
    "bonds = [1/(1+r)**i for i in range(1, n+1)]\n",
    "x0 = 0.9\n",
    "forwards = [0.9217, 0.9440, 0.9668]\n",
    "\n",
    "numerator = sum([bonds[i]*forwards[i]*R/x0 for i in range(n)]) + bonds[-1]*(forwards[-1]/x0 - 1)\n",
    "denominator = sum(bonds)\n",
    "\n",
    "print(f'The R is {numerator/denominator:.4f}')\n"
   ]
  },
  {
   "cell_type": "markdown",
   "metadata": {},
   "source": [
    "## Exercise 8.17\n",
    "Using the information in Table 8.9, what are the euro-denominated fixed rates for\n",
    "4- and 8-quarter swaps?"
   ]
  },
  {
   "cell_type": "markdown",
   "metadata": {},
   "source": [
    "### Solution:\n",
    "We first need the implied forward interest rate:"
   ]
  },
  {
   "cell_type": "code",
   "execution_count": 8,
   "metadata": {},
   "outputs": [
    {
     "data": {
      "text/plain": [
       "[1.0087763542822556,\n",
       " 1.0089567430025443,\n",
       " 1.0092449922958397,\n",
       " 1.0095405993985274,\n",
       " 1.009632499214742,\n",
       " 1.009726186700497,\n",
       " 1.0098217145297321,\n",
       " 1.0100280353676947]"
      ]
     },
     "execution_count": 8,
     "metadata": {},
     "output_type": "execute_result"
    }
   ],
   "source": [
    "coupons2 = [0.9913, 0.9825, 0.9735, 0.9643, 0.9551, 0.9459, 0.9367, 0.9274]\n",
    "interest_rate2 = [1/coupons2[0]] + [coupons2[i-1]/coupons2[i] for i in range(1, len(coupons2))]\n",
    "interest_rate2"
   ]
  },
  {
   "cell_type": "markdown",
   "metadata": {},
   "source": [
    "Then we use the similar formula:\n",
    "$$X=\\frac{\\sum_{i=1}^n P_0\\left(0, t_i\\right) r_0\\left(t_{i-1}, t_i\\right)}{\\sum_{i=1}^n P_0\\left(0, t_i\\right)}$$\n",
    "where $n = 4$ or $8$. Thus:"
   ]
  },
  {
   "cell_type": "code",
   "execution_count": 9,
   "metadata": {},
   "outputs": [
    {
     "name": "stdout",
     "output_type": "stream",
     "text": [
      "The swap rate is 0.0091\n"
     ]
    }
   ],
   "source": [
    "n = 4\n",
    "X = sum(coupons2[i]*(interest_rate2[i]-1) for i in range(n))/sum(coupons2[i] for i in range(n))\n",
    "print(f'The swap rate is {X:.4f}')"
   ]
  },
  {
   "cell_type": "markdown",
   "metadata": {},
   "source": [
    "## Exercise 8.18\n",
    "Using the information in Table 8.9, verify that it is possible to derive the 8-quarter\n",
    "dollar interest swap rate from the 8-quarter euro interest swap rate by using equation\n",
    "(8.13)."
   ]
  },
  {
   "cell_type": "markdown",
   "metadata": {},
   "source": [
    "### Solution:\n",
    "We can use equation (8.13), but there is a complication: We do not have the current spot\n",
    "exchange rate. However, it is possible to back it out by using the methodology of the previous\n",
    "chapters: We know that the following relation must hold:\n",
    "\n",
    "$$F_{0,1} = X_0e^{(r −r_∗)}$$\n",
    "\n",
    ", where the interest rates are already on a quarterly level.\n",
    "We can back out the interest rates from the given zero-coupon prices. Doing so yields a current\n",
    "exchange rate of 0.90 $/Euro. R∗ is the eight-quarter fixed swap price payment of 0.0094572.\n",
    "By plugging in all the relevant variables into equation 8.13, we can indeed see that this yields a\n",
    "swap rate of 1.66 percent, which is the same rate that we calculated in exercise 8.14."
   ]
  },
  {
   "cell_type": "markdown",
   "metadata": {},
   "source": []
  }
 ],
 "metadata": {
  "kernelspec": {
   "display_name": "math-134-notes-ujRLJM6v-py3.12",
   "language": "python",
   "name": "python3"
  },
  "language_info": {
   "codemirror_mode": {
    "name": "ipython",
    "version": 3
   },
   "file_extension": ".py",
   "mimetype": "text/x-python",
   "name": "python",
   "nbconvert_exporter": "python",
   "pygments_lexer": "ipython3",
   "version": "3.12.0"
  }
 },
 "nbformat": 4,
 "nbformat_minor": 2
}
