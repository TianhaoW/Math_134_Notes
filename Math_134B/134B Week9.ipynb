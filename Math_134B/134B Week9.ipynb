{
 "cells": [
  {
   "cell_type": "markdown",
   "metadata": {},
   "source": [
    "# 134B Week9"
   ]
  },
  {
   "cell_type": "code",
   "execution_count": 1,
   "metadata": {},
   "outputs": [],
   "source": [
    "import numpy as np\n",
    "import matplotlib.pyplot as plt\n",
    "import pandas as pd"
   ]
  },
  {
   "cell_type": "markdown",
   "metadata": {},
   "source": [
    "Assume that the current exchange rate is\n",
    "$0.90/=C.\n",
    "\n",
    "![table](../img/134B_Week9_1.png \"Title\")"
   ]
  },
  {
   "cell_type": "markdown",
   "metadata": {},
   "source": [
    "## Exercise 8.1\n",
    "Suppose that 1- and 2-year oil forward prices are $22/barrel and $23/barrel. The 1-\n",
    "and 2-year interest rates are 6% and 6.5%. Show that the new 2-year swap price is\n",
    "$22.483."
   ]
  },
  {
   "cell_type": "markdown",
   "metadata": {},
   "source": [
    "### Solution:\n",
    "We first compute the present value of the payment:"
   ]
  },
  {
   "cell_type": "code",
   "execution_count": 2,
   "metadata": {},
   "outputs": [
    {
     "name": "stdout",
     "output_type": "stream",
     "text": [
      "The present value of the cash flows is $41.03\n"
     ]
    }
   ],
   "source": [
    "r1 = 0.06\n",
    "r2 = 0.065\n",
    "PV = 22*(1+r1)**-1 + 23*(1+r2)**-2\n",
    "print(f'The present value of the cash flows is ${PV:.2f}')"
   ]
  },
  {
   "cell_type": "markdown",
   "metadata": {},
   "source": [
    "Then we solve for $x$:\n",
    "$$ \\frac{x}{1+r_1} + \\frac{x}{(1+r_2)^2} = PV$$"
   ]
  },
  {
   "cell_type": "code",
   "execution_count": 3,
   "metadata": {},
   "outputs": [
    {
     "name": "stdout",
     "output_type": "stream",
     "text": [
      "The two year swap price is $22.48\n"
     ]
    }
   ],
   "source": [
    "x = PV*((1+r1)**-1 + (1+r2)**-2)**-1\n",
    "print(f'The two year swap price is ${x:.2f}')"
   ]
  },
  {
   "cell_type": "markdown",
   "metadata": {},
   "source": [
    "## Exercise 8.2\n",
    "Suppose that oil forward prices for 1 year, 2 years, and 3 years are $20, $21, and $22.\n",
    "The 1-year effective annual interest rate is 6.0%, the 2-year interest rate is 6.5%, and\n",
    "the 3-year interest rate is 7.0%.\n",
    "- a. What is the 3-year swap price?\n",
    "- b. What is the price of a 2-year swap beginning in one year? (That is, the first\n",
    "swap settlement will be in 2 years and the second in 3 years.)"
   ]
  },
  {
   "cell_type": "markdown",
   "metadata": {},
   "source": [
    "### Solution\n",
    "- (a) Similarly as previous one:"
   ]
  },
  {
   "cell_type": "code",
   "execution_count": 4,
   "metadata": {},
   "outputs": [
    {
     "name": "stdout",
     "output_type": "stream",
     "text": [
      "The present value of the cash flows is $55.34\n",
      "The three year swap price is $20.95\n"
     ]
    }
   ],
   "source": [
    "b1 = 20\n",
    "b2 = 21\n",
    "b3 = 22\n",
    "r1 = 0.06\n",
    "r2 = 0.065\n",
    "r3 = 0.07\n",
    "PV = b1*(1+r1)**-1 + b2*(1+r2)**-2 + b3*(1+r3)**-3\n",
    "\n",
    "print(f'The present value of the cash flows is ${PV:.2f}')\n",
    "x = PV*((1+r1)**-1 + (1+r2)**-2 + (1+r3)**-3)**-1\n",
    "print(f'The three year swap price is ${x:.2f}')"
   ]
  },
  {
   "cell_type": "markdown",
   "metadata": {},
   "source": [
    "- (b): Thus, we repeat the process without the first year settlement."
   ]
  },
  {
   "cell_type": "code",
   "execution_count": 5,
   "metadata": {},
   "outputs": [
    {
     "name": "stdout",
     "output_type": "stream",
     "text": [
      "The new swap price is $21.48\n"
     ]
    }
   ],
   "source": [
    "PV_new = b2*(1+r2)**-2 + b3*(1+r3)**-3\n",
    "x_new = PV_new*((1+r2)**-2 + (1+r3)**-3)**-1\n",
    "print(f'The new swap price is ${x_new:.2f}')\n"
   ]
  },
  {
   "cell_type": "markdown",
   "metadata": {},
   "source": [
    "## Exercise 8.3\n",
    "Consider the same 3-year oil swap. Suppose a dealer is paying the fixed price and\n",
    "receiving floating. What position in oil forward contracts will hedge oil price risk in\n",
    "this position? Verify that the present value of the locked-in net cash flows is zero."
   ]
  },
  {
   "cell_type": "markdown",
   "metadata": {},
   "source": [
    "### Solution:\n",
    "Since the dealer is paying fixed and receiving floating, she generates the cash-flows depicted in\n",
    "column 2. Suppose that the dealer enters into three short forward positions, one contract for each\n",
    "year of the active swap. Her payoffs are depicted in column 3, and the aggregate net cash flow\n",
    "position is in column 4."
   ]
  },
  {
   "cell_type": "code",
   "execution_count": 6,
   "metadata": {},
   "outputs": [
    {
     "data": {
      "application/vnd.microsoft.datawrangler.viewer.v0+json": {
       "columns": [
        {
         "name": "index",
         "rawType": "int64",
         "type": "integer"
        },
        {
         "name": "Year",
         "rawType": "int64",
         "type": "integer"
        },
        {
         "name": "Net Swap Payment",
         "rawType": "object",
         "type": "string"
        },
        {
         "name": "Short Forwards",
         "rawType": "object",
         "type": "string"
        },
        {
         "name": "Net Position",
         "rawType": "float64",
         "type": "float"
        }
       ],
       "conversionMethod": "pd.DataFrame",
       "ref": "b17ff786-cf35-4396-a89b-53e0f3d2b8c1",
       "rows": [
        [
         "0",
         "1",
         "S₁ - $20.9519",
         "$20 - S₁",
         "-0.9519"
        ],
        [
         "1",
         "2",
         "S₁ - $20.9519",
         "$21 - S₁",
         "0.0481"
        ],
        [
         "2",
         "3",
         "S₁ - $20.9519",
         "$22 - S₁",
         "1.0481"
        ]
       ],
       "shape": {
        "columns": 4,
        "rows": 3
       }
      },
      "text/html": [
       "<div>\n",
       "<style scoped>\n",
       "    .dataframe tbody tr th:only-of-type {\n",
       "        vertical-align: middle;\n",
       "    }\n",
       "\n",
       "    .dataframe tbody tr th {\n",
       "        vertical-align: top;\n",
       "    }\n",
       "\n",
       "    .dataframe thead th {\n",
       "        text-align: right;\n",
       "    }\n",
       "</style>\n",
       "<table border=\"1\" class=\"dataframe\">\n",
       "  <thead>\n",
       "    <tr style=\"text-align: right;\">\n",
       "      <th></th>\n",
       "      <th>Year</th>\n",
       "      <th>Net Swap Payment</th>\n",
       "      <th>Short Forwards</th>\n",
       "      <th>Net Position</th>\n",
       "    </tr>\n",
       "  </thead>\n",
       "  <tbody>\n",
       "    <tr>\n",
       "      <th>0</th>\n",
       "      <td>1</td>\n",
       "      <td>S₁ - $20.9519</td>\n",
       "      <td>$20 - S₁</td>\n",
       "      <td>-0.9519</td>\n",
       "    </tr>\n",
       "    <tr>\n",
       "      <th>1</th>\n",
       "      <td>2</td>\n",
       "      <td>S₁ - $20.9519</td>\n",
       "      <td>$21 - S₁</td>\n",
       "      <td>0.0481</td>\n",
       "    </tr>\n",
       "    <tr>\n",
       "      <th>2</th>\n",
       "      <td>3</td>\n",
       "      <td>S₁ - $20.9519</td>\n",
       "      <td>$22 - S₁</td>\n",
       "      <td>1.0481</td>\n",
       "    </tr>\n",
       "  </tbody>\n",
       "</table>\n",
       "</div>"
      ],
      "text/plain": [
       "   Year Net Swap Payment Short Forwards  Net Position\n",
       "0     1    S₁ - $20.9519       $20 - S₁       -0.9519\n",
       "1     2    S₁ - $20.9519       $21 - S₁        0.0481\n",
       "2     3    S₁ - $20.9519       $22 - S₁        1.0481"
      ]
     },
     "execution_count": 6,
     "metadata": {},
     "output_type": "execute_result"
    }
   ],
   "source": [
    "data = {\n",
    "    \"Year\": [1, 2, 3],\n",
    "    \"Net Swap Payment\": [\"S₁ - $20.9519\", \"S₁ - $20.9519\", \"S₁ - $20.9519\"],\n",
    "    \"Short Forwards\": [\"$20 - S₁\", \"$21 - S₁\", \"$22 - S₁\"],\n",
    "    \"Net Position\": [-0.9519, 0.0481, 1.0481]\n",
    "}\n",
    "\n",
    "df = pd.DataFrame(data)\n",
    "df"
   ]
  },
  {
   "cell_type": "markdown",
   "metadata": {},
   "source": [
    "We need to discount the net positions to year zero"
   ]
  },
  {
   "cell_type": "code",
   "execution_count": 7,
   "metadata": {},
   "outputs": [
    {
     "name": "stdout",
     "output_type": "stream",
     "text": [
      "The present value of the net position is $-0.00\n"
     ]
    }
   ],
   "source": [
    "p1 = -0.9519\n",
    "p2 = 0.0481\n",
    "p3 = 1.0481\n",
    "PV = p1*(1+r1)**-1 + p2*(1+r2)**-2 + p3*(1+r3)**-3\n",
    "print(f'The present value of the net position is ${PV:.2f}')"
   ]
  },
  {
   "cell_type": "markdown",
   "metadata": {},
   "source": [
    "## Exercise 8.4\n",
    "Consider the 3-year swap in the previous example. Suppose you are the fixed-rate\n",
    "payer in the swap. How much have you overpaid relative to the forward price after\n",
    "the first swap settlement? What is the cumulative overpayment after the second swap\n",
    "settlement? Verify that the cumulative overpayment is zero after the third payment.\n",
    "(Be sure to account for interest.)"
   ]
  },
  {
   "cell_type": "markdown",
   "metadata": {},
   "source": [
    "### Solution:\n",
    "The fair swap rate was determined to be $20.952. Therefore, compared to the forward curve\n",
    "price of $20 in one year, we are overpaying $0.952. In Year 2, this overpayment has increased to\n",
    "$0.952 × 1.070024 = 1.01866, where we used the appropriate forward rate to calculate the\n",
    "interest payment. In Year 2, we underpay by $0.048, so that our total cumulative underpayment\n",
    "is $0.97066. In Year 3, this overpayment has increased again to $0.97066 × 1.08007 = 1.048.\n",
    "However, in Year 3, we receive a fixed payment of 20.952, which underpays relative to the\n",
    "forward curve price of $22 by $22 − $20.952 = 1.048. Therefore, our cumulative balance is\n",
    "indeed zero, which was to be shown."
   ]
  },
  {
   "cell_type": "markdown",
   "metadata": {},
   "source": [
    "## Exercise 8.5\n",
    "Consider the same 3-year swap. Suppose you are a dealer who is paying the fixed\n",
    "oil price and receiving the floating price. Suppose that you enter into the swap and\n",
    "immediately thereafter all interest rates rise 50 basis points (oil forward prices are\n",
    "unchanged). What happens to the value of your swap position? What if interest rates\n",
    "fall 50 basis points? What hedging instrument would have protected you against\n",
    "interest rate risk in this position?"
   ]
  },
  {
   "cell_type": "markdown",
   "metadata": {},
   "source": [
    "### Solution:\n",
    "Now we compute the new swap price based on the change of the interest rate:"
   ]
  },
  {
   "cell_type": "code",
   "execution_count": 8,
   "metadata": {},
   "outputs": [
    {
     "name": "stdout",
     "output_type": "stream",
     "text": [
      "The present value of the cash flows if rates rise is $54.83\n",
      "The present value of the cash flows if rates fall is $55.86\n",
      "The new swap price if rates rise is $20.949\n",
      "The new swap price if rates fall is $20.955\n",
      "The present value of the net position if rates rise is $-0.01\n",
      "The present value of the net position if rates fall is $0.01\n"
     ]
    }
   ],
   "source": [
    "delta = 0.005\n",
    "PV_raise = b1*(1+r1+delta)**-1 + b2*(1+r2+delta)**-2 + b3*(1+r3+delta)**-3\n",
    "PV_fall = b1*(1+r1-delta)**-1 + b2*(1+r2-delta)**-2 + b3*(1+r3-delta)**-3\n",
    "print(f'The present value of the cash flows if rates rise is ${PV_raise:.2f}')\n",
    "print(f'The present value of the cash flows if rates fall is ${PV_fall:.2f}')\n",
    "\n",
    "x_raise = PV_raise*((1+r1+delta)**-1 + (1+r2+delta)**-2 + (1+r3+delta)**-3)**-1\n",
    "x_fall = PV_fall*((1+r1-delta)**-1 + (1+r2-delta)**-2 + (1+r3-delta)**-3)**-1\n",
    "print(f'The new swap price if rates rise is ${x_raise:.3f}')\n",
    "print(f'The new swap price if rates fall is ${x_fall:.3f}')\n",
    "\n",
    "PV_net_raise = p1*(1+r1+delta)**-1 + p2*(1+r2+delta)**-2 + p3*(1+r3+delta)**-3\n",
    "PV_net_fall = p1*(1+r1-delta)**-1 + p2*(1+r2-delta)**-2 + p3*(1+r3-delta)**-3\n",
    "print(f'The present value of the net position if rates rise is ${PV_net_raise:.2f}')\n",
    "print(f'The present value of the net position if rates fall is ${PV_net_fall:.2f}')"
   ]
  },
  {
   "cell_type": "markdown",
   "metadata": {},
   "source": [
    "The dealer could have tried to hedge his exposure with a forward rate agreement or any other\n",
    "derivative protecting against interest rate risk."
   ]
  },
  {
   "cell_type": "markdown",
   "metadata": {},
   "source": [
    "## Exercise 8.6\n",
    "Supposing the effective quarterly interest rate is 1.5%, what are the per-barrel swap\n",
    "prices for 4-quarter and 8-quarter oil swaps? (Use oil forward prices in Table 8.9.)\n",
    "What is the total cost of prepaid 4- and 8-quarter swaps?"
   ]
  },
  {
   "cell_type": "markdown",
   "metadata": {},
   "source": [
    "### Solution:\n",
    "We use the information on the table and redo the procedure again."
   ]
  },
  {
   "cell_type": "code",
   "execution_count": null,
   "metadata": {},
   "outputs": [
    {
     "name": "stdout",
     "output_type": "stream",
     "text": [
      "The total present value of the cash flows is $80.38\n",
      "The total present value of the cash flows is $152.93\n",
      "The four quarter swap price is $20.85\n",
      "The eight quarter swap price is $20.43\n"
     ]
    }
   ],
   "source": [
    "cashflow = [21, 21.1, 20.8, 20.5, 20.2, 20, 19.9, 19.8]\n",
    "#coupons = [0.9852, 0.9701, 0.9546, 0.9388, 0.9231, 0.9075, 0.8919, 0.8763]\n",
    "#r = [1/c - 1 for c in coupons]\n",
    "r = [0.015]*len(cashflow)\n",
    "PV4 = sum(cf*(1+r[i])**-(i+1) for i, cf in enumerate(cashflow[:4]))\n",
    "PV8 = sum(cf*(1+r[i])**-(i+1) for i, cf in enumerate(cashflow))\n",
    "x4 = PV4*((1+r[0])**-1 + (1+r[1])**-2 + (1+r[2])**-3 + (1+r[3])**-4)**-1\n",
    "x8 = PV8*((1+r[0])**-1 + (1+r[1])**-2 + (1+r[2])**-3 + (1+r[3])**-4 + (1+r[4])**-5 + (1+r[5])**-6 + (1+r[6])**-7 + (1+r[7])**-8)**-1\n",
    "print(f'The total present value of the cash flows is ${PV4:.2f}')\n",
    "print(f'The total present value of the cash flows is ${PV8:.2f}')\n",
    "print(f'The four quarter swap price is ${x4:.2f}')\n",
    "print(f'The eight quarter swap price is ${x8:.2f}')"
   ]
  },
  {
   "cell_type": "markdown",
   "metadata": {},
   "source": [
    "## Exercise 8.7\n",
    "Using the information about zero-coupon bond prices and oil forward prices in Table\n",
    "8.9, construct the set of swap prices for oil for 1 through 8 quarters."
   ]
  },
  {
   "cell_type": "markdown",
   "metadata": {},
   "source": [
    "### Solution:\n",
    "Let the forward on the settlement day to be $F_{0,t}$. Then amount we will get paid is:\n",
    "$$\\sum_{i=0}^n F_{0,t_i}P(0,t_i)$$\n",
    "Then the swap price satisifies:\n",
    "$$\\sum_{i=0}^n R P(0,t_i) = \\sum_{i=0}^n F_{0,t_i}P(0,t_i)$$\n",
    "Thus, we can solve:\n",
    "$$ R=\\frac{\\sum_{i=1}^n P\\left(0, t_i\\right) F_{0, t_i}}{\\sum_{i=1}^n P\\left(0, t_i\\right)}$$"
   ]
  },
  {
   "cell_type": "code",
   "execution_count": 14,
   "metadata": {},
   "outputs": [
    {
     "name": "stdout",
     "output_type": "stream",
     "text": [
      "The swaps are $[21.0, 21.049613869994378, 20.967727413313174, 20.853636292774183, 20.72719099710801, 20.610992551899002, 20.51449050401753, 20.430420946626384]\n"
     ]
    }
   ],
   "source": [
    "coupons = [0.9852, 0.9701, 0.9546, 0.9388, 0.9231, 0.9075, 0.8919, 0.8763]\n",
    "paid = [cash*coupons[i] for i, cash in enumerate(cashflow)]\n",
    "R = []\n",
    "for i in range(len(paid)):\n",
    "    R.append(sum(paid[:i+1])/sum(coupons[:i+1]))\n",
    "print(f'The swaps are ${R}')\n",
    "    "
   ]
  },
  {
   "cell_type": "markdown",
   "metadata": {},
   "source": [
    "## Exercise 8.8\n",
    "Using the information in Table 8.9, what is the swap price of a 4-quarter oil swap\n",
    "with the first settlement occurring in the third quarter?"
   ]
  },
  {
   "cell_type": "markdown",
   "metadata": {},
   "source": [
    "### Solution:\n",
    "Now in this case we only have 3 periods. The formula is\n",
    "$$ X=\\frac{\\sum_{i=3}^6 P_0\\left(0, t_i\\right) F_{0, t_i}}{\\sum_{i=3}^6 P_0\\left(0, t_i\\right)}$$"
   ]
  },
  {
   "cell_type": "code",
   "execution_count": 11,
   "metadata": {},
   "outputs": [
    {
     "name": "stdout",
     "output_type": "stream",
     "text": [
      "The swaps are $20.38\n"
     ]
    }
   ],
   "source": [
    "print(f'The swaps are ${sum(paid[2:6])/sum(coupons[2:6]):.2f}')"
   ]
  },
  {
   "cell_type": "markdown",
   "metadata": {},
   "source": [
    "## Exercise 8.9\n",
    "Given an 8-quarter oil swap price of $20.43, construct the implicit loan balance for\n",
    "each quarter over the life of the swap."
   ]
  },
  {
   "cell_type": "markdown",
   "metadata": {},
   "source": [
    "### Solution:\n",
    "Using the eight-quarter swap price of $20.43, we can calculate the net position by subtracting the\n",
    "swap price from the forward prices. The one-quarter implied forward rate is calculated from the\n",
    "zero-coupon bond prices. The column implicit loan balance adds the net position of each quarter\n",
    "and the implicit loan balance plus interest of the previous quarter."
   ]
  },
  {
   "cell_type": "code",
   "execution_count": 12,
   "metadata": {},
   "outputs": [
    {
     "name": "stdout",
     "output_type": "stream",
     "text": [
      "The net position is $[0.5695790533736158, 0.6695790533736172, 0.3695790533736165, 0.0695790533736158, -0.2304209466263849, -0.4304209466263842, -0.5304209466263856, -0.6304209466263835]\n",
      "The implied forward rate is [1.0150223304912709, 1.0155654056282857, 1.016237167399958, 1.0168299957392417, 1.0170079081356298, 1.017190082644628, 1.0174907500840902, 1.017802122560767]\n",
      "The balance is $[0.5695790533736158, 1.2480238357503683, 1.6378672610642013, 1.7350116134629712, 1.5340995849726153, 1.130049936997, 0.6193944114011709, 5.218048215738236e-15]\n"
     ]
    }
   ],
   "source": [
    "swap = R[-1]\n",
    "net = [c - swap for c in cashflow]\n",
    "print(f'The net position is ${net}')\n",
    "# Implied forward rate\n",
    "r = [1/coupons[0]]\n",
    "for i in range(1, len(coupons)):\n",
    "    r.append((coupons[i-1]/coupons[i]))\n",
    "print(f'The implied forward rate is {r}')\n",
    "# Balance\n",
    "balance = [net[0]]\n",
    "for i in range(1, len(net)):\n",
    "    balance.append(balance[i-1]*(r[i]) + net[i])\n",
    "print(f'The balance is ${balance}')"
   ]
  },
  {
   "cell_type": "markdown",
   "metadata": {},
   "source": [
    "We have 0 in the end."
   ]
  },
  {
   "cell_type": "markdown",
   "metadata": {},
   "source": []
  }
 ],
 "metadata": {
  "kernelspec": {
   "display_name": "math-134-notes-ujRLJM6v-py3.12",
   "language": "python",
   "name": "python3"
  },
  "language_info": {
   "codemirror_mode": {
    "name": "ipython",
    "version": 3
   },
   "file_extension": ".py",
   "mimetype": "text/x-python",
   "name": "python",
   "nbconvert_exporter": "python",
   "pygments_lexer": "ipython3",
   "version": "3.12.0"
  }
 },
 "nbformat": 4,
 "nbformat_minor": 2
}
