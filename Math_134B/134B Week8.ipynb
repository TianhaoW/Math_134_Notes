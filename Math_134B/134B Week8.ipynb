{
 "cells": [
  {
   "cell_type": "markdown",
   "metadata": {},
   "source": [
    "# 134B Week 8"
   ]
  },
  {
   "cell_type": "code",
   "execution_count": 10,
   "metadata": {},
   "outputs": [],
   "source": [
    "import numpy as np\n",
    "import matplotlib.pyplot as plt\n",
    "import pandas as pd"
   ]
  },
  {
   "cell_type": "markdown",
   "metadata": {},
   "source": [
    "## Exercise 7.10\n",
    "What is the rate on a synthetic FRA for a 90-day loan commencing on day 90? A\n",
    "180-day loan commencing on day 90? A 270-day loan commencing on day 90?\n",
    "\n",
    "![table](../img/134B_Week8_1.png \"Title\")"
   ]
  },
  {
   "cell_type": "markdown",
   "metadata": {},
   "source": [
    "### Solution:\n",
    "In general, suppose that today is day 0, and that at time t we want to lend $1 for\n",
    "the period s, earning the implied forward rate r0(t , t + s) over the interval from t to t + s.\n",
    "\n",
    "The strategy is:\n",
    "- 1. Buy $1+ r_0(t , t + s)$ zero-coupon bonds maturing at time $t + s$.\n",
    "- 2. Short-sell 1 zero-coupon bond maturing at time t .\n",
    "\n",
    "Thus, the rate is given by:\n",
    "$$ 1 + r_0(t,t+s) = \\frac{P(0,t)}{P(0,t+s)} $$\n",
    "Thus, we can compute the rate."
   ]
  },
  {
   "cell_type": "code",
   "execution_count": 1,
   "metadata": {},
   "outputs": [
    {
     "name": "stdout",
     "output_type": "stream",
     "text": [
      "The rate for a 90-day loan commences on day 90 is 1.09%\n",
      "The rate for a 180-day loan commences on day 180 is 2.57%\n",
      "The rate for a 270-day loan commences on day 270 is 3.96%\n"
     ]
    }
   ],
   "source": [
    "p90 = 0.99009\n",
    "p180 = 0.97943\n",
    "p270 = 0.96525\n",
    "p360 = 0.95238\n",
    "\n",
    "print(f\"The rate for a 90-day loan commences on day 90 is {p90/p180-1:.2%}\")\n",
    "print(f\"The rate for a 180-day loan commences on day 180 is {p90/p270-1:.2%}\")\n",
    "print(f\"The rate for a 270-day loan commences on day 270 is {p90/p360-1:.2%}\")"
   ]
  },
  {
   "cell_type": "markdown",
   "metadata": {},
   "source": [
    "## Exercise 7.13\n",
    "Using the information in Table 7.1, suppose you buy a 3-year par coupon bond and\n",
    "hold it for 2 years, after which time you sell it. Assume that interest rates are certain\n",
    "not to change and that you reinvest the coupon received in year 1 at the 1-year rate\n",
    "prevailing at the time you receive the coupon. Verify that the 2-year return on this\n",
    "investment is 6.5%.\n",
    "\n",
    "![table](../img/134B_Week8_2.png \"Title\")"
   ]
  },
  {
   "cell_type": "markdown",
   "metadata": {},
   "source": [
    "### Solution:\n",
    "First, we need to compute the value of the three-year par coupon bond after we have held it for two\n",
    "years. After two years, the bond still entitles us to receive one coupon and the repayment of the\n",
    "principal. We need to discount it to the end of two year. In this case, we need to use the one-year implied\n",
    "forward rate."
   ]
  },
  {
   "cell_type": "code",
   "execution_count": 2,
   "metadata": {},
   "outputs": [
    {
     "name": "stdout",
     "output_type": "stream",
     "text": [
      "Current value at year 2 is $99.03\n"
     ]
    }
   ],
   "source": [
    "rate23 = 0.0800705\n",
    "par = 0.0695485\n",
    "current_value = 100*(1+par)/(1+rate23)\n",
    "print(f\"Current value at year 2 is ${current_value:.2f}\")"
   ]
  },
  {
   "cell_type": "markdown",
   "metadata": {},
   "source": [
    "Then, we need to compute the current value of the coupon. We recieved coupons at year 1 and year 2, so we can compute the present value at year 2 using the rate from year 1 to year 2."
   ]
  },
  {
   "cell_type": "code",
   "execution_count": 3,
   "metadata": {},
   "outputs": [
    {
     "name": "stdout",
     "output_type": "stream",
     "text": [
      "Coupons at year 2 is $14.40\n"
     ]
    }
   ],
   "source": [
    "rate12 = 0.0700236\n",
    "coupons = par*100*(1+1+rate12)\n",
    "print(f\"Coupons at year 2 is ${coupons:.2f}\")"
   ]
  },
  {
   "cell_type": "markdown",
   "metadata": {},
   "source": [
    "Thus, the two year gross return is the total gain over the face value."
   ]
  },
  {
   "cell_type": "code",
   "execution_count": 4,
   "metadata": {},
   "outputs": [
    {
     "name": "stdout",
     "output_type": "stream",
     "text": [
      "Return rate at year 2 is 13.42%\n",
      "The annualized return rate is 6.50%\n"
     ]
    }
   ],
   "source": [
    "returnrate = (current_value + coupons - 100)/100\n",
    "print(f\"Return rate at year 2 is {returnrate:.2%}\")\n",
    "print(f'The annualized return rate is {(1+returnrate)**(1/2)-1:.2%}')"
   ]
  },
  {
   "cell_type": "markdown",
   "metadata": {},
   "source": [
    "## Exercise 7.16\n",
    "Suppose the September Eurodollar futures contract has a price of 96.4. You plan\n",
    "to borrow $50m for 3 months in September at LIBOR, and you intend to use the\n",
    "Eurodollar contract to hedge your borrowing rate.\n",
    "\n",
    "- a. What rate can you secure?\n",
    "- b. Will you be long or short the Eurodollar contract?\n",
    "- c. How many contracts will you enter into?\n",
    "- d. Assuming the true 3-month LIBOR is1%in September, what is the settlement\n",
    "in dollars at expiration of the futures contract? (For purposes of this question,\n",
    "ignore daily marking-to-market on the futures contract.)"
   ]
  },
  {
   "cell_type": "markdown",
   "metadata": {},
   "source": [
    "### Solution:\n",
    "- (a): The implied LIBOR of the September Eurodollar futures is given by \n",
    "$$ (100 - F)\\times \\frac{1}{100} \\times \\frac{3}{12}$$"
   ]
  },
  {
   "cell_type": "code",
   "execution_count": 5,
   "metadata": {},
   "outputs": [
    {
     "name": "stdout",
     "output_type": "stream",
     "text": [
      "The implied LIBOR of the September Eurodollar futures is 0.90%\n"
     ]
    }
   ],
   "source": [
    "F = 96.4\n",
    "print(f'The implied LIBOR of the September Eurodollar futures is {(100-F)/400:.2%}')"
   ]
  },
  {
   "cell_type": "markdown",
   "metadata": {},
   "source": [
    "- (b): As we want to borrow money, we want to buy protection against high interest rates, which\n",
    "means low Eurodollar future prices. We will short the Eurodollar contract."
   ]
  },
  {
   "cell_type": "markdown",
   "metadata": {},
   "source": [
    "- (c): One Eurodollar contract is based on a \\$1 million three-month deposit. As we want to hedge a\n",
    "loan of \\$50M, we will enter into 50 short contracts."
   ]
  },
  {
   "cell_type": "markdown",
   "metadata": {},
   "source": [
    "- (d): Since we short the 50 contracts. The 1% LIBOR corresopond to 4% of annualized rate. We first compute the payoff of short Eurodollar contract."
   ]
  },
  {
   "cell_type": "code",
   "execution_count": 6,
   "metadata": {},
   "outputs": [
    {
     "name": "stdout",
     "output_type": "stream",
     "text": [
      "The payoff of the Eurodollar futures is $50000.00\n"
     ]
    }
   ],
   "source": [
    "r = 0.01\n",
    "payoff = (F - (100 - 4*100*r))*100*25*50\n",
    "print(f'The payoff of the Eurodollar futures is ${payoff:.2f}')"
   ]
  },
  {
   "cell_type": "markdown",
   "metadata": {},
   "source": [
    "Note that 1% of LIBOR we correspond to a payment of 1% of your loan. Thus, the hedged settlement."
   ]
  },
  {
   "cell_type": "code",
   "execution_count": 7,
   "metadata": {},
   "outputs": [
    {
     "name": "stdout",
     "output_type": "stream",
     "text": [
      "The net profit is $450000.00, the precentage is 0.90%\n"
     ]
    }
   ],
   "source": [
    "net = 50000000*r - payoff\n",
    "print(f'The net profit is ${net:.2f}, the precentage is {net/50000000:.2%}')"
   ]
  },
  {
   "cell_type": "markdown",
   "metadata": {},
   "source": [
    "This is exactly the 0.9 percent we sought to lock in."
   ]
  },
  {
   "cell_type": "markdown",
   "metadata": {},
   "source": [
    "## Exercise 7.22\n",
    "An 8-year bond with 6% annual coupons and a 5.004% yield sells for $106.44 with\n",
    "a Macaulay duration of 6.631864. A 9-year bond has 7% annual coupons with a\n",
    "5.252% yield and sells for $112.29 with a Macaulay duration of 7.098302. You wish to duration-hedge the 8-year bond using a 9-year bond. How many 9-year bonds must\n",
    "we short for every 8-year bond?"
   ]
  },
  {
   "cell_type": "markdown",
   "metadata": {},
   "source": [
    "### Solution:\n",
    "Recall duration measures the sensitivity of the price of the bond correspond to the change of the interest rate. Basically, we can view duration as the derivative of the bond price against the interest rate. Thus, the goal of the duration-hedge is to make the net duration to be 0.\n",
    "\n",
    "Suppose we have a portfolio:\n",
    "$$ B_1 + NB_2$$\n",
    "We use the formula:\n",
    "$$ \\begin{aligned}\n",
    "& {\\left[B_1\\left(y_1+\\epsilon\\right)-B_1\\left(y_1\\right)\\right]+N\\left[B_2\\left(y_2+\\epsilon\\right)-B_2\\left(y_2\\right)\\right]} \\\\\n",
    "& =-D_1 B_1\\left(y_1\\right) \\epsilon /\\left(1+y_1\\right)-N D_2 B_2\\left(y_2\\right) \\epsilon /\\left(1+y_2\\right)\n",
    "\\end{aligned}$$\n",
    "Thus, we can solve:\n",
    "$$N=-\\frac{D_1 B_1\\left(y_1\\right) /\\left(1+y_1\\right)}{D_2 B_2\\left(y_2\\right) /\\left(1+y_2\\right)}$$"
   ]
  },
  {
   "cell_type": "code",
   "execution_count": 8,
   "metadata": {},
   "outputs": [
    {
     "name": "stdout",
     "output_type": "stream",
     "text": [
      "The number of bonds is -0.90\n"
     ]
    }
   ],
   "source": [
    "# Define the bonds\n",
    "D1 = 6.631864\n",
    "B1 = 106.44\n",
    "y1 = 0.05004\n",
    "D2 = 7.098302\n",
    "B2 = 112.29\n",
    "y2 = 0.07098302\n",
    "\n",
    "# Compute N\n",
    "N = -(D1*B1/(1+y1))/(D2*B2/(1+y2))\n",
    "print(f'The number of bonds is {N:.2f}')"
   ]
  },
  {
   "cell_type": "markdown",
   "metadata": {},
   "source": [
    "Therefore, we have to short 0.9 units of the nine-year bond for every eight-year bond to\n",
    "obtain a duration-matched portfolio"
   ]
  },
  {
   "cell_type": "markdown",
   "metadata": {},
   "source": [
    "## Exercise 7.25\n",
    "Suppose a 10-year zero-coupon bond with a face value of $100 trades at $69.20205.\n",
    "- a. What is the yield to maturity and modified duration of the zero-coupon bond?\n",
    "- b. Calculate the approximate bond price change for a 50-basis-point increase\n",
    "in the yield, based on the modified duration you calculated in part (a). Also\n",
    "calculate the exact new bond price based on the new yield to maturity.\n",
    "- c. Calculate the convexity of the 10-year zero-coupon bond.\n",
    "- d. Now use the formula (equation (7.15)) that takes into account both duration\n",
    "and convexity to approximate the new bond price. Compare your result to that\n",
    "in part (b)."
   ]
  },
  {
   "cell_type": "markdown",
   "metadata": {},
   "source": [
    "### Solution:\n",
    "- (a): Note the yield to maturity is given by the pricing of the zero-coupon bond:\n",
    "$$ P(0,T) = F\\times (1+r)^T $$"
   ]
  },
  {
   "cell_type": "code",
   "execution_count": 11,
   "metadata": {},
   "outputs": [
    {
     "name": "stdout",
     "output_type": "stream",
     "text": [
      "The yeild to maturity is 3.75%\n"
     ]
    }
   ],
   "source": [
    "P = 69.20205\n",
    "F = 100\n",
    "T = 10\n",
    "\n",
    "r = np.power(F/P, 1/T) - 1\n",
    "print(f'The yeild to maturity is {r:.2%}')\n"
   ]
  },
  {
   "cell_type": "markdown",
   "metadata": {},
   "source": [
    "The modified duration is given by:\n",
    "$$ \\frac{1}{B(y)} \\times \\frac{1}{1+y / m}\\left[\\sum_{i=1}^n \\frac{i}{m} \\frac{C / m}{(1+y / m)^i}+\\frac{n}{m} \\frac{M}{(1+y / m)^n}\\right]$$\n",
    "\n",
    "Since it is zero-coupon bond, we only have the time T term."
   ]
  },
  {
   "cell_type": "code",
   "execution_count": 12,
   "metadata": {},
   "outputs": [
    {
     "name": "stdout",
     "output_type": "stream",
     "text": [
      "The duration is 9.64\n"
     ]
    }
   ],
   "source": [
    "D = 1/P*1/(1+r)*(T*F/(1+r)**T)\n",
    "print(f'The duration is {D:.2f}')"
   ]
  },
  {
   "cell_type": "markdown",
   "metadata": {},
   "source": [
    "- (b): Since duration is basically the derivative, we use the formula:\n",
    "$$B(y+\\varepsilon)=B(y)-\\left[D_{M o d} \\times B(y) \\varepsilon\\right]$$\n"
   ]
  },
  {
   "cell_type": "code",
   "execution_count": 13,
   "metadata": {},
   "outputs": [
    {
     "name": "stdout",
     "output_type": "stream",
     "text": [
      "The new price based on using modified duration is 65.87\n",
      "The true price is 65.95\n"
     ]
    }
   ],
   "source": [
    "r_new = r + 0.005\n",
    "P_new = P - D*(r_new - r)*P\n",
    "print(f'The new price based on using modified duration is {P_new:.2f}')\n",
    "P_newtrue = F/(1+r_new)**T\n",
    "print(f'The true price is {P_newtrue:.2f}')"
   ]
  },
  {
   "cell_type": "markdown",
   "metadata": {},
   "source": [
    "- (c): Recall convexity is basically the second order derivative. The formula is given by:\n",
    "$$\\text { Convexity }=\\frac{1}{B(y)}\\left[\\sum_{i=1}^n \\frac{i(i+1)}{m^2} \\frac{C / m}{(1+y / m)^{i+2}}+\\frac{n(n+1)}{m^2} \\frac{M}{(1+y / m)^{n+2}}\\right]$$\n",
    "Thus, since we are considering zero-coupon bond, we only have the time T term."
   ]
  },
  {
   "cell_type": "code",
   "execution_count": 14,
   "metadata": {},
   "outputs": [
    {
     "name": "stdout",
     "output_type": "stream",
     "text": [
      "The convexity is 102.19\n"
     ]
    }
   ],
   "source": [
    "C = 1/P*(0 + T*(T+1)/1*F/(1+r)**(T+2))\n",
    "print(f'The convexity is {C:.2f}')"
   ]
  },
  {
   "cell_type": "markdown",
   "metadata": {},
   "source": [
    "- (d): Like Taylor expansion to the second order, we have the refined approximation:\n",
    "$$B(y+\\varepsilon)=B(y)-\\left[D_{M o d} \\times B(y) \\varepsilon\\right]+0.5 \\times \\text { Convexity } \\times B(y) \\times \\varepsilon^2$$\n",
    "Thus, we can compute:"
   ]
  },
  {
   "cell_type": "code",
   "execution_count": 15,
   "metadata": {},
   "outputs": [
    {
     "name": "stdout",
     "output_type": "stream",
     "text": [
      "The new price based on using convexity is 65.96\n"
     ]
    }
   ],
   "source": [
    "P_new_convexity = P - D*(r_new - r)*P + 0.5*C*(r_new - r)**2*P\n",
    "print(f'The new price based on using convexity is {P_new_convexity:.2f}')"
   ]
  },
  {
   "cell_type": "markdown",
   "metadata": {},
   "source": [
    "The approximation is much better now compared to the result in part (b), but it is still somewhat\n",
    "off the true price. "
   ]
  }
 ],
 "metadata": {
  "kernelspec": {
   "display_name": "math-134-notes-ujRLJM6v-py3.12",
   "language": "python",
   "name": "python3"
  },
  "language_info": {
   "codemirror_mode": {
    "name": "ipython",
    "version": 3
   },
   "file_extension": ".py",
   "mimetype": "text/x-python",
   "name": "python",
   "nbconvert_exporter": "python",
   "pygments_lexer": "ipython3",
   "version": "3.12.0"
  }
 },
 "nbformat": 4,
 "nbformat_minor": 2
}
