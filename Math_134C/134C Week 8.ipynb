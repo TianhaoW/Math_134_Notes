{
 "cells": [
  {
   "cell_type": "markdown",
   "id": "8bf7767258b543f2",
   "metadata": {
    "collapsed": false
   },
   "source": [
    "# Math 134C Week 8"
   ]
  },
  {
   "cell_type": "code",
   "execution_count": 2,
   "id": "efd4c76b76458445",
   "metadata": {
    "collapsed": false,
    "ExecuteTime": {
     "end_time": "2024-06-05T23:29:40.457239Z",
     "start_time": "2024-06-05T23:29:39.816260Z"
    }
   },
   "outputs": [],
   "source": [
    "import math\n",
    "import numpy as np\n",
    "from scipy.stats import norm\n",
    "def black_scholes_call(S_t, K, dt, r, sigma, delta):\n",
    "    d1 = (np.log(S_t / K) + (r -delta + 0.5 * sigma ** 2) * dt) / (sigma * np.sqrt(dt))\n",
    "    d2 = d1 - sigma * np.sqrt(dt)\n",
    "    call_price = S_t * np.exp(-delta * dt) * norm.cdf(d1) - K * np.exp(-r * dt) * norm.cdf(d2)\n",
    "    return call_price\n",
    "\n",
    "def black_scholes_put(S_t, K, dt, r, sigma, delta):\n",
    "    d1 = (np.log(S_t / K) + (r -delta + 0.5 * sigma ** 2) * dt) / (sigma * np.sqrt(dt))\n",
    "    d2 = d1 - sigma * np.sqrt(dt)\n",
    "    call_price = - S_t * np.exp(-delta * dt) * norm.cdf(-d1) + K * np.exp(-r * dt) * norm.cdf(-d2)\n",
    "    return call_price\n",
    "\n",
    "def call_Delta(S_t, K, dt, r, sigma, delta):\n",
    "    d1 = (np.log(S_t / K) + (r -delta + 0.5 * sigma ** 2) * dt) / (sigma * np.sqrt(dt))  \n",
    "    return np.exp(-delta * dt) * norm.cdf(d1)\n",
    "\n",
    "def put_Delta(S_t, K, dt, r, sigma, delta):\n",
    "    d1 = (np.log(S_t / K) + (r -delta + 0.5 * sigma ** 2) * dt) / (sigma * np.sqrt(dt))  \n",
    "    return -np.exp(-delta * dt) * norm.cdf(-d1)\n",
    "\n",
    "def Gamma(S_t, K, dt, r, sigma, delta):\n",
    "    d1 = (np.log(S_t / K) + (r -delta + 0.5 * sigma ** 2) * dt) / (sigma * np.sqrt(dt))\n",
    "    return np.exp(-delta * dt) * norm.pdf(d1)/(S_t * sigma * np.sqrt(dt)) \n",
    "\n",
    "def call_Theta(S_t, K, dt, r, sigma, delta):\n",
    "    d1 = (np.log(S_t / K) + (r -delta + 0.5 * sigma ** 2) * dt) / (sigma * np.sqrt(dt))\n",
    "    d2 = d1 - sigma * np.sqrt(dt)\n",
    "    return delta * S_t * np.exp(-delta * dt)*norm.cdf(d1) - r * K * np.exp(-r*dt)*norm.cdf(d2)-(K * np.exp(-r*dt) * sigma * norm.pdf(d2))/ (2 * np.sqrt(dt)) \n",
    "\n",
    "def put_Theta(S_t, K, dt, r, sigma, delta):\n",
    "    d1 = (np.log(S_t / K) + (r -delta + 0.5 * sigma ** 2) * dt) / (sigma * np.sqrt(dt))\n",
    "    d2 = d1 - sigma * np.sqrt(dt)\n",
    "    return call_Theta(S_t, K, dt, r, sigma, delta) + r * K * np.exp(-r*dt) - delta * S_t * np.exp(-delta * dt)\n",
    "\n",
    "def put_given_call(C_t, S_t, K, r, dt):\n",
    "    return C_t - S_t + K * math.exp(-r * dt)\n",
    "def call_given_put(P_t, S_t, K, r, dt):\n",
    "    return P_t + S_t - K * math.exp(-r * dt)"
   ]
  },
  {
   "cell_type": "markdown",
   "id": "784d777eedf87ce2",
   "metadata": {
    "collapsed": false
   },
   "source": [
    "**Quiz 7.1**Assume the Black-Scholes framework applies.\n",
    "\n",
    "Recall that a long 50-strike straddle consists of buying a 50-strike call option and buying a 50-strike put option.\n",
    "\n",
    "Suppose you enter into a long 50-strike straddle on a nondividend-paying stock and compute the current delta for that straddle with the following information:\n",
    "\n",
    "- The stock currently sells for 50.\n",
    "- The stock’s volatility is 50%.\n",
    "- The time to maturity is one year.\n",
    "- The continuously compounded risk-free interest rate is 4%.\n",
    "\n",
    "How much does delta change after three months, if the stock price happens to be 50 at that point in time?"
   ]
  },
  {
   "cell_type": "code",
   "execution_count": 6,
   "id": "534bffcc5b70e994",
   "metadata": {
    "ExecuteTime": {
     "end_time": "2024-05-21T20:04:01.942021Z",
     "start_time": "2024-05-21T20:04:01.935939Z"
    },
    "collapsed": false
   },
   "outputs": [
    {
     "name": "stdout",
     "output_type": "stream",
     "text": [
      "The current delta is 0.258600\n",
      "The new delta is 0.224960\n",
      "The difference is -0.033640\n"
     ]
    }
   ],
   "source": [
    "current_delta = call_Delta(50, 50, 1, 0.04, 0.5, 0) + put_Delta(50, 50, 1, 0.04, 0.5, 0)\n",
    "print(f\"The current delta is {current_delta:.6f}\")\n",
    "new_delta = call_Delta(50, 50, 9/12, 0.04, 0.5, 0) + put_Delta(50, 50, 9/12, 0.04, 0.5, 0)\n",
    "print(f\"The new delta is {new_delta:.6f}\")\n",
    "print(f\"The difference is {new_delta-current_delta:.6f}\")"
   ]
  },
  {
   "cell_type": "markdown",
   "id": "37afc8728b791615",
   "metadata": {
    "collapsed": false
   },
   "source": [
    "**Quiz 7.2**\n",
    "Facebook stock has risen in price over 42% so far in 2019.\n",
    "\n",
    "Consider the \"options chain\" table of market prices for Facebook (ticker: FB) stock options from May 16, 2019, as reported on the Chicago Board Options Exchange website www.cboe.com.Links to an external site.\n",
    "\n",
    "The stock price of FB on May 16 was $187.28 and the risk-free annualized interest rate was 2.3%. Please use the column labeled \"Last\" to find all the market option prices you need in this problem.\n",
    "\n",
    "![](img/week8_1.png)\n",
    "\n",
    "The expiration date for all these options is May 31, 2019, so the time to expiration for this problem is 15 days.  Assume the options are European.\n",
    "\n",
    "Of the 4 strike prices shown in the table, for which strike price is there no put/call parity violation?  \n",
    "\n",
    "When testing for put/call parity violations, round your numerical computations to the nearest hundredth (round to 2 decimal places)."
   ]
  },
  {
   "cell_type": "code",
   "execution_count": 17,
   "id": "9739741762694786",
   "metadata": {
    "ExecuteTime": {
     "end_time": "2024-05-21T18:38:31.504353Z",
     "start_time": "2024-05-21T18:38:31.499882Z"
    },
    "collapsed": false
   },
   "outputs": [
    {
     "name": "stdout",
     "output_type": "stream",
     "text": [
      "The price of the call for 182.5 strike should be 6.84\n",
      "The price of the call for 185 strike should be 5.10\n",
      "The price of the call for 187.5 strike should be 3.81\n",
      "The price of the call for 190 strike should be 2.41\n"
     ]
    }
   ],
   "source": [
    "print(\"The price of the call for\", 182.5, f\"strike should be {call_given_put(1.89, 187.28, 182.5, 0.023, 15/365):.2f}\")\n",
    "print(\"The price of the call for\", 185, f\"strike should be {call_given_put(2.65, 187.28, 185, 0.023, 15/365):.2f}\")\n",
    "print(\"The price of the call for\", 187.5, f\"strike should be {call_given_put(3.85, 187.28, 187.5, 0.023, 15/365):.2f}\")\n",
    "print(\"The price of the call for\", 190, f\"strike should be {call_given_put(4.95, 187.28, 190, 0.023, 15/365):.2f}\")"
   ]
  },
  {
   "cell_type": "markdown",
   "id": "8792abff97f27d83",
   "metadata": {
    "collapsed": false
   },
   "source": [
    "**Quiz 7.3**\n",
    "Again consider the \"options chain\" table of market prices for Facebook (ticker: FB) stock options from May 16, 2019, as reported on the Chicago Board Options Exchange website www.cboe.com.  (Links to an external site.)\n",
    "\n",
    "The stock price of FB on May 16 was 187.28 and the risk-free annualized interest rate was 2.3%. Please use the column labeled \"Last\" to find all the market option prices you need in this problem.\n",
    "\n",
    "The expiration date for all these options is May 31, 2019, so the time to expiration for this problem is 15 days. Assume the options are European.\n",
    "\n",
    "![](img/week8_2.png)\n",
    "\n",
    "We seek to capture arbitrage profits based on put/call parity violations.  Of the 4 strike prices shown in the table, for which strike price does an arbitrage opportunity exist that involves selling a FB call option and buying a FB put option with the same strike price and collecting an arbitrage profit that is greater than 0.10?\n",
    "\n",
    " "
   ]
  },
  {
   "cell_type": "code",
   "outputs": [
    {
     "name": "stdout",
     "output_type": "stream",
     "text": [
      "The profit for selling a call option and buying a put option at strike 182.5 is 0.208\n",
      "The profit for selling a call option and buying a put option at strike 185 is -0.205\n",
      "The profit for selling a call option and buying a put option at strike 187.5 is -0.457\n",
      "The profit for selling a call option and buying a put option at strike 190 is 0.000\n"
     ]
    }
   ],
   "source": [
    "print(f\"The profit for selling a call option and buying a put option at strike\", 182.5, f\"is {7.05- call_given_put(1.89, 187.28, 182.5, 0.023, 15/365):.3f}\")\n",
    "print(f\"The profit for selling a call option and buying a put option at strike\", 185, f\"is {4.9- call_given_put(2.65, 187.28, 185, 0.023, 15/365):.3f}\")\n",
    "print(f\"The profit for selling a call option and buying a put option at strike\", 187.5, f\"is {3.35- call_given_put(3.85, 187.28, 187.5, 0.023, 15/365):.3f}\")\n",
    "print(f\"The profit for selling a call option and buying a put option at strike\", 190, f\"is {2.41- call_given_put(4.95, 187.28, 190, 0.023, 15/365):.3f}\")"
   ],
   "metadata": {
    "collapsed": false,
    "ExecuteTime": {
     "end_time": "2024-05-21T20:14:51.128801Z",
     "start_time": "2024-05-21T20:14:51.121715Z"
    }
   },
   "id": "80e3901dfc57f38a",
   "execution_count": 8
  },
  {
   "cell_type": "markdown",
   "id": "a736dc7e05517c63",
   "metadata": {
    "collapsed": false
   },
   "source": [
    "**Quiz 7.4**\n",
    "You are given the following information for a stock:\n",
    "\n",
    "1. The current price of the stock is 50.\n",
    "2. The stock does not pay dividends.\n",
    "3. The continuously compounded risk-free interest rate is 8%.\n",
    "4. A 9-month European call option on the stock has a price of 4.40. The current delta of the call option is 0.5231.\n",
    "\n",
    "5. A market-maker purchases 1,000 call options and then delta-hedges the position.\n",
    "\n",
    "A day later, the price of the stock decreased to 45 and the price of the call option decreased to 3.80.\n",
    "\n",
    "Calculate the one-day profit of the market-maker, rounded to the nearest dollar."
   ]
  },
  {
   "cell_type": "code",
   "execution_count": 14,
   "id": "2c49caa063cdacb3",
   "metadata": {
    "collapsed": false,
    "ExecuteTime": {
     "end_time": "2024-05-21T20:30:37.194673Z",
     "start_time": "2024-05-21T20:30:37.186138Z"
    }
   },
   "outputs": [
    {
     "data": {
      "text/plain": "2020.2687417608283"
     },
     "execution_count": 14,
     "metadata": {},
     "output_type": "execute_result"
    }
   ],
   "source": [
    "-1000*0.5231*(-5) + 1000*(3.8-4.4) - (-1000 * 0.5231 * 50 + 4.4 * 1000) * (np.exp(0.08/365)-1)\n"
   ]
  },
  {
   "cell_type": "markdown",
   "id": "d170212ae21220ca",
   "metadata": {
    "collapsed": false
   },
   "source": [
    "**Quiz 7.5**\n",
    "You are given the following information for a stock:\n",
    "\n",
    "1. The current price of the stock is 50.\n",
    "2. The stock does not pay dividends.\n",
    "3. The continuously compounded risk-free interest rate is 8%.\n",
    "4. A 9-month European put option on the stock has a price of 4.40. The current delta of the put option is –0.5701.\n",
    "5. A market-maker sells 500 put options and then delta-hedges the position.\n",
    "\n",
    "A day later, the price of the stock increased to 65 and the price of the put option decreased to 3.60.\n",
    "\n",
    "Calculate the one-day profit of the market-maker, rounded to the nearest dollar."
   ]
  },
  {
   "cell_type": "code",
   "outputs": [
    {
     "data": {
      "text/plain": "-3872.1435773927815"
     },
     "execution_count": 19,
     "metadata": {},
     "output_type": "execute_result"
    }
   ],
   "source": [
    "-500 * (3.6 - 4.4) - 500 * 0.5701 * (65 - 50) - (-500 * 4.4 - 500 * 0.5701 * 50) * (np.exp(0.08/365) - 1)"
   ],
   "metadata": {
    "collapsed": false,
    "ExecuteTime": {
     "end_time": "2024-05-21T20:36:10.721017Z",
     "start_time": "2024-05-21T20:36:10.717765Z"
    }
   },
   "id": "cdca299acbe9dbce",
   "execution_count": 19
  },
  {
   "cell_type": "markdown",
   "id": "ba41ae186ec067c8",
   "metadata": {
    "collapsed": false
   },
   "source": [
    "**Quiz 7.6**\n",
    "A market-maker enters into a long position on 100 one-year European straddles with a strike price of $120. A straddle consists of a long call option and a long put option with the same strike price.\n",
    "\n",
    "The market-maker then delta-hedges it by buying/selling shares of stock and borrowing/lending the remaining balance. You are also given the following assumptions:\n",
    "\n",
    "1. The value of the stock is 120 now and 125 a day later\n",
    "2. The continuously compounded risk-free interest rate is 6%\n",
    "3. The value of a straddle is 46.32 now and 47.86 a day later\n",
    "4. The current delta of the  straddle is 0.2886\n",
    "\n",
    "Calculate the one-day profit for the market-maker, rounded to the nearest cent."
   ]
  },
  {
   "cell_type": "code",
   "outputs": [
    {
     "data": {
      "text/plain": "9.507852700654633"
     },
     "execution_count": 20,
     "metadata": {},
     "output_type": "execute_result"
    }
   ],
   "source": [
    "100 * (47.86 - 46.32) - 100 * 0.2886 * (125 - 120) - (100 * 46.32 - 100 * 0.2886 * 120) * (np.exp(0.06/365) - 1)"
   ],
   "metadata": {
    "collapsed": false,
    "ExecuteTime": {
     "end_time": "2024-05-21T20:39:50.922732Z",
     "start_time": "2024-05-21T20:39:50.914360Z"
    }
   },
   "id": "a9be4603ef23ef3",
   "execution_count": 20
  },
  {
   "cell_type": "markdown",
   "id": "6c779933b1a2bd4f",
   "metadata": {
    "collapsed": false
   },
   "source": [
    "**Quiz 7.7**\n",
    "Assume the Black-Scholes framework for option pricing applies.\n",
    "\n",
    "A market-maker buys 100 one-year European straddles with the strike price of 200. The market-maker then delta-hedges it by buying/selling shares of a nondividend-paying stock and borrowing/lending the remaining balance. A straddle consists of a long call and a long put on the same strike price. You are given the following information:\n",
    "\n",
    "1. The value of the stock is 200 now and 185 a day later\n",
    "2. The stock's volatility is 50%\n",
    "3. The continuously compounded risk-free interest rate is 5%\n",
    "4. The cost of one straddle is 77.42 now and 74.10 a day later\n",
    "\n",
    "5. Calculate the one-day profit for the market-maker, rounded to the nearest cent."
   ]
  },
  {
   "cell_type": "markdown",
   "id": "3b87706a2d38dc45",
   "metadata": {
    "collapsed": false
   },
   "source": [
    "**Quiz 7.8**\n",
    "For this problem assume\n",
    "\n",
    "- Stock price S = 33.00\n",
    "- Volatility $\\sigma = 0.32$\n",
    "- Annual risk-free rate r = 6%\n",
    "- Continuously paid annual dividend rate $\\delta= 0.01$\n",
    "\n",
    "Consider a European call option on this stock with the following properties:\n",
    "\n",
    "- Strike price = 35\n",
    "- Delta = 0.3854\n",
    "- Gamma = 0.0847\n",
    "- Days to expiration = 68\n",
    "\n",
    "Using the delta-gamma approximation, compute the approximate price for the European call option if there is an immediate 0.50 stock price increase."
   ]
  },
  {
   "cell_type": "code",
   "outputs": [
    {
     "name": "stdout",
     "output_type": "stream",
     "text": [
      "The original call option price is 1.141\n",
      "The approximated new price is 1.34\n"
     ]
    }
   ],
   "source": [
    "old_price = black_scholes_call(33, 35, 68/365, 0.06, 0.32, 0.01)\n",
    "print(f\"The original call option price is {black_scholes_call(33, 35, 68/365, 0.06, 0.32, 0.01):.3f}\")\n",
    "new_call_option_price = old_price + 0.3854 * 0.5 + 0.5 * 0.0847 * (0.5) ** 2\n",
    "print(f\"The approximated new price is {new_call_option_price:.2f}\")"
   ],
   "metadata": {
    "collapsed": false,
    "ExecuteTime": {
     "end_time": "2024-05-21T20:43:22.824520Z",
     "start_time": "2024-05-21T20:43:22.818779Z"
    }
   },
   "id": "5aa8fc73d6c4611d",
   "execution_count": 25
  },
  {
   "cell_type": "markdown",
   "id": "d2748b9d8409bf08",
   "metadata": {
    "collapsed": false
   },
   "source": [
    "**Quiz 7.9**\n",
    "Assume the Black-Scholes framework for option pricing applies.\n",
    "\n",
    "You are given:\n",
    "\n",
    "- The price of a nondividend-paying stock is 70.\n",
    "- The continuously compounded risk-free interest rate is 5%.\n",
    "- The volatility of the stock is greater than 30%.\n",
    "- A 1-year 72-strike European call option has a price of 10.39. The delta of the option is 0.59381.\n",
    "- A 1-year 75-strike European call option has a price of 9.16. The delta of the option is 0.54805.\n",
    "\n",
    "- A market-maker enters into a call bull spread where 100,000 72-strike call options are purchased and 100,000 75-strike call options are sold. The market-maker then delta-hedges the position with shares of the stock.\n",
    "\n",
    "One day later:\n",
    "\n",
    "- The price of the stock is 67.\n",
    "- The price of the 72-strike European call option is 8.67. The delta of the option is 0.54439.\n",
    "- The price of the 75-strike European call option is 7.57. The delta of the option is 0.49789.\n",
    "\n",
    "- Determine the number of additional shares of stock that needs to be sold or purchased after one day in order to maintain the delta hedge."
   ]
  },
  {
   "cell_type": "code",
   "outputs": [
    {
     "name": "stdout",
     "output_type": "stream",
     "text": [
      "4576.00\n",
      "4650.00\n",
      "we need to sell 74.00 shares of the stock to maintain being delta-hedged\n"
     ]
    }
   ],
   "source": [
    "old_delta = 100000 * (0.59381 - 0.54805)\n",
    "print(f\"{old_delta:.2f}\")\n",
    "new_delta = 100000 * (0.54439 - 0.49789)\n",
    "print(f\"{new_delta:.2f}\")\n",
    "print(f\"we need to sell {new_delta - old_delta:.2f} shares of the stock to maintain being delta-hedged\")"
   ],
   "metadata": {
    "collapsed": false,
    "ExecuteTime": {
     "end_time": "2024-05-21T20:50:23.355084Z",
     "start_time": "2024-05-21T20:50:23.350713Z"
    }
   },
   "id": "5e429850c538f242",
   "execution_count": 38
  },
  {
   "cell_type": "markdown",
   "id": "de1849bc0b858987",
   "metadata": {
    "collapsed": false
   },
   "source": [
    "**Quiz 7.10** \n",
    "\n",
    "Assume the Black-Scholes framework for option pricing applies and the risk-free rate is zero.\n",
    "\n",
    "AAPL stock is currently trading at 200 while a one-year at-the-money European call option on AAPL is trading at 20, or 10% of the value of the stock.  \n",
    "\n",
    "What is the implied volatility?"
   ]
  },
  {
   "cell_type": "code",
   "outputs": [
    {
     "data": {
      "text/plain": "20.014035660702888"
     },
     "execution_count": 33,
     "metadata": {},
     "output_type": "execute_result"
    }
   ],
   "source": [
    "sigma = 0.2515\n",
    "black_scholes_call(200, 200, 1, 0, sigma, 0)"
   ],
   "metadata": {
    "collapsed": false,
    "ExecuteTime": {
     "end_time": "2024-05-21T20:45:35.373107Z",
     "start_time": "2024-05-21T20:45:35.369667Z"
    }
   },
   "id": "84d39b240ab0cfcd",
   "execution_count": 33
  },
  {
   "cell_type": "markdown",
   "source": [
    "# Exotic Options\n",
    "\n",
    "## Asian options\n",
    "- Have payoff based on the average price over some period\n",
    "- The **average price** option uses the average of the stock price as the asset price when computing the payoff, and the **average strike** option uses the average of the stock price as the strike price.\n",
    "- The price of an average price options is lower than the corresponding European options. This is because averaging the price reduces the volatility. "
   ],
   "metadata": {
    "collapsed": false
   },
   "id": "788ce80cc891ab56"
  },
  {
   "cell_type": "markdown",
   "source": [
    "**Example**\n",
    "Consider the stock price in each month given by $(30, 35, 32, 37, 30, 33)$. Compute the payoff of\n",
    "1. 6-month arithmetic average price call option at strike 30\n",
    "2. 6-month arithmetic average price put option at strike 30\n",
    "3. 6-month geometric average price call option at strike 30\n",
    "4. 6-month arithmetic average strike put option"
   ],
   "metadata": {
    "collapsed": false
   },
   "id": "93e4786845415f30"
  },
  {
   "cell_type": "code",
   "outputs": [
    {
     "name": "stdout",
     "output_type": "stream",
     "text": [
      "The arithmetic average of the price is 32.83\n",
      "The geometric average of the price is 32.74\n",
      "1) The payoff is 2.83\n",
      "2) The payoff is 0.00\n",
      "3) The payoff is 2.74\n",
      "4) The payoff is 0.00\n"
     ]
    }
   ],
   "source": [
    "arithmetic_average = (30+35+32+37+30+33)/6\n",
    "geometric_average = (30*35*32*37*30*33)**(1/6)\n",
    "print(f\"The arithmetic average of the price is {arithmetic_average:.2f}\")\n",
    "print(f\"The geometric average of the price is {geometric_average:.2f}\")\n",
    "payoff_1 = max(0, arithmetic_average-30)\n",
    "print(f\"1) The payoff is {payoff_1:.2f}\")\n",
    "payoff_2 = max(0, 30-arithmetic_average)\n",
    "print(f\"2) The payoff is {payoff_2:.2f}\")\n",
    "payoff_3 = max(0, geometric_average - 30)\n",
    "print(f\"3) The payoff is {payoff_3:.2f}\")\n",
    "payoff_4 = max(0, arithmetic_average - 33)\n",
    "print(f\"4) The payoff is {payoff_4:.2f}\")"
   ],
   "metadata": {
    "collapsed": false,
    "ExecuteTime": {
     "end_time": "2024-05-23T20:12:16.385758Z",
     "start_time": "2024-05-23T20:12:16.380773Z"
    }
   },
   "id": "bdad1b428b65a5fe",
   "execution_count": 6
  },
  {
   "cell_type": "markdown",
   "source": [],
   "metadata": {
    "collapsed": false
   },
   "id": "33a7813f3032e93f"
  },
  {
   "cell_type": "markdown",
   "source": [
    "**Example**\n",
    "Consider a three period binomial tree of a stock, where each period is 1 months. Assume that $r = 0.03, \\delta = 0.01, u = 1.2, d = 0.8$. Suppose that the current stock price is $40$. Use the binomial tree method to compute the price of a 3-month arithmetic monthly average strike Asian put options. "
   ],
   "metadata": {
    "collapsed": false
   },
   "id": "42040894617e6855"
  },
  {
   "cell_type": "markdown",
   "source": [
    "**Exercise 14.3** Suppose that S = 100, K = 100, r = 0.08, $\\sigma$ = 0.30, $\\delta$ = 0, and T = 1. Construct a standard two-period binomial stock price tree using the method in Chapter 10. \n",
    "\n",
    "a. Consider stock price averages computed by averaging the 6-month and 1-year prices. What are the possible arithmetic and geometric averages after 1 year? \\\n",
    "b. Construct a binomial tree for the average. How many nodes does it have after 1 year? (Hint: While the moves ud and du give the same year-1 price, they do not give the same average in year 1.) \\\n",
    "c. What is the price of an Asian arithmetic average price call? \\\n",
    "d. What is the price of an Asian geometric average price call?"
   ],
   "metadata": {
    "collapsed": false
   },
   "id": "c21243f046c29c4"
  },
  {
   "cell_type": "code",
   "outputs": [
    {
     "name": "stdout",
     "output_type": "stream",
     "text": [
      "a) The arithmetic average price after 1 year could be 147.13, 118.50, 96.26, 77.53\n",
      "   The geometric average price after 1 year could be 145.97, 118.07, 95.50, 77.24\n",
      "b) It has 4 notes after 1 year\n",
      "c) The price of the arithematic average price call option is 12.92\n",
      "d) The price of the geometric average price call option is 12.61\n"
     ]
    }
   ],
   "source": [
    "u = np.exp(0.08 * 0.5 + 0.3 * np.sqrt(0.5))\n",
    "d = np.exp(0.08 * 0.5 - 0.3 * np.sqrt(0.5))\n",
    "S = 100\n",
    "Suu = S * u * u\n",
    "Sdd = S * d * d\n",
    "Sud = S * u * d \n",
    "q = (np.exp(0.08 * 0.5) - d)/(u-d)\n",
    "\n",
    "Auu = (S * u + S * u * u)/2 \n",
    "Aud = (S * u + S * u * d)/2\n",
    "Adu = (S * d + S * u * d)/2\n",
    "Add = (S * d + S * d * d)/2\n",
    "\n",
    "Guu = np.sqrt(S * u * S * u * u)\n",
    "Gud = np.sqrt(S * u * S * u * d)\n",
    "Gdu = np.sqrt(S * d * S * d * u)\n",
    "Gdd = np.sqrt(S * d * S * d * d)\n",
    "\n",
    "PAu = np.exp(-0.08 * 0.5) * (q * max(Auu-100, 0) + (1-q) * max(Aud - 100, 0))\n",
    "PAd = np.exp(-0.08 * 0.5) * (q * max(Adu-100, 0) + (1-q) * max(Add-100, 0))\n",
    "PA = np.exp(-0.08 * 0.5) * (q * (PAu + (1-q) * PAd))\n",
    "\n",
    "PGu = np.exp(-0.08 * 0.5) * (q * max(Guu-100, 0) + (1-q) * max(Gud - 100, 0))\n",
    "PGd = np.exp(-0.08 * 0.5) * (q * max(Gdu-100, 0) + (1-q) * max(Gdd-100, 0))\n",
    "PG = np.exp(-0.08 * 0.5) * (q * (PGu + (1-q) * PGd))\n",
    "print(f\"a) The arithmetic average price after 1 year could be {Auu:.2f}, {Aud:.2f}, {Adu:.2f}, {Add:.2f}\")\n",
    "print(f\"   The geometric average price after 1 year could be {Guu:.2f}, {Gud:.2f}, {Gdu:.2f}, {Gdd:.2f}\")\n",
    "print(\"b) It has 4 notes after 1 year\")\n",
    "print(f\"c) The price of the arithematic average price call option is {PA:.2f}\")\n",
    "print(f\"d) The price of the geometric average price call option is {PG:.2f}\")"
   ],
   "metadata": {
    "collapsed": false,
    "ExecuteTime": {
     "end_time": "2024-06-05T23:39:22.589987Z",
     "start_time": "2024-06-05T23:39:22.571292Z"
    }
   },
   "id": "410155650f4995bc",
   "execution_count": 15
  },
  {
   "cell_type": "markdown",
   "source": [
    "## Barrier Options\n",
    "- Have a payoff depending upon whether, over the life of the option, the price of the underlying asset reaches a specified level, called the **barrier**.\n",
    "- The option came into existence or goes out of existence once the asset price reaches the barrier. If the barrier are not reached, then they can be exercised as ordinary European options.\n",
    "- The **Knock-out options** go out of existence if the asset price reaches the barrier. If the price has to fall to reach the barrier, the option is **down-and-out**. If the price has to rise to reach the barrier, the option is **up-and-out**\n",
    "- The **Knock-in options** come into existence if the asset price reaches the barrier. Similarly, we use the terminologies **down-and-in** and **up-and-in**.\n",
    "- The **Rebate options** make a fixed payment if the asset price reaches the barrier. The payment can occur at the time that the barrier is reacher, or deferred to the expiry date.\n",
    "- We have \"Knock-in\" options + \"Knock-out\" options = ordinary options. This always implies that barrier option hsa price lower than ordinary options, as both of the left hand side term are positive. "
   ],
   "metadata": {
    "collapsed": false
   },
   "id": "cb2ed9e6bd61375b"
  },
  {
   "cell_type": "markdown",
   "source": [
    "**Exercise 14.6** Let S = 40, K = 45, $\\sigma = 0.30$, r = 0.08, T = 1, and $\\delta = 0$. \n",
    "\n",
    "a. What is the price of a standard call? \\\n",
    "b. What is the price of a knock-in call with a barrier of 44? Why? \\\n",
    "c. What is the price of a knock-out call with a barrier of 44? Why?"
   ],
   "metadata": {
    "collapsed": false
   },
   "id": "9dff7912c7bd584b"
  },
  {
   "cell_type": "code",
   "outputs": [
    {
     "name": "stdout",
     "output_type": "stream",
     "text": [
      "a) The price of the standard call is 4.13\n",
      "b) The price of this knock-in call option is the same as the standard call option, which is 4.13\n"
     ]
    }
   ],
   "source": [
    "price = black_scholes_call(40, 45, 1, 0.08, 0.3, 0)\n",
    "print(f\"a) The price of the standard call is {price:.2f}\")\n",
    "print(f\"b) The price of this knock-in call option is the same as the standard call option, which is {price:.2f}\")"
   ],
   "metadata": {
    "collapsed": false,
    "ExecuteTime": {
     "end_time": "2024-05-23T20:42:56.321497Z",
     "start_time": "2024-05-23T20:42:56.316782Z"
    }
   },
   "id": "a8bfd84765b70820",
   "execution_count": 15
  },
  {
   "cell_type": "markdown",
   "source": [
    "**Example**\n",
    "Consider a two-year two period binomial model using $S = 100, u = 1.1, d = 0.8, r = 0.05, \\delta = 0$. Compute the price of a two-year down-and-in barrier put option with barrier 90 and strike price 120."
   ],
   "metadata": {
    "collapsed": false
   },
   "id": "e4dad34fe62b7068"
  }
 ],
 "metadata": {
  "kernelspec": {
   "display_name": "Python 3 (ipykernel)",
   "language": "python",
   "name": "python3"
  },
  "language_info": {
   "codemirror_mode": {
    "name": "ipython",
    "version": 3
   },
   "file_extension": ".py",
   "mimetype": "text/x-python",
   "name": "python",
   "nbconvert_exporter": "python",
   "pygments_lexer": "ipython3",
   "version": "3.11.5"
  }
 },
 "nbformat": 4,
 "nbformat_minor": 5
}
