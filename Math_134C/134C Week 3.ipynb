{
 "cells": [
  {
   "cell_type": "markdown",
   "source": [
    "# Math 134C Week 3"
   ],
   "metadata": {
    "collapsed": false
   },
   "id": "94044e0fad93cfb2"
  },
  {
   "cell_type": "code",
   "outputs": [],
   "source": [
    "import math\n",
    "# r is the risk-free rate, F is a cash flow, and dT is the time that we get each cash flow\n",
    "def PV(F, dT, r):\n",
    "    pv = 0\n",
    "    if len(dT) != len(F):\n",
    "        print(\"Input Error\")\n",
    "        return 0\n",
    "    for n in range(0, len(F)):\n",
    "        pv += F[n] * math.exp(-r * dT[n])\n",
    "    return pv\n",
    "        \n",
    "# C_t is the price of call option, S_t is the current stock price, K is the strike, r is the risk-free rate, dt is time to expiration. D is the dividend of the stock, and dT is the time at which we receive the dividend. The delta is for the continuous dividend paying model. The function will return the price of the corresponding put option. \n",
    "def put_given_call(C_t, S_t, K, r, dt, D= None, dT = None, delta = 0):\n",
    "    if D is None: D = []\n",
    "    if dT is None: dT = []\n",
    "    return C_t - (S_t - PV(D, dT, r)) * math.exp(-delta * dt) + K * math.exp(-r * dt)\n",
    "\n",
    "def call_given_put(P_t, S_t, K, r, dt, D = None, dT = None, delta = 0):\n",
    "    if D is None: D = []\n",
    "    if dT is None: dT = []\n",
    "    return P_t + (S_t - PV(D, dT, r)) * math.exp(-delta * dt) - K * math.exp(-r * dt)\n",
    "\n",
    "def one_step_binomial(r, dt, u, d, Vu, Vd, delta = 0):\n",
    "    q = (math.exp((r - delta) * dt) - d)/(u-d)\n",
    "    if not (1 > q > 0): \n",
    "        print(\"Arbitrage opportunity exists\")\n",
    "        return -1\n",
    "    return math.exp(-r * dt)*(q*Vu+(1-q)*Vd)    \n",
    "\n",
    "def Delta(r, dt, u, d, Vu, Vd, S, delta = 0):\n",
    "    return math.exp(-delta * dt)*(Vu-Vd)/(S*(u-d))\n",
    "\n",
    "def B(r, dt, u, d, Vu, Vd):\n",
    "    return math.exp(-r * dt)*(u * Vd - d * Vu)/(u-d)"
   ],
   "metadata": {
    "collapsed": false,
    "ExecuteTime": {
     "end_time": "2024-04-29T07:38:37.763923Z",
     "start_time": "2024-04-29T07:38:37.744400Z"
    }
   },
   "id": "696652508b047234",
   "execution_count": 2
  },
  {
   "cell_type": "markdown",
   "source": [
    "# One Step Binomial Model for Option Pricing\n",
    "Let $V_t$ to be the value of an investment instrument at time $t$ whose payoff at time $T$ only depends on the stock price. (For example, V could be a call option, put option, future, or other products). Let $S_t$ be the price of the stock at time $t$, $\\delta$ be the continuous dividend yield, and $u, d$ be the number such that the stock will either go up to $Su$ or go down to $Sd$ at time $T$. Let $V_T^u$ be the value of the investment instrument at time $T$ when the stock goes to $Su$, and $V_T^d$ be the value when the stock goes to $Sd$ (If $V$ is a call option with strike $K$, then $V_T^u = (Su-K)^+, V_T^d = (Sd-K)^+$). Assume that the risk-free rate is $r$, and denote $T-t$ as $\\Delta t$. Then we define the risk-neutral probability measure (also called price measure) \n",
    "$$q = \\frac{e^{(r-\\delta) \\Delta t} - d}{u-d}$$\n",
    "Then the price of $V$ at time $t$ is given by \n",
    "$$V_t = e^{-r\\Delta t}(qV_T^u + (1-q)V_T^d)$$\n",
    "\n",
    "**Self-financing Replicating Portfolio:**\n",
    "We will construct a portfolio \n",
    "$$\\Pi_t = \\Delta S_t + B_t$$\n",
    "consisting of $\\Delta$ share of the stock, and $B_t$ amount of money in the bank. We wish to use this portfolio to replicate the payoff of a financial instrument $V_t$. Then we must have \n",
    "$$\\Pi_T^u = \\Delta S_tue^{\\delta \\Delta t} + B_te^{r \\Delta t} = V_T^u$$\n",
    "$$\\Pi_T^d = \\Delta S_tde^{\\delta \\Delta t} + B_te^{r \\Delta t} = V_T^d$$\n",
    "where $\\delta$ is the continuous dividend. ($\\Delta$ share of the stock grow to $\\Delta e^{\\delta \\Delta t}$ share)\n",
    "By solving the above equations, we get \n",
    "$$\\Delta = e^{-\\delta \\Delta t}\\frac{V_T^u-V_T^d}{S_t(u-d)}$$\n",
    "$$B_t = e^{-r \\Delta t} \\frac{u V_T^d - dV_T^u}{u-d}$$\n",
    "$$V_t = \\Pi_t = e^{-\\delta \\Delta t}\\frac{V_T^u-V_T^d}{u-d} +  e^{-r \\Delta t} \\frac{u V_T^d - dV_T^u}{u-d} = e^{-r\\Delta t}(qV_T^u + (1-q)V_T^d)$$"
   ],
   "metadata": {
    "collapsed": false
   },
   "id": "d34b20df002165a"
  },
  {
   "cell_type": "markdown",
   "source": [
    "**Quiz 2.1**:\n",
    "You have 40 years until retirement and currently have all your wealth invested in the stock market.  \n",
    "\n",
    "Very roughly speaking, an extra 1% return per year in the stock market has what effect on your wealth at retirement?"
   ],
   "metadata": {
    "collapsed": false
   },
   "id": "45136418c9c3110e"
  },
  {
   "cell_type": "code",
   "outputs": [
    {
     "name": "stdout",
     "output_type": "stream",
     "text": [
      "Our wealth will grow by 0.49\n"
     ]
    }
   ],
   "source": [
    "print(f\"Our wealth will grow by {(1+0.01)**40 - 1:.2f}\")"
   ],
   "metadata": {
    "collapsed": false,
    "ExecuteTime": {
     "end_time": "2024-04-16T20:12:29.873749Z",
     "start_time": "2024-04-16T20:12:29.870120Z"
    }
   },
   "id": "4e84942c0ba03330",
   "execution_count": 2
  },
  {
   "cell_type": "markdown",
   "source": [
    "**Quiz 2.2:**\n",
    "Using historical daily closing prices, You determine the daily sample standard deviation for Apple (ticker:  AAPL) is 1.58%.\n",
    "\n",
    "What is the annual sample standard deviation (volatility) for Apple?"
   ],
   "metadata": {
    "collapsed": false
   },
   "id": "3fbabdbc3a257b8c"
  },
  {
   "cell_type": "code",
   "outputs": [
    {
     "name": "stdout",
     "output_type": "stream",
     "text": [
      "The annual volatility is: 25.08%\n"
     ]
    }
   ],
   "source": [
    "print(f\"The annual volatility is: {1.58 * math.sqrt(252):.2f}%\")"
   ],
   "metadata": {
    "collapsed": false,
    "ExecuteTime": {
     "end_time": "2024-04-16T20:15:19.524569Z",
     "start_time": "2024-04-16T20:15:19.522049Z"
    }
   },
   "id": "b719d4f2464ecae6",
   "execution_count": 7
  },
  {
   "cell_type": "markdown",
   "source": [
    "**Quiz 2.3:**\n",
    "You are given the following information for a one-period binomial tree\n",
    "\n",
    "Each period is one year\n",
    "The current price of the stock S = 100\n",
    "The stock pays dividends at a rate proportional to its price with the dividend yield d = 2%\n",
    "The continuously compounded risk-free interest rate is r\n",
    "u = 1.3, where Su is the stock price if the stock price goes up\n",
    "d = 0.7, where Sd is is the stock price if the stock price goes down\n",
    "The current premium of a one-year at-the-money put option is 12.82\n",
    "Immediately after purchasing the put option, the stock price drops to 95.\n",
    "\n",
    "Assuming that u, d, r, and the strike price of the put option remain unchanged, recalculate the premium of the put option."
   ],
   "metadata": {
    "collapsed": false
   },
   "id": "8801e41f9bc9d3cb"
  },
  {
   "cell_type": "code",
   "outputs": [
    {
     "name": "stdout",
     "output_type": "stream",
     "text": [
      "The price for the new put option is 14.32\n"
     ]
    }
   ],
   "source": [
    "print(f\"The price for the new put option is {12.82/30 * (100-95*0.7):.2f}\")"
   ],
   "metadata": {
    "collapsed": false,
    "ExecuteTime": {
     "end_time": "2024-04-16T20:23:38.603913Z",
     "start_time": "2024-04-16T20:23:38.597587Z"
    }
   },
   "id": "efbcbf997d61ed7f",
   "execution_count": 8
  },
  {
   "cell_type": "markdown",
   "source": [
    "**Quiz 2.4:**\n",
    "Recall that a straddle position is a long call option plus a long put option with the same strike price and same expiration date.\n",
    "\n",
    "For a one-year straddle on a nondividend-paying stock, you are given:\n",
    "\n",
    "The straddle can only be exercised at the end of one year.\n",
    "The payoff of the straddle is the absolute value of the difference between the strike price and the stock price at expiration date.\n",
    "The stock currently sells for 60.00.\n",
    "The continuously compounded risk-free interest rate is 8%.\n",
    "In one year, the stock will either sell for 70.00 or 45.00.\n",
    "The options have a strike price of 50.00.\n",
    "Using a one-period binomial options pricing model, calculate the current price of the straddle."
   ],
   "metadata": {
    "collapsed": false
   },
   "id": "d7ce09f7335070"
  },
  {
   "cell_type": "code",
   "outputs": [
    {
     "name": "stdout",
     "output_type": "stream",
     "text": [
      "The current price of the straddle under the one-step binomial model is 15.69\n"
     ]
    }
   ],
   "source": [
    "print(f\"The current price of the straddle under the one-step binomial model is {one_step_binomial(r = 0.08, dt = 1, u = 70/60, d = 45/60, Vu = 20, Vd = 5):.2f}\")"
   ],
   "metadata": {
    "collapsed": false,
    "ExecuteTime": {
     "end_time": "2024-04-16T20:30:14.231293Z",
     "start_time": "2024-04-16T20:30:14.226947Z"
    }
   },
   "id": "7738ee9fd8829122",
   "execution_count": 9
  },
  {
   "cell_type": "markdown",
   "source": [
    "**Quiz 2.5:**\n",
    "Let $S_t$ be the time-t price of the stock.\n",
    "\n",
    "For a one-period binomial model, you are given:\n",
    "\n",
    "Each period is 3 years.\n",
    "The current price for a stock $S_0 = 100$\n",
    "The stock pays dividends continuously at a rate proportional to its price. The dividend yield is 3%\n",
    "The stock price at the end of three years is $S_3$ \n",
    "$S_3 = S_0u$ if the stock price goes up, where $u = 1.30$\n",
    "$S_3 = S_0d$ if the stock price goes down, where $d = 0.85$ \n",
    "The continuously compounded risk-free annual interest rate is 6%.\n",
    "Consider a derivative that at the end of three years pays $(S_3-S_0)^4$\n",
    "\n",
    "Calculate the number of shares of stocks an investor must purchase at time 0 in order to replicate the derivative."
   ],
   "metadata": {
    "collapsed": false
   },
   "id": "b91349faa545ec92"
  },
  {
   "cell_type": "code",
   "outputs": [
    {
     "name": "stdout",
     "output_type": "stream",
     "text": [
      "The number of shares of stocks we should buy is 15423\n"
     ]
    }
   ],
   "source": [
    "delta = Delta(r = 0.06, dt = 3, u = 1.3, d = 0.85, Vu = 30**4, Vd = 15**4, S=100, delta=0.03)\n",
    "print(f\"The number of shares of stocks we should buy is {delta:.0f}\")"
   ],
   "metadata": {
    "collapsed": false,
    "ExecuteTime": {
     "end_time": "2024-04-16T21:33:31.477742Z",
     "start_time": "2024-04-16T21:33:31.474340Z"
    }
   },
   "id": "ab706174536fc1bc",
   "execution_count": 15
  },
  {
   "cell_type": "markdown",
   "source": [
    "**Quiz 2.6:**\n",
    "For a two-period binomial model for stock prices, you are given:\n",
    "\n",
    "Each period is one year.\n",
    "The current price of the stock is 100.\n",
    "The stock pays dividends continuously at a rate proportional to its price. The dividend yield is 3\\%.\n",
    "The continuously compounded risk-free interest rate is 5\\%.\n",
    "u = 1.1, where S goes from S to Su during each period if the stock price goes up\n",
    "d = 0.9, where S goes from S to Sd during each period if the stock price goes down\n",
    "A two-year European put option on the stock has a strike price K, where K < 120\n",
    "\n",
    "Calculate the value of K such that the current price of the put option is 11.84."
   ],
   "metadata": {
    "collapsed": false
   },
   "id": "69b57db54fcd09e9"
  },
  {
   "cell_type": "code",
   "outputs": [
    {
     "name": "stdout",
     "output_type": "stream",
     "text": [
      "The price measure q is given by 0.60\n",
      "The strike should be 115.00\n"
     ]
    }
   ],
   "source": [
    "q = (math.exp(0.05- 0.03)-0.9)/(1.1-0.9)\n",
    "print(f\"The price measure q is given by {q:.2f}\")\n",
    "K = (11.84 + math.exp(-2 * 0.05) * ((2*q-2*q**2)*99 + (1-q)**2 * 81))/(math.exp(-2 * 0.05) * (2*q - 2*q**2+(1-q)**2))\n",
    "print(f\"The strike should be {K:.2f}\")"
   ],
   "metadata": {
    "collapsed": false,
    "ExecuteTime": {
     "end_time": "2024-04-16T20:49:12.849251Z",
     "start_time": "2024-04-16T20:49:12.843355Z"
    }
   },
   "id": "aac8d231f04884d2",
   "execution_count": 12
  },
  {
   "cell_type": "markdown",
   "source": [
    "**Quiz 2.7:**\n",
    "A European call option on a stock is priced using a two-period binomial model. The call price tree is as follows:\n",
    "![binomial tree](../img/134C_Week3_image.png \"Title\")\n",
    "Calculate the current price of the call option $C_0$"
   ],
   "metadata": {
    "collapsed": false
   },
   "id": "21cb8467edffc45b"
  },
  {
   "cell_type": "code",
   "outputs": [
    {
     "name": "stdout",
     "output_type": "stream",
     "text": [
      "The price measure q is 0.45\n",
      "The discount factor per period is 0.97\n",
      "The price of this call option is 6.00\n"
     ]
    }
   ],
   "source": [
    "q = (-0.474/13.235 * 1.092)/(0.474/13.235 * (29.149-1.092) - 1.092)\n",
    "d = 0.474/(q * 1.092)\n",
    "C = d* (q * 13.232 + (1-q) * 0.474)\n",
    "print(f\"The price measure q is {q:.2f}\")\n",
    "print(f\"The discount factor per period is {d:.2f}\")\n",
    "print(f\"The price of this call option is {C:.2f}\")"
   ],
   "metadata": {
    "collapsed": false,
    "ExecuteTime": {
     "end_time": "2024-04-18T20:14:38.617345Z",
     "start_time": "2024-04-18T20:14:38.612212Z"
    }
   },
   "id": "f4037c01bb5c02c9",
   "execution_count": 5
  },
  {
   "cell_type": "markdown",
   "source": [
    "**Quiz 2.8:**\n",
    "Consider the following one-period binomial model for a stock that pays dividends continuously at a rate proportional to its price:\n",
    "\n",
    "\n",
    "You are given the following information:\n",
    "- The stock price will be either 450 or 325 in the next period\n",
    "- Each period length is 3 months.\n",
    "- The continuously compounded risk-free interest rate is 10%.\n",
    "- The continuous annual dividend yield on the stock is $\\delta$\n",
    "An investor wishes to replicate a 3-month European call option on the stock with a strike price of 350.\n",
    "\n",
    "Determine the amount in dollars the investor must lend at the risk-free rate."
   ],
   "metadata": {
    "collapsed": false
   },
   "id": "c10a856cef044851"
  },
  {
   "cell_type": "markdown",
   "source": [
    "**Quiz 2.9:**\n",
    "For a six-month 40-50 strangle on a stock paying dividends continuously at a annual rate of 2%, you are given:\n",
    "\n",
    "- The strangle can only be exercised at the end of six months.\n",
    "- The payoff of the strangle is given $\\max(0, S-50)+\\max(0, 40-S)$\n",
    "- The stock currently sells for 45.00.\n",
    "- In six months, the stock will either sell for 58.50 or 36.00.\n",
    "- The continuously compounded annual risk-free interest rate is 7\\%.\n",
    "Calculate the current price of the 40-50 strangle."
   ],
   "metadata": {
    "collapsed": false
   },
   "id": "73ee432a1606d560"
  },
  {
   "cell_type": "code",
   "outputs": [
    {
     "name": "stdout",
     "output_type": "stream",
     "text": [
      "The current price for the strangle is 5.82\n"
     ]
    }
   ],
   "source": [
    "print(f\"The current price for the strangle is {one_step_binomial(r = 0.07, dt = 0.5, u = 58.5/45, d = 36/45, Vu = 8.5, Vd = 4, delta = 0.02):.2f}\")"
   ],
   "metadata": {
    "collapsed": false,
    "ExecuteTime": {
     "end_time": "2024-04-16T21:32:31.018953Z",
     "start_time": "2024-04-16T21:32:31.011607Z"
    }
   },
   "id": "ee3f63726195e908",
   "execution_count": 13
  },
  {
   "cell_type": "markdown",
   "source": [
    "**Quiz 2.10:**\n",
    "A non-dividend paying stock is modeled by the binomial tree where its price is 10 at $t = 0$, and it can be either 18 or 4 at $t = 1$.\n",
    "\n",
    "A European call option on the stock above expires at t=1 year with strike price K = 12.\n",
    "\n",
    "Calculate the number of shares of stock in the replicating portfolio for this option."
   ],
   "metadata": {
    "collapsed": false
   },
   "id": "97f4c84c19481dcc"
  },
  {
   "cell_type": "markdown",
   "source": [
    "# American Option\n",
    "It is easy to check at each note if the early exercise is optimal, the binomial method is well-suited to valuing American options. For example, the value of the call option at each node is given by the maximum of $(S-K)^+$, which is the value if we choose to exercise at this point, and its price if it is not exercised."
   ],
   "metadata": {
    "collapsed": false
   },
   "id": "826835f6e40ba829"
  },
  {
   "cell_type": "markdown",
   "source": [
    "**Exercise 10.10:**\n",
    "Let S = 100, K = 95, $\\sigma$ = 30\\%, r = 8\\%, T = 1, and $\\delta$ = 0. Let u = 1.3, d = 0.8, and n = 2. Construct the binomial tree for an American put option. At each node provide the premium, $\\Delta$, and B.\n"
   ],
   "metadata": {
    "collapsed": false
   },
   "id": "942cbeb0c2b68cda"
  },
  {
   "cell_type": "code",
   "outputs": [
    {
     "name": "stdout",
     "output_type": "stream",
     "text": [
      "The price measure q is given by 0.48\n",
      "The value of the put option at t = 0.5 if we choose not to exercise is 15.44\n",
      "The value of the put option at t = 0 if we choose not to exercise is 7.69\n"
     ]
    }
   ],
   "source": [
    "import math\n",
    "q = (math.exp(0.04) - 0.8)/(1.3 - 0.8)\n",
    "P = math.exp(-0.04) * (q * 0 + (1-q) * 31)\n",
    "P0 = math.exp(-0.04) * (q * 0 + (1-q) * P)\n",
    "print(f\"The price measure q is given by {q:.2f}\")\n",
    "print(f\"The value of the put option at t = 0.5 if we choose not to exercise is {P:.2f}\")\n",
    "print(f\"The value of the put option at t = 0 if we choose not to exercise is {P0:.2f}\")"
   ],
   "metadata": {
    "collapsed": false,
    "ExecuteTime": {
     "end_time": "2024-04-18T20:27:05.117280Z",
     "start_time": "2024-04-18T20:27:05.114631Z"
    }
   },
   "id": "9764313041df56bc",
   "execution_count": 9
  },
  {
   "cell_type": "markdown",
   "source": [
    "**Exercise 11.1**:\n",
    "Consider a one-period binomial model with h = 1, where S = 100, r = 0, $\\sigma$ = 30%, and $\\delta$ = 0.08. Compute American call option prices for K = 70, 80, 90, and 100.\n",
    "a. At which strike(s) does early exercise occur?\n",
    "b. Use put-call parity to explain why early exercise does not occur at the higher strikes.\n",
    "c. Use put-call parity to explain why early exercise is sure to occur for all lower strikes than that in your answer to (a)."
   ],
   "metadata": {
    "collapsed": false
   },
   "id": "3ed33c616e14053"
  },
  {
   "cell_type": "code",
   "outputs": [
    {
     "name": "stdout",
     "output_type": "stream",
     "text": [
      "The u is 1.46, and d is 0.80\n",
      "The price measure q is 0.18\n",
      "The price of the call option if we choose not to exercise early is 22.31\n",
      "The value of the call option if we choose to exercise early is 30\n"
     ]
    }
   ],
   "source": [
    "u = math.exp(0.08 + 0.3)\n",
    "d = math.exp(0.08 - 0.3)\n",
    "print(f\"The u is {u:.2f}, and d is {d:.2f}\")\n",
    "q = (math.exp(-0.08) - d)/(u-d)\n",
    "print(f\"The price measure q is {q:.2f}\")\n",
    "K = 70\n",
    "C = q * max(0,  100 * u- K ) + (1-q) * max(0,  100 * d - K)\n",
    "print(f\"The price of the call option if we choose not to exercise early is {C:.2f}\")\n",
    "print(f\"The value of the call option if we choose to exercise early is {max(100-K, 0)}\")"
   ],
   "metadata": {
    "collapsed": false,
    "ExecuteTime": {
     "end_time": "2024-04-29T07:50:35.699606Z",
     "start_time": "2024-04-29T07:50:35.695354Z"
    }
   },
   "id": "67e1e30f63fae9a5",
   "execution_count": 15
  },
  {
   "cell_type": "markdown",
   "source": [
    "**Exercise 11.4**\n",
    "Consider a one-period binomial model with $h=1$, where $S = 100$, $r = 0.08$, $\\sigma = 0.3$, $\\delta = 0$. Compute American put option prices for $K = 100, 110, 120$ and $130$. \\\n",
    "a) At which strikes does the early exercise occur?\\\n",
    "b) Use put-call parity to explain why early exercise does not occur at the other strikes \\\n",
    "c) Use put-call parity to explain why early exercise is sure to occur for all strikes greater than that in your answer to a)"
   ],
   "metadata": {
    "collapsed": false
   },
   "id": "7f816b0e0f5a3850"
  },
  {
   "cell_type": "code",
   "outputs": [
    {
     "name": "stdout",
     "output_type": "stream",
     "text": [
      "a) \n",
      "Strike 100; European option price: 10.47; Early exercise value: 0; American option price: 10.47; No early exercise\n",
      "\n",
      "Strike 110; European option price: 15.77; Early exercise value: 10; American option price: 15.77; No early exercise\n",
      "\n",
      "Strike 120; European option price: 21.08; Early exercise value: 20; American option price: 21.08; No early exercise\n",
      "\n",
      "Strike 130; European option price: 26.38; Early exercise value: 30; American option price: 30.00; Early exercise\n"
     ]
    }
   ],
   "source": [
    "u = math.exp(0.08 + 0.3)\n",
    "d = math.exp(0.08 - 0.3)\n",
    "print(\"a) \")\n",
    "for strike in [100, 110, 120, 130]:\n",
    "    price_no_exercise = one_step_binomial(0.08, 1, u, d, max(strike - 100 * u,0), max(strike - 100 * d, 0))\n",
    "    price_exercise_early = max(strike - 100, 0)\n",
    "    if price_exercise_early < price_no_exercise:\n",
    "        print(f\"Strike {strike}; European option price: {price_no_exercise:.2f}; Early exercise value: {price_exercise_early}; American option price: {price_no_exercise:.2f}; No early exercise\\n\") \n",
    "    else:\n",
    "        print(f\"Strike {strike}; European option price: {price_no_exercise:.2f}; Early exercise value: {price_exercise_early}; American option price: {price_exercise_early:.2f}; Early exercise\\n\") "
   ],
   "metadata": {
    "collapsed": false,
    "ExecuteTime": {
     "end_time": "2024-04-29T08:58:43.450777Z",
     "start_time": "2024-04-29T08:58:43.447692Z"
    }
   },
   "id": "3881597a0f9d0114",
   "execution_count": 42
  },
  {
   "cell_type": "markdown",
   "source": [
    "b) By the put-call parity, we have \n",
    "$$P = C-S+Ke^{-0.08}$$\n",
    "We will exercise early if and only if $(K-S)^+ \\geq P$. Since $P$ is always non-negative, the statement is equivalent to $K-S \\geq P$, and we have\n",
    "$$K-S\\geq C-S+Ke^{-0.08}$$\n",
    "Hence, we choose to exercise early if the following equality holds\n",
    "$$K(1-e^{-0.08})\\geq C$$\n",
    "\n",
    "We know that the early exercise does not occur at $K = 120$, and the above inequality does not hold at this $K$. For smaller values of $K$, $C$ will be larger, and thus the above inequality cannot hold. Hence, we will not choose to exercise early at strike lower than 120. \n",
    "\n",
    "c) The early exercise will occur at strike greater than 130. This is because the above inequality holds for 130, and for larger $K$, the $C$ will be smaller, and thus the inequality will always hold. Hence, we will choose to exercise early at strike greater than 130, "
   ],
   "metadata": {
    "collapsed": false
   },
   "id": "13134c05a7554228"
  },
  {
   "cell_type": "markdown",
   "source": [
    "**Exercise 11.5**\n",
    "Repeat the above exercise with $\\delta = 0.08$. What is the lowest strike price at which early exercise will occur? What condition related to put-call parity is satisfied at this strike price?"
   ],
   "metadata": {
    "collapsed": false
   },
   "id": "23ac5ff28cd18f27"
  },
  {
   "cell_type": "code",
   "outputs": [
    {
     "name": "stdout",
     "output_type": "stream",
     "text": [
      "a) \n",
      "Strike 100; European option price: 13.74; Early exercise value: 0; American option price: 13.74; No early exercise\n",
      "\n",
      "Strike 110; European option price: 19.05; Early exercise value: 10; American option price: 19.05; No early exercise\n",
      "\n",
      "Strike 120; European option price: 24.35; Early exercise value: 20; American option price: 24.35; No early exercise\n",
      "\n",
      "Strike 130; European option price: 29.65; Early exercise value: 30; American option price: 30.00; Early exercise\n"
     ]
    }
   ],
   "source": [
    "u = math.exp(0.3)\n",
    "d = math.exp(-0.3)\n",
    "print(\"a) \")\n",
    "for strike in [100, 110, 120, 130]:\n",
    "    price_no_exercise = one_step_binomial(0.08, 1, u, d, max(strike - 100 * u,0), max(strike - 100 * d, 0), 0.08)\n",
    "    price_exercise_early = max(strike - 100, 0)\n",
    "    if price_exercise_early < price_no_exercise:\n",
    "        print(f\"Strike {strike}; European option price: {price_no_exercise:.2f}; Early exercise value: {price_exercise_early}; American option price: {price_no_exercise:.2f}; No early exercise\\n\") \n",
    "    else:\n",
    "        print(f\"Strike {strike}; European option price: {price_no_exercise:.2f}; Early exercise value: {price_exercise_early}; American option price: {price_exercise_early:.2f}; Early exercise\\n\") "
   ],
   "metadata": {
    "collapsed": false,
    "ExecuteTime": {
     "end_time": "2024-04-29T08:58:15.304665Z",
     "start_time": "2024-04-29T08:58:15.292175Z"
    }
   },
   "id": "c432481711de828b",
   "execution_count": 40
  },
  {
   "cell_type": "markdown",
   "source": [
    "b) In the computation above, the lowest strike that the early exercise happen is $K = 130$. \n",
    "\n",
    "The early exercise will happen if and only if\n",
    "$$K-S\\geq C - Se^{-0.08} + Ke^{-0.08}$$\n",
    "which is equivalent to \n",
    "$$(1-e^{-0.08})K\\geq C + 100 \\cdot (1-e^{-0.08})$$"
   ],
   "metadata": {
    "collapsed": false
   },
   "id": "3ee0fc5e386417cb"
  },
  {
   "cell_type": "markdown",
   "source": [
    "**Exercise 11.6**\n",
    "Repeat the exercise 11.4 with $r = 0$, $\\delta = 0.08$. What is the lowest strike price (if there is one) at which early exercise will occur? If exercise never occurs, explain why not. "
   ],
   "metadata": {
    "collapsed": false
   },
   "id": "b2caab39800ff4cd"
  },
  {
   "cell_type": "code",
   "outputs": [
    {
     "name": "stdout",
     "output_type": "stream",
     "text": [
      "a) \n",
      "Strike 100; European option price: 18.16; Early exercise value: 0; American option price: 18.16; No early exercise\n",
      "\n",
      "Strike 110; European option price: 23.90; Early exercise value: 10; American option price: 23.90; No early exercise\n",
      "\n",
      "Strike 120; European option price: 29.65; Early exercise value: 20; American option price: 29.65; No early exercise\n",
      "\n",
      "Strike 130; European option price: 37.69; Early exercise value: 30; American option price: 37.69; No early exercise\n"
     ]
    }
   ],
   "source": [
    "u = math.exp(-0.08 + 0.3)\n",
    "d = math.exp(-0.08 -0.3)\n",
    "print(\"a) \")\n",
    "for strike in [100, 110, 120, 130]:\n",
    "    price_no_exercise = one_step_binomial(0, 1, u, d, max(strike - 100 * u,0), max(strike - 100 * d, 0), 0.08)\n",
    "    price_exercise_early = max(strike - 100, 0)\n",
    "    if price_exercise_early < price_no_exercise:\n",
    "        print(f\"Strike {strike}; European option price: {price_no_exercise:.2f}; Early exercise value: {price_exercise_early}; American option price: {price_no_exercise:.2f}; No early exercise\\n\") \n",
    "    else:\n",
    "        print(f\"Strike {strike}; European option price: {price_no_exercise:.2f}; Early exercise value: {price_exercise_early}; American option price: {price_exercise_early:.2f}; Early exercise\\n\") "
   ],
   "metadata": {
    "collapsed": false,
    "ExecuteTime": {
     "end_time": "2024-04-29T08:58:36.639223Z",
     "start_time": "2024-04-29T08:58:36.631990Z"
    }
   },
   "id": "a91ecc05091a187c",
   "execution_count": 41
  },
  {
   "cell_type": "markdown",
   "source": [
    "The early exercise will never occur. This is because that early exercise will occur if and only if the inequality holds\n",
    "$$K-S\\geq C - Se^{-0.08} + K$$\n",
    "However, the above inequality is equivalent to \n",
    "$$C\\leq 100 * (e^{-0.08}-1) = -7.69$$\n",
    "This can never happen, since the price of a call option should be non-negative by no-arbitrage principle."
   ],
   "metadata": {
    "collapsed": false
   },
   "id": "da43ddacbffdfc15"
  }
 ],
 "metadata": {
  "kernelspec": {
   "display_name": "Python 3",
   "language": "python",
   "name": "python3"
  },
  "language_info": {
   "codemirror_mode": {
    "name": "ipython",
    "version": 2
   },
   "file_extension": ".py",
   "mimetype": "text/x-python",
   "name": "python",
   "nbconvert_exporter": "python",
   "pygments_lexer": "ipython2",
   "version": "2.7.6"
  }
 },
 "nbformat": 4,
 "nbformat_minor": 5
}
