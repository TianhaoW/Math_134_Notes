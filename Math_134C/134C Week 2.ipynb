{
 "cells": [
  {
   "cell_type": "markdown",
   "source": [
    "# Math 134C Week 2"
   ],
   "metadata": {
    "collapsed": false
   },
   "id": "32f705c3bc74aaa0"
  },
  {
   "cell_type": "code",
   "outputs": [],
   "source": [
    "import math\n",
    "# r is the risk-free rate, F is a cash flow, and dT is the time that we get each cash flow\n",
    "def PV(F, dT, r):\n",
    "    pv = 0\n",
    "    if len(dT) != len(F):\n",
    "        print(\"Input Error\")\n",
    "        return 0\n",
    "    for n in range(0, len(F)):\n",
    "        pv += F[n] * math.exp(-r * dT[n])\n",
    "    return pv\n",
    "        \n",
    "# C_t is the price of call option, S_t is the current stock price, K is the strike, r is the risk-free rate, dt is time to expiration. D is the dividend of the stock, and dT is the time at which we receive the dividend. The delta is for the continuous dividend paying model. The function will return the price of the corresponding put option. \n",
    "def put_given_call(C_t, S_t, K, r, dt, D= None, dT = None, delta = 0):\n",
    "    if D is None: D = []\n",
    "    if dT is None: dT = []\n",
    "    return C_t - (S_t - PV(D, dT, r)) * math.exp(-delta * dt) + K * math.exp(-r * dt)\n",
    "\n",
    "def call_given_put(P_t, S_t, K, r, dt, D = None, dT = None, delta = 0):\n",
    "    if D is None: D = []\n",
    "    if dT is None: dT = []\n",
    "    return P_t + (S_t - PV(D, dT, r)) * math.exp(-delta * dt) - K * math.exp(-r * dt)\n",
    "\n",
    "def B(r, dt, u, d, Vu, Vd):\n",
    "    return math.exp(-r * dt)*(u * Vd - d * Vu)/(u-d)"
   ],
   "metadata": {
    "collapsed": false,
    "ExecuteTime": {
     "end_time": "2024-04-22T00:22:06.472794Z",
     "start_time": "2024-04-22T00:22:06.459622Z"
    }
   },
   "id": "da2d0cf499ebfca6",
   "execution_count": 1
  },
  {
   "cell_type": "markdown",
   "source": [
    "## How does strike price influence the price of options\n",
    "We consider the option on a non-dividend paying stock for simplicity. \n",
    "For two options with the same expiry date but different strike price $K_1 \\leq K_2$, we have \n",
    "$$C_t(K_1)\\geq C_t(K_2)$$ \n",
    "$$P_t(K_1)\\leq P_t(K_2)$$\n",
    "Moreover, the difference between the price of those two options should be less than or equal to the difference of their strike price. we have \n",
    "$$C_t(K_1) - C_t(K_2)\\leq K_2-K_1$$\n",
    "$$P_t(K_2) - P_t(K_1)\\leq K_2-K_1$$"
   ],
   "metadata": {
    "collapsed": false
   },
   "id": "8b1e6abd76bbcbf4"
  },
  {
   "cell_type": "markdown",
   "source": [
    "## Arbitrage opportunity for mispriced options\n",
    "**Exercise 9.8:** Consider the call and put prices are given by \n",
    "\n",
    "| Strike    | 50        | 55 |\n",
    "|-----------|-----------| --- |\n",
    "| Call premium | 9 | 10 | \n",
    "| Put premium| 7 | 6 |\n",
    "\n",
    "What no-arbitrage property is violated? What spread position would you use to effect arbitrage? Demonstrate that the spread position is an arbitrage."
   ],
   "metadata": {
    "collapsed": false
   },
   "id": "30b824afa913de92"
  },
  {
   "cell_type": "markdown",
   "source": [
    "**Solution:**\n",
    "It violated the inequality in the above notes. \n",
    "We can long a 50-strike call and short a 55-strike call. We get an instant profit of 1 dollar. At expiry, we get a payoff of $(S_T-50)^+-(S_T-55)^+ \\geq 0$. Hence, we get arbitrage profit of at least 1 dollar.\n",
    "\n",
    "Similarly, we can also long a 55-strike put and short a 50-strike put. By using the similar explanation as above, we get arbitrage profit of at least 1 dollar\n"
   ],
   "metadata": {
    "collapsed": false
   },
   "id": "d11ac337e0ae7c67"
  },
  {
   "cell_type": "markdown",
   "source": [
    "**Exercise 9.9: Suppose call and put prices are given by**\n",
    "\n",
    "| Strike    | 50 | 55 |\n",
    "|-----------|----|----|\n",
    "| Call premium | 16 | 10 | \n",
    "| Put premium| 7  | 14 |\n",
    "\n",
    "What no-arbitrage property is violated? What spread position would you use to effect arbitrage? Demonstrate that the spread position is an arbitrage."
   ],
   "metadata": {
    "collapsed": false
   },
   "id": "6834ae2cabe89852"
  },
  {
   "cell_type": "markdown",
   "source": [
    "**Solution:**\n",
    "It violated the inequality in the above notes. \n",
    "We can long a 55-strike call and short a 50-strike call. Our initial profit is 6. At expiry, our payoff is $(S_T-55)^+-(S_T-50)^+ \\geq -5$. Our initial profit is greater than what we need to pay at the expiry, hence we get arbitrage profit for at least 1 dollar. \n",
    "\n",
    "Similarly, we can long a 50-strike put and sell a 55-strike put to exploit the arbitrage opportunity. The analysis is similar as above."
   ],
   "metadata": {
    "collapsed": false
   },
   "id": "c9bf95401d6799c"
  },
  {
   "cell_type": "markdown",
   "source": [
    "**Quiz 1:**\n",
    "Jafee Corp. common stock is priced at 36.50 per share. The company just paid its 0.50 quarterly dividend. The continuously compounded risk free annual interest rate is 6.0\\%. A 35.00 strike European call, maturing in 6 months, sells for 3.20. What is the price of a 6-month, 35.00 strike put option?"
   ],
   "metadata": {
    "collapsed": false
   },
   "id": "ecb5c6ad7604eab1"
  },
  {
   "cell_type": "code",
   "outputs": [
    {
     "name": "stdout",
     "output_type": "stream",
     "text": [
      "The price of this put option is 1.64\n"
     ]
    }
   ],
   "source": [
    "p = put_given_call(C_t = 3.2, S_t = 36.5, K = 35, r = 0.06, dt = 0.5, D = [0.5,0.5], dT=[0.25, 0.5])\n",
    "print(f\"The price of this put option is {p:.2f}\")"
   ],
   "metadata": {
    "collapsed": false,
    "ExecuteTime": {
     "end_time": "2024-04-16T19:31:35.008118Z",
     "start_time": "2024-04-16T19:31:34.998096Z"
    }
   },
   "id": "a6f2a41f6f61e4d4",
   "execution_count": 17
  },
  {
   "cell_type": "markdown",
   "source": [
    "**Quiz 2:**\n",
    "Rankin Corp. common stock is priced at 74.20 per share. The company just paid its 1.10 quarterly dividend. The continuously compounded risk free annual interest rate is 6.0\\%. A European call option on Rankin Corp. with a strike price of 70.00, maturing in 6 months, sells for 6.50. How much arbitrage profit/loss is made by shorting a 70.00 strike price European put option on Rankin Corp., which is priced at 2.50?"
   ],
   "metadata": {
    "collapsed": false
   },
   "id": "2e91f2d62a242297"
  },
  {
   "cell_type": "code",
   "outputs": [
    {
     "name": "stdout",
     "output_type": "stream",
     "text": [
      "The arbitrage profit is 0.12\n"
     ]
    }
   ],
   "source": [
    "correct_put_price = put_given_call(C_t = 6.5, S_t = 74.2, K = 70, r = 0.06, dt = 0.5, D = [1.1, 1.1], dT = [0.25, 0.5])\n",
    "print(f\"The arbitrage profit is {2.50-correct_put_price:.2f}\")"
   ],
   "metadata": {
    "collapsed": false,
    "ExecuteTime": {
     "end_time": "2024-04-16T19:31:35.023257Z",
     "start_time": "2024-04-16T19:31:35.009172Z"
    }
   },
   "id": "4bb61ddef56d7a1f",
   "execution_count": 18
  },
  {
   "cell_type": "markdown",
   "source": [
    "**Quiz 3:**\n",
    "The price of a stock is 52.00. What is the price difference between an at-the-money call option and an at-the-money put option on this stock? Assume 38 days to expiration, a 6.0\\% annual continuously compounded risk free interest rate, and use continuous compounding of interest in all your calculations for this problem."
   ],
   "metadata": {
    "collapsed": false
   },
   "id": "c7a274ec0d5f090"
  },
  {
   "cell_type": "code",
   "outputs": [
    {
     "name": "stdout",
     "output_type": "stream",
     "text": [
      "The difference between their price is 0.32\n"
     ]
    }
   ],
   "source": [
    "print(f\"The difference between their price is {call_given_put(P_t = 0, S_t = 52, K = 52, r = 0.06, dt = 38/365):.2f}\")"
   ],
   "metadata": {
    "collapsed": false,
    "ExecuteTime": {
     "end_time": "2024-04-16T19:31:35.038558Z",
     "start_time": "2024-04-16T19:31:35.024310Z"
    }
   },
   "id": "9421fc09c06dc49c",
   "execution_count": 19
  },
  {
   "cell_type": "markdown",
   "source": [
    "**Quiz 4:**\n",
    "You are given the following:\n",
    "\n",
    "• The current price to buy one share of XYZ stock is 500.\n",
    "• The stock does not pay dividends.\n",
    "• The annual continuously compounded risk-free interest rate is 6\\%.\n",
    "• A European call option on one share of XYZ stock with a strike price of K that expires in one year costs 66.59.\n",
    "• A European put option on one share of XYZ stock with a strike price of K that expires in one year costs 18.64.\n",
    "\n",
    "Using put-call parity, calculate the strike price, K."
   ],
   "metadata": {
    "collapsed": false
   },
   "id": "103ec922f8477037"
  },
  {
   "cell_type": "code",
   "outputs": [
    {
     "name": "stdout",
     "output_type": "stream",
     "text": [
      "The strike price is 480.00\n"
     ]
    }
   ],
   "source": [
    "print(f\"The strike price is {(500 - 66.59 + 18.64) * math.exp(0.06):.2f}\")"
   ],
   "metadata": {
    "collapsed": false,
    "ExecuteTime": {
     "end_time": "2024-04-16T19:31:35.054059Z",
     "start_time": "2024-04-16T19:31:35.038558Z"
    }
   },
   "id": "a731ed0891d1d403",
   "execution_count": 20
  },
  {
   "cell_type": "markdown",
   "source": [
    "**Quiz 5:**\n",
    "\n",
    "The PS index has the following characteristics:\n",
    "\n",
    "- One share of the PS index currently sells for 1,000.\n",
    "- The PS index does not pay dividends.\n",
    "- Sam wants to lock in the ability to buy this index in one year for a price of 1,025. He can do this by buying or selling European put and call options with a strike price of 1,025.\n",
    "- The continuously compounded risk free annual interest rate is 5.0\\%.\n",
    "\n",
    "Determine which of the following gives the strategy that will achieve Sam’s objective and also gives the cost today of establishing this position."
   ],
   "metadata": {
    "collapsed": false
   },
   "id": "e69dd8a217cc889d"
  },
  {
   "cell_type": "code",
   "outputs": [
    {
     "name": "stdout",
     "output_type": "stream",
     "text": [
      "The cost today is 24.99\n"
     ]
    }
   ],
   "source": [
    "print(f\"The cost today is {call_given_put(P_t = 0, S_t = 1000, K = 1025, r = 0.05, dt = 1):.2f}\")"
   ],
   "metadata": {
    "collapsed": false,
    "ExecuteTime": {
     "end_time": "2024-04-16T19:31:35.069184Z",
     "start_time": "2024-04-16T19:31:35.055102Z"
    }
   },
   "id": "8468c8dae7781fc1",
   "execution_count": 21
  },
  {
   "cell_type": "markdown",
   "source": [
    "**Quiz 6:**\n",
    "Stock XYZ has the following characteristics:\n",
    "- The current price is 40.\n",
    "- The price of a 35-strike 1-year European call option is 9.12\n",
    "- The price of a 40-strike 1-year European call option is 6.22\n",
    "- The price of a 45-strike 1-year European call option is 4.08\n",
    "- The annual risk-free interest rate is 8%.\n",
    "\n",
    "Use simple compounding of interest to compute the future value of option premiums when computing profits in this problem.  \n",
    "\n",
    "Let S be the price of the stock one year from now. All call positions being compared are long.\n",
    "\n",
    "Determine the range for S such that the 45-strike call produces a higher profit than the 40-strike call, but a lower profit than the 35-strike call."
   ],
   "metadata": {
    "collapsed": false
   },
   "id": "94ed9e436f2b9d16"
  },
  {
   "cell_type": "markdown",
   "source": [
    "**Quiz 7:**\n",
    "Consider a European put option on a stock index without dividends, with 6 months to expiration and a strike price of 1,000.\n",
    "\n",
    "Suppose that the six-month risk-free interest rate is 2\\%, and that the put costs 74.20 today.\n",
    "\n",
    "Use simple compounding of interest to compute the future value of option premiums when computing profits in this problem.  \n",
    "\n",
    "Calculate the price that the index must be in 6 months so that being long the put option would produce the same profit as being short the put option."
   ],
   "metadata": {
    "collapsed": false
   },
   "id": "d3fb9eeed43a8452"
  },
  {
   "cell_type": "code",
   "outputs": [
    {
     "name": "stdout",
     "output_type": "stream",
     "text": [
      "The price of this index in 6 month should be 924.316\n"
     ]
    }
   ],
   "source": [
    "print(f\"The price of this index in 6 month should be\", 1000 - 74.2 * 1.02)"
   ],
   "metadata": {
    "collapsed": false,
    "ExecuteTime": {
     "end_time": "2024-04-16T19:31:35.084509Z",
     "start_time": "2024-04-16T19:31:35.070184Z"
    }
   },
   "id": "8199ca9b1df7e24c",
   "execution_count": 22
  },
  {
   "cell_type": "markdown",
   "source": [
    "**Quiz 8:**\n",
    "A trader shorts one share of a stock index for 50 and buys a 60-strike European call option on that stock index that expires in 2 years for 10.\n",
    "\n",
    "Assume the annual risk-free continuously compounded interest rate is 3% and use continuous compounding of interest in all your calculations for this problem.\n",
    "\n",
    "Assume that the continuously compounded interest rate you earn on the short sale proceeds, the short rebate rate, is equal to the risk-free rate.\n",
    "\n",
    "The stock index increases to 75 after 2 years.\n",
    "\n",
    "Calculate the profit on your combined position."
   ],
   "metadata": {
    "collapsed": false
   },
   "id": "a3854adbddc00167"
  },
  {
   "cell_type": "code",
   "outputs": [
    {
     "name": "stdout",
     "output_type": "stream",
     "text": [
      "The profit of this position is -17.53\n"
     ]
    }
   ],
   "source": [
    "print(f\"The profit of this position is {40 * math.exp(0.03 * 2) - 60:.2f}\")"
   ],
   "metadata": {
    "collapsed": false,
    "ExecuteTime": {
     "end_time": "2024-04-16T19:31:35.099694Z",
     "start_time": "2024-04-16T19:31:35.085551Z"
    }
   },
   "id": "2516fb033afd947b",
   "execution_count": 23
  },
  {
   "cell_type": "markdown",
   "source": [
    "**Quiz 9:**\n",
    "Jillo, Inc. stock is selling for 54.70 per share. Calls and puts with a 55 strike and 40 days until expiration are selling for 1.65 and 1.23, respectively.\n",
    "\n",
    "Assume the annual risk-free continuously compounded interest rate is 10\\% and use continuous compounding of interest in all your calculations for this problem.\n",
    "\n",
    "What potential arbitrage profit exists?"
   ],
   "metadata": {
    "collapsed": false
   },
   "id": "30037d80d93d9e5f"
  },
  {
   "cell_type": "code",
   "outputs": [
    {
     "name": "stdout",
     "output_type": "stream",
     "text": [
      " The arbitrage profit is 0.12\n"
     ]
    }
   ],
   "source": [
    "print(f\" The arbitrage profit is {1.65 - call_given_put(P_t = 1.23, S_t =54.7, K = 55, dt = 40/365, r= 0.1):.2f}\")"
   ],
   "metadata": {
    "collapsed": false,
    "ExecuteTime": {
     "end_time": "2024-04-16T19:31:35.114837Z",
     "start_time": "2024-04-16T19:31:35.099694Z"
    }
   },
   "id": "2b96683a2ba09ea",
   "execution_count": 24
  },
  {
   "cell_type": "markdown",
   "source": [
    "**Quiz 10:**\n",
    "The price of a non-dividend paying stock is 55 per share. A 6-month, at the money call option is trading for 1.89.\n",
    "\n",
    "Assume the annual risk-free continuously compounded interest rate is 6.5\\% and use continuous compounding of interest in all your calculations for this problem.\n",
    "\n",
    "Assuming there is no arbitrage, what is the price of a European put option with the same strike price and time to expiration?"
   ],
   "metadata": {
    "collapsed": false
   },
   "id": "788af1041594530"
  },
  {
   "cell_type": "markdown",
   "source": [
    "# One Step Binomial Model for Option Pricing\n",
    "Let $V_t$ to be the value of an investment instrument at time $t$ whose payoff at time $T$ only depends on the stock price. (For example, V could be a call option, put option, future, or other products). Let $S_t$ be the price of the stock at time $t$, $\\delta$ be the continuous dividend yield, and $u, d$ be the number such that the stock will either go up to $Su$ or go down to $Sd$ at time $T$. Let $V_T^u$ be the value of the investment instrument at time $T$ when the stock goes to $Su$, and $V_T^d$ be the value when the stock goes to $Sd$ (If $V$ is a call option with strike $K$, then $V_T^u = (Su-K)^+, V_T^d = (Sd-K)^+$). Assume that the risk-free rate is $r$, and denote $T-t$ as $\\Delta t$. Then we define the risk-neutral probability measure (also called price measure) \n",
    "$$q = \\frac{e^{(r-\\delta) \\Delta t} - d}{u-d}$$\n",
    "Then the price of $V$ at time $t$ is given by \n",
    "$$V_t = e^{-r\\Delta t}(qV_T^u + (1-q)V_T^d)$$\n",
    "\n",
    "**Self-financing Replicating Portfolio:**\n",
    "We will construct a portfolio \n",
    "$$\\Pi_t = \\Delta S_t + B_t$$\n",
    "consisting of $\\Delta$ share of the stock, and $B_t$ amount of money in the bank. We wish to use this portfolio to replicate the payoff of a financial instrument $V_t$. Then we must have \n",
    "$$\\Pi_T^u = \\Delta S_tue^{\\delta \\Delta t} + B_te^{r \\Delta t} = V_T^u$$\n",
    "$$\\Pi_T^d = \\Delta S_tde^{\\delta \\Delta t} + B_te^{r \\Delta t} = V_T^d$$\n",
    "where $\\delta$ is the continuous dividend. ($\\Delta$ share of the stock grow to $\\Delta e^{\\delta \\Delta t}$ share)\n",
    "By solving the above equations, we get \n",
    "$$\\Delta = e^{-\\delta \\Delta t}\\frac{V_T^u-V_T^d}{S_t(u-d)}$$\n",
    "$$B_t = e^{-r \\Delta t} \\frac{u V_T^d - dV_T^u}{u-d}$$\n",
    "$$V_t = \\Pi_t = e^{-\\delta \\Delta t}\\frac{V_T^u-V_T^d}{u-d} +  e^{-r \\Delta t} \\frac{u V_T^d - dV_T^u}{u-d} = e^{-r\\Delta t}(qV_T^u + (1-q)V_T^d)$$"
   ],
   "metadata": {
    "collapsed": false
   },
   "id": "5948ed2c77c19b86"
  },
  {
   "cell_type": "code",
   "outputs": [],
   "source": [
    "def one_step_binomial(r, dt, u, d, Vu, Vd, delta = 0):\n",
    "    q = (math.exp((r - delta) * dt) - d)/(u-d)\n",
    "    if not (1 > q > 0): \n",
    "        print(\"Arbitrage opportunity exists\")\n",
    "        return -1\n",
    "    return math.exp(-r * dt)*(q*Vu+(1-q)*Vd)    \n",
    "\n",
    "def Delta(r, dt, u, d, Vu, Vd, S, delta = 0):\n",
    "    return math.exp(-delta * dt)*(Vu-Vd)/(S*(u-d))"
   ],
   "metadata": {
    "collapsed": false,
    "ExecuteTime": {
     "end_time": "2024-04-22T00:22:15.277594Z",
     "start_time": "2024-04-22T00:22:15.260247Z"
    }
   },
   "id": "d7e8ca775432fbbb",
   "execution_count": 2
  },
  {
   "cell_type": "markdown",
   "source": [
    "##### Example\n",
    "Consider a European call option on the stock of XYZ, with a 40 strike and 1 year to expiration. XYZ does not pay dividends and its current price is 41. The continuously compounded risk-free interest rate is 8\\%. Suppose that the stock price today is 41, and it will be either 60 or 30 in a year. We wish to determine the option price.\n"
   ],
   "metadata": {
    "collapsed": false
   },
   "id": "8f344976e7075c55"
  },
  {
   "cell_type": "code",
   "outputs": [
    {
     "name": "stdout",
     "output_type": "stream",
     "text": [
      "The price of this call option should be 8.871\n"
     ]
    }
   ],
   "source": [
    "print(f\"The price of this call option should be {one_step_binomial(r = 0.08, dt = 1, u = 60/41, d = 30/41, Vu = 20, Vd = 0):.3f}\")"
   ],
   "metadata": {
    "collapsed": false,
    "ExecuteTime": {
     "end_time": "2024-04-16T19:31:35.146261Z",
     "start_time": "2024-04-16T19:31:35.131988Z"
    }
   },
   "id": "3060532fe0c46cc7",
   "execution_count": 26
  },
  {
   "cell_type": "markdown",
   "source": [
    "**Exercise 10.1:**\n",
    "Let S = 100, K = 105, r = 8\\%, T = 0.5. Let u = 1.3, d = 0.8, $\\delta = 0$, and n = 1 (one step binomial tree).\n",
    "a. What are the premium, $\\Delta$, and B for a European call?\n",
    "b. What are the premium, $\\Delta$, and B for a European put?"
   ],
   "metadata": {
    "collapsed": false
   },
   "id": "32800f0aed1b37c"
  },
  {
   "cell_type": "code",
   "outputs": [
    {
     "name": "stdout",
     "output_type": "stream",
     "text": [
      "a) The price for the call option is 11.568\n",
      "   The Delta is 0.50\n",
      "   The B is -38.43\n",
      "b) The price for the put option is 12.451\n",
      "   The Delta is -0.50\n",
      "   The B is 62.45\n"
     ]
    }
   ],
   "source": [
    "print(f\"a) The price for the call option is {one_step_binomial(r = 0.08, u = 1.3, d= 0.8, Vu = 25, Vd = 0, dt = 0.5):.3f}\")\n",
    "print(f\"   The Delta is {Delta(r = 0.08, dt = 0.5, u = 1.3, d = 0.8, Vu = 25, Vd = 0, S = 100):.2f}\")\n",
    "print(f\"   The B is {B(r = 0.08, dt = 0.5, u = 1.3, d = 0.8, Vu = 25, Vd = 0):.2f}\")\n",
    "print(f\"b) The price for the put option is {one_step_binomial(r = 0.08, u = 1.3, d = 0.8, Vu = 0, Vd = 25, dt = 0.5):.3f}\")\n",
    "print(f\"   The Delta is {Delta(r = 0.08, dt = 0.5, u = 1.3, d = 0.8, Vu = 0, Vd = 25, S = 100):.2f}\")\n",
    "print(f\"   The B is {B(r = 0.08, dt = 0.5, u = 1.3, d = 0.8, Vu = 0, Vd = 25):.2f}\")"
   ],
   "metadata": {
    "collapsed": false,
    "ExecuteTime": {
     "end_time": "2024-04-22T00:27:42.506696Z",
     "start_time": "2024-04-22T00:27:42.489799Z"
    }
   },
   "id": "a08b8244825138c9",
   "execution_count": 7
  },
  {
   "cell_type": "markdown",
   "source": [
    "**Exercise 10.2:**\n",
    "Let S = 100,K = 95, r = 8\\%, T = 0.5, and $\\delta$ = 0. Let u = 1.3, d = 0.8, and n = 1.\n",
    "a. Verify that the price of a European call is 16.196.\n",
    "b. Suppose you observe a call price of 17. What is the arbitrage?\n",
    "c. Suppose you observe a call price of 15.50. What is the arbitrage?"
   ],
   "metadata": {
    "collapsed": false
   },
   "id": "a0935d7c8b5a25d8"
  },
  {
   "cell_type": "code",
   "outputs": [
    {
     "name": "stdout",
     "output_type": "stream",
     "text": [
      "a) The price for the call option is 16.196\n",
      "b) We can sell the call option, buy 0.700 share of stock, and borrow 53.804 dollar from the bank\n",
      "b) We can buy the call option, short 0.700 share of stock, and save 53.804 dollar to the bank\n"
     ]
    }
   ],
   "source": [
    "print(f\"a) The price for the call option is {one_step_binomial(r = 0.08, u = 1.3, d = 0.8, Vu = 35, Vd = 0, dt = 0.5):.3f}\")\n",
    "print(f\"b) We can sell the call option, buy {Delta(r = 0.08, dt = 0.5, u = 1.3, d = 0.8, Vu = 35, Vd = 0, S = 100):.3f} share of stock, and borrow {-B(r = 0.08, dt = 0.5, u = 1.3, d = 0.8, Vu = 35, Vd = 0):.3f} dollar from the bank\")\n",
    "print(f\"b) We can buy the call option, short {Delta(r = 0.08, dt = 0.5, u = 1.3, d = 0.8, Vu = 35, Vd = 0, S = 100):.3f} share of stock, and save {-B(r = 0.08, dt = 0.5, u = 1.3, d = 0.8, Vu = 35, Vd = 0):.3f} dollar to the bank\")"
   ],
   "metadata": {
    "collapsed": false,
    "ExecuteTime": {
     "end_time": "2024-04-22T00:58:16.049811Z",
     "start_time": "2024-04-22T00:58:16.035744Z"
    }
   },
   "id": "2960aab3e479bd79",
   "execution_count": 33
  },
  {
   "cell_type": "markdown",
   "source": [
    "**Exercise 10.6:**\n",
    "Let S = 100, K = 95, $\\sigma$ = 30\\%, r = 8\\%, T = 1, and $\\delta$ = 0. Let u = 1.3, d = 0.8, and n = 2. \n",
    "Construct the binomial tree for a call option. At each node provide the premium, $\\Delta$, and B."
   ],
   "metadata": {
    "collapsed": false
   },
   "id": "27e32f08f45ea7dc"
  },
  {
   "cell_type": "code",
   "outputs": [
    {
     "name": "stdout",
     "output_type": "stream",
     "text": [
      "If the stock goes up in the first step, then the call option has price 38.725, Delta = 1.0, B = -91.275\n",
      "If the stock goes down in the first step, then the call option has price 4.165, Delta = 0.225, B = -13.835\n",
      "In the current time, the call option has price 19.994, Delta = 0.691, B = -49.127\n"
     ]
    }
   ],
   "source": [
    "cu = one_step_binomial(r = 0.08, u = 1.3, d = 0.8, Vu = 169 - 95, Vd = 104 - 95, dt = 0.5)\n",
    "print(f\"If the stock goes up in the first step, then the call option has price {cu:.3f}, Delta = {Delta(r = 0.08, dt = 0.5, u = 1.3, d = 0.8, S = 130, Vu = 169 - 95, Vd = 104 - 95)}, B = {B(r = 0.08, dt = 0.5, u = 1.3, d = 0.8, Vu =169-95, Vd = 104-95):.3f}\")\n",
    "cd = one_step_binomial(r = 0.08, u = 1.3, d = 0.8, Vu = 104 - 95, Vd = 0, dt = 0.5)\n",
    "print(f\"If the stock goes down in the first step, then the call option has price {cd:.3f}, Delta = {Delta(r = 0.08, dt = 0.5, u = 1.3, d = 0.8, S = 80, Vu = 104-95, Vd = 0)}, B = {B(r = 0.08, dt = 0.5, u = 1.3, d = 0.8, Vu = 104-95, Vd = 0):.3f}\")\n",
    "\n",
    "print(f\"In the current time, the call option has price {one_step_binomial(r = 0.08, u = 1.3, d = 0.8, Vu = cu, Vd = cd, dt = 0.5):.3f}, Delta = {Delta(r = 0.08, dt = 0.5, u = 1.3, d = 0.8, S = 100, Vu = cu, Vd = cd):.3f}, B = {B(r = 0.08, dt = 0.5, u = 1.3, d = 0.8, Vu = cu, Vd = cd):.3f}\")"
   ],
   "metadata": {
    "collapsed": false,
    "ExecuteTime": {
     "end_time": "2024-04-22T00:45:07.003917Z",
     "start_time": "2024-04-22T00:45:06.985839Z"
    }
   },
   "id": "ea9634d21fb4e8c5",
   "execution_count": 19
  },
  {
   "cell_type": "markdown",
   "source": [
    "**Exercise 10.10**:\n",
    "Let S = 100, K = 95, $\\sigma$ = 30, r = 8\\%, T = 1, and $\\delta$ = 0. Let u = 1.3, d = 0.8, and n = 2. \n",
    "Construct the binomial tree for an American put option. At each node provide the premium, $\\Delta$, and B."
   ],
   "metadata": {
    "collapsed": false
   },
   "id": "cd307c740acebd50"
  },
  {
   "cell_type": "code",
   "outputs": [
    {
     "name": "stdout",
     "output_type": "stream",
     "text": [
      "If the stock goes up in the first step, then the American put option has price 0.000, Delta = 0.0, B = 0.000\n",
      "If the stock goes down in the first step, then the American put option has price 15.440, Delta = -0.775, B = 77.440\n",
      "Note that we will choose not to exercise our right at this point\n",
      "In the current time, the call option has price 7.690, Delta = -0.309, B = 38.569\n"
     ]
    }
   ],
   "source": [
    "cu = one_step_binomial(r = 0.08, u = 1.3, d = 0.8, Vu = 0, Vd = 0, dt = 0.5)\n",
    "print(f\"If the stock goes up in the first step, then the American put option has price {cu:.3f}, Delta = {Delta(r = 0.08, dt = 0.5, u = 1.3, d = 0.8, S = 130, Vu = 0, Vd = 0)}, B = {B(r = 0.08, dt = 0.5, u = 1.3, d = 0.8, Vu = 0, Vd = 0):.3f}\")\n",
    "cd = one_step_binomial(r = 0.08, u = 1.3, d = 0.8, Vu = 0, Vd = 95-64, dt = 0.5)\n",
    "print(f\"If the stock goes down in the first step, then the American put option has price {cd:.3f}, Delta = {Delta(r = 0.08, dt = 0.5, u = 1.3, d = 0.8, S = 80, Vu = 0, Vd = 95-64)}, B = {B(r = 0.08, dt = 0.5, u = 1.3, d = 0.8, Vu = 0, Vd = 95-64):.3f}\")\n",
    "print(f\"Note that we will choose not to exercise our right at this point\")\n",
    "print(f\"In the current time, the call option has price {one_step_binomial(r = 0.08, u = 1.3, d = 0.8, Vu = cu, Vd = cd, dt = 0.5):.3f}, Delta = {Delta(r = 0.08, dt = 0.5, u = 1.3, d = 0.8, S = 100, Vu = cu, Vd = cd):.3f}, B = {B(r = 0.08, dt = 0.5, u = 1.3, d = 0.8, Vu = cu, Vd = cd):.3f}\")"
   ],
   "metadata": {
    "collapsed": false,
    "ExecuteTime": {
     "end_time": "2024-04-22T00:52:41.471428Z",
     "start_time": "2024-04-22T00:52:41.458296Z"
    }
   },
   "id": "cd852e08ae4dcff4",
   "execution_count": 25
  },
  {
   "cell_type": "markdown",
   "source": [
    "# Volatility\n",
    "The (annual) volatility $\\sigma$ is the standard deviation of continuous compounded return over a year, and we model the stock price by \n",
    "$$S^u = e^{(r-\\delta)\\Delta t + \\sigma\\sqrt{\\Delta t}}$$\n",
    "$$S^d = e^{(r-\\delta)\\Delta t - \\sigma\\sqrt{\\Delta t}}$$\n",
    "\n",
    "If $\\sigma$ is the annual volatility, then the volatility in a period of $\\Delta t$ is given by \n",
    "$$\\sigma_{\\Delta t} = \\sigma\\sqrt{\\Delta t}$$"
   ],
   "metadata": {
    "collapsed": false
   },
   "id": "6fd3e95649312a3d"
  },
  {
   "cell_type": "markdown",
   "source": [
    "# Estimating the volatility using historical data"
   ],
   "metadata": {
    "collapsed": false
   },
   "id": "c1ec7e545329758b"
  },
  {
   "cell_type": "code",
   "outputs": [
    {
     "name": "stdout",
     "output_type": "stream",
     "text": [
      "An estimate of the annual volatility of the whole time series is  0.5925634322616291\n"
     ]
    },
    {
     "data": {
      "text/plain": "<Figure size 640x480 with 1 Axes>",
      "image/png": "[encoded data removed]"
     },
     "metadata": {},
     "output_type": "display_data"
    },
    {
     "data": {
      "text/plain": "<Figure size 640x480 with 1 Axes>",
      "image/png": "[encoded data removed]"
     },
     "metadata": {},
     "output_type": "display_data"
    },
    {
     "data": {
      "text/plain": "<Figure size 640x480 with 1 Axes>",
      "image/png": "[encoded data removed]"
     },
     "metadata": {},
     "output_type": "display_data"
    }
   ],
   "source": [
    "import numpy as np\n",
    "import matplotlib.pyplot as plt\n",
    "\n",
    "data = np.loadtxt(\"../data/Week_2_BTC_USD_2018_2023.txt\")\n",
    "days = np.arange(data.size)\n",
    "log_return = np.empty(data.size-1, dtype = float)\n",
    "#data_return = np.empty(data.size-1, dtype = float)\n",
    "for i in range(0, data.size-1):\n",
    "    log_return[i] = math.log(data[i+1])-math.log(data[i])\n",
    "#    data_return[i] = (data[i+1]-data[i])/data[i]\n",
    "\n",
    "def volatility(data):\n",
    "    sigmasquare = 0\n",
    "    for i in range(0, data.size-1):\n",
    "        sigmasquare = sigmasquare + pow(math.log(data[i+1])-math.log(data[i]), 2)\n",
    "    return math.sqrt(sigmasquare / (data.size/252))\n",
    "\n",
    "print(\"An estimate of the annual volatility of the whole time series is \", volatility(data))\n",
    "\n",
    "month = np.arange(data.size/21)\n",
    "vol_month = np.arange(data.size/21)\n",
    "for i in range(0, int(data.size/21)):\n",
    "    vol_month[i] = volatility(data[21*i: 21*(i+1)])\n",
    "#print(vol_month)\n",
    "\n",
    "quarter = np.arange(data.size/63)\n",
    "vol_quarter = np.arange(data.size/63)\n",
    "for i in range(0, int(data.size/63)):\n",
    "    vol_quarter[i] = volatility(data[63*i: 63*(i+1)])\n",
    "    \n",
    "plt.title(\"BTC-USD price path\")\n",
    "plt.xlabel('days')\n",
    "plt.ylabel('price in USD')\n",
    "plt.plot(days, data, color='red')\n",
    "plt.show()        \n",
    "    \n",
    "plt.title(\"BTC-USD log return\")\n",
    "plt.xlabel('days')\n",
    "plt.ylabel('log return')\n",
    "plt.plot(days[:-1], log_return, color='red')\n",
    "plt.show()       \n",
    "\n",
    "# plt.title(\"BTC-USD return\")\n",
    "# plt.xlabel('days')\n",
    "# plt.ylabel('return')\n",
    "# plt.plot(days[:-1], data_return, color='red')\n",
    "# plt.show()    \n",
    "    \n",
    "plt.title(\"Volatility\")\n",
    "plt.xlabel('days')\n",
    "plt.ylabel('Annual Volatility')\n",
    "plt.plot(month * 21 + 10.5, vol_month, color='red', label = \"per window\")\n",
    "plt.plot(quarter * 63+ 31.5, vol_quarter, color='blue', label = \"per quarter\")\n",
    "leg = plt.legend(loc='upper right')\n",
    "plt.show()    "
   ],
   "metadata": {
    "collapsed": false,
    "ExecuteTime": {
     "end_time": "2024-04-16T19:31:35.442917Z",
     "start_time": "2024-04-16T19:31:35.194665Z"
    }
   },
   "id": "bc026708904c8d8f",
   "execution_count": 30
  }
 ],
 "metadata": {
  "kernelspec": {
   "display_name": "Python 3",
   "language": "python",
   "name": "python3"
  },
  "language_info": {
   "codemirror_mode": {
    "name": "ipython",
    "version": 2
   },
   "file_extension": ".py",
   "mimetype": "text/x-python",
   "name": "python",
   "nbconvert_exporter": "python",
   "pygments_lexer": "ipython2",
   "version": "2.7.6"
  }
 },
 "nbformat": 4,
 "nbformat_minor": 5
}
