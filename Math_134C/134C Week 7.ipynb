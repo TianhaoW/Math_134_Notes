{
 "cells": [
  {
   "cell_type": "markdown",
   "source": [
    "# Mah 134C Week 7"
   ],
   "metadata": {
    "collapsed": false
   },
   "id": "ee6107766ef369d5"
  },
  {
   "cell_type": "code",
   "outputs": [],
   "source": [
    "import math\n",
    "import numpy as np\n",
    "from scipy.stats import norm\n",
    "def black_scholes_call(S_t, K, dt, r, sigma, delta):\n",
    "    d1 = (np.log(S_t / K) + (r -delta + 0.5 * sigma ** 2) * dt) / (sigma * np.sqrt(dt))\n",
    "    d2 = d1 - sigma * np.sqrt(dt)\n",
    "    call_price = S_t * np.exp(-delta * dt) * norm.cdf(d1) - K * np.exp(-r * dt) * norm.cdf(d2)\n",
    "    return call_price\n",
    "\n",
    "def black_scholes_put(S_t, K, dt, r, sigma, delta):\n",
    "    d1 = (np.log(S_t / K) + (r -delta + 0.5 * sigma ** 2) * dt) / (sigma * np.sqrt(dt))\n",
    "    d2 = d1 - sigma * np.sqrt(dt)\n",
    "    call_price = - S_t * np.exp(-delta * dt) * norm.cdf(-d1) + K * np.exp(-r * dt) * norm.cdf(-d2)\n",
    "    return call_price\n",
    "\n",
    "def call_Delta(S_t, K, dt, r, sigma, delta):\n",
    "    d1 = (np.log(S_t / K) + (r -delta + 0.5 * sigma ** 2) * dt) / (sigma * np.sqrt(dt))  \n",
    "    return np.exp(-delta * dt) * norm.cdf(d1)\n",
    "\n",
    "def put_Delta(S_t, K, dt, r, sigma, delta):\n",
    "    d1 = (np.log(S_t / K) + (r -delta + 0.5 * sigma ** 2) * dt) / (sigma * np.sqrt(dt))  \n",
    "    return -np.exp(-delta * dt) * norm.cdf(-d1)\n",
    "\n",
    "def Gamma(S_t, K, dt, r, sigma, delta):\n",
    "    d1 = (np.log(S_t / K) + (r -delta + 0.5 * sigma ** 2) * dt) / (sigma * np.sqrt(dt))\n",
    "    return np.exp(-delta * dt) * norm.pdf(d1)/(S_t * sigma * np.sqrt(dt)) \n",
    "\n",
    "def call_Theta(S_t, K, dt, r, sigma, delta):\n",
    "    d1 = (np.log(S_t / K) + (r -delta + 0.5 * sigma ** 2) * dt) / (sigma * np.sqrt(dt))\n",
    "    d2 = d1 - sigma * np.sqrt(dt)\n",
    "    return delta * S_t * np.exp(-delta * dt)*norm.cdf(d1) - r * K * np.exp(-r*dt)*norm.cdf(d2)-(K * np.exp(-r*dt) * sigma * norm.pdf(d2))/ (2 * np.sqrt(dt)) \n",
    "\n",
    "def put_Theta(S_t, K, dt, r, sigma, delta):\n",
    "    d1 = (np.log(S_t / K) + (r -delta + 0.5 * sigma ** 2) * dt) / (sigma * np.sqrt(dt))\n",
    "    d2 = d1 - sigma * np.sqrt(dt)\n",
    "    return call_Theta(S_t, K, dt, r, sigma, delta) + r * K * np.exp(-r*dt) - delta * S_t * np.exp(-delta * dt)\n",
    "\n",
    "def put_given_call(C_t, S_t, K, r, dt):\n",
    "    return C_t - S_t + K * math.exp(-r * dt)\n",
    "def call_given_put(P_t, S_t, K, r, dt):\n",
    "    return P_t + S_t - K * math.exp(-r * dt)"
   ],
   "metadata": {
    "collapsed": false,
    "ExecuteTime": {
     "end_time": "2024-05-29T04:27:06.308424Z",
     "start_time": "2024-05-29T04:27:05.538813Z"
    }
   },
   "id": "38117a699fe49553",
   "execution_count": 1
  },
  {
   "cell_type": "markdown",
   "source": [
    "**Quiz 6.1** \\\n",
    "Consider a 50-strike European call option with the risk-free annual continuously compounded interest rate r = 7%,  volatility $\\sigma$ = 0.25, and the underlying stock price S = 48.00.  Assume the stock pays a continuous dividend $\\delta$ = 2.0% and the option expires in 60 days.\n",
    "\n",
    "You sell 1 call option today. What is the profit or loss after 5 days if the stock price rises to 50.00 while $r,\\delta, \\sigma$ remained unchanged?\n",
    "\n",
    "Please use the Black-Scholes option pricing model, rounded to the nearest cent, for all numerical option prices."
   ],
   "metadata": {
    "collapsed": false
   },
   "id": "aa5b580e31517b20"
  },
  {
   "cell_type": "code",
   "outputs": [
    {
     "name": "stdout",
     "output_type": "stream",
     "text": [
      "The value of our portfolio today is -1.27\n",
      "The value of our portfolio after 5 days is -2.11\n",
      "The profit is -0.84\n"
     ]
    }
   ],
   "source": [
    "print(f\"The value of our portfolio today is {-black_scholes_call(48, 50, 60/365, 0.07, 0.25, 0.02):.2f}\")\n",
    "print(f\"The value of our portfolio after 5 days is {-black_scholes_call(50, 50, 55/365, 0.07, 0.25, 0.02):.2f}\")\n",
    "print(f\"The profit is {black_scholes_call(48, 50, 60/365, 0.07, 0.25, 0.02)-black_scholes_call(50, 50, 55/365, 0.07, 0.25, 0.02):.2f}\")\n",
    "# call_Delta(48, 50, 60/365, 0.07, 0.25, 0.02) * 2 + 0.5 * Gamma(48,50,60/365, 0.07, 0.25, 0.02) * 4 + call_Theta(48,50,60/365, 0.07, 0.25, 0.02) * 5/365"
   ],
   "metadata": {
    "collapsed": false,
    "ExecuteTime": {
     "end_time": "2024-05-16T19:44:23.311696Z",
     "start_time": "2024-05-16T19:44:23.304662Z"
    }
   },
   "id": "df4ae7ac9bab8098",
   "execution_count": 126
  },
  {
   "cell_type": "markdown",
   "source": [
    "**Quiz 6.2**\n",
    "Consider a 60-strike European call option with the risk-free annual continuously compounded interest rate r = 7%, volatility $\\sigma$ = 0.28, and the underlying stock price S = 62.00.  Assume the stock pays a continuous dividend $\\delta$ = 1.0% and the option expires in 73 days.\n",
    "\n",
    "You buy 1 call option today.   What is the profit or loss if the stock price immediately rises to 63.00 while r, $\\delta$, and $\\sigma$ remained unchanged?\n",
    "\n",
    "Please use the Black-Scholes option pricing model, rounded to the nearest cent, for all numerical option prices."
   ],
   "metadata": {
    "collapsed": false
   },
   "id": "da2fb4ccdb72979a"
  },
  {
   "cell_type": "code",
   "outputs": [
    {
     "name": "stdout",
     "output_type": "stream",
     "text": [
      "The profit is 0.68\n"
     ]
    }
   ],
   "source": [
    "print(f\"The profit is {black_scholes_call(63, 60, 73/365, 0.07, 0.28, 0.01) - black_scholes_call(62, 60, 73/365, 0.07, 0.28, 0.01):.2f}\")\n",
    "# call_Delta(62, 60, 73/365, 0.07, 0.28, 0.01) * 1 + 0.5 * Gamma(62,60,73/365, 0.07, 0.28, 0.01) * 1"
   ],
   "metadata": {
    "collapsed": false,
    "ExecuteTime": {
     "end_time": "2024-05-16T19:44:31.189682Z",
     "start_time": "2024-05-16T19:44:31.173510Z"
    }
   },
   "id": "baccacbe301f7a9a",
   "execution_count": 127
  },
  {
   "cell_type": "markdown",
   "source": [
    "**Quiz 6.3**\n",
    "A delta-hedged portfolio $\\Pi$ has a portfolio delta equal to zero:\n",
    "$$\\frac{d\\Pi}{dS} = 0$$\n",
    "\n",
    "What is the total dollar cost to create a delta-hedged portfolio that includes a long stock position and 200 short European call options, rounded to the nearest integer dollar?  \n",
    "\n",
    "You are free to choose the number of shares of stock you are long in order to make the portfolio delta equal to zero.  You are allowed to hold a fractional number of shares of stock in the portfolio.\n",
    "\n",
    "Assume the call options are priced at 4.16, the call option delta is 0.7644, and the stock price is 73.00."
   ],
   "metadata": {
    "collapsed": false
   },
   "id": "51dc36ff8926b126"
  },
  {
   "cell_type": "code",
   "outputs": [
    {
     "name": "stdout",
     "output_type": "stream",
     "text": [
      " The total dollar cost to create the Delta-hedged portfolio is 10328\n"
     ]
    }
   ],
   "source": [
    "print(f\" The total dollar cost to create the Delta-hedged portfolio is {-(-200 * 0.7644) * 73 - 200 * 4.16:.0f}\")"
   ],
   "metadata": {
    "collapsed": false,
    "ExecuteTime": {
     "end_time": "2024-05-14T20:26:11.603691Z",
     "start_time": "2024-05-14T20:26:11.596625Z"
    }
   },
   "id": "7175d2194f8a2ce1",
   "execution_count": 14
  },
  {
   "cell_type": "markdown",
   "source": [
    "**Quiz 6.4**\n",
    "\n",
    "Assume a stock has price S = 33.00, volatility $\\sigma$ = 0.32,  and pays continuous dividends at a rate of 1% per year. The risk-free annual continuously compounded interest rate r is 6%.\n",
    "\n",
    "You sell short 100 35-strike European call options on this stock with 68 days until expiration.\n",
    "\n",
    "You also buy or sell shares of stock to delta-hedge your call option position, so that your total portfolio delta is zero:\n",
    "$$\\frac{d\\Pi}{dS} = 0$$\n",
    "\n",
    "You are free to choose the number of shares of stock you buy or sell  in order to make the portfolio delta equal to zero.  You are allowed to hold a fractional number of shares of stock in the portfolio.\n",
    "\n",
    "Please use the Black-Scholes option pricing model, rounded to the nearest cent, for all numerical option prices.\n",
    "\n",
    "What is your overnight profit or loss if the stock price rises to 34.50? "
   ],
   "metadata": {
    "collapsed": false
   },
   "id": "428eb97f1d34262c"
  },
  {
   "cell_type": "code",
   "outputs": [
    {
     "name": "stdout",
     "output_type": "stream",
     "text": [
      "We need to buy 38.54 units of stocks for delta hedged portfolio. The cost is 1271.75\n",
      "The profit from long position on the stock is 57.81\n",
      "The profit from short position call options is -65.69\n",
      "The interested we paid is 0.21\n",
      "The profit is -8.09\n"
     ]
    }
   ],
   "source": [
    "print(f\"We need to buy {100 * call_Delta(33, 35, 68/365, 0.06, 0.32, 0.01):.2f} units of stocks for delta hedged portfolio. The cost is {100 * call_Delta(33, 35, 68/365, 0.06, 0.32, 0.01) * 33:.2f}\")\n",
    "print(f\"The profit from long position on the stock is {1.5 * 100 * call_Delta(33, 35, 68/365, 0.06, 0.32, 0.01):.2f}\")\n",
    "print(f\"The profit from short position call options is {100 * (black_scholes_call(33, 35, 68/365, 0.06, 0.32, 0.01) - black_scholes_call(34.5, 35, 67/365, 0.06, 0.32, 0.01)):.2f}\")\n",
    "print(f\"The interested we paid is {100 * call_Delta(33, 35, 68/365, 0.06, 0.32, 0.01) * 33 * (np.exp(0.06 * 1/356)-1):.2f}\")\n",
    "\n",
    "print(f\"The profit is {1.5 * 100 * call_Delta(33, 35, 68/365, 0.06, 0.32, 0.01) + 100 * (black_scholes_call(33, 35, 68/365, 0.06, 0.32, 0.01) - black_scholes_call(34.5, 35, 67/365, 0.06, 0.32, 0.01)) - 100 * call_Delta(33, 35, 68/365, 0.06, 0.32, 0.01) * 33 * (np.exp(0.06 * 1/365)-1):.2f}\")"
   ],
   "metadata": {
    "collapsed": false,
    "ExecuteTime": {
     "end_time": "2024-05-14T21:38:30.575389Z",
     "start_time": "2024-05-14T21:38:30.562277Z"
    }
   },
   "id": "19bc3f7f8533dcbd",
   "execution_count": 38
  },
  {
   "cell_type": "markdown",
   "source": [
    "**Quiz 6.5**\n",
    "In this problem we are given that the stock price S = 40, volatility $\\sigma$ = 30%, risk-free annual continuously compounded interest rate r = 8%, and continuous dividend rate $\\delta = 0$. Suppose you sell 100 45-strike European call options with 91 days to expiration.\n",
    "\n",
    "You also buy or sell shares of stock to delta-hedge your call option position, so that your total portfolio delta is zero:\n",
    "$$\\frac{d\\Pi}{dS} = 0$$\n",
    "\n",
    "You are free to choose the number of shares of stock you buy or sell in order to make the portfolio delta equal to zero.  You are allowed to hold a fractional number of shares of stock in the portfolio.\n",
    "\n",
    "Please use the Black-Scholes option pricing model, rounded to the nearest cent, for all numerical option prices.\n",
    "\n",
    "What is your overnight profit / loss if the stock price tomorrow is 39? "
   ],
   "metadata": {
    "collapsed": false
   },
   "id": "8a1c356c04164f34"
  },
  {
   "cell_type": "code",
   "outputs": [
    {
     "name": "stdout",
     "output_type": "stream",
     "text": [
      "We need to buy 28.15 units of stocks for delta hedged portfolio. The cost is 1126.19\n",
      "The old option price is 0.97\n",
      "The new option price is 0.71\n",
      "The change in the call option price is 0.26\n",
      "The profit from long position on the stock is -28.15\n",
      "The profit from the short position on the call options is 26\n",
      "The interest paid is 0.25\n",
      "The overnight profit is -2.38\n"
     ]
    }
   ],
   "source": [
    "print(f\"We need to buy {100 *  call_Delta(40, 45, 91/365, 0.08, 0.3, 0):.2f} units of stocks for delta hedged portfolio. The cost is {100 * call_Delta(40, 45, 91/365, 0.08, 0.3, 0) * 40:.2f}\")\n",
    "print(f\"The old option price is {black_scholes_call(40, 45, 91/365, 0.08, 0.3, 0):.2f}\")\n",
    "print(f\"The new option price is {black_scholes_call(39, 45, 90/365, 0.08, 0.3, 0):.2f}\")\n",
    "print(f\"The change in the call option price is {0.26}\")\n",
    "print(f\"The profit from long position on the stock is {-1 * 100 * call_Delta(40, 45, 91/365, 0.08, 0.3, 0):.2f}\")\n",
    "print(f\"The profit from the short position on the call options is 26\")\n",
    "print(f\"The interest paid is {1126.19 * (np.exp(0.08/365)-1):.2f}\")\n",
    "print(f\"The overnight profit is {-2.38}\")"
   ],
   "metadata": {
    "collapsed": false,
    "ExecuteTime": {
     "end_time": "2024-05-16T20:08:26.392158Z",
     "start_time": "2024-05-16T20:08:26.386469Z"
    }
   },
   "id": "d4eee47d17bab4ea",
   "execution_count": 133
  },
  {
   "cell_type": "markdown",
   "source": [
    "**Quiz 6.6**\n",
    "In this problem we are given that S = 40, volatility $\\sigma$ = 30%, risk-free annual continuously compounded interest rate r = 8%, and continuous dividend rate $\\delta = 0$.  Suppose you sell 100 45-strike European call options with 91 days to expiration.\n",
    "\n",
    "You also buy or sell shares of stock to delta-hedge your call option position, so that your total portfolio delta is zero:\n",
    "$$\\frac{d\\Pi}{dS} = 0$$\n",
    "\n",
    "You are free to choose the number of shares of stock you buy or sell in order to make the portfolio delta equal to zero.  You are allowed to hold a fractional number of shares of stock in the portfolio.\n",
    "\n",
    "Please use the Black-Scholes option pricing model, rounded to the nearest cent, for all numerical option prices.\n",
    "\n",
    "What is your overnight profit / loss if the stock price tomorrow is 41? "
   ],
   "metadata": {
    "collapsed": false
   },
   "id": "8bda85c00362eded"
  },
  {
   "cell_type": "code",
   "outputs": [
    {
     "name": "stdout",
     "output_type": "stream",
     "text": [
      "We need to purchase 28.1548 shares of stock to create the delta-hedged portfolio\n",
      "The cost for creating this delta-hedged portfolio is 1126.00\n",
      "The old call option price is 0.97\n",
      "The new call option price is 1.27\n",
      "The profit from holding the stock is 28.15\n",
      "The profit from shorting 100 shares of the call option is -30.00\n",
      "The interest we need to pay is 0.25 \n",
      "The overnight profit is -2.10\n"
     ]
    }
   ],
   "source": [
    "print(f\"We need to purchase {100 * call_Delta(40, 45, 91/365, 0.08, 0.3, 0):.4f} shares of stock to create the delta-hedged portfolio\")\n",
    "print(f\"The cost for creating this delta-hedged portfolio is {28.15 * 40:.2f}\")\n",
    "print(f\"The old call option price is {black_scholes_call(40, 45, 91/365, 0.08, 0.3, 0):.2f}\")\n",
    "print(f\"The new call option price is {black_scholes_call(41, 45, 90/365, 0.08, 0.3, 0):.2f}\")\n",
    "print(f\"The profit from holding the stock is {1 * 28.15}\")\n",
    "print(f\"The profit from shorting 100 shares of the call option is {-(1.27 - 0.97) * 100:.2f}\")\n",
    "print(f\"The interest we need to pay is {1126 * (np.exp(0.08 * 1/365) - 1):.2f} \")\n",
    "print(f\"The overnight profit is {28.15 - 30 -0.25:.2f}\")"
   ],
   "metadata": {
    "collapsed": false,
    "ExecuteTime": {
     "end_time": "2024-05-16T20:43:35.945371Z",
     "start_time": "2024-05-16T20:43:35.931569Z"
    }
   },
   "id": "8d5e75be075bd2f4",
   "execution_count": 166
  },
  {
   "cell_type": "markdown",
   "source": [
    "**Exercise**\n",
    "We use the data from this problem. Suppose that we want to rebalance this portfolio so that it is still delta-hedged after the change in stock price. What would be the new number of shares of the stock that we need to buy. "
   ],
   "metadata": {
    "collapsed": false
   },
   "id": "7153484c88126391"
  },
  {
   "cell_type": "code",
   "outputs": [
    {
     "name": "stdout",
     "output_type": "stream",
     "text": [
      "Next day, we need to purchase 33.80 shares of stock to create the delta-hedged portfolio\n",
      "We need to purchase 5.65 extra shares of the stock to reblance our delta-hedged portfolio\n",
      "The cost for rebalancing the portfolio is 231.65\n"
     ]
    }
   ],
   "source": [
    "print(f\"Next day, we need to purchase {100 * call_Delta(41, 45, 90/365, 0.08, 0.3, 0):.2f} shares of stock to create the delta-hedged portfolio\")\n",
    "print(f\"We need to purchase {33.80-28.15:.2f} extra shares of the stock to reblance our delta-hedged portfolio\")\n",
    "print(f\"The cost for rebalancing the portfolio is {5.65 * 41:.2f}\")"
   ],
   "metadata": {
    "collapsed": false,
    "ExecuteTime": {
     "end_time": "2024-05-21T19:25:47.931094Z",
     "start_time": "2024-05-21T19:25:47.918594Z"
    }
   },
   "id": "be7cb480499f194",
   "execution_count": 15
  },
  {
   "cell_type": "markdown",
   "source": [
    "**Quiz 6.7**\n",
    "In this problem we are given that the stock price S = 250, volatility $\\sigma$ = 50%,  risk-free annual continuously compounded interest rate r = 3%, and the continuous dividend rate $\\delta = 0$.\n",
    "\n",
    "Suppose you sell 100 at-the-money European put options with 100 days to expiration.\n",
    "\n",
    "You also buy or sell shares of stock to delta-hedge your put option position, so that your total portfolio delta is zero:\n",
    "$$\\frac{d\\Pi}{dS} = 0$$\n",
    "\n",
    "You are free to choose the number of shares of stock you buy or sell in order to make the portfolio delta equal to zero.  How many shares of stock should you buy or sell?  \n",
    "\n",
    "Round your answer to the nearest integer number of shares.\n",
    "\n",
    "Please assume the Black-Scholes option pricing model holds and that there are no arbitrage opportunities."
   ],
   "metadata": {
    "collapsed": false
   },
   "id": "6d211f9116f8901c"
  },
  {
   "cell_type": "code",
   "outputs": [
    {
     "name": "stdout",
     "output_type": "stream",
     "text": [
      "We need to sell 44 shares of stock to make the portfolio delta equal to zero\n"
     ]
    }
   ],
   "source": [
    "print(f\"We need to sell {put_Delta(250, 250, 100/365, 0.03, 0.5, 0) * -100:.0f} shares of stock to make the portfolio delta equal to zero\")"
   ],
   "metadata": {
    "collapsed": false,
    "ExecuteTime": {
     "end_time": "2024-05-21T19:29:11.243776Z",
     "start_time": "2024-05-21T19:29:11.237644Z"
    }
   },
   "id": "be0f3780b4966ecc",
   "execution_count": 20
  },
  {
   "cell_type": "markdown",
   "source": [
    "**Quiz 6.8**\n",
    "Consider a 50-strike European put option on a stock that pays a 2.0% continuous dividend, has volatility σ = 0.25, and has a current price of  48.00. The risk-free continuously compounded interest rate r = 7%.\n",
    "\n",
    " The put option expires in 60 days from today. You sell 1 put option today.\n",
    "\n",
    " What your profit or loss after 5 days if the stock price increases to 50.00 during this time period, while the volatility, interest rate, and dividends remain unchanged ?  \n",
    "\n",
    "Please round your answer to the nearest cent.\n",
    "\n",
    "Please use the Black-Scholes option pricing model, rounded to the nearest cent, for all numerical option prices."
   ],
   "metadata": {
    "collapsed": false
   },
   "id": "8293e687d8000c1f"
  },
  {
   "cell_type": "code",
   "outputs": [
    {
     "name": "stdout",
     "output_type": "stream",
     "text": [
      "The profit is 1.12\n"
     ]
    }
   ],
   "source": [
    "print(f\"The profit is {-(black_scholes_put(50, 50, 55/365, 0.07, 0.25, 0.02) - black_scholes_put(48, 50, 60/365, 0.07, 0.25, 0.02)):.2f}\")"
   ],
   "metadata": {
    "collapsed": false,
    "ExecuteTime": {
     "end_time": "2024-05-21T19:31:16.271033Z",
     "start_time": "2024-05-21T19:31:16.261890Z"
    }
   },
   "id": "5a22a4aa4e4d7921",
   "execution_count": 22
  },
  {
   "cell_type": "markdown",
   "source": [
    "**Quiz 6.10**\n",
    "In this problem we are given that the stock price S = 250, volatility $\\sigma$ = 50%,  risk-free annual continuously compounded interest rate r = 3%, and the continuous dividend rate $\\delta$ = 2%.\n",
    "\n",
    "Suppose you buy 1 at-the-money European put option with 1 year to expiration. If all variables are constant except the passage of time, what will be the approximate percentage change in the value of your long put option position over 10 days?\n",
    "\n",
    "Please assume the Black-Scholes option pricing model holds and that there are no arbitrage opportunities.  "
   ],
   "metadata": {
    "collapsed": false
   },
   "id": "33164f42a4c2a349"
  },
  {
   "cell_type": "code",
   "outputs": [
    {
     "name": "stdout",
     "output_type": "stream",
     "text": [
      "the percentage change is approximately -0.01\n"
     ]
    }
   ],
   "source": [
    "change = put_Theta(250, 250, 1, 0.03, 0.5, 0.02) * 10/365\n",
    "current_price = black_scholes_put(250, 250, 1, 0.03, 0.5, 0.02)\n",
    "print(f\"the percentage change is approximately {change/current_price:.2f}\")"
   ],
   "metadata": {
    "collapsed": false,
    "ExecuteTime": {
     "end_time": "2024-05-21T19:34:16.959214Z",
     "start_time": "2024-05-21T19:34:16.940084Z"
    }
   },
   "id": "98a6fab99bac1dca",
   "execution_count": 27
  },
  {
   "cell_type": "markdown",
   "source": [
    "**Exercise 13.7** Consider a 40-strike 180-day call with S = 40. Compute a delta-gamma-theta approximation for the value of the call after 1, 5, and 25 days. For each day, consider stock prices of 36 to 44.00 in 0.25 increments and compare the actual option premium at each stock price with the predicted premium. Where are the two the same?"
   ],
   "metadata": {
    "collapsed": false
   },
   "id": "6f5e62c8b6809254"
  },
  {
   "cell_type": "code",
   "outputs": [
    {
     "name": "stdout",
     "output_type": "stream",
     "text": [
      "0.6150871393332188 0.045357345099654944 -4.904267695035319\n",
      "4.12174997507671\n",
      "Value after 1 day\n",
      "At stock price 36.0, the actual call option price is 2.04, and the predicted price is 2.01\n",
      "At stock price 36.25, the actual call option price is 2.14, and the predicted price is 2.12\n",
      "At stock price 36.5, the actual call option price is 2.25, and the predicted price is 2.23\n",
      "At stock price 36.75, the actual call option price is 2.36, and the predicted price is 2.35\n",
      "At stock price 37.0, the actual call option price is 2.48, and the predicted price is 2.47\n",
      "At stock price 37.25, the actual call option price is 2.60, and the predicted price is 2.59\n",
      "At stock price 37.5, the actual call option price is 2.72, and the predicted price is 2.71\n",
      "At stock price 37.75, the actual call option price is 2.84, and the predicted price is 2.84\n",
      "At stock price 38.0, the actual call option price is 2.97, and the predicted price is 2.97\n",
      "At stock price 38.25, the actual call option price is 3.10, and the predicted price is 3.10\n",
      "At stock price 38.5, the actual call option price is 3.24, and the predicted price is 3.24\n",
      "At stock price 38.75, the actual call option price is 3.38, and the predicted price is 3.37\n",
      "At stock price 39.0, the actual call option price is 3.52, and the predicted price is 3.52\n",
      "At stock price 39.25, the actual call option price is 3.66, and the predicted price is 3.66\n",
      "At stock price 39.5, the actual call option price is 3.81, and the predicted price is 3.81\n",
      "At stock price 39.75, the actual call option price is 3.96, and the predicted price is 3.96\n",
      "At stock price 40.0, the actual call option price is 4.11, and the predicted price is 4.11\n",
      "At stock price 40.25, the actual call option price is 4.26, and the predicted price is 4.26\n",
      "At stock price 40.5, the actual call option price is 4.42, and the predicted price is 4.42\n",
      "At stock price 40.75, the actual call option price is 4.58, and the predicted price is 4.58\n",
      "At stock price 41.0, the actual call option price is 4.75, and the predicted price is 4.75\n",
      "At stock price 41.25, the actual call option price is 4.91, and the predicted price is 4.91\n",
      "At stock price 41.5, the actual call option price is 5.08, and the predicted price is 5.08\n",
      "At stock price 41.75, the actual call option price is 5.25, and the predicted price is 5.25\n",
      "At stock price 42.0, the actual call option price is 5.42, and the predicted price is 5.43\n",
      "At stock price 42.25, the actual call option price is 5.60, and the predicted price is 5.61\n",
      "At stock price 42.5, the actual call option price is 5.78, and the predicted price is 5.79\n",
      "At stock price 42.75, the actual call option price is 5.96, and the predicted price is 5.97\n",
      "At stock price 43.0, the actual call option price is 6.14, and the predicted price is 6.16\n",
      "At stock price 43.25, the actual call option price is 6.33, and the predicted price is 6.35\n",
      "At stock price 43.5, the actual call option price is 6.52, and the predicted price is 6.54\n",
      "At stock price 43.75, the actual call option price is 6.71, and the predicted price is 6.73\n",
      "At stock price 44.0, the actual call option price is 6.90, and the predicted price is 6.93\n",
      "\n",
      "Value after 5 day\n",
      "At stock price 36.0, the actual call option price is 1.99, and the predicted price is 1.96\n",
      "At stock price 36.25, the actual call option price is 2.10, and the predicted price is 2.07\n",
      "At stock price 36.5, the actual call option price is 2.21, and the predicted price is 2.18\n",
      "At stock price 36.75, the actual call option price is 2.32, and the predicted price is 2.30\n",
      "At stock price 37.0, the actual call option price is 2.43, and the predicted price is 2.41\n",
      "At stock price 37.25, the actual call option price is 2.55, and the predicted price is 2.53\n",
      "At stock price 37.5, the actual call option price is 2.67, and the predicted price is 2.66\n",
      "At stock price 37.75, the actual call option price is 2.80, and the predicted price is 2.79\n",
      "At stock price 38.0, the actual call option price is 2.92, and the predicted price is 2.92\n",
      "At stock price 38.25, the actual call option price is 3.05, and the predicted price is 3.05\n",
      "At stock price 38.5, the actual call option price is 3.19, and the predicted price is 3.18\n",
      "At stock price 38.75, the actual call option price is 3.32, and the predicted price is 3.32\n",
      "At stock price 39.0, the actual call option price is 3.46, and the predicted price is 3.46\n",
      "At stock price 39.25, the actual call option price is 3.61, and the predicted price is 3.61\n",
      "At stock price 39.5, the actual call option price is 3.75, and the predicted price is 3.75\n",
      "At stock price 39.75, the actual call option price is 3.90, and the predicted price is 3.90\n",
      "At stock price 40.0, the actual call option price is 4.05, and the predicted price is 4.05\n",
      "At stock price 40.25, the actual call option price is 4.21, and the predicted price is 4.21\n",
      "At stock price 40.5, the actual call option price is 4.37, and the predicted price is 4.37\n",
      "At stock price 40.75, the actual call option price is 4.53, and the predicted price is 4.53\n",
      "At stock price 41.0, the actual call option price is 4.69, and the predicted price is 4.69\n",
      "At stock price 41.25, the actual call option price is 4.86, and the predicted price is 4.86\n",
      "At stock price 41.5, the actual call option price is 5.02, and the predicted price is 5.03\n",
      "At stock price 41.75, the actual call option price is 5.20, and the predicted price is 5.20\n",
      "At stock price 42.0, the actual call option price is 5.37, and the predicted price is 5.38\n",
      "At stock price 42.25, the actual call option price is 5.55, and the predicted price is 5.55\n",
      "At stock price 42.5, the actual call option price is 5.72, and the predicted price is 5.73\n",
      "At stock price 42.75, the actual call option price is 5.91, and the predicted price is 5.92\n",
      "At stock price 43.0, the actual call option price is 6.09, and the predicted price is 6.10\n",
      "At stock price 43.25, the actual call option price is 6.27, and the predicted price is 6.29\n",
      "At stock price 43.5, the actual call option price is 6.46, and the predicted price is 6.49\n",
      "At stock price 43.75, the actual call option price is 6.65, and the predicted price is 6.68\n",
      "At stock price 44.0, the actual call option price is 6.84, and the predicted price is 6.88\n",
      "\n",
      "Value after 25 day\n",
      "At stock price 36.0, the actual call option price is 1.77, and the predicted price is 1.69\n",
      "At stock price 36.25, the actual call option price is 1.87, and the predicted price is 1.80\n",
      "At stock price 36.5, the actual call option price is 1.97, and the predicted price is 1.91\n",
      "At stock price 36.75, the actual call option price is 2.08, and the predicted price is 2.03\n",
      "At stock price 37.0, the actual call option price is 2.19, and the predicted price is 2.14\n",
      "At stock price 37.25, the actual call option price is 2.30, and the predicted price is 2.27\n",
      "At stock price 37.5, the actual call option price is 2.42, and the predicted price is 2.39\n",
      "At stock price 37.75, the actual call option price is 2.54, and the predicted price is 2.52\n",
      "At stock price 38.0, the actual call option price is 2.66, and the predicted price is 2.65\n",
      "At stock price 38.25, the actual call option price is 2.79, and the predicted price is 2.78\n",
      "At stock price 38.5, the actual call option price is 2.92, and the predicted price is 2.91\n",
      "At stock price 38.75, the actual call option price is 3.06, and the predicted price is 3.05\n",
      "At stock price 39.0, the actual call option price is 3.19, and the predicted price is 3.19\n",
      "At stock price 39.25, the actual call option price is 3.34, and the predicted price is 3.34\n",
      "At stock price 39.5, the actual call option price is 3.48, and the predicted price is 3.48\n",
      "At stock price 39.75, the actual call option price is 3.63, and the predicted price is 3.63\n",
      "At stock price 40.0, the actual call option price is 3.78, and the predicted price is 3.79\n",
      "At stock price 40.25, the actual call option price is 3.93, and the predicted price is 3.94\n",
      "At stock price 40.5, the actual call option price is 4.09, and the predicted price is 4.10\n",
      "At stock price 40.75, the actual call option price is 4.25, and the predicted price is 4.26\n",
      "At stock price 41.0, the actual call option price is 4.41, and the predicted price is 4.42\n",
      "At stock price 41.25, the actual call option price is 4.57, and the predicted price is 4.59\n",
      "At stock price 41.5, the actual call option price is 4.74, and the predicted price is 4.76\n",
      "At stock price 41.75, the actual call option price is 4.91, and the predicted price is 4.93\n",
      "At stock price 42.0, the actual call option price is 5.08, and the predicted price is 5.11\n",
      "At stock price 42.25, the actual call option price is 5.26, and the predicted price is 5.28\n",
      "At stock price 42.5, the actual call option price is 5.44, and the predicted price is 5.47\n",
      "At stock price 42.75, the actual call option price is 5.62, and the predicted price is 5.65\n",
      "At stock price 43.0, the actual call option price is 5.80, and the predicted price is 5.84\n",
      "At stock price 43.25, the actual call option price is 5.99, and the predicted price is 6.02\n",
      "At stock price 43.5, the actual call option price is 6.18, and the predicted price is 6.22\n",
      "At stock price 43.75, the actual call option price is 6.37, and the predicted price is 6.41\n",
      "At stock price 44.0, the actual call option price is 6.56, and the predicted price is 6.61\n"
     ]
    }
   ],
   "source": [
    "delta = call_Delta(40, 40, 180/365, 0.08, 0.3, 0)\n",
    "gamma = Gamma(40, 40, 180/365, 0.08, 0.3, 0)\n",
    "theta = call_Theta(40, 40, 180/365, 0.08, 0.3, 0)\n",
    "\n",
    "\n",
    "\n",
    "call_price = black_scholes_call(40, 40, 180/365, 0.08, 0.3, 0)\n",
    "Slist = np.linspace(36, 44, 33)\n",
    "\n",
    "print(delta, gamma, theta)\n",
    "print(call_price)\n",
    "\n",
    "print(\"Value after 1 day\")\n",
    "for S in Slist:\n",
    "    predicted = call_price + delta * (S - 40) + 0.5 * gamma * (S-40)**2 + theta/365\n",
    "    actual = black_scholes_call(S, 40, 180/365-1/365, 0.08, 0.3, 0)\n",
    "    print(f\"At stock price {S}, the actual call option price is {actual:.2f}, and the predicted price is {predicted:.2f}\")\n",
    "\n",
    "print(\"\\nValue after 5 day\")\n",
    "for S in Slist:\n",
    "    predicted = call_price + delta * (S - 40) + 0.5 * gamma * (S-40)**2 + theta * 5/365\n",
    "    actual = black_scholes_call(S, 40, 180/365-5/365, 0.08, 0.3, 0)\n",
    "    print(f\"At stock price {S}, the actual call option price is {actual:.2f}, and the predicted price is {predicted:.2f}\")\n",
    "    \n",
    "print(\"\\nValue after 25 day\")\n",
    "for S in Slist:\n",
    "    predicted = call_price + delta * (S - 40) + 0.5 * gamma * (S-40)**2 + theta * 25/365\n",
    "    actual = black_scholes_call(S, 40, 180/365-25/365, 0.08, 0.3, 0)\n",
    "    print(f\"At stock price {S}, the actual call option price is {actual:.2f}, and the predicted price is {predicted:.2f}\")"
   ],
   "metadata": {
    "collapsed": false,
    "ExecuteTime": {
     "end_time": "2024-05-29T04:53:26.405910Z",
     "start_time": "2024-05-29T04:53:26.373829Z"
    }
   },
   "id": "ce04808b91d1ec12",
   "execution_count": 15
  },
  {
   "cell_type": "markdown",
   "source": [
    "**Exercise 13.9** Consider a 40-strike call with 91 days to expiration. Graph the results from the following calculations. \\\n",
    "a. Compute the actual price with 90 days to expiration at 1 intervals from 30 to 50. \\\n",
    "b. Compute the estimated price with 90 days to expiration using a delta approximation. \\\n",
    "c. Compute the estimated price with 90 days to expiration using a delta-gamma approximation. \\\n",
    "d. Compute the estimated price with 90 days to expiration using a delta-gamma-theta approximation. "
   ],
   "metadata": {
    "collapsed": false
   },
   "id": "b022ae5337285e89"
  },
  {
   "cell_type": "code",
   "outputs": [
    {
     "data": {
      "text/plain": "<Figure size 640x480 with 1 Axes>",
      "image/png": "[encoded data removed]"
     },
     "metadata": {},
     "output_type": "display_data"
    }
   ],
   "source": [
    "import numpy as np\n",
    "import matplotlib.pyplot as plt\n",
    "\n",
    "K = 40\n",
    "r = 0.08\n",
    "delta = 0\n",
    "sigma = 0.3\n",
    "S = 40\n",
    "\n",
    "C = black_scholes_call(S, K, 91/365, r,  sigma, delta)\n",
    "delta_C = call_Delta(S, K, 91/365, r,  sigma, delta)\n",
    "gamma = Gamma(S, K,  91/365, r,sigma, delta)\n",
    "theta = call_Theta(S, K, 91/365, r,  sigma, delta)\n",
    "\n",
    "Slist = np.linspace(30, 50, 21)\n",
    "\n",
    "def actual(Snew):\n",
    "    return black_scholes_call(Snew, K, 90/365, r, sigma, delta)\n",
    "\n",
    "def delta_approx(Snew):\n",
    "    return C + (Snew-S) * delta_C\n",
    "\n",
    "def delta_gamma_approx(Snew):\n",
    "    return C + (Snew - S) * delta_C + 0.5 * gamma * (Snew - S)**2\n",
    "\n",
    "def delta_gamma_theta_approx(Snew, dt):\n",
    "    return C + (Snew - S) * delta_C + 0.5 * gamma * (Snew - S)**2 + theta * dt\n",
    "\n",
    "P_1 = actual(Slist)\n",
    "P_2 = delta_approx(Slist)\n",
    "P_3 = delta_gamma_approx(Slist)\n",
    "P_4 = delta_gamma_theta_approx(Slist, 1/365)\n",
    "\n",
    "plt.plot(Slist, P_1, label = \"actual\", color = \"blue\")\n",
    "plt.plot(Slist, P_2, label = \"delta-approx\", color = \"yellow\")\n",
    "plt.plot(Slist, P_3, label = \"delta-gamma-approx\")\n",
    "plt.plot(Slist, P_4, label = \"delta-gamma-theta-approx\", color = \"red\")\n",
    "\n",
    "plt.xlabel('Stock Price')\n",
    "plt.ylabel('Value')\n",
    "plt.title('Value of Call option')\n",
    "plt.grid(True)\n",
    "\n",
    "plt.legend()\n",
    "plt.show()"
   ],
   "metadata": {
    "collapsed": false,
    "ExecuteTime": {
     "end_time": "2024-05-27T08:09:04.776574Z",
     "start_time": "2024-05-27T08:09:04.610572Z"
    }
   },
   "id": "39b600063e4d63e7",
   "execution_count": 3
  },
  {
   "cell_type": "markdown",
   "source": [
    "**Exercise**\n",
    "Consider a stock whose current price is 100. An one-year at-the-money call option is sold for 10. Assume that the risk free rate is 0.05, and the stock pays no dividend. Compute the implied volatility of this stock. "
   ],
   "metadata": {
    "collapsed": false
   },
   "id": "c2b440c6c291fd14"
  },
  {
   "cell_type": "code",
   "outputs": [
    {
     "name": "stdout",
     "output_type": "stream",
     "text": [
      "10.001060068162936\n",
      "The implied volatility is 0.188\n"
     ]
    }
   ],
   "source": [
    "sigma = 0.188\n",
    "print(black_scholes_call(100, 100, 1, 0.05, sigma, 0))\n",
    "print(f\"The implied volatility is\", sigma)"
   ],
   "metadata": {
    "collapsed": false,
    "ExecuteTime": {
     "end_time": "2024-05-21T18:18:52.239517Z",
     "start_time": "2024-05-21T18:18:52.221844Z"
    }
   },
   "id": "ac80d500c42c6b1f",
   "execution_count": 5
  },
  {
   "cell_type": "markdown",
   "source": [
    "**Example** \\\n",
    "Consider a 50-strike European call option with the risk-free annual continuously compounded interest rate r = 7%,  volatility $\\sigma$ = 0.25, and the underlying stock price S = 48.00.  Assume the stock pays a continuous dividend $\\delta$ = 2.0% and the option expires in 60 days.\n",
    "\n",
    "Assume that the stock price next day is 49. Use the delta approximation, delta-gamma, approximation, delta-gamma-theta approximation to compute the next day price. \n",
    "\n"
   ],
   "metadata": {
    "collapsed": false
   },
   "id": "74cd0ffb4c319111"
  },
  {
   "cell_type": "code",
   "outputs": [
    {
     "name": "stdout",
     "output_type": "stream",
     "text": [
      "The price of this call option today is 1.2738\n",
      "The actual price of this call option tomorrow is 1.6861\n",
      "The delta is  0.3919\n",
      "The gamma is  0.0788\n",
      "The theta is -6.5237\n",
      "The delta-approximation of the next day call option price is 1.6657\n",
      "The delta-gamma-approximation of the next day call option price is 1.7051\n",
      "The delta-gamma-theta approximation of the next day call option price is 1.6872\n"
     ]
    }
   ],
   "source": [
    "C_today = black_scholes_call(48, 50, 60/365, 0.07, 0.25,0.02)\n",
    "\n",
    "print(f\"The price of this call option today is {black_scholes_call(48, 50, 60/365, 0.07, 0.25,0.02):.4f}\")\n",
    "print(f\"The actual price of this call option tomorrow is {black_scholes_call(49, 50, 59/365, 0.07, 0.25,0.02):.4f}\")\n",
    "\n",
    "delta_c = call_Delta(48, 50, 60/365, 0.07, 0.25, 0.02)\n",
    "gamma = Gamma(48, 50, 60/365, 0.07, 0.25, 0.02)\n",
    "theta = call_Theta(48, 50, 60/365, 0.07, 0.25, 0.02)\n",
    "\n",
    "print(f\"The delta is {delta_c: .4f}\")\n",
    "print(f\"The gamma is {gamma: .4f}\")\n",
    "print(f\"The theta is {theta: .4f}\")\n",
    "\n",
    "print(f\"The delta-approximation of the next day call option price is {C_today + delta_c * 1:.4f}\")\n",
    "print(f\"The delta-gamma-approximation of the next day call option price is {C_today + delta_c * 1 + 0.5 * gamma * 1:.4f}\")\n",
    "print(f\"The delta-gamma-theta approximation of the next day call option price is {C_today + delta_c * 1 + 0.5 * gamma * 1 + theta * (1/365):.4f}\")"
   ],
   "metadata": {
    "collapsed": false,
    "ExecuteTime": {
     "end_time": "2024-05-21T18:18:54.999609Z",
     "start_time": "2024-05-21T18:18:54.982536Z"
    }
   },
   "id": "831f2847e549507d",
   "execution_count": 6
  }
 ],
 "metadata": {
  "kernelspec": {
   "display_name": "Python 3",
   "language": "python",
   "name": "python3"
  },
  "language_info": {
   "codemirror_mode": {
    "name": "ipython",
    "version": 2
   },
   "file_extension": ".py",
   "mimetype": "text/x-python",
   "name": "python",
   "nbconvert_exporter": "python",
   "pygments_lexer": "ipython2",
   "version": "2.7.6"
  }
 },
 "nbformat": 4,
 "nbformat_minor": 5
}
