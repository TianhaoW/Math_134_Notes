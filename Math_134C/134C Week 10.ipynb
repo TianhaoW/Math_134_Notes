{
 "cells": [
  {
   "cell_type": "markdown",
   "id": "8e6a42de532c3263",
   "metadata": {
    "collapsed": false
   },
   "source": [
    "# Math 134C Week 10"
   ]
  },
  {
   "cell_type": "code",
   "execution_count": 1,
   "id": "a6b46555bd173c4a",
   "metadata": {
    "collapsed": false,
    "ExecuteTime": {
     "end_time": "2024-06-09T23:40:34.003537Z",
     "start_time": "2024-06-09T23:40:33.485462Z"
    }
   },
   "outputs": [],
   "source": [
    "import math\n",
    "import numpy as np\n",
    "from scipy.stats import norm\n",
    "from scipy.stats.mstats import gmean\n",
    "\n",
    "def black_scholes_call(S_t, K, dt, r, sigma, delta):\n",
    "    d1 = (np.log(S_t / K) + (r -delta + 0.5 * sigma ** 2) * dt) / (sigma * np.sqrt(dt))\n",
    "    d2 = d1 - sigma * np.sqrt(dt)\n",
    "    call_price = S_t * np.exp(-delta * dt) * norm.cdf(d1) - K * np.exp(-r * dt) * norm.cdf(d2)\n",
    "    return call_price\n",
    "\n",
    "def black_scholes_put(S_t, K, dt, r, sigma, delta):\n",
    "    d1 = (np.log(S_t / K) + (r -delta + 0.5 * sigma ** 2) * dt) / (sigma * np.sqrt(dt))\n",
    "    d2 = d1 - sigma * np.sqrt(dt)\n",
    "    call_price = - S_t * np.exp(-delta * dt) * norm.cdf(-d1) + K * np.exp(-r * dt) * norm.cdf(-d2)\n",
    "    return call_price\n",
    "\n",
    "def call_Delta(S_t, K, dt, r, sigma, delta):\n",
    "    d1 = (np.log(S_t / K) + (r -delta + 0.5 * sigma ** 2) * dt) / (sigma * np.sqrt(dt))  \n",
    "    return np.exp(-delta * dt) * norm.cdf(d1)\n",
    "\n",
    "def put_Delta(S_t, K, dt, r, sigma, delta):\n",
    "    d1 = (np.log(S_t / K) + (r -delta + 0.5 * sigma ** 2) * dt) / (sigma * np.sqrt(dt))  \n",
    "    return -np.exp(-delta * dt) * norm.cdf(-d1)\n",
    "\n",
    "def Gamma(S_t, K, dt, r, sigma, delta):\n",
    "    d1 = (np.log(S_t / K) + (r -delta + 0.5 * sigma ** 2) * dt) / (sigma * np.sqrt(dt))\n",
    "    return np.exp(-delta * dt) * norm.pdf(d1)/(S_t * sigma * np.sqrt(dt)) \n",
    "\n",
    "def call_Theta(S_t, K, dt, r, sigma, delta):\n",
    "    d1 = (np.log(S_t / K) + (r -delta + 0.5 * sigma ** 2) * dt) / (sigma * np.sqrt(dt))\n",
    "    d2 = d1 - sigma * np.sqrt(dt)\n",
    "    return delta * S_t * np.exp(-delta * dt)*norm.cdf(d1) - r * K * np.exp(-r*dt)*norm.cdf(d2)-(K * np.exp(-r*dt) * sigma * norm.pdf(d2))/ (2 * np.sqrt(dt)) \n",
    "\n",
    "def put_Theta(S_t, K, dt, r, sigma, delta):\n",
    "    d1 = (np.log(S_t / K) + (r -delta + 0.5 * sigma ** 2) * dt) / (sigma * np.sqrt(dt))\n",
    "    d2 = d1 - sigma * np.sqrt(dt)\n",
    "    return call_Theta(S_t, K, dt, r, sigma, delta) + r * K * np.exp(-r*dt) - delta * S_t * np.exp(-delta * dt)\n",
    "\n",
    "def put_given_call(C_t, S_t, K, r, dt):\n",
    "    return C_t - S_t + K * math.exp(-r * dt)\n",
    "def call_given_put(P_t, S_t, K, r, dt):\n",
    "    return P_t + S_t - K * math.exp(-r * dt)\n",
    "\n",
    "def one_step_binomial(r, dt, u, d, Vu, Vd, delta = 0):\n",
    "    q = (math.exp((r - delta) * dt) - d)/(u-d)\n",
    "    if not (1 > q > 0): \n",
    "        print(\"Arbitrage opportunity exists\")\n",
    "        return -1\n",
    "    return math.exp(-r * dt)*(q*Vu+(1-q)*Vd)    \n",
    "\n",
    "def stock_price_simulation(T, N, r, delta, sigma, S0):\n",
    "    dt = float(T) / N\n",
    "    t = np.linspace(0, T, N+1)\n",
    "    S = np.zeros(N+1)\n",
    "    S[0] = S0\n",
    "    for i in range(1, N+1):\n",
    "        Z = np.random.normal(0, 1)\n",
    "        S[i] = S[i-1] * np.exp((r - delta - 0.5 * sigma**2) * dt + sigma * np.sqrt(dt) * Z)\n",
    "    return t, S"
   ]
  },
  {
   "cell_type": "markdown",
   "id": "df2198cfc391f4d2",
   "metadata": {
    "collapsed": false
   },
   "source": [
    "**Quiz 9.1**\n",
    "![](./img/week10_1.png)"
   ]
  },
  {
   "cell_type": "code",
   "execution_count": 7,
   "id": "be8b83db-4e50-41b6-836d-bc26149eabac",
   "metadata": {},
   "outputs": [
    {
     "name": "stdout",
     "output_type": "stream",
     "text": [
      "0.5857859529773828\n",
      "32.87579326094541\n",
      "15.532861292062652\n"
     ]
    }
   ],
   "source": [
    "q = (np.exp(0.05-0.04) - 0.6)/(1.3-0.6)\n",
    "print(q)\n",
    "Cu = np.exp(-0.05) * (q * 59)\n",
    "print(Cu)\n",
    "P = np.exp(-0.05) * (q * (Cu-5))\n",
    "print(P)"
   ]
  },
  {
   "cell_type": "markdown",
   "id": "d5b9f55563a597cd",
   "metadata": {
    "collapsed": false
   },
   "source": [
    "**Quiz 9.2**\n",
    "For this problem please assume the risk-free annual interest rate is 5.35\\% and the underlying stock has a current price of 41.75 and volatility of 0.34. Also assume there are 365 days until expiration.\n",
    "\n",
    "Using the Monte Carlo methodology with one day time steps, compute the value of an exotic Asian-style geometric average price European put option with a strike price of 55 using 10,000 trials.\n",
    "\n",
    "Please round your answer to the nearest integer."
   ]
  },
  {
   "cell_type": "code",
   "execution_count": 8,
   "id": "8cee4e712b05fb6f",
   "metadata": {
    "ExecuteTime": {
     "end_time": "2024-06-04T18:27:09.835920Z",
     "start_time": "2024-06-04T18:26:54.294556Z"
    },
    "collapsed": false
   },
   "outputs": [
    {
     "name": "stdout",
     "output_type": "stream",
     "text": [
      "12.260054536502018\n"
     ]
    }
   ],
   "source": [
    "T = 1\n",
    "N = 365\n",
    "r = 0.0535\n",
    "delta = 0\n",
    "sigma = 0.34\n",
    "S0 = 41.75\n",
    "K = 55\n",
    "n_trials = 10000\n",
    "\n",
    "price_sum = 0\n",
    "for i in range(n_trials):\n",
    "    t,S = stock_price_simulation(T, N, r, delta, sigma, S0)\n",
    "    Smean = gmean(S)\n",
    "    price_sum += np.exp(-r) * max(0, K - Smean)\n",
    "\n",
    "print(price_sum/n_trials)"
   ]
  },
  {
   "cell_type": "markdown",
   "id": "2b1c4314ec6ffd74",
   "metadata": {
    "collapsed": false
   },
   "source": [
    "**Quiz 9.3**\n",
    "For this problem please assume the risk-free annual interest rate is 5.35% and the underlying stock has a current price of 41.75 and volatility of 0.34. Also assume there are 365 days until expiration.\n",
    "\n",
    "Using the Monte Carlo methodology, compute the value of an exotic Asian-style arithmetic average strike European put option using 10,000 trials.\n",
    "\n",
    "Please round your answer to the nearest integer."
   ]
  },
  {
   "cell_type": "code",
   "execution_count": 10,
   "id": "98a28aaf-86a9-49c2-ae6a-378d8090b576",
   "metadata": {},
   "outputs": [
    {
     "name": "stdout",
     "output_type": "stream",
     "text": [
      "2.7140369115642207\n"
     ]
    }
   ],
   "source": [
    "T = 1\n",
    "N = 365\n",
    "r = 0.0535\n",
    "delta = 0\n",
    "sigma = 0.34\n",
    "S0 = 41.75\n",
    "K = 55\n",
    "n_trials = 10000\n",
    "\n",
    "price_sum = 0\n",
    "for i in range(n_trials):\n",
    "    t,S = stock_price_simulation(T, N, r, delta, sigma, S0)\n",
    "    Smean = S.mean()\n",
    "    price_sum += np.exp(-r) * max(0, Smean-S[-1])\n",
    "\n",
    "print(price_sum/n_trials)"
   ]
  },
  {
   "cell_type": "markdown",
   "id": "697799ecb5605e90",
   "metadata": {
    "collapsed": false
   },
   "source": [
    "**Quiz 9.4**\n",
    "In this problem you must  construct a 3-period binomial tree for modeling the price movements of a stock.  Assume the following form for the up and down movements in the stock price over each period h:\n",
    "\n",
    "$$u = e^{(r-\\delta)h+\\sigma\\sqrt{h}}$$\n",
    "$$d = e^{(r-\\delta)h-\\sigma\\sqrt{h}}$$\n",
    "\n",
    "Also you are given:\n",
    "\n",
    "![](./img/week10_2.png)\n",
    "\n",
    "To be clear, the compound option expires 3 months from today, while the underlying 6-month 100-strike European put option starts 3 months from today and expires 9 months from today."
   ]
  },
  {
   "cell_type": "code",
   "execution_count": 2,
   "id": "27871f95-9929-4d15-a0e9-0c136a75c89d",
   "metadata": {
    "ExecuteTime": {
     "end_time": "2024-06-09T23:42:14.163041Z",
     "start_time": "2024-06-09T23:42:14.143010Z"
    }
   },
   "outputs": [
    {
     "name": "stdout",
     "output_type": "stream",
     "text": [
      "The price of this compound option is 1.64\n"
     ]
    }
   ],
   "source": [
    "r = 0.1\n",
    "delta = 0.08\n",
    "h = 0.25\n",
    "sigma = 0.32\n",
    "S0 = 110\n",
    "\n",
    "u = np.exp((r-delta)*h + sigma * np.sqrt(h))\n",
    "d = np.exp((r-delta)*h - sigma * np.sqrt(h))\n",
    "# print(u,d)\n",
    "Su = S0 * u\n",
    "Sd = S0 * d\n",
    "Suu = S0 *u * u\n",
    "Sud = S0* u *d \n",
    "Sdd = S0 * d*d\n",
    "Suuu = S0 * u * u * u\n",
    "Suud = S0 * u * u *d\n",
    "Sudd = S0 * u * d * d\n",
    "Sddd = S0 * d * d * d\n",
    "# print(Su, Sd, Suu, Sud, Sdd, Suuu, Suud, Sudd, Sddd)\n",
    "\n",
    "q = (np.exp((r-delta)*h)-d)/(u-d)\n",
    "# print(q)\n",
    "\n",
    "Pu = np.exp(-r * 2 * h)*(q**2 * 0 + 2 * q * (1-q) * 0 + (1-q)**2 * (100 - Sudd))\n",
    "Pd = np.exp(-r * 2 * h)*(q**2 * 0 + 2 * q * (1-q) * (100-Sudd) + (1-q)**2 * (100 - Sddd))\n",
    "\n",
    "# print(Pu, Pd)\n",
    "\n",
    "P = np.exp(-r * h) * (q * (5-Pu))\n",
    "print(f\"The price of this compound option is {P:.2f}\")"
   ]
  },
  {
   "cell_type": "markdown",
   "id": "69f7c8674d4d8a10",
   "metadata": {
    "collapsed": false
   },
   "source": [
    "**Quiz 9.5**\n",
    "The initial price of a stock is 45. The stock does not pay dividends.\n",
    "\n",
    "The continuously compounded risk-free annual interest rate is 10%.\n",
    "\n",
    "An American call option on the stock expires in 1 year and has a strike price of 40.\n",
    "\n",
    "A 3-month European call on a put with exercise price 0.80 allows the owner to buy a European put option expiring at the end of year 1 on the same stock with strike price 40.\n",
    "\n",
    "After 3 months, on the day the compound option expires, the price of the stock is 48, and the American call option has a price of 11.82, with 9 months left to expiration.\n",
    "\n",
    "Calculate the payoff of the call on put compound option on the day it expires."
   ]
  },
  {
   "cell_type": "code",
   "execution_count": 19,
   "id": "573ecb75-00c8-43aa-a94d-41bfd7889107",
   "metadata": {},
   "outputs": [
    {
     "name": "stdout",
     "output_type": "stream",
     "text": [
      "0.9297394531421119\n",
      "The payoff of this call-on-put option is 0.12973945314211188\n"
     ]
    }
   ],
   "source": [
    "S0 = 45\n",
    "delta = 0\n",
    "T = 1\n",
    "K = 40\n",
    "\n",
    "\n",
    "P = put_given_call(11.82, 48, 40, 0.1, 0.75)\n",
    "print(P)\n",
    "print(\"The payoff of this call-on-put option is\", P - 0.8)"
   ]
  },
  {
   "cell_type": "markdown",
   "id": "efa78d05621bba43",
   "metadata": {
    "collapsed": false
   },
   "source": [
    "**Quiz 9.6**\n",
    "![](./img/week10_3.png)"
   ]
  },
  {
   "cell_type": "markdown",
   "id": "405ca2eab0cdf9e",
   "metadata": {
    "collapsed": false
   },
   "source": [
    "**Quiz 9.7**\n",
    "![](./img/week10_4.png)"
   ]
  },
  {
   "cell_type": "markdown",
   "id": "39bdc849-eb7f-4fed-9749-9cba31a241da",
   "metadata": {},
   "source": [
    "**Solution:** statements II, III are true"
   ]
  },
  {
   "cell_type": "markdown",
   "id": "95b1c96cc5aa970b",
   "metadata": {
    "collapsed": false
   },
   "source": [
    "**Quiz 9.8**\n",
    "![](./img/week10_5.png)\n",
    "True or False:  Pin risk for a European call option is the risk that the call option's delta flips between zero and one as the option flips from being slightly out of the money to slightly in the money, making delta hedging difficult."
   ]
  },
  {
   "cell_type": "markdown",
   "source": [
    "**Solution:** True. This is from the definition of the pin risk. "
   ],
   "metadata": {
    "collapsed": false
   },
   "id": "37d89f53dd79ee77"
  },
  {
   "cell_type": "markdown",
   "source": [
    "For the following five problems, unless otherwise stated, assume that $S_0 = 100, \\alpha = 0.08, \\sigma = 0.30$, and $\\delta = 0$.\n",
    "\n",
    "**Exercise 18.8** What is $P(S_t > 105)$ for $t = 1$? How does this probability change when you change t? How does it change when you change σ?"
   ],
   "metadata": {
    "collapsed": false
   },
   "id": "4528f41dea6cc262"
  },
  {
   "cell_type": "code",
   "outputs": [
    {
     "name": "stdout",
     "output_type": "stream",
     "text": [
      "The probability is 0.4817\n",
      "The probability increase as t increase\n",
      "The probability decrease as sigma increase\n"
     ]
    }
   ],
   "source": [
    "S0 = 100\n",
    "alpha = 0.08\n",
    "sigma = 0.3\n",
    "delta = 0\n",
    "\n",
    "def d1(S0, K, dt, r, sigma, delta):\n",
    "    return (np.log(S0 / K) + (r -delta + 0.5 * sigma ** 2) * dt) / (sigma * np.sqrt(dt))\n",
    "\n",
    "def d2(S0, K, dt, r, sigma, delta):\n",
    "    return d1(S0, K, dt, r, sigma, delta) - sigma * np.sqrt(dt)\n",
    "\n",
    "print(f\"The probability is {norm.cdf(d2(S0, 105, 1, alpha, sigma, delta)):.4f}\")\n",
    "print(\"The probability increase as t increase\")\n",
    "print(\"The probability decrease as sigma increase\")"
   ],
   "metadata": {
    "collapsed": false,
    "ExecuteTime": {
     "end_time": "2024-06-09T23:57:46.379760Z",
     "start_time": "2024-06-09T23:57:46.364703Z"
    }
   },
   "id": "8c982d74ae71650d",
   "execution_count": 7
  },
  {
   "cell_type": "markdown",
   "source": [
    "**Exercise 18.9** What is $E(S_t |S_t > 105)$ for $t = 1$? How does this expectation change when you change $t$ , $\\sigma$, and $\\alpha$?"
   ],
   "metadata": {
    "collapsed": false
   },
   "id": "832265e5940fd8e8"
  },
  {
   "cell_type": "code",
   "outputs": [
    {
     "name": "stdout",
     "output_type": "stream",
     "text": [
      "The conditional expected value is 135.0015\n",
      "The expected value increase as t increase\n",
      "The expected value increase as sigma increase\n",
      "The expected value increase as alpha increase\n"
     ]
    }
   ],
   "source": [
    "print(f\"The conditional expected value is {S0 * np.exp(alpha-delta) * norm.cdf(d1(S0, 105, 1, alpha, sigma, delta))/norm.cdf(d2(S0, 105, 1, alpha, sigma, delta)):.4f}\")\n",
    "print(f\"The expected value increase as t increase\")\n",
    "print(f\"The expected value increase as sigma increase\")\n",
    "print(f\"The expected value increase as alpha increase\")"
   ],
   "metadata": {
    "collapsed": false,
    "ExecuteTime": {
     "end_time": "2024-06-10T00:00:12.636659Z",
     "start_time": "2024-06-10T00:00:12.631614Z"
    }
   },
   "id": "d63b3c24af6dbbe6",
   "execution_count": 8
  },
  {
   "cell_type": "markdown",
   "source": [
    "**Exercise 18.10** What is $P(S_t < 98)$ for $t = 1$? How does this probability change when you change t?"
   ],
   "metadata": {
    "collapsed": false
   },
   "id": "3bcc6d62fdfab92"
  },
  {
   "cell_type": "code",
   "outputs": [
    {
     "name": "stdout",
     "output_type": "stream",
     "text": [
      "The probability is 0.4270\n",
      "The probability decrease as t increase\n"
     ]
    },
    {
     "data": {
      "text/plain": "<Figure size 640x480 with 1 Axes>",
      "image/png": "[encoded data removed]"
     },
     "metadata": {},
     "output_type": "display_data"
    }
   ],
   "source": [
    "import matplotlib.pyplot as plt\n",
    "print(f\"The probability is {norm.cdf(-d2(S0, 98, 1, alpha, sigma, delta)):.4f}\")\n",
    "\n",
    "t_list = np.linspace(0.1, 10, 1000)\n",
    "p_list = []\n",
    "for t in t_list:\n",
    "    p_list.append(norm.cdf(-d2(S0, 98, t, alpha, sigma, delta)))\n",
    "plt.plot(t_list, p_list)\n",
    "plt.xlabel(\"t\")\n",
    "plt.ylabel(\"probability\")\n",
    "print(\"The probability decrease as t increase\")\n",
    "plt.show()"
   ],
   "metadata": {
    "collapsed": false,
    "ExecuteTime": {
     "end_time": "2024-06-10T00:41:59.901140Z",
     "start_time": "2024-06-10T00:41:59.757949Z"
    }
   },
   "id": "18c20201ddafaffe",
   "execution_count": 22
  },
  {
   "cell_type": "markdown",
   "source": [
    "**Exercise 18.11** Let $t = 1$. What is $E(S_t |S_t < 98)$? What is $E(S_t |S_t < 120)$? How do both expectations change when you vary t from 0.05 to 5? Let $\\sigma = 0.1$. Does either answer change? How?"
   ],
   "metadata": {
    "collapsed": false
   },
   "id": "dcbed615138d0363"
  },
  {
   "cell_type": "code",
   "outputs": [
    {
     "name": "stdout",
     "output_type": "stream",
     "text": [
      "The conditional expected value for St<98 is 79.7085\n",
      "The conditional expected value for St<120 is 90.6157\n",
      "If sigma drops to 0.1, then\n",
      "The conditional expected value for St<98 is 92.9898\n",
      "The conditional expected value for St<120 is 105.3459\n"
     ]
    },
    {
     "data": {
      "text/plain": "<Figure size 640x480 with 1 Axes>",
      "image/png": "[encoded data removed]"
     },
     "metadata": {},
     "output_type": "display_data"
    },
    {
     "name": "stdout",
     "output_type": "stream",
     "text": [
      "From the graph, we see that both expected value decrease as t increase\n"
     ]
    }
   ],
   "source": [
    "import matplotlib.pyplot as plt\n",
    "\n",
    "print(f\"The conditional expected value for St<98 is {S0 * np.exp(alpha-delta) * norm.cdf(-d1(S0, 98, 1, alpha, sigma, delta))/norm.cdf(-d2(S0, 98, 1, alpha, sigma, delta)):.4f}\")\n",
    "print(f\"The conditional expected value for St<120 is {S0 * np.exp(alpha-delta) * norm.cdf(-d1(S0, 120, 1, alpha, sigma, delta))/norm.cdf(-d2(S0, 120, 1, alpha, sigma, delta)):.4f}\")\n",
    "\n",
    "print(f\"If sigma drops to 0.1, then\")\n",
    "print(f\"The conditional expected value for St<98 is {S0 * np.exp(alpha-delta) * norm.cdf(-d1(S0, 98, 1, alpha, 0.1, delta))/norm.cdf(-d2(S0, 98, 1, alpha, 0.1, delta)):.4f}\")\n",
    "print(f\"The conditional expected value for St<120 is {S0 * np.exp(alpha-delta) * norm.cdf(-d1(S0, 120, 1, alpha, 0.1, delta))/norm.cdf(-d2(S0, 120, 1, alpha, 0.1, delta)):.4f}\")\n",
    "\n",
    "t_list = np.linspace(0.05, 5, 101)\n",
    "expected_value_list_98 = []\n",
    "expected_value_list_120 = []\n",
    "for t in t_list:\n",
    "    expected_value_list_98.append(S0 * np.exp(alpha-delta) * norm.cdf(-d1(S0, 98, t, alpha, sigma, delta))/norm.cdf(-d2(S0, 98, t, alpha, sigma, delta)))\n",
    "    expected_value_list_120.append(S0 * np.exp(alpha-delta) * norm.cdf(-d1(S0, 120, t, alpha, sigma, delta))/norm.cdf(-d2(S0, 120, t, alpha, sigma, delta)))\n",
    "    \n",
    "plt.plot(t_list, expected_value_list_98, label = \"conditional expected value for St<98\")\n",
    "plt.plot(t_list, expected_value_list_120, label = \"conditional expected value for St<120\")\n",
    "plt.legend()\n",
    "plt.xlabel(\"t\")\n",
    "plt.ylabel(\"conditional expected value\")\n",
    "plt.show()\n",
    "\n",
    "print(\"From the graph, we see that both expected value decrease as t increase\")"
   ],
   "metadata": {
    "collapsed": false,
    "ExecuteTime": {
     "end_time": "2024-06-10T00:17:29.970735Z",
     "start_time": "2024-06-10T00:17:29.855282Z"
    }
   },
   "id": "7f5ff69fa81668b",
   "execution_count": 17
  },
  {
   "cell_type": "markdown",
   "source": [
    "**Exercise 18.12** Let $K_T = S_0e^{rT}$ . Compute $Pr(S_T <K_T )$ and $Pr(S_T >K_T)$ for a variety of T s from 0.25 to 25 years. How do the probabilities behave? How do you reconcile your answer with the fact that both call and put prices increase with time?"
   ],
   "metadata": {
    "collapsed": false
   },
   "id": "3e79159c456791ca"
  },
  {
   "cell_type": "code",
   "outputs": [
    {
     "data": {
      "text/plain": "<Figure size 640x480 with 1 Axes>",
      "image/png": "[encoded data removed]"
     },
     "metadata": {},
     "output_type": "display_data"
    },
    {
     "name": "stdout",
     "output_type": "stream",
     "text": [
      "From the graph, we see that the probability for S_T<K_T increase as T increase, and probability for S_T>K_T decrease as T increase\n",
      "The does not contradict that the price for both call/put option increase with time. This is because that the price for options depends on the expected stock price, not the probability that it is in the money\n"
     ]
    }
   ],
   "source": [
    "t_list = np.linspace(0.25, 25, 101)\n",
    "P_smaller_list = []\n",
    "P_greater_list = []\n",
    "for t in t_list:\n",
    "    P_smaller_list.append(norm.cdf(-d2(S0, S0 * np.exp(alpha * t), t, alpha, sigma, delta)))\n",
    "    P_greater_list.append(norm.cdf(d2(S0, S0 * np.exp(alpha * t), t, alpha, sigma, delta)))\n",
    "plt.plot(t_list, P_smaller_list, label = \"probability for S_T<K_T\")\n",
    "plt.plot(t_list, P_greater_list, label = \"probability for S_T>K_T\")\n",
    "plt.legend()\n",
    "plt.xlabel(\"T\")\n",
    "plt.ylabel(\"probability\")\n",
    "plt.show()\n",
    "print(\"From the graph, we see that the probability for S_T<K_T increase as T increase, and probability for S_T>K_T decrease as T increase\")\n",
    "print(\"The does not contradict that the price for both call/put option increase with time. This is because that the price for options depends on the expected stock price, not the probability that it is in the money\")"
   ],
   "metadata": {
    "collapsed": false,
    "ExecuteTime": {
     "end_time": "2024-06-10T00:25:24.203145Z",
     "start_time": "2024-06-10T00:25:24.111010Z"
    }
   },
   "id": "f7fb031c520d5803",
   "execution_count": 20
  }
 ],
 "metadata": {
  "kernelspec": {
   "display_name": "Python 3 (ipykernel)",
   "language": "python",
   "name": "python3"
  },
  "language_info": {
   "codemirror_mode": {
    "name": "ipython",
    "version": 3
   },
   "file_extension": ".py",
   "mimetype": "text/x-python",
   "name": "python",
   "nbconvert_exporter": "python",
   "pygments_lexer": "ipython3",
   "version": "3.11.5"
  }
 },
 "nbformat": 4,
 "nbformat_minor": 5
}
