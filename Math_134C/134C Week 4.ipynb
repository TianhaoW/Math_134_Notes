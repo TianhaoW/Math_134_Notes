{
 "cells": [
  {
   "cell_type": "markdown",
   "source": [
    "# Math 134C Week 4"
   ],
   "metadata": {
    "collapsed": false
   },
   "id": "ae1a8fa3e38365e3"
  },
  {
   "cell_type": "code",
   "execution_count": 31,
   "id": "initial_id",
   "metadata": {
    "collapsed": true,
    "ExecuteTime": {
     "end_time": "2024-05-06T08:09:04.504670Z",
     "start_time": "2024-05-06T08:09:04.487084Z"
    }
   },
   "outputs": [],
   "source": [
    "import math\n",
    "import numpy as np\n",
    "from scipy.stats import norm\n",
    "\n",
    "def NPV(r, cf, continuous_compounding = False, dt = None): \n",
    "    if dt is None: dt = range(len(cf))\n",
    "    pv = 0\n",
    "    if not continuous_compounding:\n",
    "        for k in range(0, len(cf)):\n",
    "            pv += cf[k] / (1+r)**dt[k]\n",
    "    else:\n",
    "        for k in range(0, len(cf)):\n",
    "            pv += cf[k] * math.exp(-r * dt[k])\n",
    "    return pv\n",
    "\n",
    "# r is the risk-free rate, F is a cash flow, and dT is the time that we get each cash flow\n",
    "def PV(F, dT, r):\n",
    "    pv = 0\n",
    "    if len(dT) != len(F):\n",
    "        print(\"Input Error\")\n",
    "        return 0\n",
    "    for n in range(0, len(F)):\n",
    "        pv += F[n] * math.exp(-r * dT[n])\n",
    "    return pv\n",
    "        \n",
    "# C_t is the price of call option, S_t is the current stock price, K is the strike, r is the risk-free rate, dt is time to expiration. D is the dividend of the stock, and dT is the time at which we receive the dividend. The delta is for the continuous dividend paying model. The function will return the price of the corresponding put option. \n",
    "def put_given_call(C_t, S_t, K, r, dt, D= None, dT = None, delta = 0):\n",
    "    if D is None: D = []\n",
    "    if dT is None: dT = []\n",
    "    return C_t - (S_t - PV(D, dT, r)) * math.exp(-delta * dt) + K * math.exp(-r * dt)\n",
    "\n",
    "def call_given_put(P_t, S_t, K, r, dt, D = None, dT = None, delta = 0):\n",
    "    if D is None: D = []\n",
    "    if dT is None: dT = []\n",
    "    return P_t + (S_t - PV(D, dT, r)) * math.exp(-delta * dt) - K * math.exp(-r * dt)\n",
    "\n",
    "def one_step_binomial(r, dt, u, d, Vu, Vd, delta = 0):\n",
    "    q = (math.exp((r - delta) * dt) - d)/(u-d)\n",
    "    if not (1 > q > 0): \n",
    "        print(\"Arbitrage opportunity exists\")\n",
    "        return -1\n",
    "    return math.exp(-r * dt)*(q*Vu+(1-q)*Vd)    \n",
    "\n",
    "def Delta(r, dt, u, d, Vu, Vd, S, delta = 0):\n",
    "    return math.exp(-delta * dt)*(Vu-Vd)/(S*(u-d))\n",
    "\n",
    "def B(r, dt, u, d, Vu, Vd):\n",
    "    return math.exp(-r * dt)*(u * Vd - d * Vu)/(u-d)\n",
    "\n",
    "def black_scholes_call(S_t, K, dt, r, sigma, delta):\n",
    "    d1 = (np.log(S_t / K) + (r -delta + 0.5 * sigma ** 2) * dt) / (sigma * np.sqrt(dt))\n",
    "    d2 = d1 - sigma * np.sqrt(dt)\n",
    "    call_price = S_t * np.exp(-delta * dt) * norm.cdf(d1) - K * np.exp(-r * dt) * norm.cdf(d2)\n",
    "    return call_price\n",
    "\n",
    "def black_scholes_put(S_t, K, dt, r, sigma, delta):\n",
    "    d1 = (np.log(S_t / K) + (r -delta + 0.5 * sigma ** 2) * dt) / (sigma * np.sqrt(dt))\n",
    "    d2 = d1 - sigma * np.sqrt(dt)\n",
    "    call_price = - S_t * np.exp(-delta * dt) * norm.cdf(-d1) + K * np.exp(-r * dt) * norm.cdf(-d2)\n",
    "    return call_price\n"
   ]
  },
  {
   "cell_type": "markdown",
   "source": [],
   "metadata": {
    "collapsed": false
   },
   "id": "488df3423adc56c6"
  },
  {
   "cell_type": "markdown",
   "source": [
    "**Quiz 3.1**: \n",
    "A newborn baby receives 2,000 on her birthday from her parents which is deposited into an account and invested in the Vanguard S\\&P 500 Index Fund. That is 2,000 deposited at t=0.\n",
    "\n",
    "Assume that on every subsequent birthday up to and including her 16th birthday, the baby's parents deposit an additional 1,000 into the same account and invest the money in the Vanguard S\\&P 500 Index Fund.  That is 1,000 deposited on each of t=1 through t=16.  There are no more contributions.\n",
    "\n",
    "Assume the investments in the Vanguard S\\&P 500 Index Fund grow at 6% every year after all taxes and expenses. What will be the balance in the account at the baby's 65th birthday, rounded to whole dollars?"
   ],
   "metadata": {
    "collapsed": false
   },
   "id": "1ec1784003e32afc"
  },
  {
   "cell_type": "code",
   "outputs": [
    {
     "name": "stdout",
     "output_type": "stream",
     "text": [
      "The balance in the baby's 65th birthday is 534414\n"
     ]
    }
   ],
   "source": [
    "cashflow = [2000] + [1000] * 16\n",
    "print(f\"The balance in the baby's 65th birthday is {NPV(0.06, cashflow) * (1.06) ** 65:.0f}\")"
   ],
   "metadata": {
    "collapsed": false,
    "ExecuteTime": {
     "end_time": "2024-04-23T20:04:09.051804Z",
     "start_time": "2024-04-23T20:04:09.047813Z"
    }
   },
   "id": "3b5df5eb55a38d53",
   "execution_count": 5
  },
  {
   "cell_type": "markdown",
   "source": [
    "**Quiz 3.2:**\n",
    "Suppose that the risk-less interest rate is zero.  Suppose that a stock is priced at 100, and one year from now will be at either 130 or 70, with probabilities 0.80 and 0.20, respectively. There are no dividends. \n",
    "\n",
    "What is the value of a one-year European call with strike price 110?"
   ],
   "metadata": {
    "collapsed": false
   },
   "id": "1f6e67b2d6fc0226"
  },
  {
   "cell_type": "code",
   "outputs": [
    {
     "name": "stdout",
     "output_type": "stream",
     "text": [
      "The price of the call option is 10.00\n"
     ]
    }
   ],
   "source": [
    "u = 130/100\n",
    "d = 70/100\n",
    "q = (1-d)/(u-d)\n",
    "print(f\"The price of the call option is {q * 20 + (1-q) * 0:.2f}\")"
   ],
   "metadata": {
    "collapsed": false,
    "ExecuteTime": {
     "end_time": "2024-04-23T20:06:36.401435Z",
     "start_time": "2024-04-23T20:06:36.397380Z"
    }
   },
   "id": "2380dc2ada5461e6",
   "execution_count": 7
  },
  {
   "cell_type": "markdown",
   "source": [
    "**Quiz 3.3:**\n",
    "Suppose that the riskless interest rate is zero.  Suppose that a stock is priced at 100, and one year from now will be at either 130 or 70, with probabilities 0.80 and 0.20, respectively. There are no dividends.  Consider a one-year European call option with strike price 110.\n",
    "\n",
    "What portfolio of the stock and a riskless bond exactly replicates this call option?"
   ],
   "metadata": {
    "collapsed": false
   },
   "id": "198d138984c394ca"
  },
  {
   "cell_type": "code",
   "outputs": [
    {
     "name": "stdout",
     "output_type": "stream",
     "text": [
      "We need to buy 0.33 shares of the stock\n",
      "We also need to short 23.33 in the bank\n"
     ]
    }
   ],
   "source": [
    "print(f\"We need to buy {Delta(r = 0, dt = 1, u = 1.3, d = 0.7, Vu = 20, Vd = 0, S = 100):.2f} shares of the stock\")\n",
    "print(f\"We also need to short {-B(r = 0, dt = 1, u = 1.3, d =0.7, Vu = 20, Vd = 0):.2f} in the bank\")"
   ],
   "metadata": {
    "collapsed": false,
    "ExecuteTime": {
     "end_time": "2024-04-23T20:09:50.743321Z",
     "start_time": "2024-04-23T20:09:50.740420Z"
    }
   },
   "id": "6a4ca917afbe98fb",
   "execution_count": 12
  },
  {
   "cell_type": "markdown",
   "source": [
    "**Quiz 3.4:**\n",
    "Suppose that the riskless interest rate is zero.  Suppose that a stock is priced at 100, and one year from now will be at either 130 or 70, with probabilities 0.80 and 0.20, respectively. There are no dividends. \n",
    "\n",
    "What is $\\alpha$, the continuously compounded expected return on the stock?"
   ],
   "metadata": {
    "collapsed": false
   },
   "id": "b70e88b18cf0df47"
  },
  {
   "cell_type": "code",
   "outputs": [
    {
     "name": "stdout",
     "output_type": "stream",
     "text": [
      "The alpha is 16.55%\n"
     ]
    }
   ],
   "source": [
    "print(f\"The alpha is {math.log(118/100, math.e)*100:.2f}%\")"
   ],
   "metadata": {
    "collapsed": false,
    "ExecuteTime": {
     "end_time": "2024-04-23T20:13:22.452120Z",
     "start_time": "2024-04-23T20:13:22.448602Z"
    }
   },
   "id": "b5469e8857f7c89b",
   "execution_count": 13
  },
  {
   "cell_type": "markdown",
   "source": [
    "**Quiz 3.5:**\n",
    "Consider a two-period binomial model, where each period is 6 months. Assume the stock price is 46.00, $\\sigma$ = 0.28, the annual continuously compounded risk free rate r = 6\\% and the annual continuously compounded dividend yield $\\delta$ is 2%. \n",
    "\n",
    "Assume the binomial tree is constructed using:\n",
    "$$u = e^{(r-\\delta)h+\\sigma\\sqrt{h}}$$\n",
    "$$d = e^{(r-\\delta)h-\\sigma\\sqrt{h}}$$\n",
    "\n",
    "\n",
    "At what strike price would early exercise occur with an American call option?"
   ],
   "metadata": {
    "collapsed": false
   },
   "id": "5c2038b836903a1d"
  },
  {
   "cell_type": "code",
   "outputs": [
    {
     "name": "stdout",
     "output_type": "stream",
     "text": [
      "If we choose not to exercise early when the stock goes up once, the value of the option is 38.197\n",
      "If we choose to exercise early when the stock goes up once, the payoff is 38.204\n",
      "If we choose not to exercise early when the stock goes down once, the value of the option is 19.678\n",
      "If we choose to exercise early when the stock goes up once, the payoff is 19.500\n",
      "If we choose not to exercise early, then the payoff is 27.199\n"
     ]
    }
   ],
   "source": [
    "u = math.exp((0.06-0.02)*0.5 + 0.28 * 0.5 ** 0.5)\n",
    "d = math.exp((0.06-0.02)*0.5 - 0.28 * 0.5 ** 0.5)\n",
    "K = 19\n",
    "Cu = one_step_binomial(r = 0.06, dt = 0.5, u = u, d = d, Vu = max(46 * u * u - K, 0), Vd = max(46 * u * d -K, 0), delta = 0.02)\n",
    "print(f\"If we choose not to exercise early when the stock goes up once, the value of the option is {Cu:.3f}\")\n",
    "print(f\"If we choose to exercise early when the stock goes up once, the payoff is {max(46 * u - K, 0):.3f}\")\n",
    "Cd = one_step_binomial(r = 0.06, dt = 0.5, u = u, d = d, Vu = max(46 * d * u - K, 0), Vd = max(46 * d * d -K, 0), delta = 0.02)\n",
    "print(f\"If we choose not to exercise early when the stock goes down once, the value of the option is {Cd:.3f}\")\n",
    "print(f\"If we choose to exercise early when the stock goes up once, the payoff is {max(46 * d - K, 0):.3f}\")\n",
    "C = one_step_binomial(r = 0.06, dt = 0.5, u = u, d = d, Vu = max(Cu, max(46 * u - K, 0)), Vd = Cd, delta = 0.02)\n",
    "print(f\"If we choose not to exercise early, then the payoff is {C:.3f}\")"
   ],
   "metadata": {
    "collapsed": false,
    "ExecuteTime": {
     "end_time": "2024-04-23T20:28:28.794986Z",
     "start_time": "2024-04-23T20:28:28.790879Z"
    }
   },
   "id": "20bdc4c5254ee739",
   "execution_count": 21
  },
  {
   "cell_type": "markdown",
   "source": [
    "**Quiz 3.6:**\n",
    "Consider a one-period binomial model of 6 months. Assume the stock price is 63.00, $\\sigma$ = 0.28, the annual continuously compounded risk free rate r = 5% and the stock's expected annual continuously compounded return is 14.0%. There are no dividends.\n",
    "\n",
    "Assume the binomial tree is constructed using:\n",
    "\n",
    "$$u = e^{(r-\\delta)h+\\sigma\\sqrt{h}}$$\n",
    "$$d = e^{(r-\\delta)h-\\sigma\\sqrt{h}}$$\n",
    "\n",
    "What is the true probability of the stock going up?"
   ],
   "metadata": {
    "collapsed": false
   },
   "id": "bf1683591326093"
  },
  {
   "cell_type": "code",
   "outputs": [
    {
     "name": "stdout",
     "output_type": "stream",
     "text": [
      "The probability that the stock will go up is 0.566\n"
     ]
    }
   ],
   "source": [
    "u = math.exp(0.05 * 0.5 + 0.28 * 0.5 ** 0.5)\n",
    "d = math.exp(0.05 * 0.5 - 0.28 * 0.5 ** 0.5)\n",
    "print(f\"The probability that the stock will go up is {(math.exp(0.07) - d)/(u-d):.3f}\")"
   ],
   "metadata": {
    "collapsed": false,
    "ExecuteTime": {
     "end_time": "2024-04-23T20:39:50.824009Z",
     "start_time": "2024-04-23T20:39:50.820162Z"
    }
   },
   "id": "b6f307b2bbe448ad",
   "execution_count": 24
  },
  {
   "cell_type": "markdown",
   "source": [
    "**Quiz 3.8:**\n",
    "True or False:  Option pricing does not depend on the expected return of the underlying stock."
   ],
   "metadata": {
    "collapsed": false
   },
   "id": "3678f6a5545b95a4"
  },
  {
   "cell_type": "markdown",
   "source": [
    "**Solution:** True"
   ],
   "metadata": {
    "collapsed": false
   },
   "id": "fc268229ce4d3dd0"
  },
  {
   "cell_type": "markdown",
   "source": [
    "**Quiz 3.10:**\n",
    "The stock price S = 100 and the annual continuously compounded risk-free rate is 5%. There are no dividends.\n",
    "\n",
    "Consider a 1-year European call option strike at- the-money (strike price = current stock price)\n",
    "\n",
    "If the volatility $\\sigma$ is zero, what is the option worth?"
   ],
   "metadata": {
    "collapsed": false
   },
   "id": "89050b29640f73c4"
  },
  {
   "cell_type": "code",
   "outputs": [
    {
     "name": "stdout",
     "output_type": "stream",
     "text": [
      "The option worth 4.88\n"
     ]
    }
   ],
   "source": [
    "print(f\"The option worth {(100 * math.exp(0.05) - 100) * math.exp(-0.05):.2f}\")"
   ],
   "metadata": {
    "collapsed": false,
    "ExecuteTime": {
     "end_time": "2024-04-25T06:32:04.641871Z",
     "start_time": "2024-04-25T06:32:04.624297Z"
    }
   },
   "id": "c29a698e5952a825",
   "execution_count": 3
  },
  {
   "cell_type": "markdown",
   "source": [
    "# Black-Scholes Framework of Stock price\n",
    "We model the stock price by using the following **ito's process**\n",
    "$$\\frac{dS_t}{S_t} = \\mu dt + \\sigma dB_t$$\n",
    "where $B_t$ is the standard **Brownian motion/Wiener process**, and $dB_t \\sim N(0, dt)$. We call the $\\mu$ as the **drift** and $\\sigma$ as the **volatility**. \n",
    "\n",
    "# Ito's Lemma\n",
    "Let $f(x, t)$ be a twice differentiable function, and $dX_t = \\mu_t dt + \\sigma_tdB_t$ be an ito's process. Then we have \n",
    "$$df(X,t) = \\left(\\frac{\\partial f}{\\partial t} + \\mu_t\\frac{\\partial f}{\\partial x}+\\frac{\\sigma_t^2}{2}\\frac{\\partial^2 f}{\\partial x^2}\\right)dt+\\sigma_t\\frac{\\partial f}{\\partial x}dB_t$$\n",
    "\n",
    "# Solving stock price formula by Ito's Lemma\n",
    "Take $f(x, t) = \\ln X$, and $dS_t = \\mu S_t dt + \\sigma S_t dB_t$, then we have \n",
    "$$d\\ln(S_t) = (\\frac{1}{S_t}\\cdot \\mu_tS_t - \\frac{1}{S_t^2}\\frac{\\sigma^2S_t}{2})dt + \\sigma S_t \\frac{1}{S_t}dB_t = (\\mu-\\frac{\\sigma^2}{2})dt + \\sigma dB_t$$\n",
    "\n",
    "By integrating both sides, we have \n",
    "$$S_t = S_0\\text{exp}((\\mu-\\sigma^2/2)t+\\sigma B_t)$$\n",
    "where $B_t$ is the Brownian motion respect to the real probability. In the risk-neutral world, the discounted stock price is a Martingale. If the stock does not pay divident, then we can solve that \n",
    "$$S_t = S_0(\\text{exp}(r-\\sigma^2/2)t + \\sigma \\tilde{B_t})$$\n",
    "\n",
    "# Black-Scholes Formula\n",
    "Assume that the risk-free rate is $r$. Then the call option with strike $K$, mature in time T, on a stock with price $S$, volatility $\\sigma$, continuous dividend yield $\\delta$ has price \n",
    "$$C = Se^{-\\delta T}N(d_1)-Ke^{-rT}N(d_2)$$\n",
    "$$d_1 = \\frac{\\ln(S/K)+(r-\\delta+\\frac{1}{2}\\sigma^2)T}{\\sigma\\sqrt{T}}$$\n",
    "$$d_2 = d_1-\\sigma\\sqrt{T}$$"
   ],
   "metadata": {
    "collapsed": false
   },
   "id": "84d6d0040a788143"
  },
  {
   "cell_type": "code",
   "outputs": [
    {
     "data": {
      "text/plain": "<Figure size 640x480 with 1 Axes>",
      "image/png": "[encoded data removed]"
     },
     "metadata": {},
     "output_type": "display_data"
    }
   ],
   "source": [
    "import numpy as np\n",
    "import matplotlib.pyplot as plt\n",
    "\n",
    "def stock_price(T, N, mu, sigma, S0):\n",
    "    dt = float(T) / N\n",
    "    t = np.linspace(0, T, N+1)\n",
    "    W = np.zeros(N+1)\n",
    "    W[0] = S0\n",
    "    for i in range(1, N+1):\n",
    "        Z = np.random.normal(0, 1)\n",
    "        W[i] = W[i-1] + W[i-1] * mu * dt + W[i-1]* sigma * np.sqrt(dt) * Z\n",
    "    return t, W\n",
    "\n",
    "# Parameters\n",
    "T = 1.0     # Time horizon\n",
    "N = 1000    # Number of time steps\n",
    "mu = 0.1    # Drift\n",
    "sigma = 0.3 # Volatility\n",
    "S0 = 100    # Initial value\n",
    "\n",
    "t, W = stock_price(T, N, mu, sigma, S0)\n",
    "\n",
    "# Plot Brownian motion\n",
    "plt.plot(t, W)\n",
    "plt.xlabel('Time')\n",
    "plt.ylabel('Value')\n",
    "plt.title('Stock Price Simulation')\n",
    "plt.grid(True)\n",
    "plt.show()"
   ],
   "metadata": {
    "collapsed": false,
    "ExecuteTime": {
     "end_time": "2024-04-25T21:11:28.354016Z",
     "start_time": "2024-04-25T21:11:28.273554Z"
    }
   },
   "id": "d45c7a5822297ec0",
   "execution_count": 31
  },
  {
   "cell_type": "markdown",
   "source": [
    "**Exercise 12.3:** Let S = $100, K = $120, $\\sigma$ = 30%, r = 0.08, and $\\delta$ = 0. \n",
    "\n",
    "a. Compute the Black-Scholes call price for 1 year to maturity and for a variety of very long times to maturity. What happens to the option price as $T\\rightarrow\\infty$? \\\n",
    "b. Set $\\delta$ = 0.001. Repeat (a). Now what happens to the option price? What accounts for the difference?"
   ],
   "metadata": {
    "collapsed": false
   },
   "id": "e1aa98f93cf639a9"
  },
  {
   "cell_type": "code",
   "outputs": [
    {
     "name": "stdout",
     "output_type": "stream",
     "text": [
      "a) The 1 year call option has price 7.897\n",
      "   If T goes to infinity, then the price of the call option will converge to the stock price 100. We print a short list of call option price with longer time to maturity\n",
      "   The call option with T = 10 has price 56.238\n",
      "   The call option with T = 100 has price 99.963\n",
      "   The call option with T = 1000 has price 100.000\n",
      "   The call option with T = 10000 has price 100.000\n",
      "   The call option with T = 100000 has price 100.000\n",
      "b) If the continuous dividend yield is 0.001, then the call option price will converge to 0. We print a shor list of call options with longer time to maturity\n",
      "   The call option with T = 10 has price 55.373\n",
      "   The call option with T = 100 has price 90.447\n",
      "   The call option with T = 1000 has price 36.788\n",
      "   The call option with T = 10000 has price 0.005\n",
      "   The call option with T = 100000 has price 0.000\n",
      "The difference is that the if the stock pays dividend, then the holder of the call option can never get the dividend, and the longer we hold the contract, the more dividend we will lose, and the value of a very long call option on a dividend paying stock should be zero.\n"
     ]
    }
   ],
   "source": [
    "print(f\"a) The 1 year call option has price {black_scholes_call(100, 120, 1, 0.08, 0.3, 0):.3f}\")\n",
    "print(\"   If T goes to infinity, then the price of the call option will converge to the stock price 100. We print a short list of call option price with longer time to maturity\")\n",
    "for T in [10, 100, 1000, 10000, 100000]:\n",
    "    print(f\"   The call option with T = {T} has price {black_scholes_call(100,120, T, 0.08, 0.3, 0):.3f}\")\n",
    "print(f\"b) If the continuous dividend yield is 0.001, then the call option price will converge to 0. We print a shor list of call options with longer time to maturity\")\n",
    "for T in [10, 100, 1000, 10000, 100000]:\n",
    "    print(f\"   The call option with T = {T} has price {black_scholes_call(100,120, T, 0.08, 0.3, 0.001):.3f}\")\n",
    "print(f\"The difference is that the if the stock pays dividend, then the holder of the call option can never get the dividend, and the longer we hold the contract, the more dividend we will lose, and the value of a very long call option on a dividend paying stock should be zero.\")"
   ],
   "metadata": {
    "collapsed": false,
    "ExecuteTime": {
     "end_time": "2024-04-25T21:29:47.682270Z",
     "start_time": "2024-04-25T21:29:47.673876Z"
    }
   },
   "id": "3d0fb082ba589c02",
   "execution_count": 62
  },
  {
   "cell_type": "markdown",
   "source": [
    "**Exercise 12.4:** Let S = 120, K = 100, $\\sigma$ = 30%, r = 0, and $\\delta$ = 0.08.\n",
    "\n",
    "a. Compute the Black-Scholes call price for 1 year to maturity and for a variety of very long times to maturity. What happens to the price as $T\\rightarrow\\infty$?\n",
    "b. Set r = 0.001. Repeat (a). Now what happens? What accounts for the difference?"
   ],
   "metadata": {
    "collapsed": false
   },
   "id": "a50df3e990fb807a"
  },
  {
   "cell_type": "code",
   "outputs": [
    {
     "name": "stdout",
     "output_type": "stream",
     "text": [
      "a) The 1 year call option has price 18.671\n",
      "   If T goes to infinity, then the price of the call option will converge to 0. We print a short list of call option price with longer time to maturity\n",
      "   The call option with T = 10 has price 10.157\n",
      "   The call option with T = 100 has price 0.003\n",
      "   The call option with T = 1000 has price 0.000\n",
      "   The call option with T = 10000 has price 0.000\n",
      "   The call option with T = 100000 has price 0.000\n",
      "b) If the continuous interest rate is 0.001, then the call option price will converge to 0. We print a shor list of call options with longer time to maturity\n",
      "   The call option with T = 10 has price 10.288\n",
      "   The call option with T = 100 has price 0.004\n",
      "   The call option with T = 1000 has price 0.000\n",
      "   The call option with T = 10000 has price 0.000\n",
      "   The call option with T = 100000 has price 0.000\n"
     ]
    }
   ],
   "source": [
    "print(f\"a) The 1 year call option has price {black_scholes_call(120, 100, 1, 0, 0.3, 0.08):.3f}\")\n",
    "print(\"   If T goes to infinity, then the price of the call option will converge to 0. We print a short list of call option price with longer time to maturity\")\n",
    "for T in [10, 100, 1000, 10000, 100000]:\n",
    "    print(f\"   The call option with T = {T} has price {black_scholes_call(120,100, T, 0, 0.3, 0.08):.3f}\")\n",
    "print(f\"b) If the continuous interest rate is 0.001, then the call option price will converge to 0. We print a shor list of call options with longer time to maturity\")\n",
    "for T in [10, 100, 1000, 10000, 100000]:\n",
    "    print(f\"   The call option with T = {T} has price {black_scholes_call(120,100, T, 0.001, 0.3, 0.08):.3f}\")"
   ],
   "metadata": {
    "collapsed": false,
    "ExecuteTime": {
     "end_time": "2024-05-06T08:19:03.087054Z",
     "start_time": "2024-05-06T08:19:03.072689Z"
    }
   },
   "id": "a6b44f91df79750e",
   "execution_count": 35
  },
  {
   "cell_type": "markdown",
   "source": [
    "**Exercise 12.7**Suppose S = 100, K = 95, $\\sigma$ = 30\\%, r = 0.08, $\\delta$ = 0.03, and T = 0.75. \\\n",
    "a. Compute the Black-Scholes price of a call.\n",
    "b. Compute the Black-Scholes price of a call for which $S = 100 \\cdot e^{−0.03\\cdot 0.75}$, $K = 95  e^{−0.08\\cdot 0.75}$, $\\sigma$ = 0.3, T = 0.75, $\\delta$ = 0, r = 0. How does your answer compare to that for (a)?"
   ],
   "metadata": {
    "collapsed": false
   },
   "id": "821c0163fa7835cf"
  },
  {
   "cell_type": "code",
   "outputs": [
    {
     "name": "stdout",
     "output_type": "stream",
     "text": [
      "a) The price of this call option is 14.386\n",
      "b) The price of this call option is 14.386. They are the same\n"
     ]
    }
   ],
   "source": [
    "print(f\"a) The price of this call option is {black_scholes_call(100, 95, 0.75, 0.08, 0.3, 0.03):.3f}\")\n",
    "print(f\"b) The price of this call option is {black_scholes_call(100 * math.exp(-0.03 * 0.75), 95* math.exp(-0.08 * 0.75), 0.75, 0, 0.3, 0):.3f}.\", \"They are the same\")"
   ],
   "metadata": {
    "collapsed": false,
    "ExecuteTime": {
     "end_time": "2024-05-06T07:42:39.095938Z",
     "start_time": "2024-05-06T07:42:39.083494Z"
    }
   },
   "id": "4690edc12afd431a",
   "execution_count": 15
  },
  {
   "cell_type": "markdown",
   "source": [
    "**Exercise 12.13:**\n",
    "Consider a bull spread where you buy a 40-strike call and sell a 45-strike call. Suppose S = 40, $\\sigma$ = 0.30, r = 0.08, $\\delta$ = 0, and T = 0.5. Draw a graph with stock\n",
    "prices ranging from 20 to 60 depicting the profit on the bull spread after 1 day, 3 months, and 6 months."
   ],
   "metadata": {
    "collapsed": false
   },
   "id": "42d67a71f98f7a27"
  },
  {
   "cell_type": "code",
   "outputs": [
    {
     "name": "stderr",
     "output_type": "stream",
     "text": [
      "C:\\Users\\tianhao\\AppData\\Local\\Temp\\ipykernel_32592\\148146544.py:51: RuntimeWarning: divide by zero encountered in true_divide\n",
      "  d1 = (np.log(S_t / K) + (r -delta + 0.5 * sigma ** 2) * dt) / (sigma * np.sqrt(dt))\n"
     ]
    },
    {
     "data": {
      "text/plain": "<Figure size 640x480 with 1 Axes>",
      "image/png": "[encoded data removed]"
     },
     "metadata": {},
     "output_type": "display_data"
    }
   ],
   "source": [
    "import numpy as np\n",
    "import matplotlib.pyplot as plt\n",
    "\n",
    "def payoff(S, t):\n",
    "    return black_scholes_call(S, 40, 0.5-t, 0.08, 0.3, 0) - black_scholes_call(S, 45, 0.5-t, 0.08, 0.3, 0)\n",
    "\n",
    "\n",
    "S = np.linspace(20, 60, 1000)\n",
    "\n",
    "P_1 = payoff(S, 1/356)\n",
    "P_2 = payoff(S, 0.25)\n",
    "P_3 = payoff(S, 0.5)\n",
    "# Plot Brownian motion\n",
    "plt.plot(S, P_1, label = \"1 day\", color = \"red\")\n",
    "plt.plot(S, P_2, label = \"3 months\", color = \"blue\")\n",
    "plt.plot(S, P_3, label = \"6 months\", color = \"yellow\")\n",
    "\n",
    "plt.xlabel('Stock Price')\n",
    "plt.ylabel('Profit')\n",
    "plt.title('Profit of Bull Spread')\n",
    "plt.grid(True)\n",
    "plt.legend()\n",
    "plt.show()"
   ],
   "metadata": {
    "collapsed": false,
    "ExecuteTime": {
     "end_time": "2024-05-06T08:04:00.030746Z",
     "start_time": "2024-05-06T08:03:59.929761Z"
    }
   },
   "id": "b5d61991df06e48c",
   "execution_count": 28
  },
  {
   "cell_type": "markdown",
   "source": [
    "For those who have knowledge in PDE, you can see from the above diagram that the BS formula is the solution to some inverse heat equation. "
   ],
   "metadata": {
    "collapsed": false
   },
   "id": "f1977d23583f004d"
  },
  {
   "cell_type": "markdown",
   "source": [
    "**Exercise 12.20:** Let S = 100, K = 90, $\\sigma$ = 30%, r = 8%, $\\delta$ = 5%, and T = 1. \\\n",
    "a. What is the Black-Scholes call price? \\\n",
    "b. Now price a put where S = 90, K = 100, $\\sigma$ = 30%, r = 5%, $\\delta$ = 8%, and T = 1. \\\n",
    "c. What is the link between your answers to (a) and (b)? Why?"
   ],
   "metadata": {
    "collapsed": false
   },
   "id": "269934ebccb50ae8"
  },
  {
   "cell_type": "code",
   "outputs": [
    {
     "name": "stdout",
     "output_type": "stream",
     "text": [
      "a) The price of this call option is 17.699\n",
      "b) The price of this put option is 17.699\n",
      "c) They are the same. \n"
     ]
    }
   ],
   "source": [
    "print(f\"a) The price of this call option is {black_scholes_call(100, 90, 1, 0.08, 0.3, 0.05):.3f}\")\n",
    "print(f\"b) The price of this put option is {black_scholes_put(90, 100, 1, 0.05, 0.3, 0.08):.3f}\")\n",
    "print(\"c) They are the same. \")"
   ],
   "metadata": {
    "collapsed": false,
    "ExecuteTime": {
     "end_time": "2024-05-06T08:09:56.963451Z",
     "start_time": "2024-05-06T08:09:56.953066Z"
    }
   },
   "id": "33e0562f55d65b2e",
   "execution_count": 34
  }
 ],
 "metadata": {
  "kernelspec": {
   "display_name": "Python 3",
   "language": "python",
   "name": "python3"
  },
  "language_info": {
   "codemirror_mode": {
    "name": "ipython",
    "version": 2
   },
   "file_extension": ".py",
   "mimetype": "text/x-python",
   "name": "python",
   "nbconvert_exporter": "python",
   "pygments_lexer": "ipython2",
   "version": "2.7.6"
  }
 },
 "nbformat": 4,
 "nbformat_minor": 5
}
