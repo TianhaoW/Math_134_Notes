{
 "cells": [
  {
   "cell_type": "markdown",
   "source": [
    "# Math 134C Week 1"
   ],
   "metadata": {
    "collapsed": false
   },
   "id": "62fc2ce705bec6da"
  },
  {
   "cell_type": "markdown",
   "source": [
    "## Review of the options\n",
    "A **call option** is a contract with a expiry date $T>t$ and a **strike price/exercise price** $K>0$ in which\n",
    "1. The holder (who has the long position) has the **right** to buy the underlying asset at the strike price at the expiry date. (This is the European option. For American option, holder can choose to exercise the right anytime before the expiry date)\n",
    "2. The writer (who has the short position) is obliged to deliver the underlying asset at the strike price if the holder choose to exercise the right.\n",
    "\n",
    "The payoff of holding the call option at the expiry date is \n",
    "$$C_T(S_T, K) = (S_T-K)^+ = \\max(S_T-K, 0)$$\n",
    "The holder of the contract needs to pay a positive amount of money to the writer (this is a consequence of no arbitrage). We call that as **premium**. We will learn in this class about what is the right price for a call option.\n",
    "\n",
    "A **put option** is defined similarly. The difference is that the holder has the right to sell the underlying asset at the strike price. The payoff for the holder is \n",
    "$$P_T(S_T, K) = (K-S_T)^+$$\n",
    "\n",
    "Also, note that if a stock pays dividend, then the holder of the call option does not have the right to receive the dividend. Usually the amound of dividend paid will be the amount that the stock price decreases. "
   ],
   "metadata": {
    "collapsed": false
   },
   "id": "109321aad2aa7d03"
  },
  {
   "cell_type": "markdown",
   "source": [
    "## Put-Call Parity\n",
    "Consider a call option and a put option written on the same underlying asset with price $S_t$, with the same strike price and also same expiry date $T$. Suppose the risk-free factor is $r$. Then the price of call option and put option $C_t, P_t$ satisfies\n",
    "$$C_t-P_t = S_t-Ke^{-r(T-t)}$$\n",
    "\n",
    "**Proof:**\n",
    "We consider a portfolio consisting of longing a call option and short a put option. Then its payoff at time $T$ is $$(S_T-K)^+ -(K-S_T)^+ = S_T-K.$$ Consider another portfolio of long a share of stock and short $Ke^{-r(T-t)}$ in the bank, then the payoff at time $T$ is also $S_T-K$. Since those two portfolio have the same payoff at time $T$, their value at time $t$ must also be the same by the no arbitrage principle. Hence, we get $C_t-P_t = S_t-Ke^{-r(T-t)}$"
   ],
   "metadata": {
    "collapsed": false
   },
   "id": "c7627a92d9217abc"
  },
  {
   "cell_type": "code",
   "outputs": [],
   "source": [
    "import math\n",
    "def put_given_call(C_t, S_t, K, r, dt):\n",
    "    return C_t - S_t + K * math.exp(-r * dt)\n",
    "def call_given_put(P_t, S_t, K, r, dt):\n",
    "    return P_t + S_t - K * math.exp(-r * dt)"
   ],
   "metadata": {
    "collapsed": false,
    "ExecuteTime": {
     "end_time": "2024-04-04T21:37:56.479692Z",
     "start_time": "2024-04-04T21:37:56.473660Z"
    }
   },
   "id": "a6cfcb7bcfa92579",
   "execution_count": 25
  },
  {
   "cell_type": "markdown",
   "source": [
    "### Example in the lecture 1 note. \n",
    "\n",
    "Question: There are two days until expiration date. Yuting wants to sell a call option with strike price 100; i.e., she wants to go short on $C_100$. The interest rate is $r = 10\\%$ and the current value of the stock is 120. Use the put-call parity expression to find a lower bound on the value of this Call.\n",
    "\n",
    "Answer: The lower bound of the call option price is reached when the put option price is minimized. The minimal put option price is $0$. So we run the following code to find the lower bound for the call option price. "
   ],
   "metadata": {
    "collapsed": false
   },
   "id": "8bb60625a42954cb"
  },
  {
   "cell_type": "code",
   "outputs": [
    {
     "data": {
      "text/plain": "20.05477951109212"
     },
     "execution_count": 26,
     "metadata": {},
     "output_type": "execute_result"
    }
   ],
   "source": [
    "call_given_put(P_t = 0, S_t = 120, K = 100, r = 0.1, dt = 2/365)"
   ],
   "metadata": {
    "collapsed": false,
    "ExecuteTime": {
     "end_time": "2024-04-04T21:37:57.040573Z",
     "start_time": "2024-04-04T21:37:57.037083Z"
    }
   },
   "id": "2d2bf0f3a6ecd1a6",
   "execution_count": 26
  },
  {
   "cell_type": "markdown",
   "source": [
    "### Put-Call parity for dividend paying stock\n",
    "Suppose the stock will pay a dividend of amount $D$ at a time between $t$ and $T$. Then the value of the stock at $t$ should be adjusted to $S_t - PV(D)$ given that we are not receiving the dividend. So we get the formula \n",
    "$$C_t-P_t = S_t-PV(D) - Ke^{-r(T-t)}$$\n",
    "For continuous dividend paying stock with continuous dividend yield $\\delta$, the future value of the stock with the dividend at the time $T$ is given by $S_Te^{\\delta (T-t)}$. Hence it is enough to hold $e^{-\\delta(T-t)}$ share of stock, and its payoff (future value) at time $T$ is $S_T$. Then we get the formula\n",
    "\n",
    "$$C_t - P_t = S_te^{-\\delta(T-t)} - Ke^{-r(T-t)}$$ "
   ],
   "metadata": {
    "collapsed": false
   },
   "id": "aec9de46b8348a0d"
  },
  {
   "cell_type": "code",
   "outputs": [],
   "source": [
    "import math\n",
    "# r is the risk-free rate, F is a cash flow, and dT is the time that we get each cash flow\n",
    "def PV(F, dT, r):\n",
    "    pv = 0\n",
    "    if len(dT) != len(F):\n",
    "        print(\"Input Error\")\n",
    "        return 0\n",
    "    for n in range(0, len(F)):\n",
    "        pv += F[n] * math.exp(-r * dT[n])\n",
    "    return pv\n",
    "        \n",
    "# C_t is the price of call option, S_t is the current stock price, K is the strike, r is the risk-free rate, dt is time to expiration. D is the dividend of the stock, and dT is the time at which we receive the dividend. The delta is for the continuous dividend paying model. The function will return the price of the corresponding put option. \n",
    "def put_given_call(C_t, S_t, K, r, dt, D= None, dT = None, delta = 0):\n",
    "    if D is None: D = []\n",
    "    if dT is None: dT = []\n",
    "    return C_t - (S_t - PV(D, dT, r)) * math.exp(-delta * dt) + K * math.exp(-r * dt)\n",
    "\n",
    "def call_given_put(P_t, S_t, K, r, dt, D = None, dT = None, delta = 0):\n",
    "    if D is None: D = []\n",
    "    if dT is None: dT = []\n",
    "    return P_t + (S_t - PV(D, dT, r)) * math.exp(-delta * dt) - K * math.exp(-r * dt)"
   ],
   "metadata": {
    "collapsed": false,
    "ExecuteTime": {
     "end_time": "2024-04-04T21:37:57.578962Z",
     "start_time": "2024-04-04T21:37:57.572958Z"
    }
   },
   "id": "58fe8b2be874d96b",
   "execution_count": 27
  },
  {
   "cell_type": "markdown",
   "source": [
    "### Example\n",
    "Problem 9.1 In textbook\n",
    "\n",
    "A stock currently sells for 32.00. A 6-month call option with a strike of 35.00 has a premium of 2.27. Assuming a 0.04 continuously compounded risk-free rate and a 0.06 continuous dividend yield, what is the price of the associated put option?"
   ],
   "metadata": {
    "collapsed": false
   },
   "id": "411a8764cfaf128a"
  },
  {
   "cell_type": "code",
   "outputs": [
    {
     "data": {
      "text/plain": "5.522696492184174"
     },
     "execution_count": 28,
     "metadata": {},
     "output_type": "execute_result"
    }
   ],
   "source": [
    "put_given_call(C_t = 2.27, S_t = 32, K = 35, r = 0.04, dt = 0.5, delta = 0.06)"
   ],
   "metadata": {
    "collapsed": false,
    "ExecuteTime": {
     "end_time": "2024-04-04T21:37:58.120327Z",
     "start_time": "2024-04-04T21:37:58.116535Z"
    }
   },
   "id": "67dd1778e2058ed9",
   "execution_count": 28
  },
  {
   "cell_type": "markdown",
   "source": [
    "### Example\n",
    "Jafee Corp. common stock is priced at 36.50 per share. The company just paid its 0.50 quarterly dividend. The continuously compounded risk-free annual interest rate is 0.06. A 35.00 strike European call, maturing in 6 months, sells for 3.20. What is the price of a 6-month, 35.00 strike put option?"
   ],
   "metadata": {
    "collapsed": false
   },
   "id": "682c135c2ad02387"
  },
  {
   "cell_type": "code",
   "outputs": [
    {
     "data": {
      "text/plain": "1.6433724107735728"
     },
     "execution_count": 29,
     "metadata": {},
     "output_type": "execute_result"
    }
   ],
   "source": [
    "put_given_call(C_t = 3.2, S_t = 36.5, K = 35, r = 0.06, D=[0.5, 0.5], dT = [0.25, 0.5], dt = 0.5)"
   ],
   "metadata": {
    "collapsed": false,
    "ExecuteTime": {
     "end_time": "2024-04-04T21:37:58.654026Z",
     "start_time": "2024-04-04T21:37:58.650405Z"
    }
   },
   "id": "cafa77d604287604",
   "execution_count": 29
  },
  {
   "cell_type": "markdown",
   "source": [
    "### Arbitrage opportunity for mispriced options \n",
    "Consider the option on a non-dividend paying stock for simplicity. If the put-call parity equation does not hold, then we will have arbitrage opportunities. The arbitrage profit we get is the difference between two sides of the inequality. If\n",
    "$$C_t-P_t > S_t-Ke^{-r(T-t)}$$\n",
    "Then we will long the cheaper side and short the expensive side. More precisely, we create a portfolio by purchasing a stock, a put option, and we sell a call option, and borrow $Ke^{-r(T-t)}$ from the bank. Then we currently have \n",
    "$$S_t-Ke^{-r(T-t)}+P_t-C_t>0$$\n",
    "At expiry date, we have costless liquidation, and the arbitrage profit we get is exactly the number above."
   ],
   "metadata": {
    "collapsed": false
   },
   "id": "ae474f9762984b1d"
  },
  {
   "cell_type": "markdown",
   "source": [
    "## How does strike price influence the price of options\n",
    "We consider the option on a non-dividend paying stock for simplicity. \n",
    "For two options with the same expiry date but different strike price $K_1 \\leq K_2$, we have \n",
    "$$C_t(K_1)\\geq C_t(K_2)$$ \n",
    "$$P_t(K_1)\\leq P_t(K_2)$$\n",
    "Moreover, the difference between the price of those two options should be less than or equal to the difference of their strike price. we have \n",
    "$$C_t(K_1) - C_t(K_2)\\leq K_2-K_1$$\n",
    "$$P_t(K_2) - P_t(K_1)\\leq K_2-K_1$$"
   ],
   "metadata": {
    "collapsed": false
   },
   "id": "48351a997dfafb39"
  },
  {
   "cell_type": "markdown",
   "source": [
    "### Problem 9.2"
   ],
   "metadata": {
    "collapsed": false
   },
   "id": "ccb559a78ff73a7"
  },
  {
   "cell_type": "code",
   "outputs": [
    {
     "name": "stdout",
     "output_type": "stream",
     "text": [
      "The present value of the divided is given by 0.9440398007973441\n"
     ]
    },
    {
     "data": {
      "text/plain": "0.9440398007973436"
     },
     "execution_count": 30,
     "metadata": {},
     "output_type": "execute_result"
    }
   ],
   "source": [
    "print(\"The present value of the divided is given by\", call_given_put(P_t = 2.64, S_t = 32, K = 30, r = 0.04, dt = 0.5)-4.29)\n",
    "32 - 30 * math.exp(-0.04 * 0.5) - 4.29 + 2.64"
   ],
   "metadata": {
    "collapsed": false,
    "ExecuteTime": {
     "end_time": "2024-04-04T21:38:00.122369Z",
     "start_time": "2024-04-04T21:38:00.115600Z"
    }
   },
   "id": "e1a9888e660814cf",
   "execution_count": 30
  },
  {
   "cell_type": "markdown",
   "source": [
    "### Problem 9.3"
   ],
   "metadata": {
    "collapsed": false
   },
   "id": "dd7aa8b21595e22a"
  },
  {
   "cell_type": "code",
   "outputs": [
    {
     "name": "stdout",
     "output_type": "stream",
     "text": [
      "the rate of return is 0.056797598393133246\n"
     ]
    }
   ],
   "source": [
    "print(\"the rate of return is\", math.log(815/770, math.e))"
   ],
   "metadata": {
    "collapsed": false,
    "ExecuteTime": {
     "end_time": "2024-04-04T21:38:00.726264Z",
     "start_time": "2024-04-04T21:38:00.723718Z"
    }
   },
   "id": "d1f929c2d7a07875",
   "execution_count": 31
  },
  {
   "cell_type": "markdown",
   "source": [
    "b). We see that the rate of return above is greater than the risk-free rate. So we should borrow money from the bank, and purchase the above portfolio. Then we get profits for free."
   ],
   "metadata": {
    "collapsed": false
   },
   "id": "b641027552b16555"
  },
  {
   "cell_type": "code",
   "outputs": [
    {
     "name": "stdout",
     "output_type": "stream",
     "text": [
      "The correct difference between their price should be 24.748019031918034\n"
     ]
    }
   ],
   "source": [
    "print(\"The correct difference between their price should be\", call_given_put(P_t = 0, S_t = 800, K = 815, r = 0.05, dt = 1))"
   ],
   "metadata": {
    "collapsed": false,
    "ExecuteTime": {
     "end_time": "2024-04-04T21:38:01.244976Z",
     "start_time": "2024-04-04T21:38:01.240901Z"
    }
   },
   "id": "5ca5ce9d70fa5ced",
   "execution_count": 32
  },
  {
   "cell_type": "code",
   "outputs": [
    {
     "name": "stdout",
     "output_type": "stream",
     "text": [
      "The correct difference between the price of call and put under the strike price 780 should be 58.04104888944312\n",
      "The correct difference between the price of call and put under the strike price 800 should be 39.01646039942875\n",
      "The correct difference between the price of call and put under the strike price 820 should be 19.9918719094145\n",
      "The correct difference between the price of call and put under the strike price 840 should be 0.9672834194002462\n"
     ]
    }
   ],
   "source": [
    "K = 780\n",
    "print(\"The correct difference between the price of call and put under the strike price\", K,  \"should be\", \n",
    "call_given_put(P_t = 0, S_t = 800, K = K, r = 0.05, dt = 1))\n",
    "K = 800\n",
    "print(\"The correct difference between the price of call and put under the strike price\", K,  \"should be\", \n",
    "call_given_put(P_t = 0, S_t = 800, K = K, r = 0.05, dt = 1))\n",
    "K = 820\n",
    "print(\"The correct difference between the price of call and put under the strike price\", K,  \"should be\", \n",
    "call_given_put(P_t = 0, S_t = 800, K = K, r = 0.05, dt = 1))\n",
    "K = 840\n",
    "print(\"The correct difference between the price of call and put under the strike price\", K,  \"should be\", \n",
    "call_given_put(P_t = 0, S_t = 800, K = K, r = 0.05, dt = 1))"
   ],
   "metadata": {
    "collapsed": false,
    "ExecuteTime": {
     "end_time": "2024-04-04T21:38:01.629689Z",
     "start_time": "2024-04-04T21:38:01.627024Z"
    }
   },
   "id": "e6bcc7b025223315",
   "execution_count": 33
  }
 ],
 "metadata": {
  "kernelspec": {
   "display_name": "Python 3",
   "language": "python",
   "name": "python3"
  },
  "language_info": {
   "codemirror_mode": {
    "name": "ipython",
    "version": 2
   },
   "file_extension": ".py",
   "mimetype": "text/x-python",
   "name": "python",
   "nbconvert_exporter": "python",
   "pygments_lexer": "ipython2",
   "version": "2.7.6"
  }
 },
 "nbformat": 4,
 "nbformat_minor": 5
}
