{
 "cells": [
  {
   "cell_type": "markdown",
   "id": "d22d4f8b45752d6",
   "metadata": {
    "collapsed": false
   },
   "source": [
    "# Math 134A Week 9"
   ]
  },
  {
   "cell_type": "markdown",
   "id": "f7788813e5ca337",
   "metadata": {
    "collapsed": false
   },
   "source": [
    "**Exercise 7.4**(Quick CAPM derivation) Derive the CAPM formula for $\\overline{r}_k — r_f$ by using Equation (6.9) in Chapter 6. [Hint: Note that $\\sum_1^n \\sigma_{ik}w_i = \\text{cov}(r_k, r_M)$].  "
   ]
  },
  {
   "cell_type": "markdown",
   "source": [
    "**Solution:**\n",
    "Let $w_i$ be the weight of the market portfolio in the asset $i$. Then we have \n",
    "$$\\overline{r_M} = \\sum_1^n w_i\\overline{r_i}$$\n",
    "By the one fund theorem, we know that $w_i$ satisfies the equation \n",
    "$$\\sum_1^n \\sigma_{ik}\\lambda w_i = \\overline{r_k}-r_f$$\n",
    "Note that $\\sigma_{kM} = \\text{Cov}(r_k, r_M) = \\text{Cov}(r_k, \\sum_1^n w_ir_i) = \\sum_1^n \\sigma_{ik}w_i$ (which is also in the hint). We have \n",
    "$$\\lambda \\sigma_{kM} = \\overline{r_k}-r_f$$ \n",
    "We take the weighted sum with weights $w_k$ on both sides, and we get \n",
    "$$\\sum_1^n w_k\\lambda\\sigma_{kM} = \\sum_1^n w_k(\\overline{r_k}-r_f)$$\n",
    "and thus,\n",
    "$$\\lambda\\sigma_M^2 = \\overline{r_M}-r_f$$\n",
    "We solved that \n",
    "$$\\lambda = \\frac{\\overline{r_M}-r_f}{\\sigma_M^2}$$\n",
    "Substituting this $\\lambda$ in the third equation above gives the formula in CAPM\n",
    "$$\\frac{\\overline{r_M}-r_f}{\\sigma_M^2}\\sigma_{kM} = \\overline{r_k}-r_f$$"
   ],
   "metadata": {
    "collapsed": false
   },
   "id": "5f4aff796116449f"
  },
  {
   "cell_type": "markdown",
   "id": "50842ae306cfe0cc",
   "metadata": {
    "collapsed": false
   },
   "source": [
    "# CAPM as pricing model\n",
    "Suppose that an asset is purchased at price $P$ (which is deterministic) and latter sold at price $Q$ (which is a random variable) in the future. Then, we have $r = \\frac{Q-P}{P}$, and $\\overline{r} - r_f = \\beta(\\overline{r_M}-r_f)$. Hence, we get \n",
    "$$P = \\frac{\\overline{Q}}{1+\\overline{r}} = \\frac{\\overline{Q}}{1+r_f+\\beta(\\overline{r_M}-r_f)}$$\n"
   ]
  },
  {
   "cell_type": "markdown",
   "id": "169f9bc35f7aaf4c",
   "metadata": {
    "collapsed": false
   },
   "source": [
    "**Exercise 7.10** (Little world CAPM) Suppose there are only two al assets with expected rates of return $\\overline{r_1} = 0.1, \\overline{r_2} = 0.2$ and covariances $\\sigma_1^2 = 0.04, \\sigma_2^2 = 0.09, \\sigma_{1,2} = 0.03$. The current risk-free rate is 0.05. \\\n",
    "(a) Find the one fund for this small market. \\\n",
    "(b) Now suppose that there is a new project with an expected payoff $\\overline{Q} = 10$ and covariances $\\sigma_Q^2 = 25, \\sigma_{Q,1} = 0.8, \\sigma_{Q,2} = 0.15$. Using the one fund as the market portfolio, what is the price of this project according to CAPM?"
   ]
  },
  {
   "cell_type": "markdown",
   "source": [
    "**Solution:** \\\n",
    "a) We solve the equation in the one fund theorem \n",
    "$$\\begin{bmatrix}0.04 & 0.03 \\\\ 0.03 & 0.09\\end{bmatrix}\\begin{bmatrix}v_1\\\\v_2\\end{bmatrix} = \\begin{bmatrix}0.1-0.05 \\\\ 0.2-0.05\\end{bmatrix}$$\n",
    "and we get $v_1 = 0, v_2 = 5/3$. After normalizing, we get $w_1 = 0, w_2 = 1$. Thus, the one fund in this market is exactly the second asset. \n",
    "\n",
    "b) The beta of this project is \n",
    "$$\\beta = \\frac{\\sigma_{Q,2}}{\\sigma_2^2} = \\frac{0.15}{0.09} = \\frac{5}{3}$$\n",
    "Thus, we have \n",
    "$$P = \\frac{\\overline{Q}}{1+r_f+\\beta(\\overline{r_M}-r_f)} = \\frac{10}{1+0.05+\\frac{5}{3}(0.2-0.05)} = \\frac{10}{1.3}$$"
   ],
   "metadata": {
    "collapsed": false
   },
   "id": "949c2a20ab5a93b9"
  },
  {
   "cell_type": "markdown",
   "id": "938f86ab3fa93a45",
   "metadata": {
    "collapsed": false
   },
   "source": [
    "# Systematic Risk\n",
    "Let $\\varepsilon_i$ be the random variable such that the following equation is true\n",
    "$$r_i = r_f+\\beta_i(r_M-r_f)+\\varepsilon_i$$\n",
    "Assume the CAPM mode. Then taking expected value on both sides implies that $E[\\varepsilon_i] = 0$, and taking the covariance with $r_M$ implies that $Cov(r_M, \\varepsilon_i) = 0$. Thus, we have \n",
    "$$\\sigma_i^2 = \\beta_i^2\\sigma_M^2 + \\text{Var}(\\varepsilon_i)$$\n",
    "\n",
    "We call $\\beta_i^2\\sigma_M^2$ as the **systematic risk**, which is the risk associated to the market, and $\\text{Var}(\\varepsilon_i)$ as **non-systematic risk**, which is uncorrelated to the market and can be reduced by diversification. "
   ]
  },
  {
   "cell_type": "markdown",
   "id": "c2f06a642782f1b8",
   "metadata": {
    "collapsed": false
   },
   "source": [
    "**Example**\n",
    "Show that efficient portfolio has no non-systematic risk."
   ]
  },
  {
   "cell_type": "markdown",
   "source": [
    "**Solution**\n",
    "From the one fund theorem, we know that the efficient portfolio is a combination of the market portfolio and the risk free asset. We consider an efficient portfolio with weight $\\beta$ in the market portfolio, and weight $1-\\beta$ in the risk free asset. Then, we have $r_P = \\beta r_M+(1-\\beta)r_f$. Its beta is $\\frac{\\text{Cov}(\\beta r_M+(1-\\beta)r_f, r_M)}{\\sigma_M^2} = \\frac{\\beta \\sigma_M^2}{\\sigma_M^2} = \\beta$, and variance is $\\sigma_P^2 = \\beta^2\\sigma_M^2$. Thus, its non-systematic risk is $\\sigma_P^2-\\beta^2\\sigma_M^2 = 0$. We conclude that efficient portfolio has no non-systematic risk."
   ],
   "metadata": {
    "collapsed": false
   },
   "id": "91372ef0060d9bef"
  },
  {
   "cell_type": "markdown",
   "id": "3d75ccbe12548b2",
   "metadata": {
    "collapsed": false
   },
   "source": [
    "**Example (Reducing the non-systematic risk by diversification)**\n",
    "Suppose that there are $n$ uncorrelated assets with identical non-systematic risk $\\text{Var}(\\epsilon)$ and identical expected rate of return $\\overline{r}$. Consider a portfolio with weights $\\frac{1}{n}$ in each of the assets. Compute the non-systematic risk of this portfolio, and show that the non-systematic risk of this portfolio goes to $0$ as $n\\rightarrow \\infty$. "
   ]
  },
  {
   "cell_type": "markdown",
   "source": [
    "**Solution:** \\\n",
    "Assume that $\\beta_i$ are the beta of each asset. Then the beta of this portfolio is $\\beta = \\sum_1^n \\frac{1}{n}\\beta_i = \\frac{1}{n}\\sum_1^n \\beta_i$. Let $\\sigma_i$ be the variance of each asset, then by the uncorrelated assumption, the variance of this portfolio is $\\sigma^2 = \\frac{1}{n^2}\\sum_1^n \\sigma_i^2$. Thus, the non-systematic risk of this portfolio is \n",
    "$$\\begin{align}\\sigma^2 - \\beta^2\\sigma_M^2  &= \\frac{1}{n^2}\\sum_1^n\\sigma_i^2 - \\frac{1}{n^2}\\sum_1^n \\beta_i^2\\sigma_M^2 - \\frac{1}{n^2}\\sum_{i\\neq j}\\beta_i\\beta_j\\sigma_M^2 \\\\\n",
    "& = \\frac{1}{n^2}\\sum_1^n(\\sigma_i^2-\\beta_i^2\\sigma_M^2) - \\frac{1}{n^2}\\sum_{i\\neq j}\\beta_i\\beta_j\\sigma_M^2 \\\\\n",
    "& = \\frac{1}{n^2}\\sum_1^n\\text{Var}(\\varepsilon) - \\frac{1}{n^2}\\sum_{i\\neq j}\\beta_i\\beta_j\\sigma_M^2 \\\\\n",
    "& = \\frac{1}{n}\\text{Var}(\\varepsilon) - \\frac{1}{n^2}\\sum_{i\\neq j}\\beta_i\\beta_j\\sigma_M^2\n",
    "\\end{align}$$\n",
    "We see that as $n\\rightarrow\\infty$, this quantity goes to zero. "
   ],
   "metadata": {
    "collapsed": false
   },
   "id": "5fe334175969138e"
  },
  {
   "cell_type": "markdown",
   "id": "fbe499721e3e7b00",
   "metadata": {
    "collapsed": false
   },
   "source": [
    "**Exercise 7.11**(Risk analysis) Assume the market portfolio has expected rate of return $\\overline{r_M} = 0.12$ and standard deviation $\\sigma_M = 0.3$. The risk-free rate is $r_f = 0.02$. There is another stock, a, in the market with $\\overline{\\sigma_a} = 0.6, \\rho_{aM} = 0.1$.\n",
    "(a) Find $\\overline{r_a}$ and $\\beta_a$. \\\n",
    "(b) Anew asset, b, has the same expected return as a, but a standard deviation of $\\sigma_b = 0.8$. What is the non-systematic error of b? \\\n",
    "(c) Another asset, c, enters the market with $\\rho_{cM} = 0.8$. What percentage of the risk of c is non-systematic?"
   ]
  },
  {
   "cell_type": "markdown",
   "source": [
    "**Solution:**\\\n",
    "a) We have $\\beta_a = \\sigma_{aM}/\\sigma_M^2 = \\rho_{aM}\\sigma_a\\sigma_M/\\sigma_M^2 = 0.2$. By the CAPM, we get $\\overline{r_a} = r_f+\\beta(\\overline{r_M}-r_f) = 0.02+0.2\\cdot(0.12-0.02) = 0.04$.\n",
    "\n",
    "b) Since asset $b$ has the same expected rate of return as a, it also have the same $beta$ with asset a according to the CAPM. Thus, its non-systematic risk is $\\sigma_b^2 - \\beta_b^2\\sigma_M^2 = 0.8^2 - (0.2)^2\\cdot 0.3^2 = 0.64 - 0.0036 = 0.6364$.\n",
    "\n",
    "c) We computed that $\\beta_c = \\rho_{cM}\\sigma_c/\\sigma_M = \\frac{8}{3}\\sigma_c$, and its non-systematic risk is $\\sigma_c^2 - \\frac{64}{9}\\sigma_c^2\\cdot 0.09 = 0.36\\sigma^2$. Thus, the percentage of the non-systematic risk is $36\\%$."
   ],
   "metadata": {
    "collapsed": false
   },
   "id": "f1842a07a0f9e077"
  }
 ],
 "metadata": {
  "kernelspec": {
   "display_name": "Python 3 (ipykernel)",
   "language": "python",
   "name": "python3"
  },
  "language_info": {
   "codemirror_mode": {
    "name": "ipython",
    "version": 3
   },
   "file_extension": ".py",
   "mimetype": "text/x-python",
   "name": "python",
   "nbconvert_exporter": "python",
   "pygments_lexer": "ipython3",
   "version": "3.11.5"
  }
 },
 "nbformat": 4,
 "nbformat_minor": 5
}
