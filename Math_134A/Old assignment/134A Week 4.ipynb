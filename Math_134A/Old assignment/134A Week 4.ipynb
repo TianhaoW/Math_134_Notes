{
 "cells": [
  {
   "cell_type": "markdown",
   "id": "6574e47973831342",
   "metadata": {},
   "source": [
    "# Math 134A Week 4"
   ]
  },
  {
   "cell_type": "code",
   "execution_count": 2,
   "id": "94ec40ca28daad0b",
   "metadata": {
    "ExecuteTime": {
     "end_time": "2024-05-07T16:28:31.632187Z",
     "start_time": "2024-05-07T16:28:30.611272Z"
    }
   },
   "outputs": [],
   "source": [
    "import math\n",
    "from scipy.optimize import fsolve\n",
    "import numpy_financial as npf\n",
    "import pandas as pd\n",
    "\n",
    "# Computing the present value of a cash flow with interest rate r. \n",
    "def PV(r, cf, continuous_compounding = False, dt = None): \n",
    "    if dt is None: dt = range(len(cf))\n",
    "    pv = 0\n",
    "    if not continuous_compounding:\n",
    "        for k in range(0, len(cf)):\n",
    "            pv += cf[k] / (1+r)**dt[k]\n",
    "    else:\n",
    "        for k in range(0, len(cf)):\n",
    "            pv += cf[k] * math.exp(-r * dt[k])\n",
    "    return pv\n",
    "\n",
    "# This will return the future value of a cash flow at time T. If T is not specified, then we take T as the time that we receive the last cash flow\n",
    "def FV(r, cf, continuous_compounding = False, dt = None, T = None):\n",
    "    if dt is None: dt = range(len(cf))\n",
    "    if T is None: T = dt[-1]\n",
    "    fv = 0\n",
    "    if not continuous_compounding:\n",
    "        for k in range(0, len(cf)):\n",
    "            fv += cf[k] * (1+r)**(T - dt[k])\n",
    "    else:\n",
    "        for k in range(0, len(cf)):\n",
    "            fv += cf[k] * math.exp(r * (T - dt[k]))\n",
    "    return fv   \n",
    "\n",
    "# Computing the internal rate of return by using the fsolve function to find roots to a polynomial\n",
    "def irr(cf):\n",
    "    def simple_npv(r, cf):\n",
    "        return sum(cf[k]/(1+r)**k for k in range(len(cf)))\n",
    "    \n",
    "    result = fsolve(simple_npv, x0 = 0.1, args = cf)\n",
    "    return result[0]\n",
    "\n",
    "# Computing the internal rate of return by using the irr function in numpy financial library\n",
    "def irr2(cf):\n",
    "    return npf.irr(cf)\n",
    "\n",
    "# This function computes the YTM of a bond mature in dt years, with face value F, price P, and coupon c paid m times every year\n",
    "def YTM(F, P, dt, c = 0, m = 1):\n",
    "    cf = [-P] + [c/m] * (dt * m - 1) + [F+c/m]\n",
    "    return irr(cf) * m\n",
    "    \n",
    "# This function computes the price of a bond mature in dt years, with face value F, YTM y, and yearly coupon c paid m times every year \n",
    "def bond_price(F, y, dt, c = 0, m = 1):\n",
    "    cf = [0] + [c/m] * (dt * m - 1) + [F+c/m]\n",
    "    return PV(y/m, cf)\n",
    "\n",
    "# This function will return the per period payment A if P is loaned for n periods, with interest r per period.\n",
    "def A(P, r, n):\n",
    "    return (P * r)/(1 - 1/(1+r)**n)\n",
    "\n",
    "def macaulay_duration(c, y, m, n):\n",
    "    \"\"\"\n",
    "    c is the coupon rate per period\n",
    "    y is the yield per period\n",
    "    m is the number of periods per year\n",
    "    n is the number of periods remaining\n",
    "    \"\"\"\n",
    "    D = (1+y)/(m*y) - (1 + y + n*(c-y))/(m*c * ((1+y)**n - 1) + m*y)\n",
    "    return D"
   ]
  },
  {
   "cell_type": "markdown",
   "id": "c6c323fb63399a0b",
   "metadata": {},
   "source": [
    "# Duration of a Portfolio\n",
    "Assume that a portfolio consists of two bonds with payment cash flow $(0, c_1, c_2,\\ldots, c_n)$ and $(0, d_1,\\ldots, d_n)$. We may extend one of the cash flow with zeros so that they have the same length. We want to compute the duration of this portfolio. Let $P^A_k$ be the present value of the payment $c_k$, and $P^B_k$ be the resent value of the payment $d_k$. Let $P^A$ be the price/present value of the first bond, and $P^B$ be the price of the second bond. Let $D^A$ and $D^B$ to be their durations. Then we have \n",
    "$$D^A = \\frac{\\sum_1^n t_kP^A_k}{P^A}$$\n",
    "$$D^B = \\frac{\\sum_1^n t_kP^B_k}{P^B}$$\n",
    "\n",
    "Let $D$ be the duration of this portfolio, and $P = P_A+P_B$ to be the present value of this portfolio. Then we have \n",
    "$$D = \\frac{\\sum_1^n t_k (P^A_k+P^B_k)}{P} = \\frac{D^AP^A+D^BP^B}{P} = \\frac{P^A}{P}D^A + \\frac{P^B}{P}D^B$$\n",
    "\n",
    "In other words, the duration of a portfolio is a weighted sum of the duration of each individual bonds, and the weight is the proportion of this bonds price over the price of this portfolio.\n",
    "\n",
    "More generally, if a portfolio consists of $n$ fixed income investments with price $P_1,\\ldots, P_n$, and each of them has a duration $D_1,\\ldots, D_n$. Let $P = P_1+\\cdots+P_n$ be the price of this portfolio, and $D$ be its duration. Then we have \n",
    "$$D = \\frac{P_1}{P}D_1+\\cdots+\\frac{P_n}{P}D$$"
   ]
  },
  {
   "cell_type": "markdown",
   "id": "90c3040c3f565375",
   "metadata": {},
   "source": [
    "# Immunization\n",
    "The goal of **Immunization** is to protect a portfolio against the change in the interest rate. If we have an obligation of paying $F$ amount of money in $D$ years. Suppose that the prevailing interest is $r$. Then the YTM of a bond will be close to $r$. A zero coupon bond with face value $F$ and mature in $D$ years will serve the purpose. However, it is very common that there is no such a bond in the market. We may construct a portfolio of other bonds so that the present value of this portfolio will equal to the present value of the future payment. However, if the interest rate change, then our portfolio may not worth the same as the payment that we need to deliver. \n",
    "\n",
    "Then what we do is to construct a portfolio consisting of fixed income securities so that its present value matches with the present value of the future payment, its duration matches with $D$, which is the time we need to deliver the payment, or equivalently, the duration of the hypothetical zero-coupon bond which mature in $D$ years. In this case, if the interest rate change, then the present value of the future payment and the present value of our portfolio will have the same amount of change. "
   ]
  },
  {
   "cell_type": "markdown",
   "id": "35a87850de86c859",
   "metadata": {},
   "source": [
    "**Exercise 3.16:** (Bond selection) \n",
    "Consider the four bonds having annual payments as shown in the following table. They are traded to produce a 15\\% yield. \n",
    "\n",
    "a) Determine the price of each bond. \\\n",
    "b) Determine the duration of each bond (not the modified duration). \\\n",
    "c) Which bond is most sensitive to a change in yield? \\\n",
    "d) Suppose you owe 2,000 at the end of 2 years. Concern about interest rate risk suggests that a portfolio consisting of the bonds and the obligation should be immunized. If\n",
    "$V_A, V_B, V_C$, and $V_D$ are the total values of bonds purchased of types A,B,C, and D, respectively, what are the necessary constraints to implement the immunization? \\\n",
    "e) In order to immunize the portfolio, you decide to use bond C and one other bond. Which other bond should you choose? Find the amounts (in total value) of each of these to purchase. \\\n",
    "f) You decided in 5 to use bond C in the immunization. Would other choices, including perhaps a combination of bonds, lead to lower total cost?\n",
    "\n",
    "<center>\n",
    "\n",
    "|        | Bond A | Bond B | Bond C | Bond D |\n",
    "|--------|--------|--------|--------|--------|\n",
    "| Year 1 | 100    | 50     | 0      | 1000   |\n",
    "| Year 2 | 100    | 50     | 0      | 0      |\n",
    "| Year 3 | 1100   | 1050   | 1000   | 0      |\n",
    "\n",
    "</center>"
   ]
  },
  {
   "cell_type": "code",
   "execution_count": 3,
   "id": "76b655a1-85e4-4637-b072-8f97d742a66a",
   "metadata": {
    "ExecuteTime": {
     "end_time": "2024-04-23T18:11:09.869707Z",
     "start_time": "2024-04-23T18:11:09.864647Z"
    }
   },
   "outputs": [
    {
     "name": "stdout",
     "output_type": "stream",
     "text": [
      "a) The price of each bonds are  885.84,  771.68, 657.52, 869.57\n",
      "b) The duration of each bonds are  2.72,  2.84, 3.00, 1.00\n",
      "c) The bond c is most sensitive to the change in yield\n"
     ]
    }
   ],
   "source": [
    "PV_a = PV(r = 0.15, cf = [0, 100, 100, 1100])\n",
    "PV_b = PV(r = 0.15, cf = [0, 50, 50, 1050])\n",
    "PV_c = PV(r = 0.15, cf = [0, 0, 0, 1000])\n",
    "PV_d = PV(r = 0.15, cf = [0, 1000, 0, 0])\n",
    "print(f\"a) The price of each bonds are {PV_a: .2f}, {PV_b: .2f}, {PV_c:.2f}, {PV_d:.2f}\")\n",
    "d_a  = macaulay_duration(0.1, 0.15, 1, 3)\n",
    "d_b  = macaulay_duration(0.05, 0.15, 1, 3)\n",
    "d_c  = macaulay_duration(0, 0.15, 1, 3)\n",
    "d_d  = macaulay_duration(0, 0.15, 1, 1)\n",
    "print(f\"b) The duration of each bonds are {d_a: .2f}, {d_b: .2f}, {d_c:.2f}, {d_d:.2f}\")\n",
    "print(\"c) The bond c is most sensitive to the change in yield\")"
   ]
  },
  {
   "cell_type": "markdown",
   "id": "27b333f4e193834e",
   "metadata": {},
   "source": [
    "d) Suppose that we bought $V_A,\\ldots, V_D$ units of those $4$ bonds. Then the present value and duration of this portfolio is \n",
    "$$P = V_A \\cdot 0.885 + V_B \\cdot 0.771 + V_C \\cdot 0.657 + V_D \\cdot 0.869$$\n",
    "$$D = \\frac{V_A \\cdot 0.885}{P} \\cdot 2.72+\\cdots + \\frac{V_D \\cdot 0.869}{P}\\cdot 1$$\n",
    "Then a necessary constrain to implement the immunization is that the following system of linear equations has at least a solution\n",
    "$$\\begin{cases}\n",
    "\\frac{2000}{1.15^2} = V_A \\cdot 0.885 + V_B \\cdot 0.771 + V_C \\cdot 0.657 + V_D \\cdot 0.869 \\\\\n",
    "2 = \\frac{V_A \\cdot 0.885}{2000/1.15^2} \\cdot 2.72+\\cdots + \\frac{V_D \\cdot 0.869}{2000/1.15^2}\\cdot 1 \n",
    "\\end{cases} $$\n",
    "\n",
    "e) We may use bond C and bond D for computation. Then we have to solve the equation \n",
    "$$\\begin{cases}\n",
    "\\frac{2000}{1.15^2} = V_C \\cdot 0.657 + V_D \\cdot 0.869 \\\\\n",
    "2 = \\frac{V_C \\cdot 0.657}{2000/1.15^2} \\cdot 3 + \\frac{V_D \\cdot 0.869}{2000/1.15^2}\\cdot 1 \n",
    "\\end{cases} $$\n",
    "\n",
    "By solving this equation, we get $V_C = 1150.9, V_D = 870.131$. In terms of their price, we need to spent $V_C \\cdot 0.657 = 756.15$ to purchase bond C and $V_D\\cdot 0.869 = 756.15$ to buy bond $D$. \n",
    "\n",
    "f) No, all choices will have the same price, which is the present value of the 2000 payment in 2 years. "
   ]
  },
  {
   "cell_type": "markdown",
   "id": "ebb0b7898df7c3ad",
   "metadata": {},
   "source": [
    "**Exercise 3.6**:\n",
    "a) Consider a finite cashflow $(1, 3, 3^2,\\ldots, 3^n)$. Suppose that the interest rate is $r$ and define $x = \\frac{1}{1+r}$. Derive the present value $S_n$ of this cashflow in terms of $x$ and $x$. \n",
    "b) Consider an infinite cashflow $(1, 2, 3, 4, 5,\\ldots)$. Suppose that the interest rate is $r$ and define $x = \\frac{1}{1+r}$. Find the present value of this cash flow as a function of $r$ or $x$. "
   ]
  },
  {
   "cell_type": "markdown",
   "id": "66e1fbc27f65b39c",
   "metadata": {},
   "source": [
    "**Solution:**\n",
    "a)$$S_n = 1 + 3x + 3^2x^2+\\cdots + 3^nx^n = \\sum_0^n (3x)^k = \\frac{(3x)^{n+1}-1}{3x-1}$$\n",
    "\n",
    "b)$$PV = \\sum_1^\\infty kx^{k-1} = \\frac{d}{dx} \\sum_1^\\infty x^k = \\frac{d}{dx} \\left(\\frac{x}{1-x}\\right) = \\frac{1}{(1-x)^2}$$"
   ]
  },
  {
   "cell_type": "markdown",
   "id": "1835a8acf968aeb",
   "metadata": {},
   "source": [
    "**Exercise 3.10:** (Variable-rate mortgage)\n",
    "The Smith family just took out a variable-rate mortgage on their new home. The mortgage value is 100,000, the term is 30 years, and initially the interest rate is 8\\%. The interest rate is guaranteed for 5 years, after which time the rate will be adjusted according to prevailing rates. The new rate can be applied to their loan either by changing the payment amount or by changing the length of the mortgage.\n",
    "\n",
    "(a) What is the original yearly mortgage payment? (Assume payments are yearly.)\\\n",
    "(b) What will be the mortgage balance after 5 years?\\\n",
    "(c) If the interest rate on the mortgage changes to 9% after 5 years, what will be the new yearly payment that keeps the termination time the same?\\\n",
    "(d) Under the interest change in (c), what will be the new term if the payments remain the same?"
   ]
  },
  {
   "cell_type": "code",
   "execution_count": 11,
   "id": "a2cc6ce1-c1f0-42c4-aeb9-9f7a4787f71c",
   "metadata": {
    "ExecuteTime": {
     "end_time": "2024-04-24T22:18:39.713182Z",
     "start_time": "2024-04-24T22:18:39.705963Z"
    }
   },
   "outputs": [
    {
     "name": "stdout",
     "output_type": "stream",
     "text": [
      "a) The yearly payment is 8882.74\n",
      "b) The remaining balance is 94821.30\n",
      "b) The remaining balance computed from the second method is also 94821.30\n",
      "c) The new yearly payment if the term remains the same is 9653.40\n",
      "d) The new term if the yearly payment remain the same is 37.57 years\n"
     ]
    }
   ],
   "source": [
    "yearly_payment = A(100000, 0.08, 30)\n",
    "print(f\"a) The yearly payment is {yearly_payment:.2f}\")\n",
    "cf = [0] + [yearly_payment] * 25\n",
    "R = PV(0.08, cf)\n",
    "print(f\"b) The remaining balance is {R:.2f}\")\n",
    "PV_remaining_balance = 100000 - PV(0.08, [0]+[yearly_payment] * 5)\n",
    "remaining_balance = PV_remaining_balance * (1.08)**5\n",
    "print(f\"b) The remaining balance computed from the second method is also {remaining_balance:.2f}\")\n",
    "yearly_payment_new = A(remaining_balance, 0.09, 25)\n",
    "print(f\"c) The new yearly payment if the term remains the same is {yearly_payment_new:.2f}\")\n",
    "print(f\"d) The new term if the yearly payment remain the same is {math.log(1 - remaining_balance * 0.09/yearly_payment, 1/1.09):.2f} years\")"
   ]
  },
  {
   "cell_type": "markdown",
   "id": "2855458e17973658",
   "metadata": {
    "jp-MarkdownHeadingCollapsed": true
   },
   "source": [
    "# Annual Worth\n",
    "Given a cash flow $(x_0,\\ldots, x_n)$. The **annual worth** of this cashflow is the number $A$ such that $(0, A, \\ldots, A)$ (ends in the n-th period) is an equivalent cashflow. The annual worth is useful for comparing investments with different time cycles."
   ]
  },
  {
   "cell_type": "markdown",
   "id": "7031e2dd20ea5ebe",
   "metadata": {},
   "source": [
    "**Exercise 3.2**: (Cycles and annual worth)\n",
    "Given a cash flow stream $X = (x_0,x_1,x_2,...,x_n)$, a new stream $X_\\infty$ of infinite length is made by successively repeating the corresponding finite stream. The interest rate is r. Let P and A be the present value and the annual worth, respectively, of stream X. Finally, let $P_\\infty$ be the present value of stream $X_\\infty$. Find A in terms of $P_\\infty$ and conclude that $A$ can be used as well as $P_\\infty$ for evaluation purposes."
   ]
  },
  {
   "cell_type": "markdown",
   "id": "ef31674f5dc4503",
   "metadata": {},
   "source": [
    "**Solution:**\n",
    "Let $P$ be the present value of the cash flow $X$. Then we have \n",
    "$$P_\\infty = P+\\frac{P}{(1+r)^{n+1}}+\\frac{P}{(1+r)^{2(n+1)}}+\\cdots = \\frac{P}{1-\\frac{1}{(1+r)^{n+1}}}$$\n",
    "We also have \n",
    "$$P = \\frac{A}{r}\\left(1-\\frac{1}{(1+r)^n}\\right)$$\n",
    "By substituting into the previous formula, we get \n",
    "$$P_\\infty = \\frac{A/r(1-\\frac{1}{(1+r)^n})}{1-\\frac{1}{(1+r)^{n+1}}}$$\n",
    "Then we solve $A$ in terms of $P_\\infty$, and we have \n",
    "$$A = \\frac{P_\\infty\\cdot r\\cdot (1-\\frac{1}{(1+r)^{n+1}})}{1-\\frac{1}{(1+r)^n}}$$\n",
    "\n",
    "Suppose that $X$ is the cashflow of an investment, then a higher $A$ or $P_\\infty$ implies that this investment is favorable. "
   ]
  },
  {
   "cell_type": "markdown",
   "id": "68fc7ee629f86552",
   "metadata": {},
   "source": [
    "# Term Structure\n",
    "The YTM of a bond with different mature dates are usually not the same. The bonds with longer mature dates usually have a higher YTM. We denote the **spot rate** $s_t$ to be the annual interest rate of money held from now, until the time $t$. The spot rate $s_t$ is usually computed from the YTM of a zero-coupon bond which mature in time t. In the term structure, we are assuming that the money held for different time will have different interest rates. Thus, if we assume yearly compounding, then when computing the present value of a cashflow, we use $d_1 = \\frac{1}{1+s_1}$ to discount the payment received in year $1$, and $d_2 = \\frac{1}{(1+s_2)^2}$ to discount the payment received in year 2. If we assume the continuous compounding, then $d_1 = e^{-s_1}$, $d_2 = e^{-2s_2}$. "
   ]
  },
  {
   "cell_type": "markdown",
   "id": "b21d0281fdc10ce",
   "metadata": {},
   "source": [
    "# Forward Rates\n",
    "Since the interest rate for holding the money for 1 year is different from holding the money for 2 years. We also expect that interest rate for borrowing the money for 1 year now is different from borrowing the money for 1 year next year. We call the latter as the **forward rates**. More precisely, the forward rate $f_{i, j}$ with $j>i$ are the interest rates for money to be borrowed from time $i$ to time $j$ in the future, but under terms agreed upon today. Under the yearly compounding assumption, the forward rates can be computed from the equation\n",
    "$$(1+s_j)^j = (1+s_i)^i(1+f_{i,j})^{j-i}$$\n",
    "By solving this equation, we get \n",
    "$$f_{i,j} = \\left(\\frac{(1+s_j)^j}{(1+s_i)^i}\\right)^{1/(j-i)}-1$$\n",
    "\n",
    "If we assume continuous compounding, then we have \n",
    "$$e^{js_j} = e^{is_i}e^{(j-i)f_{i,j}}$$\n",
    "which implies that \n",
    "$$js_j = is_i + (j-i)f_{i,j}$$\n",
    "By solving this equation, we get \n",
    "$$f_{i,j} = \\frac{js_j-is_i}{j-i}$$\n"
   ]
  },
  {
   "cell_type": "markdown",
   "id": "8ba5ec3bd15a7cb0",
   "metadata": {},
   "source": [
    "**Exercise 4.1:** (One forward rate) \\\n",
    "If the spot rates for 1 and 2 years are $s_1$ = 6.3% and $s_2$ = 6.9%, what is the forward rate $f_{1,2}$? Assume continuous compounding for the computation. "
   ]
  },
  {
   "cell_type": "code",
   "execution_count": 1,
   "id": "d255b77a-4d0c-4718-b11a-efb0c59e0827",
   "metadata": {},
   "outputs": [
    {
     "name": "stdout",
     "output_type": "stream",
     "text": [
      "The forward rate f_12 is 7.50%\n"
     ]
    }
   ],
   "source": [
    "f_12 = (2 * 0.069 - 0.063)/(2-1)\n",
    "print(f\"The forward rate f_12 is {f_12*100:.2f}%\")"
   ]
  },
  {
   "cell_type": "markdown",
   "id": "95d18f4305669a9e",
   "metadata": {},
   "source": [
    "**Exercise 4.2:** (Spot update) \\\n",
    "Given the (yearly) spot rate curve s = (5.0, 5.3, 5.6, 5.8, 6.0, 6.1), find the spot rate curve for next year. Assume continuous compounding for the computation."
   ]
  },
  {
   "cell_type": "code",
   "outputs": [
    {
     "name": "stdout",
     "output_type": "stream",
     "text": [
      "The spot rates for next year is ['5.60', '5.90', '6.07', '6.25', '6.32']\n"
     ]
    }
   ],
   "source": [
    "s = [5, 5.3, 5.6, 5.8, 6.0, 6.1]\n",
    "s_new = []\n",
    "for i in range(1, len(s)):\n",
    "    s_new.append(((i+1) * s[i] - s[0])/i)\n",
    "s_new_formated= [ '%.2f' % elem for elem in s_new ]\n",
    "print(\"The spot rates for next year is\", s_new_formated)"
   ],
   "metadata": {
    "collapsed": false,
    "ExecuteTime": {
     "end_time": "2024-05-06T19:10:38.478997Z",
     "start_time": "2024-05-06T19:10:38.465942Z"
    }
   },
   "id": "16518a545d2acf97",
   "execution_count": 1
  },
  {
   "cell_type": "markdown",
   "id": "56e8038b9c6170d5",
   "metadata": {},
   "source": [
    "**Exercise 4.3** (Construction of a zero coupon bond) \\\n",
    "Consider two 5-year bonds: one has a 9% coupon and sells for 101.00; the other has a 7% coupon and sells for 93.20. Find the price of a 5-year zero-coupon bond."
   ]
  },
  {
   "cell_type": "markdown",
   "source": [
    "**Solution** \\\n",
    "Suppose we buy $x_1$ units of the 9% bond, and $x_2$ units of the 7% bond. Then in order for this portfolio to be 1 unit of the zero-coupon bond, we need \n",
    "$$\\begin{cases}100x_1 + 100x_2 = 100\\\\\n",
    "9x_1+7x_2 = 0\\end{cases}$$\n",
    "Solving this equation gives $x_1 = -3.5$ and $x_2 = 4.5$. Hence, the price of the 5-year zero coupon bond is\n",
    "$$-3.5\\cdot 101 + 4.5\\cdot 93.2 = 65.9$$"
   ],
   "metadata": {
    "collapsed": false
   },
   "id": "38f16145036a3dd1"
  },
  {
   "cell_type": "markdown",
   "id": "a8c5348694b75afe",
   "metadata": {},
   "source": [
    "**Exercise 4.5**(Instantaneous rates)\\\n",
    "Let s(t), $0 < t < \\infty$, denote a spot rate curve; that is, the present value of a dollar to be received at time t is $e^{-s(t)t}$, For  $t_1<t_2$, let $f(t_1, t_2)$ be the forward rate between $t_1$ and $t_2$ implied by the given spot rate curve.\n",
    "\n",
    "(a) Find an expression for $f(t_1, t_2)$.\\\n",
    "(b) Let $r(t) = \\lim\\limits_{t_2\\rightarrow t}f(t, t_2)$. We can call $r(t)$ the **instantaneous interest rate** at time $t$. Show that $r(t) = s(t) +s'(t)t$. \\\n",
    "(c) Suppose an amount $x_0$ is invested in a bank account at t = 0 which pays the instantaneous rate of interest r(t) at all t (compounded). Then the bank balance $x(t)$ will satisfy $dx(t)/dt = r(t)x(t)$. Find an expression for x(t)."
   ]
  },
  {
   "cell_type": "markdown",
   "source": [
    "**Solution:** \\\n",
    "a) From the definition of forward rates, we have \n",
    "$$e^{s(t_1)t_1} = e^{s(t_2)t_2}e^{f(t_1, t_2)(t_2-t_1)}$$\n",
    "By solving $f(t_1, t_2)$, we get\n",
    "$$f(t_1, t_2) = \\frac{t_2s(t_2)-t_1s(t_1)}{t_2-t_1}$$ \n",
    "\n",
    "b) Using the L'Hospital Rule, we have\n",
    "$$r(t) = \\lim\\limits_{t_2\\rightarrow t} f(t, t_2) =  \\lim\\limits_{t_2\\rightarrow t}\\frac{t_2s(t_2)-ts(t)}{t_2-t} = \\lim\\limits_{t_2\\rightarrow t} \\frac{s(t_2)+t_2s'(t_2) - 0}{1} = s(t)+ts'(t)$$\n",
    "\n",
    "\n",
    "c) We have \n",
    "$$\\frac{dx(t)}{x(t)} = r(t)dt = (s(t)+ts'(t))dt = d(ts(t))$$\n",
    "Integrating both sides gives \n",
    "$$\\ln(x(t)) = ts(t)+C$$\n",
    "and we have \n",
    "$$x(t) = e^Ce^{ts(t)}$$\n",
    "By substituting $t=0$, we get $e^C = x_0$, and thus, we have \n",
    "$$x(t) = x_0e^{ts(t)}$$"
   ],
   "metadata": {
    "collapsed": false
   },
   "id": "15c5250732a9f4de"
  },
  {
   "cell_type": "markdown",
   "source": [
    "**Exercise 4.7** (Bond taxes) An investor is considering the purchase of 10-year U.S. Treasury bonds and plans to hold them to maturity. Federal taxes on coupons must be paid during the year they are received, and tax must also be paid on the capital gain realized at maturity (defined as the difference between face value and original price). Federal bonds are exempt from state taxes. This investor’s federal tax bracket rate is t = 30%, as it is for most individuals. There are two bonds that meet the investor’s requirements. Bond 1 is a 10-year, 10% bond with a price (in decimal form) of $P_1$ = 92.21. Bond 2 is a 10-year, 7% bond with a price of $P_2$ = 75.84. Based on the price information contained in those two bonds, the investor would like to compute the theoretical price of a hypothetical 10-year zero coupon bond that had no coupon payments and required tax payment only at maturity equal in amount to 30% of the realized capital gain (the face value minus the original price). This theoretical price should be such that the price of this bond and those of bonds 1 and 2 are mutually consistent on an after-tax basis. Find this theoretical price, and show that it does not depend on the tax rate t. (Assume all cash flows occur at the end of each year.)"
   ],
   "metadata": {
    "collapsed": false
   },
   "id": "1d1bf6a2e3e9fc6b"
  },
  {
   "cell_type": "markdown",
   "source": [
    "**Solution**\n",
    "Let $P_1, P_2$ be the price of the 10% bond and 7% bond respectively. Suppose that $P_0$ is the price of the zero coupon 10 year bond, and $t$ is the tax rate. We suppose that the zero coupon bond is constructed by using $x_1$ unit of the $10%$ bond, and $x_2$ unit of the $7%$ bond. In order to cancel the coupon payment, we must have \n",
    "$$x_1(1-t)\\cdot 10 + x_2(1-t)\\cdot 7 = 0$$\n",
    "which is equivalent to \n",
    "$$10x_1+7x_2 = 0$$\n",
    "We also want the after tax payment at expiry to match, hence, we have \n",
    "$$x_1(100-(100-P_1)t) + x_2(100 - (100-P_2)t) = 100-(100-P_0)t$$\n",
    "The price of this zero coupon bond satisfies $P_0 = x_1P_1+x_2P_2$. By substituting this to the above equality, we get \n",
    "$$x_1+x_2 = 1$$\n",
    "Hence, the $x_1, x_2$ satisfies the equation \n",
    "$$\\begin{cases}10x_1+7x_2 = 0 \\\\ x_1+x_2 = 1\\end{cases}$$\n",
    "We solve that $x_1 = -7/3, x_2 = 10/3$, and the price of the zero coupon bond is $x_1P_1+x_2P_2 = 37.64$, which does not depends on the tax rate $t$. "
   ],
   "metadata": {
    "collapsed": false
   },
   "id": "8105e6e2ab486dfa"
  }
 ],
 "metadata": {
  "kernelspec": {
   "display_name": "Python 3 (ipykernel)",
   "language": "python",
   "name": "python3"
  },
  "language_info": {
   "codemirror_mode": {
    "name": "ipython",
    "version": 3
   },
   "file_extension": ".py",
   "mimetype": "text/x-python",
   "name": "python",
   "nbconvert_exporter": "python",
   "pygments_lexer": "ipython3",
   "version": "3.11.5"
  }
 },
 "nbformat": 4,
 "nbformat_minor": 5
}
