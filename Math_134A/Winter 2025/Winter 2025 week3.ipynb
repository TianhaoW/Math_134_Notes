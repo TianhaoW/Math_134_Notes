{
 "cells": [
  {
   "cell_type": "markdown",
   "metadata": {},
   "source": [
    "# Winter 2025 Week 3"
   ]
  },
  {
   "cell_type": "code",
   "execution_count": 1,
   "metadata": {},
   "outputs": [],
   "source": [
    "import pandas as pd\n",
    "import matplotlib.pyplot as plt\n",
    "\n",
    "# Import all the functions from the Utility_functions.py file\n",
    "from Utility_functions import *"
   ]
  },
  {
   "cell_type": "markdown",
   "metadata": {},
   "source": [
    "## Example of fixed income securities\n",
    "- **Certificate of Deposit (CD)**\n",
    "- Government securities: \n",
    "  - **U.S. Treasury bills**\n",
    "  - **U.S. Treasury notes** \n",
    "  - **U.S. Treasure bonds**\n",
    "- **Municipal bonds**\n",
    "- **Corporate bonds**\n",
    "\n",
    "## Example of other fixed income investment\n",
    "- **Annuity**\n",
    "- **Mortgages**\n",
    "\n",
    "The above two fixed income investments are usually not considered as a security since they are usually not traded on markets. "
   ]
  },
  {
   "cell_type": "markdown",
   "metadata": {},
   "source": [
    "\n",
    "## Annuity\n",
    "A **perpetual annuity** pays a fixed amount A at the end of every period forever. Its corresponding cash flow is $(0, A, A, A,\\ldots)$. Suppose that the prevailing interest per period is $r$. The present value of this annuity is \n",
    "$$P = \\sum_{k=1}^\\infty \\frac{A}{(1+r)^k} = A/r$$\n",
    "\n",
    "In practice, the payment stream for an annuity has a finite lifetime. Suppose that an annuity pays a fixed amount A at the end of every period, and stops after n periodical payments. Let $r$ be the prevailling interest per period. Then the present value of this annuity is \n",
    "$$P = \\sum_{k=1}^n \\frac{A}{(1+r)^k} = \\frac{A}{r}\\left(1-\\frac{1}{(1+r)^n}\\right)$$\n",
    "\n",
    "We also note that the annuity formula can be used in a reverse way to compute the monthly payment to a loan (which is usually called **amortization**). In this case, $P$ and $r$ are given, which are the amount of money we borrowed, and $r$ is the loan rate per period. Then $A$ is the monthly payment to the loan. We can solve that \n",
    "$$A = \\frac{r(1+r)^nP}{(1+r)^n - 1}$$"
   ]
  },
  {
   "cell_type": "markdown",
   "metadata": {},
   "source": [
    "# Bonds\n",
    "\n",
    "A **bond** is an obligation by the bond issuer to pay money to the bondholder according to rules specified at the time the bond is issued. Generally, a bond pays a specific amount, its **face value** or, equivalently, its **par value** at the date of maturity. Most bonds pay periodic coupon payments, which is usually a fraction of its face value. We call the internal rate of return of bond as its **yield to maturity (YTM)**. Given the YTM of a bond, we can also compute its price by calculating the present value of the bond's payment cashflow.\n",
    "\n",
    "The U.S. Treasury bills does not pay coupon. The \"interest\" is the difference between its face value and price you paid.\n",
    "\n",
    "An example cash flow:\n",
    "\n",
    "$$(0, 40, 40, 40,..., 1000+40)$$"
   ]
  },
  {
   "cell_type": "markdown",
   "metadata": {},
   "source": [
    "## Exercise 3.2\n",
    "(Cycles and annual worth) Given a cash flow stream $X=(x_0, x_1, x_2, ..., x_n)$, a new stream $X_\\infty$ of infinite length is made by successively repeating the corresponding finite stream. The interest rate is $r$. Let $P$ and $A$ be the present value and the annual worth, respectively, of stream $X$. Finally, let $P_\\infty$ be the present value of stream $X_\\infty$. Find $A$ in terms of $P_\\infty$ and conclude that $A$ can be used as well as $P_\\infty$ for evaluation purposes."
   ]
  },
  {
   "cell_type": "markdown",
   "metadata": {},
   "source": [
    "### Solution:\n",
    "Denote $d = \\frac{1}{1+r}$, then for the cash flow stream $X_\\infty$:\n",
    "$$ P_\\infty = P(1 + d^{n+1} + d^{2(n+1)} + ...) = \\frac{P}{1- d^{n+1}}$$\n",
    "\n",
    "Also, we have the relation:\n",
    "$$ A = \\frac{rP}{1-d^n} $$\n",
    "\n",
    "Hence we have:\n",
    "$$ A = \\frac{r(1-d^{n+1})}{1-d^n}P_\\infty."
   ]
  },
  {
   "cell_type": "markdown",
   "metadata": {},
   "source": [
    "## Exercise 3.3\n",
    "(Uncertain annuity ) Gavin’s grandfather, Mr. Jones, has just turned 90 years old and is applying for a lifetime annuity that will pay 10,000 per year, starting 1 year from now, until he dies. He asks Gavin to analyze it for him. Gavin finds that according to statistical summaries, the chance (probability) that Mr. Jones will die at any particular age is as follows:\n",
    "\n",
    "| age         | 90  | 91  | 92  | 93  | 94  | 95  | 96  | 97  | 98  | 99  | 100 | 101 | \n",
    "|-------------|-----|-----|-----|-----|-----|-----|-----|-----|-----|-----|-----|-----|\n",
    "| probability | .07 | .08 | .09 | .10 | .10 | .10 | .10 | .10 | .10 | .07 | .05 | .04 |\n",
    "\n",
    "Then Gavin (and you) answer the following questions:\n",
    "\n",
    "- (a) What is the life expectancy of Mr. Jones? \n",
    "- (b) What is the present value of an annuity at 8\\% interest that has a lifetime equal to Mr. Jones’s life expectancy? (For an annuity of a non-integral number of years, use an averaging method.) \n",
    "- (c) What is the expected present value of the annuity?"
   ]
  },
  {
   "cell_type": "markdown",
   "metadata": {},
   "source": [
    "### Solution:\n",
    " - (a): The expected life of Mr.Jones:"
   ]
  },
  {
   "cell_type": "code",
   "execution_count": 2,
   "metadata": {},
   "outputs": [
    {
     "name": "stdout",
     "output_type": "stream",
     "text": [
      "a) The life expectancy for Mr. Jones is 95.13 years\n"
     ]
    }
   ],
   "source": [
    "life = 90 * 0.07 + 91 * 0.08 + 92 * 0.09 + 93 * 0.1 + 94 * 0.1 + 95 * 0.1 + 96 * 0.1 + 97 * 0.1 + 98 * 0.1 + 99 * 0.07 + 100 * 0.05 + 101 * 0.04\n",
    "\n",
    "\n",
    "print(f\"a) The life expectancy for Mr. Jones is {life:.2f} years\")"
   ]
  },
  {
   "cell_type": "markdown",
   "metadata": {},
   "source": [
    "- (b): The cash flow is given by:\n",
    "$$ (0, 10000,10000,10000,10000, 10000) $$\n",
    "And\n",
    "$$ (0, 10000, 10000, 10000, 10000, 10000, 10000)$$\n",
    "\n",
    "We compute the present value and a weight sum."
   ]
  },
  {
   "cell_type": "code",
   "execution_count": 3,
   "metadata": {},
   "outputs": [
    {
     "name": "stdout",
     "output_type": "stream",
     "text": [
      " The present value of the annuity is 40746.32\n"
     ]
    }
   ],
   "source": [
    "cf1 = [0] + [10000]*5\n",
    "cf2 = cf1 + [10000]\n",
    "pv1 = PV(r = 0.08, cf = cf1)\n",
    "pv2 = PV(r = 0.08, cf = cf2)\n",
    "\n",
    "print(f\" The present value of the annuity is {(life-int(life))*pv2 + (1-life+int(life))*pv1:.2f}\")"
   ]
  },
  {
   "cell_type": "markdown",
   "metadata": {},
   "source": [
    "- (c): We need to compute annuity of each year and then compute the expected value.  We calculate the probabilities $q_i$ that Mr.Jones will survive at age $i$. So, $q_{90} = 1$, $q_{91} = q_{90}-0.07$, .... And the at his $i$ th year, the annuity will have the present value $10000/(1+0.08)^{i-90}$. Then we can compute the expected value."
   ]
  },
  {
   "cell_type": "code",
   "execution_count": 4,
   "metadata": {},
   "outputs": [
    {
     "name": "stdout",
     "output_type": "stream",
     "text": [
      " The expected present value of the annuity is computed by E[P] = (1-0.07) * 10000/1.08 + (1-0.08 - 0.07) * 10000/1.08^2 + ... 0.04 * 100000/1.08^11= 38386.95\n"
     ]
    }
   ],
   "source": [
    "# ECF is given by the annuity each year times the probability of living that year\n",
    "ecf = [0, 9300, 8500, 7600, 6600, 5600, 4600, 3600, 2600, 1600, 900, 400]\n",
    "# Then we compute the present value of the annuity\n",
    "print(f\" The expected present value of the annuity is computed by E[P] = (1-0.07) * 10000/1.08 + (1-0.08 - 0.07) * 10000/1.08^2 + ... 0.04 * 100000/1.08^11= {PV(0.08, ecf):.2f}\")"
   ]
  },
  {
   "cell_type": "markdown",
   "metadata": {},
   "source": [
    "## Exercise 3.5\n",
    "(Mortgage restructuring) An investor purchased a small apartment building for 250,000. She made a down payment of 50,000 and financed the balance with a 30-year, fixed-rate mortgage at 12% annual interest, compounded monthly. For exactly 20 years she has made equal-sized monthly payments as required by the terms of the loan. Now she has the opportunity to restructure the mortgage by refinancing the balance. She could borrow the current balance, pay off the original loan, and assume a new loan for the balance. (No points or any other charges are involved in the transaction.) The new loan is a 20-year, fixed-rate loan at 9%, compounded monthly, to be paid in equal monthly installments. Suppose she has a risk-free savings account that pays 5%, compounded monthly. Should she restructure the mortgage?"
   ]
  },
  {
   "cell_type": "markdown",
   "metadata": {},
   "source": [
    "### Solution:\n",
    "We need to compare the present value of two cash flows:\n",
    "\n",
    "- Remain the same:\n",
    "$$ (0, A, A, ..., A)$$\n",
    "for 30 years.\n",
    "\n",
    "- Mortgage restructuring:\n",
    "$$ (0, A,A, ..., A, B, B,..., B)$$\n",
    "\n",
    "Thus, we need to compute what is $A$ and what is $B$."
   ]
  },
  {
   "cell_type": "code",
   "execution_count": 5,
   "metadata": {},
   "outputs": [],
   "source": [
    "# define the loan payment function\n",
    "def loan_payment(P, r, n):\n",
    "    return (P * r)/(1 - 1/(1+r)**n)"
   ]
  },
  {
   "cell_type": "code",
   "execution_count": 6,
   "metadata": {},
   "outputs": [
    {
     "name": "stdout",
     "output_type": "stream",
     "text": [
      "The monthly payment for a 30-year loan of $250,000 at 12% is 2057.23\n"
     ]
    }
   ],
   "source": [
    "r = 0.12\n",
    "year = 30\n",
    "total_amount = 200000\n",
    "A = loan_payment(total_amount, r/12, year*12)\n",
    "print(f\"The monthly payment for a 30-year loan of $250,000 at 12% is {A:.2f}\")"
   ]
  },
  {
   "cell_type": "code",
   "execution_count": 7,
   "metadata": {},
   "outputs": [
    {
     "name": "stdout",
     "output_type": "stream",
     "text": [
      "The remaining balance after 20 years at year 20 is 143389.67\n"
     ]
    }
   ],
   "source": [
    "# After 20 years, the remaining balance is given by the present value of the remaining payments\n",
    "cf_old = [0] + [A]*10*12\n",
    "remaining_balance = PV(r/12, cf_old)\n",
    "print(f\"The remaining balance after 20 years at year 20 is {remaining_balance:.2f}\")\n"
   ]
  },
  {
   "cell_type": "code",
   "execution_count": 8,
   "metadata": {},
   "outputs": [
    {
     "name": "stdout",
     "output_type": "stream",
     "text": [
      "The new monthly payment for a 20-year loan of $143389.67 at 9% is 1290.11\n"
     ]
    }
   ],
   "source": [
    "# The new mortgage is for 20 years\n",
    "r_new = 0.09\n",
    "reamining_year = 20\n",
    "\n",
    "B = loan_payment(remaining_balance, r_new/12, reamining_year*12)\n",
    "print(f\"The new monthly payment for a 20-year loan of ${remaining_balance:.2f} at 9% is {B:.2f}\")"
   ]
  },
  {
   "cell_type": "markdown",
   "metadata": {},
   "source": [
    "Now we compare two present value:"
   ]
  },
  {
   "cell_type": "code",
   "execution_count": 9,
   "metadata": {},
   "outputs": [
    {
     "name": "stdout",
     "output_type": "stream",
     "text": [
      "The present value of the first loan is 383223.24\n",
      "The present value of the second loan is 383786.15\n"
     ]
    }
   ],
   "source": [
    "# Compute the present value using the saving interest rate\n",
    "cf1 = [0] + [A]*30*12\n",
    "cf2 = [0] + [A]*20*12 + [B]*20*12\n",
    "r_saving = 0.05\n",
    "pv1 = PV(r_saving/12, cf1)\n",
    "pv2 = PV(r_saving/12, cf2)\n",
    "print(f\"The present value of the first loan is {pv1:.2f}\")\n",
    "print(f\"The present value of the second loan is {pv2:.2f}\")\n"
   ]
  },
  {
   "cell_type": "markdown",
   "metadata": {},
   "source": [
    "Thus, choose not to change the loan."
   ]
  },
  {
   "cell_type": "markdown",
   "metadata": {},
   "source": [
    "## Exercise 3.6\n",
    "(Simple cash flow) Assume we are at period 0. The current interest is $r$. Define $x=\\frac{1}{1+r}$.\n",
    "\n",
    "- (a) Derive the present value $S_n$ of the following cash flow in terms of $x$ and $n$:\n",
    "\n",
    "| period      | 0   |  1  |  2  |  3  |  4  | ... | n   |\n",
    "|-------------|-----|-----|-----|-----|-----|-----|-----|\n",
    "| Cash flow   | 1   | 3   |$3^2$|$3^3$|$3^4$| ... |$3^n$|\n",
    "\n",
    "- (b) Derive the present value $S$ of the following (infinite) cash flow in terms of $r$ and/or $x$:\n",
    "\n",
    "| period      | 0   |  1  |  2  |  3  |  4  | ... | n   |\n",
    "|-------------|-----|-----|-----|-----|-----|-----|-----|\n",
    "| Cash flow   | 1   | 2   | 3   |  4  |  5  | ... | n+1 |\n"
   ]
  },
  {
   "cell_type": "markdown",
   "metadata": {},
   "source": [
    "### Solution:\n",
    "- (a): We have the present value:\n",
    "$$ S_n = \\sum_{k=0}^n 3^k\\times x^k = \\sum_{k=0}^n (3x)^k = \\frac{1-(3x)^{n+1}}{1- 3x}$$\n",
    "\n",
    "- (b): We have the present value:\n",
    "$$ S = \\sum_{k=0}^n (k+1)\\times x^k = \\frac{\\partial}{\\partial x}\\sum_{k=0}^n x^{k+1} = \\frac{\\partial}{\\partial x} \\frac{x - x^{n+2}}{1-x}= \\frac{(1-(n+2)x^{n+1})*(1-x) + (x-x^{n+2})}{(1-x)^2}$$\n",
    "\n",
    "When $n\\to \\infty$, $S\\to\\frac{1}{(1-x)^2}$"
   ]
  },
  {
   "cell_type": "markdown",
   "metadata": {},
   "source": [
    "## Exercise 3.7\n",
    "(Callable bond) The Z Corporation issues a 10%, 20-year bond at a time when yields are 10%. The bond has a call provision that allows the corporation to force a bondholder to redeem his or her bond at face value plus 5%. After 5 years the corporation finds that exercise of this call provision is advantageous. What can you deduce about the yield at that time? (Assume one coupon payment per year.)"
   ]
  },
  {
   "cell_type": "markdown",
   "metadata": {},
   "source": [
    "### Solution:\n",
    "Assume the face value is 100. The remaining cashflow after 5 years is $[0, 10, 10, \\ldots, 10, 110]$. Since the company find it advantageous to call back the bond, then the price of the bond after year 5 is 105. "
   ]
  },
  {
   "cell_type": "code",
   "execution_count": 10,
   "metadata": {},
   "outputs": [
    {
     "name": "stdout",
     "output_type": "stream",
     "text": [
      "The irr of the above cashflow is 9.366%\n"
     ]
    }
   ],
   "source": [
    "cashflow = [-105] + [10] * 14 + [110]\n",
    "print(f\"The irr of the above cashflow is {irr(cashflow)*100:.3f}%\")"
   ]
  },
  {
   "cell_type": "markdown",
   "metadata": {},
   "source": [
    "Hence, the yield of the bond after year 5 is at most the irr of the cash flow $[-105, 10, 10,\\ldots, 10, 110]$, which is 9.366\\%. We conclude that YTM $\\leq 9.366 \\%$"
   ]
  },
  {
   "cell_type": "markdown",
   "metadata": {},
   "source": [
    "## Exercise 3.9\n",
    "(Annual worth) One advantage of the annual worth method is that it simplifies the comparison of inverstment projects that are repetitive but have different cycle times. Consider the automobile purchase problem of Example 2.7. Find the annual worths of the two (single-cycle) options, and determine directly which is preferable.\n",
    "\n",
    "Recall Example 2.7:\n",
    "\n",
    "- Car A costs \\$20000 is expected to last 4 years with each year the maintenance fee costs \\$1000.\n",
    "- Car B costs \\$30000 is expected to last 6 years with each year the maintenance fee costs \\$2000.\n"
   ]
  },
  {
   "cell_type": "markdown",
   "metadata": {},
   "source": [
    "### Solution:\n",
    "\n",
    "In genearl, since the life expectation is different, we can not compare the present value directly. Instead, we should amortize the present value to each year, and compute the amount that we should pay a year."
   ]
  },
  {
   "cell_type": "code",
   "execution_count": 11,
   "metadata": {},
   "outputs": [
    {
     "name": "stdout",
     "output_type": "stream",
     "text": [
      "The present value of the first cashflow is $22486.85\n",
      "The present value of the second cashflow is $37581.57\n"
     ]
    }
   ],
   "source": [
    "# Compute the present value of the cashflow\n",
    "cf1 = [20000] + [1000]*3\n",
    "cf2 = [30000] + [2000]*5\n",
    "r = 0.1\n",
    "\n",
    "pv1 = PV(r, cf1)\n",
    "pv2 = PV(r, cf2)\n",
    "print(f\"The present value of the first cashflow is ${pv1:.2f}\")\n",
    "print(f\"The present value of the second cashflow is ${pv2:.2f}\")"
   ]
  },
  {
   "cell_type": "code",
   "execution_count": 12,
   "metadata": {},
   "outputs": [
    {
     "name": "stdout",
     "output_type": "stream",
     "text": [
      "The monthly payment for the first cashflow is $7093.95\n",
      "The monthly payment for the second cashflow is $8629.01\n"
     ]
    }
   ],
   "source": [
    "# Then we amortize the loan\n",
    "A1 = loan_payment(pv1, r, 4)\n",
    "A2 = loan_payment(pv2, r, 6)\n",
    "print(f\"The monthly payment for the first cashflow is ${A1:.2f}\")\n",
    "print(f\"The monthly payment for the second cashflow is ${A2:.2f}\")"
   ]
  },
  {
   "cell_type": "markdown",
   "metadata": {},
   "source": [
    "We should choose the first car."
   ]
  },
  {
   "cell_type": "markdown",
   "metadata": {},
   "source": [
    "## Exercise 3.10\n",
    "(Variable-rate mortgage) The Smith family just took out a variable-rate mortage on their new home. The mortgage value is \\$100,000, the term is 30 years, and initially the interest rate is 8%. The interest rate is guaranteed for 5 years, after which time the rate will be adjusted according to prevailing rates. The new rate can be applied to their loan either by changing the payment amount or by changing the length of the mortgage.\n",
    "\n",
    "- (a) What is the original yearly mortgage payment? (Assume payments are yearly.)\n",
    "- (b) What will be the mortgage balance after 5 years?\n",
    "- (c) If the interest rate on the mortgage changes to 9% after 5 years, what will be the new yearly payment that keeps the termination time the same?\n",
    "\n",
    "- (d) Under the interest chang in (c), what will be the new term if the payments remain the same?"
   ]
  },
  {
   "cell_type": "markdown",
   "metadata": {},
   "source": [
    "### Solution:\n",
    "- (a): We need to compute the yearly mortgage payment."
   ]
  },
  {
   "cell_type": "code",
   "execution_count": 13,
   "metadata": {},
   "outputs": [
    {
     "name": "stdout",
     "output_type": "stream",
     "text": [
      "The yearly payment for the mortgage is $8882.74\n"
     ]
    }
   ],
   "source": [
    "A = loan_payment(100000, 0.08, 30)\n",
    "print(f'The yearly payment for the mortgage is ${A:.2f}')"
   ]
  },
  {
   "cell_type": "markdown",
   "metadata": {},
   "source": [
    "- (b): The mortgage balance is the total amount minus the paid amount in the five year."
   ]
  },
  {
   "cell_type": "code",
   "execution_count": 14,
   "metadata": {},
   "outputs": [
    {
     "name": "stdout",
     "output_type": "stream",
     "text": [
      "The remaining balance after 5 years is $94821.30\n"
     ]
    }
   ],
   "source": [
    "cf_remaining = [0]+[A]*25\n",
    "remaining = PV(0.08, cf_remaining)\n",
    "print(f'The remaining balance after 5 years is ${remaining:.2f}')"
   ]
  },
  {
   "cell_type": "markdown",
   "metadata": {},
   "source": [
    "- (c): Now we use the remaining to build a new mortage"
   ]
  },
  {
   "cell_type": "code",
   "execution_count": 15,
   "metadata": {},
   "outputs": [
    {
     "name": "stdout",
     "output_type": "stream",
     "text": [
      "The new monthly payment for the remaining balance is $9653.40\n"
     ]
    }
   ],
   "source": [
    "B = loan_payment(remaining, 0.09, 25)\n",
    "print(f'The new monthly payment for the remaining balance is ${B:.2f}')"
   ]
  },
  {
   "cell_type": "markdown",
   "metadata": {},
   "source": [
    "- (d): If we use the orginal payment, the total life of the mortgage will increase."
   ]
  },
  {
   "cell_type": "code",
   "execution_count": 16,
   "metadata": {},
   "outputs": [
    {
     "name": "stdout",
     "output_type": "stream",
     "text": [
      "The mortgage will be paid off in 38 years, the overall mortgage life is 43 years\n"
     ]
    }
   ],
   "source": [
    "# find the n year for the mortgage\n",
    "for n in range(25, 40):\n",
    "    cf = [0] + [A]*n\n",
    "    pv = PV(0.09, cf)\n",
    "    if pv > remaining:\n",
    "        print(f'The mortgage will be paid off in {n} years, the overall mortgage life is {n+5} years')\n",
    "        break"
   ]
  },
  {
   "cell_type": "markdown",
   "metadata": {},
   "source": []
  }
 ],
 "metadata": {
  "kernelspec": {
   "display_name": "math-134-notes-ujRLJM6v-py3.12",
   "language": "python",
   "name": "python3"
  },
  "language_info": {
   "codemirror_mode": {
    "name": "ipython",
    "version": 3
   },
   "file_extension": ".py",
   "mimetype": "text/x-python",
   "name": "python",
   "nbconvert_exporter": "python",
   "pygments_lexer": "ipython3",
   "version": "3.12.0"
  }
 },
 "nbformat": 4,
 "nbformat_minor": 2
}
