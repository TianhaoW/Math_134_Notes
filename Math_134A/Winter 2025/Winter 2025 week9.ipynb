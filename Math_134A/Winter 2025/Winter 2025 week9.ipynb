{
 "cells": [
  {
   "cell_type": "markdown",
   "metadata": {},
   "source": [
    "# Winter 2025 Week 9"
   ]
  },
  {
   "cell_type": "code",
   "execution_count": 1,
   "metadata": {},
   "outputs": [],
   "source": [
    "import pandas as pd\n",
    "import matplotlib.pyplot as plt\n",
    "import numpy as np\n",
    "\n",
    "# Import all the functions from the Utility_functions.py file\n",
    "from Utility_functions import *"
   ]
  },
  {
   "cell_type": "markdown",
   "metadata": {},
   "source": [
    "## Market Portfolio\n",
    "If everyone uses the mean-variance approach to investing, and has the same estimates for the asset's return, variance, and covariance, then every one must invest in the same fund $F$ of risky assets by the one fund theorem. It follows from the equilibrium that $F$ must be the **market portfolio** $M$, whose weights in each asset is the proportion of total market capitalization. \n",
    "\n",
    "The ultimate conclusion of the mean-variance\n",
    "approach is that the one fund must be the\n",
    "market portfolio: S&P 500 index"
   ]
  },
  {
   "cell_type": "markdown",
   "metadata": {},
   "source": [
    "## Capital Market Line\n",
    "Following from the one fund theorem, we know that the efficient frontier is a straight line connecting the risk-free asset with the market portfolio. We call this as the **capital market line**. Denote $r_f$ be the risk-free rate, and $\\overline{r_M}, \\sigma_M^2$ be the expected return and variance of the market portfolio, then a point $(\\overline{r}, \\sigma)$ on the capital market line satisfies \n",
    "$$\\overline{r} = r_f+\\frac{\\overline{r_M}-r_f}{\\sigma_M}\\sigma$$\n",
    "\n",
    "Different people may have different perference for the risk. Some will seek to avoid risk and will accordingly have a high percentage of the risk-free asset in their portfolios; others, who are more aggressive, will have a high percentage of the risky fund. However, every individual will form a portfolio that is a mix of the risk-free asset and the single, risky one fund. They all stay in the same capital market line."
   ]
  },
  {
   "cell_type": "markdown",
   "metadata": {},
   "source": [
    "## The capital asset pricing model (CAPM) \n",
    "If the market portfolio $M$ is efficient, the expected return $\\bar{r}_i$ of any asset $i$ satisfies:\n",
    "$$ \\bar{r}_i - r_f = \\beta_i(\\bar{r}_M - r_f) $$\n",
    "where\n",
    "$$ \\beta_i = \\frac{\\sigma_{iM}}{\\sigma_M^2} $$"
   ]
  },
  {
   "cell_type": "markdown",
   "metadata": {},
   "source": [
    "Note this $\\beta_i$ is exactly given by the slop of linear regression when we want to predict $\\bar{r}_i - r_f$ against $\\bar{r}_m - r_f$."
   ]
  },
  {
   "cell_type": "markdown",
   "metadata": {},
   "source": [
    "## Exercise 7.1\n",
    "(Capital market line) Assume that the expected rate of return on the market portfolio is 23\\% and the rate of return on T-bills (the risk-free rate) is 7%. The standard deviation of the market is 32\\%. Assume that the market portfolio is efficient. \n",
    "- (a) What is the equation of the capital market line? \n",
    "- (b) \n",
    "  - (i) If an expected return of 39\\% is desired, what is the standard deviation of this position? \n",
    "  - (ii) If you have 1,000 to invest, how should you allocate it to achieve the above position? \n",
    "- (c) If you invest 300 in the risk-free asset and 700 in the market portfolio, how much money should you expect to have at the end of the year?"
   ]
  },
  {
   "cell_type": "markdown",
   "metadata": {},
   "source": [
    "### Solution:\n",
    "- (a) The equation of the capital market line is \n",
    "$$\\overline{r} = 0.07 + \\frac{0.23 - 0.07}{0.32}\\sigma = 0.07 + 0.5\\sigma$$\n",
    "- (b) \n",
    "\n",
    "- (i) Substitute 0.39 into the above equation, we get \n",
    "$$0.39 = 0.07+0.5\\sigma$$\n",
    "Solving this equation gives $\\sigma = 0.64$\n",
    "\n",
    "- (ii) We denote $\\alpha$ to be the weight of this portfolio in the market portfolio, and $1-\\alpha$ to be the weight in risk-free asset. Then, we have \n",
    "$$0.39 = \\alpha\\cdot 0.23 + (1-\\alpha)\\cdot 0.07$$\n",
    "Solving this equation gives $\\alpha = 2, 1-\\alpha = -1$. Thus, we should borrow 1000, and invest 2000 in the market portfolio. \n",
    "\n",
    "- (c) The expected money that we get is \n",
    "$$300 \\cdot 1.07 + 700 \\cdot 1.23 = 1182$$"
   ]
  },
  {
   "cell_type": "markdown",
   "metadata": {},
   "source": [
    "## Exercise 7.2\n",
    "(A small world) Consider a world in which there are only two risky assets, A and B, and a risk-free asset F. The two risky assets are in equal supply in the market; that is, $M = \\frac{1}{2}(A +B)$. The following information is known: $r_F = 0.1, \\sigma_A^2 = 0.04, \\sigma_{AB} = 0.01, \\sigma_B^2 = 0.02$ and $\\overline{r_M} = 0.18$. \n",
    "\n",
    "- (a) Find a general expression (without substituting values) for $\\sigma_M^2, \\beta_A$ and $\\beta_B$. \n",
    "- (b) According to the CAPM, what are the numerical values of $\\overline{r_A}$ and $\\overline{r_B}$. "
   ]
  },
  {
   "cell_type": "markdown",
   "metadata": {},
   "source": [
    "### Solution:\n",
    "- (a) We have \n",
    "$$\\sigma_M^2 = \\text{Cov}(0.5r_A + 0.5r_B, 0.5r_A+0.5r_B) = 0.5^2\\sigma_A^2 + 0.5^2\\sigma_B^2 + 2\\cdot 0.5\\cdot 0.5 \\cdot\\sigma_{AB} = 0.25\\sigma_A^2 + 0.25\\sigma_B^2 + 0.5\\sigma_{AB}$$\n",
    "$$\\beta_A = \\frac{\\text{Cov}(r_A, 0.5r_A+0.5r_B)}{\\sigma_M^2} = \\frac{0.5\\sigma_A^2 + 0.5\\sigma_{AB}}{\\sigma_M^2}$$\n",
    "$$\\beta_B = \\frac{0.5\\sigma_B^2 + 0.5\\sigma_{AB}}{\\sigma_M^2}$$\n",
    "\n",
    "- (b) By substituting the numbers, we get $\\sigma_M^2 = 0.02$, $\\beta_A = 1.25$, $\\beta_B = 0.75$. By the CAPM, we get \n",
    "$$\\overline{r_A} = 0.1+1.25\\cdot(0.18-0.1) = 0.2$$\n",
    "$$\\overline{r_B} = 0.1 + 0.75\\cdot (0.18-0.1) = 0.16$$"
   ]
  },
  {
   "cell_type": "markdown",
   "metadata": {},
   "source": [
    "## Exercise 7.3\n",
    "(Bounds on returns) Consider a universe of just three securities. They have expected rates of return of 10%, 20%, and 10%, respectively. Two portfolios are known to lie on the minimum-variance set. They are defined by the portfolio weights\n",
    "$$\\mathbf{w} = \\begin{bmatrix}0.6 \\\\ 0.2 \\\\ 0.2\\end{bmatrix},\\;\\;\\;\\;\\mathbf{v} = \\begin{bmatrix}0.8 \\\\ -0.2 \\\\ 0.4\\end{bmatrix}$$\n",
    "It is also known that the market portfolio is efficient.\n",
    "\n",
    "- (a) Given this information, what are the minimum and maximum possible values for the expected rate of return on the market portfolio? \n",
    "- (b) Now suppose you are told that w represents the minimum-variance portfolio. Does this change your answers to part (a)?"
   ]
  },
  {
   "cell_type": "markdown",
   "metadata": {},
   "source": [
    "### Solution:\n",
    "- (a) By the two fund theorem, we know that the market portfolio is of the form \n",
    "$$\\alpha\\vec{w}+(1-\\alpha)\\vec{v}$$\n",
    "for some $\\alpha\\in\\mathbb{R}$. This gives a line in the 3-dimensional space of the weight vector. Since the market portfolio has non-negative weights, we are interested in the segment of this line in the first quadrant. We will first compute the end points of this line segment.\n",
    "\n",
    "We compute the end points of the line segment by computing the intersection point with the $yz, xz, xy$ plane. We solve each of the following equations \n",
    "$$0.6\\alpha + 0.8(1-\\alpha) = 0$$\n",
    "$$0.2\\alpha - 0.2(1-\\alpha) = 0$$\n",
    "$$0.2\\alpha + 0.4(1-\\alpha) = 0$$\n",
    "and we get $\\alpha = 4, 0.5, 2$ respectively, and the intersection points with the coordinate planes are $(0, 1.4, -0.4), (0.7, 0, 0.3), (0.4, 0.6, 0)$ respectively. Thus, the end points of the line segment are $(0.7, 0, 0.3), (0.4, 0.6, 0)$, and the weight vector of the market portfolio is \n",
    "$$t(0,7, 0, 0.3)+(1-t)(0.4, 0.6, 0)\\;\\;\\;\\; t\\in[0,1]$$\n",
    "The expected rate of return of the portfolio with this weight vector is $t\\cdot 0.1 + (1-t)\\cdot 0.16$. Since $t\\in[0,1]$, we conclude that the expected rate of return of the market portfolio is between $0.1$ and $0.16$.\n",
    "\n",
    "- (b) If $\\vec{w}$ represent the minimum-variance portfolio, then the market portfolio is on the efficient frontier, and thus, its expected rate of return is bounded from below by the expected rate of return of the minimum-variance portfolio, which is $0.12$. We update the minimum possible value to 0.12. "
   ]
  },
  {
   "cell_type": "markdown",
   "metadata": {},
   "source": [
    "## Exercise 7.4\n",
    "(Quick CAPM derivation) Derive the CAPM formula for $\\overline{r}_k — r_f$ by using Equation (6.9) in Chapter 6. [Hint: Note that $\\sum_1^n \\sigma_{ik}w_i = \\text{cov}(r_k, r_M)$].  "
   ]
  },
  {
   "cell_type": "markdown",
   "metadata": {},
   "source": [
    "### Solution:\n",
    "Let $w_i$ be the weight of the market portfolio in the asset $i$. Then we have \n",
    "$$\\overline{r_M} = \\sum_1^n w_i\\overline{r_i}$$\n",
    "By the one fund theorem, we know that $w_i$ satisfies the equation \n",
    "$$\\sum_1^n \\sigma_{ik}\\lambda w_i = \\overline{r_k}-r_f$$\n",
    "Note that $\\sigma_{kM} = \\text{Cov}(r_k, r_M) = \\text{Cov}(r_k, \\sum_1^n w_ir_i) = \\sum_1^n \\sigma_{ik}w_i$ (which is also in the hint). We have \n",
    "$$\\lambda \\sigma_{kM} = \\overline{r_k}-r_f$$ \n",
    "We take the weighted sum with weights $w_k$ on both sides, and we get \n",
    "$$\\sum_1^n w_k\\lambda\\sigma_{kM} = \\sum_1^n w_k(\\overline{r_k}-r_f)$$\n",
    "and thus,\n",
    "$$\\lambda\\sigma_M^2 = \\overline{r_M}-r_f$$\n",
    "We solved that \n",
    "$$\\lambda = \\frac{\\overline{r_M}-r_f}{\\sigma_M^2}$$\n",
    "Substituting this $\\lambda$ in the third equation above gives the formula in CAPM\n",
    "$$\\frac{\\overline{r_M}-r_f}{\\sigma_M^2}\\sigma_{kM} = \\overline{r_k}-r_f$$"
   ]
  },
  {
   "cell_type": "markdown",
   "metadata": {},
   "source": [
    "## Exercise 7.5\n",
    "(Uncorrelated assets) Suppose there are n mutually uncorrelated assets. The return on asset $i$ has variance $\\sigma_i^2$. The expected rates of return are unspecified at this point. The total amount of asset $i$ in the market is $X_i$. We let $T = \\sum_{i=1}^n X_i$ and then set $x_i = X_i/T$, for $i = 1,2...,n.$. Hence the mareket portfolio in normalized form is $\\bf{x} = (x_1,x_2,...,x_n)$. Assume there is a risk-free asset with rate of return $r_f$. Find an expression for $\\beta_j$ in terms of the $x_i's$ and $\\sigma_i's$."
   ]
  },
  {
   "cell_type": "markdown",
   "metadata": {},
   "source": [
    "### Solution:\n",
    "Let $a_i$ be the asset $i$. Since all of these assets are uncorrelated, then we have:\n",
    "$$ \\beta_i = \\frac{Cov(a_i, \\sum_i^{n}a_i x_i)}{Var(\\sum_i^n a_i x_i)} = \\frac{x_i \\sigma_i^2}{\\sum_{i}^n x_i^2\\sigma_i^2} $$"
   ]
  },
  {
   "cell_type": "markdown",
   "metadata": {},
   "source": [
    "## Exercise 7.6\n",
    "(Simpleland) In Simpleland there are only two risky stocks, $A$ and $B$, whose details are the following:\n",
    "\n",
    "Furthermore, the correlation coefficient between the returns of stocks $A$ and $B$ is $\\rho_{AB} = \\frac{1}{3}$. There is also a risk-free asset, and Simpleland satisfies the CAPM exactly.\n",
    "![table](../../img/Winter_2025_134A_Week9_1.png \"Title\")\n",
    "\n",
    "- (a) What is the expected rate of return of the market portfolio?\n",
    "- (b) What is the standard deviation of the market portfolio?\n",
    "- (c) What is the beta of stock A?\n",
    "- (d) What is the risk-free rate in Simpleland?"
   ]
  },
  {
   "cell_type": "markdown",
   "metadata": {},
   "source": [
    "### Solution:\n",
    "Note that the market consists of \\$150 in shares of A and \\$300 in shares of B. Hence the market return is:\n",
    "$$ \\bar{r}_M = \\frac{150}{450} r_A + \\frac{300}{450} r_B = \\frac{1}{3} r_A + \\frac{2}{3}r_B$$\n",
    "Thus."
   ]
  },
  {
   "cell_type": "code",
   "execution_count": 3,
   "metadata": {},
   "outputs": [
    {
     "name": "stdout",
     "output_type": "stream",
     "text": [
      "Expected return of the market portfolio: 13.00%\n",
      "Portfolio variance: 9.00%\n",
      "Beta of A: 1.30\n",
      "Risk free rate: 6.25%\n"
     ]
    }
   ],
   "source": [
    "w1 = 1/3\n",
    "w2 = 2/3\n",
    "r1 = 0.15\n",
    "r2 = 0.12\n",
    "sigma1 = 0.15\n",
    "sigma2 = 0.09\n",
    "rho = 1/3\n",
    "\n",
    "# Expected returns\n",
    "rM = w1 * r1 + w2 * r2\n",
    "# Portfolio variance\n",
    "sigmaM = np.sqrt(w1**2 * sigma1**2 + w2**2 * sigma2**2 + 2 * w1 * w2 * rho * sigma1 * sigma2)\n",
    "# Beta of A\n",
    "betaA = (w1 * sigma1**2 + w2 * rho * sigma1 * sigma2) / sigmaM**2\n",
    "# Risk free rate\n",
    "rf = (r1 - betaA*rM) / (1 - betaA)\n",
    "\n",
    "print(f\"Expected return of the market portfolio: {rM:.2%}\")\n",
    "print(f\"Portfolio variance: {sigmaM:.2%}\")\n",
    "print(f\"Beta of A: {betaA:.2f}\")\n",
    "print(f\"Risk free rate: {rf:.2%}\")"
   ]
  },
  {
   "cell_type": "markdown",
   "metadata": {},
   "source": []
  }
 ],
 "metadata": {
  "kernelspec": {
   "display_name": "math-134-notes-ujRLJM6v-py3.12",
   "language": "python",
   "name": "python3"
  },
  "language_info": {
   "codemirror_mode": {
    "name": "ipython",
    "version": 3
   },
   "file_extension": ".py",
   "mimetype": "text/x-python",
   "name": "python",
   "nbconvert_exporter": "python",
   "pygments_lexer": "ipython3",
   "version": "3.12.0"
  }
 },
 "nbformat": 4,
 "nbformat_minor": 2
}
