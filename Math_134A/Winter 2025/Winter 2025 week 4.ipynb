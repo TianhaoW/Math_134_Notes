{
 "cells": [
  {
   "cell_type": "markdown",
   "metadata": {},
   "source": [
    "# Winter 2025 134A Week 4"
   ]
  },
  {
   "cell_type": "code",
   "execution_count": 5,
   "metadata": {},
   "outputs": [],
   "source": [
    "import pandas as pd\n",
    "import matplotlib.pyplot as plt\n",
    "\n",
    "# Import all the functions from the Utility_functions.py file\n",
    "from Utility_functions import *"
   ]
  },
  {
   "cell_type": "markdown",
   "metadata": {},
   "source": [
    "## Bond Duration\n",
    "In bond analysis, it is common to use yield instead of the interest rate. Duration measures the bond's sensitivity to changes in yield, which relates directly to price. Note the duration is often less than the duration of the maturity. The longer the duration is, the higher risk it will have against the change of the interest rate. There are two commonly used types of duration: **Macaulay duration** and **modified duration**. \n",
    "\n",
    "Macaulay duration is the weighted average time to receive the bond's cash flows, considering the yield. Suppose a financial instrument makes payments $m$ times per year, with the payment in period being $c_k$, and there are $n$ periods remaining. The Macaulay duration is defined as:\n",
    "$$D = \\frac{\\sum_{k=1}^n \\frac{k}{m}\\frac{c_k}{(1+\\lambda/m)^k}}{P}$$\n",
    "\n",
    "Denote $P_k$ to be the present value of payment $c_k$ received in the period $k$. Then we have $P_k = \\frac{c_k}{(1+\\lambda/m)^k}$. Hence, we may write $D$ as \n",
    "$$D = \\frac{\\sum_{k=1}^n \\frac{k}{m}P_k}{P}$$\n",
    "\n",
    "Note that we also have $\\frac{dP_k}{d\\lambda} = -\\frac{k}{m(1+\\lambda/m)}P_k$. Let $P$ be the present value of the payment cashflow, which is also the price of the bond. Then we have $P = P_1+\\cdots+P_k$, and thus \n",
    "$$\\frac{dP}{d\\lambda} = \\sum_1^n \\frac{dP_k}{d\\lambda} = \\sum_1^n\\frac{-\\frac{k}{m} P_k}{1+\\lambda/m} = \\frac{-D\\cdot P}{1+\\lambda/m} = -D_MP$$\n",
    "We call $D_M = \\frac{D}{1+\\lambda/m}$ as the **modified duration**. Roughly speaking\n",
    "$$\\frac{\\Delta P}{P} \\approx -D_M\\Delta \\lambda$$\n",
    "\n",
    "In the case where all coupon payments are identical (the normal case for bonds), there is an explicit formula for the Macaulay duration. For a bond with a coupon rate $c$ per period, yield $y$ per period, $m$ periods per year, and exactly $n$ periods remaining, the Macaulay duration is:\n",
    "$$D = \\frac{1+y}{my}-\\frac{1+y+n(c-y)}{mc[(1+y)^n - 1] + my}$$"
   ]
  },
  {
   "cell_type": "markdown",
   "metadata": {},
   "source": [
    "**Example**: \n",
    "Consider a bond with YTM 10%, and modified duration being 10 years. If the YTM increase to 11%, what can we say about the price of this bond\n",
    "\n",
    "a) Increase by 1% \\\n",
    "b) Decrease by 1% \n",
    "\n",
    "**Solution:** The price of this bond will decrease by 10% and increase by 10%."
   ]
  },
  {
   "cell_type": "code",
   "execution_count": 6,
   "metadata": {},
   "outputs": [],
   "source": [
    "def macaulay_duration(c, y, m, n):\n",
    "    \"\"\"\n",
    "    c is the coupon rate per period\n",
    "    y is the yield per period\n",
    "    m is the number of periods per year\n",
    "    n is the number of periods remaining\n",
    "    \"\"\"\n",
    "    D = (1+y)/(m*y) - (1 + y + n*(c-y))/(m*c * ((1+y)**n - 1) + m*y)\n",
    "    return D"
   ]
  },
  {
   "cell_type": "markdown",
   "metadata": {},
   "source": [
    "**Exercise 3.14**: \n",
    "(Duration) Find the price and duration of a 10-year, 8% bond that is trading at a yield of 10%. Assume that the coupon is paid semi-annually."
   ]
  },
  {
   "cell_type": "code",
   "execution_count": 7,
   "metadata": {},
   "outputs": [
    {
     "name": "stdout",
     "output_type": "stream",
     "text": [
      "The duration is 6.84 years\n"
     ]
    }
   ],
   "source": [
    "print(f\"The duration is {macaulay_duration(c = 0.08/2, y = 0.1/2, m = 2, n = 20):.2f} years\")"
   ]
  },
  {
   "cell_type": "markdown",
   "metadata": {},
   "source": [
    "## Duration of a Portfolio\n",
    "Assume that a portfolio consists of two bonds with payment cash flow $(0, c_1, c_2,\\ldots, c_n)$ and $(0, d_1,\\ldots, d_n)$. We may extend one of the cash flow with zeros so that they have the same length. We want to compute the duration of this portfolio. Let $P^A_k$ be the present value of the payment $c_k$, and $P^B_k$ be the resent value of the payment $d_k$. Let $P^A$ be the price/present value of the first bond, and $P^B$ be the price of the second bond. Let $D^A$ and $D^B$ to be their durations. Then we have \n",
    "$$D^A = \\frac{\\sum_1^n t_kP^A_k}{P^A}$$\n",
    "$$D^B = \\frac{\\sum_1^n t_kP^B_k}{P^B}$$\n",
    "\n",
    "Let $D$ be the duration of this portfolio, and $P = P_A+P_B$ to be the present value of this portfolio. Then we have \n",
    "$$D = \\frac{\\sum_1^n t_k (P^A_k+P^B_k)}{P} = \\frac{D^AP^A+D^BP^B}{P} = \\frac{P^A}{P}D^A + \\frac{P^B}{P}D^B$$\n",
    "\n",
    "In other words, the duration of a portfolio is a weighted sum of the duration of each individual bonds, and the weight is the proportion of this bonds price over the price of this portfolio.\n",
    "\n",
    "More generally, if a portfolio consists of $n$ fixed income investments with price $P_1,\\ldots, P_n$, and each of them has a duration $D_1,\\ldots, D_n$. Let $P = P_1+\\cdots+P_n$ be the price of this portfolio, and $D$ be its duration. Then we have \n",
    "$$D = \\frac{P_1}{P}D_1+\\cdots+\\frac{P_n}{P}D$$"
   ]
  },
  {
   "cell_type": "markdown",
   "metadata": {},
   "source": [
    "## Immunization\n",
    "The goal of **Immunization** is to protect a portfolio against the change in the interest rate. If we have an obligation of paying $F$ amount of money in $D$ years. Suppose that the prevailing interest is $r$. Then the YTM of a bond will be close to $r$. A zero coupon bond with face value $F$ and mature in $D$ years will serve the purpose. However, it is very common that there is no such a bond in the market. We may construct a portfolio of other bonds so that the present value of this portfolio will equal to the present value of the future payment. However, if the interest rate change, then our portfolio may not worth the same as the payment that we need to deliver. \n",
    "\n",
    "Then what we do is to construct a portfolio consisting of fixed income securities so that its present value matches with the present value of the future payment, its duration matches with $D$, which is the time we need to deliver the payment, or equivalently, the duration of the hypothetical zero-coupon bond which mature in $D$ years. In this case, if the interest rate change, then the present value of the future payment and the present value of our portfolio will have the same amount of change. \n",
    "\n",
    "In terms of math, we need to solve a portfolio $P$ satisfies:\n",
    "$$\\left\\{\n",
    "    \\begin{aligned}\n",
    "    &D_P = D\\\\\n",
    "    &PV(P) = F\n",
    "    \\end{aligned}\n",
    "    \\right.$$"
   ]
  },
  {
   "cell_type": "markdown",
   "metadata": {},
   "source": [
    "### Example:\n",
    "(Bond selection) \n",
    "Consider the four bonds having annual payments as shown in the following table. They are traded to produce a 15\\% yield. \n",
    "\n",
    "a) Determine the price of each bond. \\\n",
    "b) Determine the duration of each bond (not the modified duration). \\\n",
    "c) Which bond is most sensitive to a change in yield? \\\n",
    "d) Suppose you owe 2,000 at the end of 2 years. Concern about interest rate risk suggests that a portfolio consisting of the bonds and the obligation should be immunized. If\n",
    "$V_A, V_B, V_C$, and $V_D$ are the total values of bonds purchased of types A,B,C, and D, respectively, what are the necessary constraints to implement the immunization? \\\n",
    "e) In order to immunize the portfolio, you decide to use bond C and one other bond. Which other bond should you choose? Find the amounts (in total value) of each of these to purchase. \\\n",
    "f) You decided in e) to use bond C in the immunization. Would other choices, including perhaps a combination of bonds, lead to lower total cost?\n",
    "\n",
    "<center>\n",
    "\n",
    "|        | Bond A | Bond B | Bond C | Bond D |\n",
    "|--------|--------|--------|--------|--------|\n",
    "| Year 1 | 100    | 50     | 0      | 1000   |\n",
    "| Year 2 | 100    | 50     | 0      | 0      |\n",
    "| Year 3 | 1100   | 1050   | 1000   | 0      |\n",
    "\n",
    "</center>"
   ]
  },
  {
   "cell_type": "markdown",
   "metadata": {},
   "source": [
    "#### Solution:"
   ]
  },
  {
   "cell_type": "code",
   "execution_count": 8,
   "metadata": {},
   "outputs": [
    {
     "name": "stdout",
     "output_type": "stream",
     "text": [
      "a) The price of each bonds are  885.84,  771.68, 657.52, 869.57\n",
      "b) The duration of each bonds are  2.72,  2.84, 3.00, 1.00\n",
      "c) The bond c is most sensitive to the change in yield\n"
     ]
    }
   ],
   "source": [
    "PV_a = PV(r = 0.15, cf = [0, 100, 100, 1100])\n",
    "PV_b = PV(r = 0.15, cf = [0, 50, 50, 1050])\n",
    "PV_c = PV(r = 0.15, cf = [0, 0, 0, 1000])\n",
    "PV_d = PV(r = 0.15, cf = [0, 1000, 0, 0])\n",
    "print(f\"a) The price of each bonds are {PV_a: .2f}, {PV_b: .2f}, {PV_c:.2f}, {PV_d:.2f}\")\n",
    "d_a  = macaulay_duration(0.1, 0.15, 1, 3)\n",
    "d_b  = macaulay_duration(0.05, 0.15, 1, 3)\n",
    "d_c  = macaulay_duration(0, 0.15, 1, 3)\n",
    "d_d  = macaulay_duration(0, 0.15, 1, 1)\n",
    "print(f\"b) The duration of each bonds are {d_a: .2f}, {d_b: .2f}, {d_c:.2f}, {d_d:.2f}\")\n",
    "print(\"c) The bond c is most sensitive to the change in yield\")"
   ]
  },
  {
   "cell_type": "markdown",
   "metadata": {},
   "source": [
    "d) Suppose that we bought $V_A,\\ldots, V_D$ units of those $4$ bonds. Then the present value and duration of this portfolio is \n",
    "$$P = V_A \\cdot 0.885 + V_B \\cdot 0.771 + V_C \\cdot 0.657 + V_D \\cdot 0.869$$\n",
    "$$D = \\frac{V_A \\cdot 0.885}{P} \\cdot 2.72+\\cdots + \\frac{V_D \\cdot 0.869}{P}\\cdot 1$$\n",
    "Then a necessary constrain to implement the immunization is that the following system of linear equations has at least a solution\n",
    "$$\\begin{cases}\n",
    "\\frac{2000}{1.15^2} = V_A \\cdot 0.885 + V_B \\cdot 0.771 + V_C \\cdot 0.657 + V_D \\cdot 0.869 \\\\\n",
    "2 = \\frac{V_A \\cdot 0.885}{2000/1.15^2} \\cdot 2.72+\\cdots + \\frac{V_D \\cdot 0.869}{2000/1.15^2}\\cdot 1 \n",
    "\\end{cases} $$\n",
    "\n",
    "e) We may use bond C and bond D for computation. Then we have to solve the equation \n",
    "$$\\begin{cases}\n",
    "\\frac{2000}{1.15^2} = V_C \\cdot 0.657 + V_D \\cdot 0.869 \\\\\n",
    "2 = \\frac{V_C \\cdot 0.657}{2000/1.15^2} \\cdot 3 + \\frac{V_D \\cdot 0.869}{2000/1.15^2}\\cdot 1 \n",
    "\\end{cases} $$\n",
    "\n",
    "By solving this equation, we get $V_C = 1150.9, V_D = 870.131$. In terms of their price, we need to spent $V_C \\cdot 0.657 = 756.15$ to purchase bond C and $V_D\\cdot 0.869 = 756.15$ to buy bond $D$. \n",
    "\n",
    "f) No, all choices will have the same price, which is the present value of the 2000 payment in 2 years. "
   ]
  },
  {
   "cell_type": "markdown",
   "metadata": {},
   "source": [
    "## Term Structure\n",
    "The YTM of a bond with different mature dates are usually not the same. The bonds with longer mature dates usually have a higher YTM. We denote the **spot rate** $s_t$ to be the annual interest rate of money held from now, until the time $t$. The spot rate $s_t$ is usually computed from the YTM of a zero-coupon bond which mature in time t. In the term structure, we are assuming that the money held for different time will have different interest rates. Thus, if we assume yearly compounding, then when computing the present value of a cashflow, we use $d_1 = \\frac{1}{1+s_1}$ to discount the payment received in year $1$, and $d_2 = \\frac{1}{(1+s_2)^2}$ to discount the payment received in year 2. If we assume the continuous compounding, then $d_1 = e^{-s_1}$, $d_2 = e^{-2s_2}$. "
   ]
  },
  {
   "cell_type": "markdown",
   "metadata": {},
   "source": [
    "## Forward Rates\n",
    "Since the interest rate for holding the money for 1 year is different from holding the money for 2 years. We also expect that interest rate for borrowing the money for 1 year now is different from borrowing the money for 1 year next year. We call the latter as the **forward rates**. More precisely, the forward rate $f_{i, j}$ with $j>i$ are the interest rates for money to be borrowed from time $i$ to time $j$ in the future, but under terms agreed upon today. Under the yearly compounding assumption, the forward rates can be computed from the equation that the present values are the same:\n",
    "$$(1+s_j)^j = (1+s_i)^i(1+f_{i,j})^{j-i}$$\n",
    "By solving this equation, we get \n",
    "$$f_{i,j} = \\left(\\frac{(1+s_j)^j}{(1+s_i)^i}\\right)^{1/(j-i)}-1$$\n",
    "\n",
    "If we assume continuous compounding, then we have \n",
    "$$e^{js_j} = e^{is_i}e^{(j-i)f_{i,j}}$$\n",
    "which implies that \n",
    "$$js_j = is_i + (j-i)f_{i,j}$$\n",
    "By solving this equation, we get \n",
    "$$f_{i,j} = \\frac{js_j-is_i}{j-i}$$\n"
   ]
  },
  {
   "cell_type": "markdown",
   "metadata": {},
   "source": [
    "## Short Rates\n",
    "Given the spot rates $(s_1, s_2,\\ldots)$. We define the **short rates** at time $k$ as $r_k = f_{k, k+1}$, and $r_0 = s_1$. The short rates $r_k$ is the interest rate for the 1-year term loan at time $k$.\n",
    "\n",
    "Then we have the equation \n",
    "$$(1+s_k)^k = (1+r_0)\\cdots(1+r_k)$$\n",
    "\n",
    "$$(1+f_{i,j})^{j-1} = (1+r_i)\\cdots(1+r_j)$$\n",
    "\n",
    "Given the short rates, we can also determine the spot rates uniquely.\n"
   ]
  },
  {
   "cell_type": "markdown",
   "metadata": {},
   "source": [
    "## Exercise 4.1\n",
    "(One forward rate)\n",
    "If the spot rates for 1 and 2 years are $s_1$ = 6.3% and $s_2$ = 6.9%, what is the forward rate $f_{1,2}$? Assume continuous compounding for the computation. "
   ]
  },
  {
   "cell_type": "markdown",
   "metadata": {},
   "source": [
    "### Solution:\n",
    "It can be easily computed using the formula:\n",
    "$$(1+s_2)^2 = (1+s_1)\\times (1+f_{1,2})$$"
   ]
  },
  {
   "cell_type": "code",
   "execution_count": 9,
   "metadata": {},
   "outputs": [
    {
     "name": "stdout",
     "output_type": "stream",
     "text": [
      "The forward rate f_12 is 7.50%\n"
     ]
    }
   ],
   "source": [
    "f_12 = (2 * 0.069 - 0.063)/(2-1)\n",
    "print(f\"The forward rate f_12 is {f_12*100:.2f}%\")"
   ]
  },
  {
   "cell_type": "markdown",
   "metadata": {},
   "source": [
    "## Exercise 4.5\n",
    "(Instantaneous rates)\n",
    "Let s(t), $0 < t < \\infty$, denote a spot rate curve; that is, the present value of a dollar to be received at time t is $e^{-s(t)t}$, For  $t_1<t_2$, let $f(t_1, t_2)$ be the forward rate between $t_1$ and $t_2$ implied by the given spot rate curve.\n",
    "\n",
    "- (a) Find an expression for $f(t_1, t_2)$.\\\n",
    "- (b) Let $r(t) = \\lim\\limits_{t_2\\rightarrow t}f(t, t_2)$. We can call $r(t)$ the **instantaneous interest rate** at time $t$. Show that $r(t) = s(t) +s'(t)t$. \\\n",
    "- (c) Suppose an amount $x_0$ is invested in a bank account at t = 0 which pays the instantaneous rate of interest r(t) at all t (compounded). Then the bank balance $x(t)$ will satisfy $dx(t)/dt = r(t)x(t)$. Find an expression for x(t)."
   ]
  },
  {
   "cell_type": "markdown",
   "metadata": {},
   "source": [
    "### Solution:\n",
    "- a) From the definition of forward rates, we have \n",
    "$$e^{s(t_1)t_1} = e^{s(t_2)t_2}e^{f(t_1, t_2)(t_2-t_1)}$$\n",
    "By solving $f(t_1, t_2)$, we get\n",
    "$$f(t_1, t_2) = \\frac{t_2s(t_2)-t_1s(t_1)}{t_2-t_1}$$ \n",
    "\n",
    "- b) Using the L'Hospital Rule, we have\n",
    "$$r(t) = \\lim\\limits_{t_2\\rightarrow t} f(t, t_2) =  \\lim\\limits_{t_2\\rightarrow t}\\frac{t_2s(t_2)-ts(t)}{t_2-t} = \\lim\\limits_{t_2\\rightarrow t} \\frac{s(t_2)+t_2s'(t_2) - 0}{1} = s(t)+ts'(t)$$\n",
    "\n",
    "\n",
    "- c) We have \n",
    "$$\\frac{dx(t)}{x(t)} = r(t)dt = (s(t)+ts'(t))dt = d(ts(t))$$\n",
    "Integrating both sides gives \n",
    "$$\\ln(x(t)) = ts(t)+C$$\n",
    "and we have \n",
    "$$x(t) = e^Ce^{ts(t)}$$\n",
    "By substituting $t=0$, we get $e^C = x_0$, and thus, we have \n",
    "$$x(t) = x_0e^{ts(t)}$$"
   ]
  },
  {
   "cell_type": "markdown",
   "metadata": {},
   "source": [
    "## Exercise 4.7\n",
    "(Bond taxes) An investor is considering the purchase of 10-year U.S. Treasury bonds and plans to hold them to maturity. Federal taxes on coupons must be paid during the year they are received, and tax must also be paid on the capital gain realized at maturity (defined as the difference between face value and original price). Federal bonds are exempt from state taxes. This investor’s federal tax bracket rate is t = 30%, as it is for most individuals. There are two bonds that meet the investor’s requirements. Bond 1 is a 10-year, 10% bond with a price (in decimal form) of $P_1$ = 92.21. Bond 2 is a 10-year, 7% bond with a price of $P_2$ = 75.84. Based on the price information contained in those two bonds, the investor would like to compute the theoretical price of a hypothetical 10-year zero coupon bond that had no coupon payments and required tax payment only at maturity equal in amount to 30% of the realized capital gain (the face value minus the original price). This theoretical price should be such that the price of this bond and those of bonds 1 and 2 are mutually consistent on an after-tax basis. Find this theoretical price, and show that it does not depend on the tax rate t. (Assume all cash flows occur at the end of each year.)"
   ]
  },
  {
   "cell_type": "markdown",
   "metadata": {},
   "source": [
    "### Solution:\n",
    "Let $P_1, P_2$ be the price of the 10% bond and 7% bond respectively. Suppose that $P_0$ is the price of the zero coupon 10 year bond, and $t$ is the tax rate. We suppose that the zero coupon bond is constructed by using $x_1$ unit of the $10%$ bond, and $x_2$ unit of the $7%$ bond, and the face values are \\$100. In order to cancel the coupon payment, we must have:\n",
    "- (1): No annual coupon paid: \n",
    "$$x_1(1-t)\\cdot 10 + x_2(1-t)\\cdot 7 = 0$$\n",
    "which is equivalent to \n",
    "$$10x_1+7x_2 = 0$$\n",
    "- (2): The after tax payment at expiry to match, hence, we have \n",
    "$$x_1(100-(100-P_1)t) + x_2(100 - (100-P_2)t) = 100-(100-P_0)t$$\n",
    "Note the price of this zero coupon bond satisfies $P_0 = x_1P_1+x_2P_2$. By substituting this to the above equality, we get \n",
    "$$x_1+x_2 = 1$$\n",
    "Hence, the $x_1, x_2$ satisfies the equation \n",
    "$$\\begin{cases}10x_1+7x_2 = 0 \\\\ x_1+x_2 = 1\\end{cases}$$\n",
    "We solve that $x_1 = -7/3, x_2 = 10/3$, and the price of the zero coupon bond is $x_1P_1+x_2P_2 = 37.64$, which does not depends on the tax rate $t$. "
   ]
  },
  {
   "cell_type": "markdown",
   "metadata": {},
   "source": [
    "## Exercise 4.9\n",
    "(Flat Forwards) Show explicitly that if the spot rate curve is flat (with $s(k) = r$ for all $k$), then all the forward rates also equal $r$."
   ]
  },
  {
   "cell_type": "markdown",
   "metadata": {},
   "source": [
    "### Solution:\n",
    "\n",
    "This is just plug in the formula of forward rates with $s_i = s_j = r$. Thus,\n",
    "$$ f_{i,j} = \\frac{(j-i)r}{j-i} = r$$"
   ]
  },
  {
   "cell_type": "markdown",
   "metadata": {},
   "source": [
    "## Running Present Value\n",
    "We consider a cashflow $(x_0, x_1,\\ldots, x_n)$, where $x_i$ is received in year $i$. Suppose that the spot rates are $(s_1,s_2,\\ldots, s_n)$, and we define the discount factor $d_k = d_{0, k} = \\frac{1}{(1+s_k)^k}$, which is the discount factor from time k to time 0. We may also define the discount factor $d_{j,k} = \\frac{1}{(1+f_{j, k})^{k-j}}$, which is the discount factor from time $k$ to time $j$. Let $PV(0)$ be the present value of this cashflow at time $0$, then we have \n",
    "$$PV(0) = x_0+x_1d_1+\\cdots+x_kd_k$$\n",
    "\n",
    "Let $PV(k)$ to be the present value of the remaining cashflow at time k. In other words, $PV(k)$ is the present value of the cashflow $(x_k, x_{k+1},\\ldots, x_n)$ under the spot rates at time $k$, which is $(f_{k, k+1}, f_{k, k+2},\\ldots, f_{k, k+n})$. Then we have \n",
    "$$PV(k) = x_k+x_{k+1}d_{k, k+1}+\\cdots+x_{n}d_{k, n}$$\n",
    "\n",
    "Then, we have the following formula for computing $PV(0)$ recursively\n",
    "$$\\begin{cases}\n",
    "PV(n) = x_n \\\\\n",
    "PV(k) = x_k+d_{k, k+1}PV(k+1)\n",
    "\\end{cases}$$"
   ]
  },
  {
   "cell_type": "markdown",
   "metadata": {},
   "source": [
    "## Exercise 4.11\n",
    "(Running PV example)\n",
    "A (yearly) cash flow stream is $x = (—40, 10,10, 10, 10, 10, 10)$. The spot rates are (5.0, 5.3, 5.6, 5.8, 6.0, 6.1) \n",
    "- (a) Find the current discount factors $d_{0, k}$, and use them to determine the (net) present value of the stream. \n",
    "- (b) Find the series of expectations dynamics short-rate discount factors, and use the running present value method to evaluate the stream."
   ]
  },
  {
   "cell_type": "markdown",
   "metadata": {},
   "source": [
    "### Solution:\n",
    "We use different discounting factors corresponding to different spot rates."
   ]
  },
  {
   "cell_type": "code",
   "execution_count": 10,
   "metadata": {},
   "outputs": [
    {
     "name": "stdout",
     "output_type": "stream",
     "text": [
      "a) The current discount rates d_{0,k} are  ['0.952', '0.902', '0.849', '0.798', '0.747', '0.701']\n"
     ]
    }
   ],
   "source": [
    "# Write the code to calculate the discount factors\n",
    "cashflow = [-40, 10, 10, 10, 10, 10, 10]\n",
    "spot_rates = [5, 5.3, 5.6, 5.8, 6, 6.1]\n",
    "discount_factors_0 = []\n",
    "for k in range(len(spot_rates)):\n",
    "    discount_factors_0.append(1/ (1 + spot_rates[k]/100)**(k+1))\n",
    "discount_factors_0_formatted = [ '%.3f' % elem for elem in discount_factors_0]\n",
    "print(\"a) The current discount rates d_{0,k} are \", discount_factors_0_formatted)\n"
   ]
  },
  {
   "cell_type": "code",
   "execution_count": 11,
   "metadata": {},
   "outputs": [
    {
     "data": {
      "application/vnd.microsoft.datawrangler.viewer.v0+json": {
       "columns": [
        {
         "name": "index",
         "rawType": "object",
         "type": "string"
        },
        {
         "name": "Year",
         "rawType": "object",
         "type": "unknown"
        },
        {
         "name": "Cashflow",
         "rawType": "object",
         "type": "unknown"
        },
        {
         "name": "Spot",
         "rawType": "object",
         "type": "unknown"
        },
        {
         "name": "Discount Factor",
         "rawType": "object",
         "type": "unknown"
        },
        {
         "name": "Present Value",
         "rawType": "float64",
         "type": "float"
        }
       ],
       "conversionMethod": "pd.DataFrame",
       "ref": "d623280f-5415-4232-888c-673d47c8777d",
       "rows": [
        [
         "",
         "0",
         "-40",
         "",
         "1.0",
         "-40.0"
        ],
        [
         "",
         "1",
         "10",
         "5",
         "0.9523809523809523",
         "9.523809523809524"
        ],
        [
         "",
         "2",
         "10",
         "5.3",
         "0.901868581514039",
         "9.01868581514039"
        ],
        [
         " ",
         "3",
         "10",
         "5.6",
         "0.8491965975178783",
         "8.491965975178783"
        ],
        [
         " ",
         "4",
         "10",
         "5.8",
         "0.7981000338041193",
         "7.981000338041193"
        ],
        [
         " ",
         "5",
         "10",
         "6",
         "0.747258172866057",
         "7.47258172866057"
        ],
        [
         " ",
         "6",
         "10",
         "6.1",
         "0.7009833403416522",
         "7.009833403416522"
        ],
        [
         "Sum",
         "",
         " ",
         " ",
         " ",
         "9.497876784246982"
        ]
       ],
       "shape": {
        "columns": 5,
        "rows": 8
       }
      },
      "text/html": [
       "<div>\n",
       "<style scoped>\n",
       "    .dataframe tbody tr th:only-of-type {\n",
       "        vertical-align: middle;\n",
       "    }\n",
       "\n",
       "    .dataframe tbody tr th {\n",
       "        vertical-align: top;\n",
       "    }\n",
       "\n",
       "    .dataframe thead th {\n",
       "        text-align: right;\n",
       "    }\n",
       "</style>\n",
       "<table border=\"1\" class=\"dataframe\">\n",
       "  <thead>\n",
       "    <tr style=\"text-align: right;\">\n",
       "      <th></th>\n",
       "      <th>Year</th>\n",
       "      <th>Cashflow</th>\n",
       "      <th>Spot</th>\n",
       "      <th>Discount Factor</th>\n",
       "      <th>Present Value</th>\n",
       "    </tr>\n",
       "  </thead>\n",
       "  <tbody>\n",
       "    <tr>\n",
       "      <th></th>\n",
       "      <td>0</td>\n",
       "      <td>-40</td>\n",
       "      <td></td>\n",
       "      <td>1.0</td>\n",
       "      <td>-40.000000</td>\n",
       "    </tr>\n",
       "    <tr>\n",
       "      <th></th>\n",
       "      <td>1</td>\n",
       "      <td>10</td>\n",
       "      <td>5</td>\n",
       "      <td>0.952381</td>\n",
       "      <td>9.523810</td>\n",
       "    </tr>\n",
       "    <tr>\n",
       "      <th></th>\n",
       "      <td>2</td>\n",
       "      <td>10</td>\n",
       "      <td>5.3</td>\n",
       "      <td>0.901869</td>\n",
       "      <td>9.018686</td>\n",
       "    </tr>\n",
       "    <tr>\n",
       "      <th></th>\n",
       "      <td>3</td>\n",
       "      <td>10</td>\n",
       "      <td>5.6</td>\n",
       "      <td>0.849197</td>\n",
       "      <td>8.491966</td>\n",
       "    </tr>\n",
       "    <tr>\n",
       "      <th></th>\n",
       "      <td>4</td>\n",
       "      <td>10</td>\n",
       "      <td>5.8</td>\n",
       "      <td>0.7981</td>\n",
       "      <td>7.981000</td>\n",
       "    </tr>\n",
       "    <tr>\n",
       "      <th></th>\n",
       "      <td>5</td>\n",
       "      <td>10</td>\n",
       "      <td>6</td>\n",
       "      <td>0.747258</td>\n",
       "      <td>7.472582</td>\n",
       "    </tr>\n",
       "    <tr>\n",
       "      <th></th>\n",
       "      <td>6</td>\n",
       "      <td>10</td>\n",
       "      <td>6.1</td>\n",
       "      <td>0.700983</td>\n",
       "      <td>7.009833</td>\n",
       "    </tr>\n",
       "    <tr>\n",
       "      <th>Sum</th>\n",
       "      <td></td>\n",
       "      <td></td>\n",
       "      <td></td>\n",
       "      <td></td>\n",
       "      <td>9.497877</td>\n",
       "    </tr>\n",
       "  </tbody>\n",
       "</table>\n",
       "</div>"
      ],
      "text/plain": [
       "    Year Cashflow Spot Discount Factor  Present Value\n",
       "       0      -40                  1.0     -40.000000\n",
       "       1       10    5        0.952381       9.523810\n",
       "       2       10  5.3        0.901869       9.018686\n",
       "       3       10  5.6        0.849197       8.491966\n",
       "       4       10  5.8          0.7981       7.981000\n",
       "       5       10    6        0.747258       7.472582\n",
       "       6       10  6.1        0.700983       7.009833\n",
       "Sum                                          9.497877"
      ]
     },
     "metadata": {},
     "output_type": "display_data"
    },
    {
     "name": "stdout",
     "output_type": "stream",
     "text": [
      "The net present value of this cashflow is 9.498\n",
      "\n"
     ]
    }
   ],
   "source": [
    "\n",
    "table_npv_methods = pd.DataFrame(index=['', '', '', ' ', ' ', ' ', ' '])\n",
    "\n",
    "table_npv_methods['Year'] = [0, 1, 2, 3, 4, 5, 6]\n",
    "table_npv_methods['Cashflow'] = cashflow \n",
    "table_npv_methods['Spot'] = [''] + spot_rates\n",
    "table_npv_methods['Discount Factor'] = [1] + discount_factors_0\n",
    "table_npv_methods['Present Value'] = table_npv_methods['Cashflow'] * table_npv_methods['Discount Factor']\n",
    "npv = sum(table_npv_methods['Present Value'])\n",
    "table_npv_methods.loc['Sum'] = ['', ' ',  ' ', ' ', npv] \n",
    "\n",
    "display(table_npv_methods)\n",
    "print(f\"The net present value of this cashflow is {npv:.3f}\\n\")\n"
   ]
  },
  {
   "cell_type": "markdown",
   "metadata": {},
   "source": [
    "- (b): We compute the present value by the running PV methods, then we have the following:"
   ]
  },
  {
   "cell_type": "code",
   "execution_count": 12,
   "metadata": {},
   "outputs": [
    {
     "name": "stdout",
     "output_type": "stream",
     "text": [
      "PV(6) = 10.00\n",
      "PV(5) = 10.00 + 10.000 * 0.9381 = 19.381\n",
      "PV(4) = 10.00 + 19.381 * 0.9363 = 28.146\n",
      "PV(3) = 10.00 + 28.146 * 0.9398 = 36.453\n",
      "PV(2) = 10.00 + 36.453 * 0.9416 = 44.324\n",
      "PV(1) = 10.00 + 44.324 * 0.9470 = 51.973\n",
      "PV(0) = -40.00 + 51.973 * 0.9524 = 9.498\n"
     ]
    }
   ],
   "source": [
    "# Calculate the present value of the cashflow\n",
    "print(f\"PV({6}) = {cashflow[-1]:.2f}\")\n",
    "pv_last_step = cashflow[-1]\n",
    "for k in reversed(range(0, len(cashflow) - 1)):\n",
    "    discount_factor = (1 + spot_rates[k-1]/100)**k / (1 + spot_rates[k]/100) ** (k+1)\n",
    "    new_pv = cashflow[k] + pv_last_step * discount_factor\n",
    "    print(f\"PV({k}) = {cashflow[k]:.2f} + {pv_last_step:.3f} * {discount_factor:.4f} = {new_pv:.3f}\")\n",
    "    pv_last_step = new_pv"
   ]
  },
  {
   "cell_type": "markdown",
   "metadata": {},
   "source": [
    "## Fisher-Weil Duration\n",
    "We define the duration for a cashflow in a similar way under the term structure. Under the continuous compounding model, we consider a spot rate curve given by $s_t$, where the discount factor payment received in year $t$ is $e^{-ts_t}$. The **Fisher-Weil Duration** of a cashflow $(x_{t_0},\\ldots, x_{t_n})$ is defined by \n",
    "$$D_{FW} = \\frac{1}{PV}\\sum_0^n t_kx_{t_k}e^{-s_{t_k}t_k}$$ \n",
    "This is exactly the weighted sum of the time we receive each payment, and the weights are the ratio if the present value of each payment over the total present value of the cashflow. \n",
    "\n",
    "We call $s_t+\\lambda$ as a **parallel shift** of the spot rate curve. In other words, we are adding $\\lambda$ to all spot rates. We may represent the present value as a function of $\\lambda$ as \n",
    "$$P(\\lambda) = \\sum_0^n x_{t_k}e^{-t_k(s_{t_k}+\\lambda)}$$\n",
    "Then, we have \n",
    "$$\\frac{dP(\\lambda)}{d\\lambda}\\Big|_{\\lambda = 0} = -D_{FW}/P(0)$$\n",
    "\n",
    "In other words, the Fisher-Weil duration measures the sensitivity of the price relative to parallel shift in the spot rates.\n",
    "\n",
    "### Quasi-modified duration\n",
    "Suppose that the interest compounds $m$ times every year. Then we may define the **Quasi-modified duration** in a similar way, as the sensitivity to the parallel shift of the spot rates. Let $(x_0,\\ldots, x_n)$ be a cashflow, where the payment $x_k$ is received in the period $k$. Let $(s_1,\\ldots, s_n)$ be the spot rates of each period, quoted as annual interest. Then we have\n",
    "$$D_M = -\\frac{1}{P(0)}\\frac{dP(\\lambda)}{d\\lambda}\\Big|_{\\lambda = 0} = \\frac{1}{PV}\\sum_1^n \\left(\\frac{k}{m}\\right)x_k\\left(1+\\frac{s_k}{m}\\right)^{-(k+1)}$$\n",
    "\n",
    "Note that this is also a weighted sum of the time that we receive each payment. The weights are almost the ratio of the present value of each payment over the present value of the total cashflow, except that we multiplied $(1+\\frac{s_k}{m})^{-(k+1)}$ instead of $(1+\\frac{s_k}{m})^{-k}$ for discounting. "
   ]
  },
  {
   "cell_type": "markdown",
   "metadata": {},
   "source": [
    "### Example\n",
    "Suppose that the spot rates are given by $(7.67, 8.27, 8.81, 9.31, 9.75, 10.16, 10.52, 10.85, 11.15, 11.42, 11.67, 11.89)$. We consider two bonds, where bond A is a 12-year 6\\% bond, and bond B is a 5-year 10% bond. Assume that the coupon are paid annually. Compute price and the quasi-modified duration of the above two bonds. "
   ]
  },
  {
   "cell_type": "code",
   "execution_count": 13,
   "metadata": {},
   "outputs": [
    {
     "data": {
      "application/vnd.microsoft.datawrangler.viewer.v0+json": {
       "columns": [
        {
         "name": "index",
         "rawType": "object",
         "type": "string"
        },
        {
         "name": "year",
         "rawType": "object",
         "type": "unknown"
        },
        {
         "name": "Spot rates",
         "rawType": "object",
         "type": "unknown"
        },
        {
         "name": "Bond A",
         "rawType": "object",
         "type": "unknown"
        },
        {
         "name": "Bond B",
         "rawType": "object",
         "type": "unknown"
        },
        {
         "name": "Discount Factor",
         "rawType": "object",
         "type": "unknown"
        },
        {
         "name": "PV A",
         "rawType": "object",
         "type": "unknown"
        },
        {
         "name": "PV B",
         "rawType": "object",
         "type": "unknown"
        },
        {
         "name": "Modified Discount Factor",
         "rawType": "object",
         "type": "unknown"
        },
        {
         "name": "PV' A",
         "rawType": "float64",
         "type": "float"
        },
        {
         "name": "PV' B",
         "rawType": "float64",
         "type": "float"
        }
       ],
       "conversionMethod": "pd.DataFrame",
       "ref": "3e474796-35bd-4dc4-83e6-be4e7b3e4109",
       "rows": [
        [
         "",
         "0",
         "",
         "0",
         "0",
         "1.0",
         "0.0",
         "0.0",
         "1.0",
         "0.0",
         "0.0"
        ],
        [
         "",
         "1",
         "7.67",
         "6",
         "10",
         "0.9287638153617536",
         "5.572582892170521",
         "9.287638153617536",
         "0.8626022247253213",
         "5.175613348351928",
         "8.626022247253214"
        ],
        [
         "",
         "2",
         "8.27",
         "6",
         "10",
         "0.8530681478864268",
         "5.1184088873185605",
         "8.530681478864269",
         "0.7879081443487825",
         "9.45489773218539",
         "15.75816288697565"
        ],
        [
         "",
         "3",
         "8.81",
         "6",
         "10",
         "0.7762356222831356",
         "4.657413733698814",
         "7.762356222831356",
         "0.713386290123275",
         "12.84095322221895",
         "21.401588703698252"
        ],
        [
         "",
         "4",
         "9.31",
         "6",
         "10",
         "0.7004230388461102",
         "4.202538233076662",
         "7.004230388461102",
         "0.6407675773910075",
         "15.37842185738418",
         "25.6307030956403"
        ],
        [
         "",
         "5",
         "9.75",
         "6",
         "110",
         "0.6280256120440393",
         "3.7681536722642357",
         "69.08281732484433",
         "0.5722329039125643",
         "17.166987117376927",
         "314.7280971519104"
        ],
        [
         "",
         "6",
         "10.16",
         "6",
         "0",
         "0.5595725945951477",
         "3.3574355675708865",
         "0.0",
         "0.5079635027189069",
         "18.286686097880647",
         "0.0"
        ],
        [
         "",
         "7",
         "10.52",
         "6",
         "0",
         "0.49649384196211394",
         "2.9789630517726837",
         "0.0",
         "0.44923438469246657",
         "18.867844157083596",
         "0.0"
        ],
        [
         "",
         "8",
         "10.85",
         "6",
         "0",
         "0.4386462494769059",
         "2.6318774968614354",
         "0.0",
         "0.3957115466638755",
         "18.994154239866024",
         "0.0"
        ],
        [
         "",
         "9",
         "11.15",
         "6",
         "0",
         "0.38620224737721315",
         "2.317213484263279",
         "0.0",
         "0.34746041149546847",
         "18.7628622207553",
         "0.0"
        ],
        [
         "",
         "10",
         "11.42",
         "6",
         "0",
         "0.33913175610105295",
         "2.0347905366063177",
         "0.0",
         "0.3043724251490333",
         "18.262345508941998",
         "0.0"
        ],
        [
         "",
         "11",
         "11.67",
         "6",
         "0",
         "0.29696025159014144",
         "1.7817615095408486",
         "0.0",
         "0.26592661555488617",
         "17.551156626622486",
         "0.0"
        ],
        [
         "",
         "12",
         "11.89",
         "106",
         "0",
         "0.2597195931134583",
         "27.530276870026583",
         "0.0",
         "0.23212046931223376",
         "295.2572369651613",
         "0.0"
        ],
        [
         "Sum",
         "",
         "",
         "",
         "",
         "",
         "65.95141593517083",
         "101.66772356861858",
         "",
         "465.9991590938287",
         "386.1445740854778"
        ],
        [
         "Duration",
         "",
         "",
         "",
         "",
         "",
         "",
         "",
         "",
         "7.065794607835233",
         "3.7981038674959344"
        ]
       ],
       "shape": {
        "columns": 10,
        "rows": 15
       }
      },
      "text/html": [
       "<div>\n",
       "<style scoped>\n",
       "    .dataframe tbody tr th:only-of-type {\n",
       "        vertical-align: middle;\n",
       "    }\n",
       "\n",
       "    .dataframe tbody tr th {\n",
       "        vertical-align: top;\n",
       "    }\n",
       "\n",
       "    .dataframe thead th {\n",
       "        text-align: right;\n",
       "    }\n",
       "</style>\n",
       "<table border=\"1\" class=\"dataframe\">\n",
       "  <thead>\n",
       "    <tr style=\"text-align: right;\">\n",
       "      <th></th>\n",
       "      <th>year</th>\n",
       "      <th>Spot rates</th>\n",
       "      <th>Bond A</th>\n",
       "      <th>Bond B</th>\n",
       "      <th>Discount Factor</th>\n",
       "      <th>PV A</th>\n",
       "      <th>PV B</th>\n",
       "      <th>Modified Discount Factor</th>\n",
       "      <th>PV' A</th>\n",
       "      <th>PV' B</th>\n",
       "    </tr>\n",
       "  </thead>\n",
       "  <tbody>\n",
       "    <tr>\n",
       "      <th></th>\n",
       "      <td>0</td>\n",
       "      <td></td>\n",
       "      <td>0</td>\n",
       "      <td>0</td>\n",
       "      <td>1.0</td>\n",
       "      <td>0.0</td>\n",
       "      <td>0.0</td>\n",
       "      <td>1.0</td>\n",
       "      <td>0.000000</td>\n",
       "      <td>0.000000</td>\n",
       "    </tr>\n",
       "    <tr>\n",
       "      <th></th>\n",
       "      <td>1</td>\n",
       "      <td>7.67</td>\n",
       "      <td>6</td>\n",
       "      <td>10</td>\n",
       "      <td>0.928764</td>\n",
       "      <td>5.572583</td>\n",
       "      <td>9.287638</td>\n",
       "      <td>0.862602</td>\n",
       "      <td>5.175613</td>\n",
       "      <td>8.626022</td>\n",
       "    </tr>\n",
       "    <tr>\n",
       "      <th></th>\n",
       "      <td>2</td>\n",
       "      <td>8.27</td>\n",
       "      <td>6</td>\n",
       "      <td>10</td>\n",
       "      <td>0.853068</td>\n",
       "      <td>5.118409</td>\n",
       "      <td>8.530681</td>\n",
       "      <td>0.787908</td>\n",
       "      <td>9.454898</td>\n",
       "      <td>15.758163</td>\n",
       "    </tr>\n",
       "    <tr>\n",
       "      <th></th>\n",
       "      <td>3</td>\n",
       "      <td>8.81</td>\n",
       "      <td>6</td>\n",
       "      <td>10</td>\n",
       "      <td>0.776236</td>\n",
       "      <td>4.657414</td>\n",
       "      <td>7.762356</td>\n",
       "      <td>0.713386</td>\n",
       "      <td>12.840953</td>\n",
       "      <td>21.401589</td>\n",
       "    </tr>\n",
       "    <tr>\n",
       "      <th></th>\n",
       "      <td>4</td>\n",
       "      <td>9.31</td>\n",
       "      <td>6</td>\n",
       "      <td>10</td>\n",
       "      <td>0.700423</td>\n",
       "      <td>4.202538</td>\n",
       "      <td>7.00423</td>\n",
       "      <td>0.640768</td>\n",
       "      <td>15.378422</td>\n",
       "      <td>25.630703</td>\n",
       "    </tr>\n",
       "    <tr>\n",
       "      <th></th>\n",
       "      <td>5</td>\n",
       "      <td>9.75</td>\n",
       "      <td>6</td>\n",
       "      <td>110</td>\n",
       "      <td>0.628026</td>\n",
       "      <td>3.768154</td>\n",
       "      <td>69.082817</td>\n",
       "      <td>0.572233</td>\n",
       "      <td>17.166987</td>\n",
       "      <td>314.728097</td>\n",
       "    </tr>\n",
       "    <tr>\n",
       "      <th></th>\n",
       "      <td>6</td>\n",
       "      <td>10.16</td>\n",
       "      <td>6</td>\n",
       "      <td>0</td>\n",
       "      <td>0.559573</td>\n",
       "      <td>3.357436</td>\n",
       "      <td>0.0</td>\n",
       "      <td>0.507964</td>\n",
       "      <td>18.286686</td>\n",
       "      <td>0.000000</td>\n",
       "    </tr>\n",
       "    <tr>\n",
       "      <th></th>\n",
       "      <td>7</td>\n",
       "      <td>10.52</td>\n",
       "      <td>6</td>\n",
       "      <td>0</td>\n",
       "      <td>0.496494</td>\n",
       "      <td>2.978963</td>\n",
       "      <td>0.0</td>\n",
       "      <td>0.449234</td>\n",
       "      <td>18.867844</td>\n",
       "      <td>0.000000</td>\n",
       "    </tr>\n",
       "    <tr>\n",
       "      <th></th>\n",
       "      <td>8</td>\n",
       "      <td>10.85</td>\n",
       "      <td>6</td>\n",
       "      <td>0</td>\n",
       "      <td>0.438646</td>\n",
       "      <td>2.631877</td>\n",
       "      <td>0.0</td>\n",
       "      <td>0.395712</td>\n",
       "      <td>18.994154</td>\n",
       "      <td>0.000000</td>\n",
       "    </tr>\n",
       "    <tr>\n",
       "      <th></th>\n",
       "      <td>9</td>\n",
       "      <td>11.15</td>\n",
       "      <td>6</td>\n",
       "      <td>0</td>\n",
       "      <td>0.386202</td>\n",
       "      <td>2.317213</td>\n",
       "      <td>0.0</td>\n",
       "      <td>0.34746</td>\n",
       "      <td>18.762862</td>\n",
       "      <td>0.000000</td>\n",
       "    </tr>\n",
       "    <tr>\n",
       "      <th></th>\n",
       "      <td>10</td>\n",
       "      <td>11.42</td>\n",
       "      <td>6</td>\n",
       "      <td>0</td>\n",
       "      <td>0.339132</td>\n",
       "      <td>2.034791</td>\n",
       "      <td>0.0</td>\n",
       "      <td>0.304372</td>\n",
       "      <td>18.262346</td>\n",
       "      <td>0.000000</td>\n",
       "    </tr>\n",
       "    <tr>\n",
       "      <th></th>\n",
       "      <td>11</td>\n",
       "      <td>11.67</td>\n",
       "      <td>6</td>\n",
       "      <td>0</td>\n",
       "      <td>0.29696</td>\n",
       "      <td>1.781762</td>\n",
       "      <td>0.0</td>\n",
       "      <td>0.265927</td>\n",
       "      <td>17.551157</td>\n",
       "      <td>0.000000</td>\n",
       "    </tr>\n",
       "    <tr>\n",
       "      <th></th>\n",
       "      <td>12</td>\n",
       "      <td>11.89</td>\n",
       "      <td>106</td>\n",
       "      <td>0</td>\n",
       "      <td>0.25972</td>\n",
       "      <td>27.530277</td>\n",
       "      <td>0.0</td>\n",
       "      <td>0.23212</td>\n",
       "      <td>295.257237</td>\n",
       "      <td>0.000000</td>\n",
       "    </tr>\n",
       "    <tr>\n",
       "      <th>Sum</th>\n",
       "      <td></td>\n",
       "      <td></td>\n",
       "      <td></td>\n",
       "      <td></td>\n",
       "      <td></td>\n",
       "      <td>65.951416</td>\n",
       "      <td>101.667724</td>\n",
       "      <td></td>\n",
       "      <td>465.999159</td>\n",
       "      <td>386.144574</td>\n",
       "    </tr>\n",
       "    <tr>\n",
       "      <th>Duration</th>\n",
       "      <td></td>\n",
       "      <td></td>\n",
       "      <td></td>\n",
       "      <td></td>\n",
       "      <td></td>\n",
       "      <td></td>\n",
       "      <td></td>\n",
       "      <td></td>\n",
       "      <td>7.065795</td>\n",
       "      <td>3.798104</td>\n",
       "    </tr>\n",
       "  </tbody>\n",
       "</table>\n",
       "</div>"
      ],
      "text/plain": [
       "         year Spot rates Bond A Bond B Discount Factor       PV A        PV B  \\\n",
       "            0                 0      0             1.0        0.0         0.0   \n",
       "            1       7.67      6     10        0.928764   5.572583    9.287638   \n",
       "            2       8.27      6     10        0.853068   5.118409    8.530681   \n",
       "            3       8.81      6     10        0.776236   4.657414    7.762356   \n",
       "            4       9.31      6     10        0.700423   4.202538     7.00423   \n",
       "            5       9.75      6    110        0.628026   3.768154   69.082817   \n",
       "            6      10.16      6      0        0.559573   3.357436         0.0   \n",
       "            7      10.52      6      0        0.496494   2.978963         0.0   \n",
       "            8      10.85      6      0        0.438646   2.631877         0.0   \n",
       "            9      11.15      6      0        0.386202   2.317213         0.0   \n",
       "           10      11.42      6      0        0.339132   2.034791         0.0   \n",
       "           11      11.67      6      0         0.29696   1.781762         0.0   \n",
       "           12      11.89    106      0         0.25972  27.530277         0.0   \n",
       "Sum                                                     65.951416  101.667724   \n",
       "Duration                                                                        \n",
       "\n",
       "         Modified Discount Factor       PV' A       PV' B  \n",
       "                              1.0    0.000000    0.000000  \n",
       "                         0.862602    5.175613    8.626022  \n",
       "                         0.787908    9.454898   15.758163  \n",
       "                         0.713386   12.840953   21.401589  \n",
       "                         0.640768   15.378422   25.630703  \n",
       "                         0.572233   17.166987  314.728097  \n",
       "                         0.507964   18.286686    0.000000  \n",
       "                         0.449234   18.867844    0.000000  \n",
       "                         0.395712   18.994154    0.000000  \n",
       "                          0.34746   18.762862    0.000000  \n",
       "                         0.304372   18.262346    0.000000  \n",
       "                         0.265927   17.551157    0.000000  \n",
       "                          0.23212  295.257237    0.000000  \n",
       "Sum                                465.999159  386.144574  \n",
       "Duration                             7.065795    3.798104  "
      ]
     },
     "metadata": {},
     "output_type": "display_data"
    }
   ],
   "source": [
    "spot_rates = [7.67, 8.27, 8.81, 9.31, 9.75, 10.16, 10.52, 10.85, 11.15, 11.42, 11.67, 11.89]\n",
    "cashflow_A = [0] + [6] * 11 + [106]\n",
    "cashflow_B = [0] + [10] * 4 + [110]\n",
    "#P_A = 65.95\n",
    "#P_B = 101.66\n",
    "\n",
    "discount_factors = [1]\n",
    "for k in range(len(spot_rates)):\n",
    "    discount_factors.append(1/ (1 + spot_rates[k]/100)**(k+1))\n",
    "\n",
    "modified_discount_factors = [1]\n",
    "for k in range(len(spot_rates)):\n",
    "    modified_discount_factors.append(1/ (1 + spot_rates[k]/100)**(k+2))\n",
    "\n",
    "year = list(range(12+1))\n",
    "table = pd.DataFrame(index = ['']*13)\n",
    "table['year'] = year\n",
    "table['Spot rates'] = ['']+spot_rates\n",
    "table['Bond A'] = cashflow_A\n",
    "table['Bond B'] = cashflow_B + [0] * 7\n",
    "table['Discount Factor'] = discount_factors\n",
    "table['PV A'] = table['Bond A'] * table['Discount Factor']\n",
    "table['PV B'] = table['Bond B'] * table['Discount Factor']\n",
    "table['Modified Discount Factor'] = modified_discount_factors\n",
    "table['PV\\' A'] = table['Bond A'] * table['Modified Discount Factor'] * table['year']\n",
    "table['PV\\' B'] = table['Bond B'] * table['Modified Discount Factor'] * table['year']\n",
    "\n",
    "PV_A = sum(table['PV A'])\n",
    "PV_B = sum(table['PV B'])\n",
    "P_derivative_A = sum(table['PV\\' A'])\n",
    "P_derivative_B = sum(table['PV\\' B'])\n",
    "\n",
    "table.loc['Sum'] = ['', '','', '', '', PV_A, PV_B, '', P_derivative_A , P_derivative_B] \n",
    "table.loc['Duration'] = ['', '','', '', '', '', '', '', P_derivative_A/PV_A, P_derivative_B/PV_B] \n",
    "\n",
    "display(table)"
   ]
  },
  {
   "cell_type": "markdown",
   "metadata": {},
   "source": [
    "## Exercise 4.15\n",
    "(Stream immunization) \n",
    "A company faces a stream of obligations over the next 8 years as shown: where the numbers denote thousands of dollars. The spot rate curve is that of the following example. Try to find a portfolio, consisting of the two bonds described in the following example, that has the same present value as the obligation stream and is immunized against an additive shift in the spot rate curve.\n",
    "\n",
    "| year | 1   | 2   | 3   | 4   | 5   | 6   | 7   | 8  |\n",
    "|------|-----|-----|-----|-----|-----|-----|-----|----|\n",
    "|      | 500 | 900 | 600 | 500 | 100 | 100 | 100 | 50 |\n",
    "\n",
    "In the example, suppose that the spot rates are given by $(7.67, 8.27, 8.81, 9.31, 9.75, 10.16, 10.52, 10.85, 11.15, 11.42, 11.67, 11.89)$. We consider two bonds, where bond A is a 12-year 6\\% bond, and bond B is a 5-year 10% bond. Assume that the coupon are paid annually. "
   ]
  },
  {
   "cell_type": "markdown",
   "metadata": {},
   "source": [
    "### Solution:\n",
    "We first compute the price $P$, and the duration $D$ of this obligation. Then we solve the system of linear equations \n",
    "$$\\begin{cases}\n",
    "x_1P_A+x_2P_B = P \\\\ \n",
    "x_1\\frac{P_A}{P}D_A+x_2\\frac{P_B}{P}D_B = D\n",
    "\\end{cases}$$ \n",
    "where $P_A, P_B$ are the price of bond A, bond B computed from above, and $D_A, D_B$ are the quasi-modified duration of bond $A$ and bond $B$. The solution $x_1$ and $x_2$ means a portfolio with $x_1$ units of bond A, and $x_2$ units of bond B. "
   ]
  },
  {
   "cell_type": "code",
   "execution_count": 14,
   "metadata": {},
   "outputs": [
    {
     "name": "stdout",
     "output_type": "stream",
     "text": [
      "The present value of the obligation is 2238.44\n",
      "The duration of this obligation is 2.45 years\n"
     ]
    }
   ],
   "source": [
    "cashflow = [0, 500, 900, 600, 500, 100, 100, 100, 50]\n",
    "pv = 0\n",
    "pv_derivative = 0\n",
    "for i in range(len(cashflow)):\n",
    "    pv += cashflow[i] * discount_factors[i]\n",
    "    pv_derivative += i * cashflow[i] * modified_discount_factors[i]\n",
    "    \n",
    "print(f\"The present value of the obligation is {pv:.2f}\")\n",
    "print(f'The duration of this obligation is {pv_derivative/pv:.2f} years')"
   ]
  },
  {
   "cell_type": "markdown",
   "metadata": {},
   "source": [
    "Then We solve the following system of linear equations\n",
    "$$\\begin{cases}\n",
    "65.95x_1 + 101.67x_2 = 2238.44 \\\\\n",
    "\\frac{65.95\\cdot 7.07}{2238.44}x_1 + \\frac{101.67\\cdot 3.80}{2238.44}x_2 = 2.45\n",
    "\\end{cases}$$\n",
    "\n",
    "We see that $x_1 = -13.84$, $x_2 = 31.00$"
   ]
  },
  {
   "cell_type": "markdown",
   "metadata": {},
   "source": []
  }
 ],
 "metadata": {
  "kernelspec": {
   "display_name": "math-134-notes-ujRLJM6v-py3.12",
   "language": "python",
   "name": "python3"
  },
  "language_info": {
   "codemirror_mode": {
    "name": "ipython",
    "version": 3
   },
   "file_extension": ".py",
   "mimetype": "text/x-python",
   "name": "python",
   "nbconvert_exporter": "python",
   "pygments_lexer": "ipython3",
   "version": "3.12.0"
  }
 },
 "nbformat": 4,
 "nbformat_minor": 2
}
