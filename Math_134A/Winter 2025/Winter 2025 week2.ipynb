{
 "cells": [
  {
   "cell_type": "markdown",
   "metadata": {},
   "source": [
    "# Winter 2025 week 2"
   ]
  },
  {
   "cell_type": "code",
   "execution_count": 1,
   "metadata": {},
   "outputs": [],
   "source": [
    "import pandas as pd\n",
    "import matplotlib.pyplot as plt\n",
    "\n",
    "# Import all the functions from the Utility_functions.py file\n",
    "from Utility_functions import *"
   ]
  },
  {
   "cell_type": "markdown",
   "metadata": {},
   "source": [
    "## Exercise 2.1\n",
    "**(A nice inheritance)** Suppose $1 were invested in 1776 at $3.3\\% $ interest compounded yearly.\n",
    "\n",
    "- (a): Approximately how much would that investment be worth today: $1,000, $10,000, $100,000, $1,000,000?\n",
    "\n",
    "- (b): What if the interest rate were $6.6\\%$."
   ]
  },
  {
   "cell_type": "markdown",
   "metadata": {},
   "source": [
    "### Solution:\n",
    "- (a): Today is 2025, so there will be $2025-1776$ years. If the principal is $A$, then there will be \n",
    "\n",
    "$$A \\times (1+r)^{(2025-1776)}$$ \n",
    "\n",
    "in total."
   ]
  },
  {
   "cell_type": "code",
   "execution_count": 2,
   "metadata": {},
   "outputs": [
    {
     "name": "stdout",
     "output_type": "stream",
     "text": [
      "The value of $100000 in 1776 with interest 0.033 is now worth $ 324324724.90 in 2025\n"
     ]
    }
   ],
   "source": [
    "A = 100000\n",
    "r = 0.033\n",
    "\n",
    "print(f'The value of ${A} in 1776 with interest {r} is now worth $ {A*(1+r)**(2025-1776):.2f} in 2025')"
   ]
  },
  {
   "cell_type": "markdown",
   "metadata": {},
   "source": [
    "- (b) Similarliy, use the same formula:"
   ]
  },
  {
   "cell_type": "code",
   "execution_count": 3,
   "metadata": {},
   "outputs": [
    {
     "name": "stdout",
     "output_type": "stream",
     "text": [
      "The value of $100000 in 1776 with interest 0.066 is now worth $ 815725366940.72 in 2025\n"
     ]
    }
   ],
   "source": [
    "A = 100000\n",
    "r = 0.066\n",
    "\n",
    "print(f'The value of ${A} in 1776 with interest {r} is now worth $ {A*(1+r)**(2025-1776):.2f} in 2025')"
   ]
  },
  {
   "cell_type": "markdown",
   "metadata": {},
   "source": [
    "## Exercise 2.2\n",
    "\n",
    "**(The 72 rule)** The number of years $n$ required for an investment at interest rate $r$ to double in value must satisfy $(1+r)^n = 2$. Using $ln 2 = 0.69$ and the approximation $ln(1+r)\\approx r$ valid for small $r$, show $n \\approx 69/i$, where $i$ is the interest rate percentage (that is $i=100r$). Using the better approximation $ln(1+r)\\approx r - \\frac{1}{2}r^2$, show that for $r\\approx 0.08$, there holds $n\\approx 72/i$."
   ]
  },
  {
   "cell_type": "markdown",
   "metadata": {},
   "source": [
    "### Solution:\n",
    "For a fixed $r$, want to find $n$ such that $(1+r)^n = 2$. Then:\n",
    "$$ ln(1+r) = ln 2 /n $$\n",
    "Thus, using the approximation:\n",
    "$$ n = ln2 / ln(1 + r) \\approx ln2/r = \\frac{0.69}{i/100} = 69/i$$\n",
    "\n",
    "Similarly, using the better approximation:\n",
    "$$ n = ln2/ln(1+r) \\approx \\frac{ln2}{r-\\frac{1}{2}r^2}$$\n",
    "\n",
    "When $r\\approx 0.08$, $r-\\frac{1}{2}r^2 = r(1-\\frac{1}{2}r) \\approx 0.96 r$, then $n\\approx (69/0.96)/i \\approx 72/i$."
   ]
  },
  {
   "cell_type": "code",
   "execution_count": 4,
   "metadata": {},
   "outputs": [
    {
     "name": "stdout",
     "output_type": "stream",
     "text": [
      "71.875\n"
     ]
    }
   ],
   "source": [
    "print(69/0.96)"
   ]
  },
  {
   "cell_type": "code",
   "execution_count": 5,
   "metadata": {},
   "outputs": [
    {
     "name": "stdout",
     "output_type": "stream",
     "text": [
      "The difference between ln(1+r) and r is 0.0004\n"
     ]
    }
   ],
   "source": [
    "# The difference between ln(1+r) and r\n",
    "\n",
    "from math import log\n",
    "\n",
    "r = 0.03\n",
    "print(f'The difference between ln(1+r) and r is {abs(log(1+r)-r):.4f}')"
   ]
  },
  {
   "cell_type": "markdown",
   "metadata": {},
   "source": [
    "## Exercise 2.3\n",
    "**(Effective rates)** Find the corresponding effective rates for: \n",
    "- (a) 3% compounded monthly.  \n",
    "- (b) 18% compounded monthly. \n",
    "- (c) 18% compounded quarterly."
   ]
  },
  {
   "cell_type": "markdown",
   "metadata": {},
   "source": [
    "###  Solution:\n",
    "We need to find $r_0$ such that:\n",
    "$$ (1+r/n)^n = (1+r_0)$$"
   ]
  },
  {
   "cell_type": "code",
   "execution_count": 6,
   "metadata": {},
   "outputs": [
    {
     "name": "stdout",
     "output_type": "stream",
     "text": [
      "The value of r0 is 3.0416 %\n"
     ]
    }
   ],
   "source": [
    "r = 0.03\n",
    "n = 12\n",
    "print(f'The value of r0 is {((1+r/n)**n - 1)*100:.4f} %')"
   ]
  },
  {
   "cell_type": "markdown",
   "metadata": {},
   "source": [
    "## Exercise 2.5\n",
    "**(Tree cut)** Suppose that you have the opportunity to plant trees that later can be sold for lumber. This project requires an initial outlay of money in order to purchase and plant the seedlings. No other cash flow occurs until the trees are harvested. However, you have a choice as to when to harvest. If you harvest after 1 year, you get your return quickly; but if you wait, the trees will have additional growth and the revenue generated from the sale of the trees will be greater. Assume that the cash flow streams associated with these alternatives are:\n",
    "  - Wait 1 year: $(-1, 2)$\n",
    "  - Wait 2 year: $(-1, 0, 3)$\n",
    "  - Wait 3 year: $(-1, 0, 0, 4)$\n",
    "  - $\\vdots$\n",
    "  - Wait n year $(-1, 0, 0,\\ldots, n+1)$\n",
    "\n",
    "The prevailing interest rate is 10%. When is the best time to cut the trees?"
   ]
  },
  {
   "cell_type": "markdown",
   "metadata": {},
   "source": [
    "### Solution:\n",
    "According to the cash flow, the present value of the cash flow:\n",
    "$$ -1 + \\frac{n+1}{(1+r)^n}$$\n",
    "To get the maximal, we need to find the continuous equation and its derivate:\n",
    "\n",
    "$$ f(t) = -1 + \\frac{t+1}{(1+r)^t} $$\n",
    "\n",
    "$$ f'(t) = \\frac{(1+r)^t - ln(1+r)(1+r)^t(1+t)}{(1+r)^{2t}} $$\n",
    "\n",
    "Solve $f'(t) = 0$, we get: $t=\\frac{1}{ln(1+r)}-1$."
   ]
  },
  {
   "cell_type": "code",
   "execution_count": 7,
   "metadata": {},
   "outputs": [
    {
     "name": "stdout",
     "output_type": "stream",
     "text": [
      "The value of t is 9.4921\n"
     ]
    }
   ],
   "source": [
    "r = 0.1\n",
    "print(f'The value of t is {1/log(1+r)-1:.4f}')"
   ]
  },
  {
   "cell_type": "markdown",
   "metadata": {},
   "source": [
    "Then, we need to compute when $n = 9$ and $n =10$."
   ]
  },
  {
   "cell_type": "code",
   "execution_count": 8,
   "metadata": {},
   "outputs": [
    {
     "name": "stdout",
     "output_type": "stream",
     "text": [
      "The value at year 9 is 3.240976183724846, the value at year 10 is 3.240976183724846\n"
     ]
    }
   ],
   "source": [
    "#n = 9\n",
    "r = 0.1\n",
    "def value(r,n):\n",
    "    return -1 + (n+1)/(1+r)**n\n",
    "\n",
    "print(f'The value at year 9 is {value(r,9)}, the value at year 10 is {value(r,10)}')"
   ]
  },
  {
   "cell_type": "code",
   "execution_count": 9,
   "metadata": {},
   "outputs": [
    {
     "data": {
      "image/png": "[encoded data removed]",
      "text/plain": [
       "<Figure size 1000x600 with 1 Axes>"
      ]
     },
     "metadata": {},
     "output_type": "display_data"
    }
   ],
   "source": [
    "plt.figure(figsize=(10,6))\n",
    "\n",
    "# Create a list of values for the x-axis\n",
    "x = [i for i in range(1,20)]\n",
    "\n",
    "plt.plot(x, [value(r,i) for i in x], label='Present Value of the cut')\n",
    "\n",
    "plt.xlabel('Number of years')\n",
    "plt.ylabel('Present Value')\n",
    "\n",
    "plt.title('Present Value of the cut')\n",
    "plt.legend()\n",
    "plt.show()"
   ]
  },
  {
   "cell_type": "markdown",
   "metadata": {},
   "source": [
    "## Exercise 2.8\n",
    "**(Sunk costs)** A young couple has made a nonrefundable deposit of the first month’s rent (equal to 1,000) on a 6-month apartment lease. The next day they find a different apartment that they like just as well, but its monthly rent is only 900. They plan to be in the apartment only 6 months. Should they switch to the new apartment? What if they plan to stay 1 year? Assume an interest rate of 12%."
   ]
  },
  {
   "cell_type": "markdown",
   "metadata": {},
   "source": [
    "### Solution\n",
    "The cash flow of the first choice:\n",
    "$$[1000, 1000,...,1000]$$\n",
    "The second choice:\n",
    "$$[1900, 900,...,900]$$\n",
    "Then we need to compute the present value, where we will call the previously defined function."
   ]
  },
  {
   "cell_type": "code",
   "execution_count": 10,
   "metadata": {},
   "outputs": [
    {
     "name": "stdout",
     "output_type": "stream",
     "text": [
      "The present value of the first cash flow is 5853.43\n",
      "The present value of the second cash flow is 6268.09\n"
     ]
    }
   ],
   "source": [
    "# For half year\n",
    "cf1 = [1000]*6\n",
    "cf2 = [1900] + [900]*5\n",
    "r = 0.12/12\n",
    "\n",
    "print(f'The present value of the first cash flow is {PV(r, cf1):.2f}')\n",
    "print(f'The present value of the second cash flow is {PV(r, cf2):.2f}')"
   ]
  },
  {
   "cell_type": "code",
   "execution_count": 11,
   "metadata": {},
   "outputs": [
    {
     "name": "stdout",
     "output_type": "stream",
     "text": [
      "The present value of the first cash flow is 11367.63\n",
      "The present value of the second cash flow is 11230.87\n"
     ]
    }
   ],
   "source": [
    "# For one year\n",
    "cf1 = [1000]*12\n",
    "cf2 = [1900] + [900]*11\n",
    "r = 0.12/12\n",
    "\n",
    "print(f'The present value of the first cash flow is {PV(r, cf1):.2f}')\n",
    "print(f'The present value of the second cash flow is {PV(r, cf2):.2f}')"
   ]
  },
  {
   "cell_type": "markdown",
   "metadata": {},
   "source": [
    "So it is OK to switch if they stay for a year. For half of a year, not."
   ]
  },
  {
   "cell_type": "markdown",
   "metadata": {},
   "source": [
    "## Exercise 2.11\n",
    "**(An appraisal)** You are considering the purchase of a nice home. It is in every way perfect for you and in excellent condition, except for the roof. The roof has only 5 years of life remaining. A new roof would last 20 years, but would cost 20,000. The house is expected to last forever. Assuming that costs will remain constant and that the interest rate is 5\\%, what value would you assign to the existing roof?\n",
    "\n",
    "Hint: Consider the present value of change the roof now, and then every 20 years, and change the roof in 5 year, and then every 20 years. The difference between their present value is the value of existing roof."
   ]
  },
  {
   "cell_type": "markdown",
   "metadata": {},
   "source": [
    "### Soluton:\n",
    "\n",
    "The value of the existing roof will be the difference of the present values of the two choices\n",
    "The cash flow of the first choice:\n",
    "$$[20000, 0, 0,..., 20000, 0, ..., 0, 20000,0,...]$$\n",
    "\n",
    "The cash flow of the second choice:\n",
    "$$[0,0,0,0,0, 20000, 0,..., 20000, ...]$$\n",
    "\n",
    "Thus, we need to consider the present value of two cash flows:\n",
    "\n",
    "$$PV_1 = \\sum_0^\\infty 20000\\cdot (1/1.05)^{20n} = 20000 \\cdot \\left(\\frac{1}{1-(\\frac{1}{1.05})^{20}} \\right)$$\n",
    "\n",
    "$$PV_2 = \\sum_0^\\infty 20000\\cdot(1/1.05)^{20n+5} = \\frac{20000}{1.05^5}\\cdot \\left(\\frac{1}{1-(\\frac{1}{1.05})^{20}} \\right)$$\n",
    "\n",
    "Then we can check."
   ]
  },
  {
   "cell_type": "code",
   "execution_count": 12,
   "metadata": {},
   "outputs": [
    {
     "name": "stdout",
     "output_type": "stream",
     "text": [
      "The present value of the option 1 is given by  32097.03\n",
      "The present value of the option 2 is given by  25148.87\n",
      "The value of the existing roof is given by  6948.17\n"
     ]
    }
   ],
   "source": [
    "print(f\"The present value of the option 1 is given by {20000*(1/(1-1/1.05**20)): .2f}\")\n",
    "print(f\"The present value of the option 2 is given by {20000/(1.05)**5*(1/(1-1/1.05**20)): .2f}\")\n",
    "print(f\"The value of the existing roof is given by {20000*(1/(1-1/1.05**20))-20000/(1.05)**5*(1/(1-1/1.05**20)): .2f}\")"
   ]
  },
  {
   "cell_type": "code",
   "execution_count": null,
   "metadata": {},
   "outputs": [],
   "source": []
  }
 ],
 "metadata": {
  "kernelspec": {
   "display_name": "math-134-notes-ujRLJM6v-py3.12",
   "language": "python",
   "name": "python3"
  },
  "language_info": {
   "codemirror_mode": {
    "name": "ipython",
    "version": 3
   },
   "file_extension": ".py",
   "mimetype": "text/x-python",
   "name": "python",
   "nbconvert_exporter": "python",
   "pygments_lexer": "ipython3",
   "version": "3.12.0"
  }
 },
 "nbformat": 4,
 "nbformat_minor": 2
}
