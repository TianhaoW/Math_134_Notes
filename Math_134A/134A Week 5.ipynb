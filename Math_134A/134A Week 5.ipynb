{
 "cells": [
  {
   "cell_type": "markdown",
   "source": [
    "# Math 134A Week 5"
   ],
   "metadata": {
    "collapsed": false
   },
   "id": "3ff85c29935cf6a6"
  },
  {
   "cell_type": "markdown",
   "source": [
    "# Short Rates\n",
    "Given the spot rates $(s_1, s_2,\\ldots)$. We define the **short rates** at time $k$ as $r_k = f_{k, k+1}$, and $r_0 = s_1$. The short rates $r_k$ is the interest rate for the 1-year term loan at time $k$.\n",
    "\n",
    "Then we have the equation \n",
    "$$(1+s_k)^k = (1+r_0)\\cdots(1+r_k)$$\n",
    "\n",
    "$$(1+f_{i,j})^{j-1} = (1+r_i)\\cdots(1+r_j)$$\n",
    "\n",
    "Given the short rates, we can also determine the spot rates uniquely.\n"
   ],
   "metadata": {
    "collapsed": false
   },
   "id": "1fcbe02e0ecffd0d"
  },
  {
   "cell_type": "markdown",
   "source": [
    "# Invariance Theorem\n",
    "**Theorem** \\\n",
    "We suppose that the interest rate evolve under the **expectation dynamics** (i.e. the spot rates of next year are given by the forward rates $s_1' = f_{1, 2},\\;s_2' = f_{1,3},\\ldots$), and the interest compounds annually. Then, a sum of money invested in the interest rate market for n years will grow by a factor of $(1+s_n)^n$, independent of the investment and reinvestment strategy as long as all funds are fully invested. \n",
    "\n",
    "**Example** \\\n",
    "Suppose that the spot rates are $(0.1, 0.2)$. We consider an investment of 100 dollars in 2 years. One option is that we may purchase the 1-year certificate of deposit, and we will have 110 at year 1. By the expectation dynamic, the new spot rate for 1 year investment is $f_{1,2} = 1.2^2/1.1 - 1$. If we reinvest the 110 at this interest rate, we get $110 \\cdot (1.2^2/1.1) = 144$ at year 2. The other option is that we can purchase the 2-year certificate of deposit, and we will get $100 \\cdot 1.2^2 = 144$ at year 2. Those two investments provide the same return at the end of year 2. \n",
    "\n",
    "\n"
   ],
   "metadata": {
    "collapsed": false
   },
   "id": "94efe6bb8b81413b"
  },
  {
   "cell_type": "markdown",
   "source": [
    "# Running Present Value\n",
    "We consider a cashflow $(x_0, x_1,\\ldots, x_n)$, where $x_i$ is received in year $i$. Suppose that the spot rates are $(s_1,s_2,\\ldots, s_n)$, and we define the discount factor $d_k = d_{0, k} = \\frac{1}{(1+s_k)^k}$, which is the discount factor from time k to time 0. We may also define the discount factor $d_{j,k} = \\frac{1}{(1+f_{j, k})^{k-j}}$, which is the discount factor from time $k$ to time $j$. Let $PV(0)$ be the present value of this cashflow at time $0$, then we have \n",
    "$$PV(0) = x_0+x_1d_1+\\cdots+x_kd_k$$\n",
    "\n",
    "Let $PV(k)$ to be the present value of the remaining cashflow at time k. In other words, $PV(k)$ is the present value of the cashflow $(x_k, x_{k+1},\\ldots, x_n)$ under the spot rates at time $k$, which is $(f_{k, k+1}, f_{k, k+2},\\ldots, f_{k, k+n})$. Then we have \n",
    "$$PV(k) = x_k+x_{k+1}d_{k, k+1}+\\cdots+x_{n}d_{k, n}$$\n",
    "\n",
    "Then, we have the following formula for computing $PV(0)$ recursively\n",
    "$$\\begin{cases}\n",
    "PV(n) = x_n \\\\\n",
    "PV(k) = x_k+d_{k, k+1}P(k+1)\n",
    "\\end{cases}$$\n",
    "\n",
    "\n",
    "\n",
    "\n",
    "\n"
   ],
   "metadata": {
    "collapsed": false
   },
   "id": "48896fb8b44fd5d2"
  },
  {
   "cell_type": "markdown",
   "source": [
    "**Exercise 4.11** (Running PV example) \\\n",
    "A (yearly) cash flow stream is $x = (—40, 10,10, 10, 10, 10, 10)$. The spot rates are (5.0, 5.3, 5.6, 5.8, 6.0, 6.1) \\\n",
    "(a) Find the current discount factors $d_{0, k}$, and use them to determine the (net) present value of the stream. \\\n",
    "(b) Find the series of expectations dynamics short-rate discount factors, and use the running present value method to evaluate the stream."
   ],
   "metadata": {
    "collapsed": false
   },
   "id": "8fa50d50a8028119"
  },
  {
   "cell_type": "code",
   "outputs": [
    {
     "name": "stdout",
     "output_type": "stream",
     "text": [
      "a) The current discount rates d_{0,k} are  ['0.952', '0.902', '0.849', '0.798', '0.747', '0.701']\n",
      "   We use the following table to compute the present value of this cashflow\n"
     ]
    },
    {
     "data": {
      "text/plain": "    Year Cashflow Spot Discount Factor  Present Value\n       0      -40                  1.0     -40.000000\n       1       10    5        0.952381       9.523810\n       2       10  5.3        0.901869       9.018686\n       3       10  5.6        0.849197       8.491966\n       4       10  5.8          0.7981       7.981000\n       5       10    6        0.747258       7.472582\n       6       10  6.1        0.700983       7.009833\nSum                                          9.497877",
      "text/html": "<div>\n<style scoped>\n    .dataframe tbody tr th:only-of-type {\n        vertical-align: middle;\n    }\n\n    .dataframe tbody tr th {\n        vertical-align: top;\n    }\n\n    .dataframe thead th {\n        text-align: right;\n    }\n</style>\n<table border=\"1\" class=\"dataframe\">\n  <thead>\n    <tr style=\"text-align: right;\">\n      <th></th>\n      <th>Year</th>\n      <th>Cashflow</th>\n      <th>Spot</th>\n      <th>Discount Factor</th>\n      <th>Present Value</th>\n    </tr>\n  </thead>\n  <tbody>\n    <tr>\n      <th></th>\n      <td>0</td>\n      <td>-40</td>\n      <td></td>\n      <td>1.0</td>\n      <td>-40.000000</td>\n    </tr>\n    <tr>\n      <th></th>\n      <td>1</td>\n      <td>10</td>\n      <td>5</td>\n      <td>0.952381</td>\n      <td>9.523810</td>\n    </tr>\n    <tr>\n      <th></th>\n      <td>2</td>\n      <td>10</td>\n      <td>5.3</td>\n      <td>0.901869</td>\n      <td>9.018686</td>\n    </tr>\n    <tr>\n      <th></th>\n      <td>3</td>\n      <td>10</td>\n      <td>5.6</td>\n      <td>0.849197</td>\n      <td>8.491966</td>\n    </tr>\n    <tr>\n      <th></th>\n      <td>4</td>\n      <td>10</td>\n      <td>5.8</td>\n      <td>0.7981</td>\n      <td>7.981000</td>\n    </tr>\n    <tr>\n      <th></th>\n      <td>5</td>\n      <td>10</td>\n      <td>6</td>\n      <td>0.747258</td>\n      <td>7.472582</td>\n    </tr>\n    <tr>\n      <th></th>\n      <td>6</td>\n      <td>10</td>\n      <td>6.1</td>\n      <td>0.700983</td>\n      <td>7.009833</td>\n    </tr>\n    <tr>\n      <th>Sum</th>\n      <td></td>\n      <td></td>\n      <td></td>\n      <td></td>\n      <td>9.497877</td>\n    </tr>\n  </tbody>\n</table>\n</div>"
     },
     "metadata": {},
     "output_type": "display_data"
    },
    {
     "name": "stdout",
     "output_type": "stream",
     "text": [
      "The net present value of this cashflow is 9.498\n",
      "\n",
      "b) If we compute the present value by the running PV methods, then we have the following\n",
      "PV(6) = 10.00\n",
      "PV(5) = 10.00 + 10.000 * 0.9381 = 19.381\n",
      "PV(4) = 10.00 + 19.381 * 0.9363 = 28.146\n",
      "PV(3) = 10.00 + 28.146 * 0.9398 = 36.453\n",
      "PV(2) = 10.00 + 36.453 * 0.9416 = 44.324\n",
      "PV(1) = 10.00 + 44.324 * 0.9470 = 51.973\n",
      "PV(0) = -40.00 + 51.973 * 0.9524 = 9.498\n"
     ]
    }
   ],
   "source": [
    "import pandas as pd\n",
    "\n",
    "cashflow = [-40, 10, 10, 10, 10, 10, 10]\n",
    "spot_rates = [5, 5.3, 5.6, 5.8, 6, 6.1]\n",
    "discount_factors_0 = []\n",
    "for k in range(len(spot_rates)):\n",
    "    discount_factors_0.append(1/ (1 + spot_rates[k]/100)**(k+1))\n",
    "discount_factors_0_formatted = [ '%.3f' % elem for elem in discount_factors_0]\n",
    "print(\"a) The current discount rates d_{0,k} are \", discount_factors_0_formatted)\n",
    "print(\"   We use the following table to compute the present value of this cashflow\")\n",
    "\n",
    "table_npv_methods = pd.DataFrame(index=['', '', '', ' ', ' ', ' ', ' '])\n",
    "\n",
    "table_npv_methods['Year'] = [0, 1, 2, 3, 4, 5, 6]\n",
    "table_npv_methods['Cashflow'] = cashflow \n",
    "table_npv_methods['Spot'] = [''] + spot_rates\n",
    "table_npv_methods['Discount Factor'] = [1] + discount_factors_0\n",
    "table_npv_methods['Present Value'] = table_npv_methods['Cashflow'] * table_npv_methods['Discount Factor']\n",
    "npv = sum(table_npv_methods['Present Value'])\n",
    "table_npv_methods.loc['Sum'] = ['', ' ',  ' ', ' ', npv] \n",
    "\n",
    "display(table_npv_methods)\n",
    "print(f\"The net present value of this cashflow is {npv:.3f}\\n\")\n",
    "\n",
    "print(\"b) If we compute the present value by the running PV methods, then we have the following\")\n",
    "\n",
    "print(f\"PV({6}) = {cashflow[-1]:.2f}\")\n",
    "pv_last_step = cashflow[-1]\n",
    "for k in reversed(range(0, len(cashflow) - 1)):\n",
    "    discount_factor = (1 + spot_rates[k-1]/100)**k / (1 + spot_rates[k]/100) ** (k+1)\n",
    "    new_pv = cashflow[k] + pv_last_step * discount_factor\n",
    "    print(f\"PV({k}) = {cashflow[k]:.2f} + {pv_last_step:.3f} * {discount_factor:.4f} = {new_pv:.3f}\")\n",
    "    pv_last_step = new_pv"
   ],
   "metadata": {
    "collapsed": false,
    "ExecuteTime": {
     "end_time": "2024-04-30T07:33:02.178879Z",
     "start_time": "2024-04-30T07:33:02.166679Z"
    }
   },
   "id": "e62694256de60b7d",
   "execution_count": 17
  },
  {
   "cell_type": "markdown",
   "source": [
    "# Duration and Sensitivity to Parallel Shift of the Spot Curve\n",
    "### Fisher-Weil Duration\n",
    "We define the duration for a cashflow in a similar way under the term structure. Under the continuous compounding model, we consider a spot rate curve given by $s_t$, where the discount factor payment received in year $t$ is $e^{-ts_t}$. The **Fisher-Weil Duration** of a cashflow $(x_{t_0},\\ldots, x_{t_n})$ is defined by \n",
    "$$D_{FW} = \\frac{1}{PV}\\sum_0^n t_kx_{t_k}e^{-s_{t_k}t_k}$$ \n",
    "This is exactly the weighted sum of the time we receive each payment, and the weights are the ratio if the present value of each payment over the total present value of the cashflow. \n",
    "\n",
    "We call $s_t+\\lambda$ as a **parallel shift** of the spot rate curve. In other words, we are adding $\\lambda$ to all spot rates. We may represent the present value as a function of $\\lambda$ as \n",
    "$$P(\\lambda) = \\sum_0^n x_{t_k}e^{-t_k(s_{t_k}+\\lambda)}$$\n",
    "Then, we have \n",
    "$$\\frac{dP(\\lambda)}{d\\lambda}\\Big|_{\\lambda = 0} = -D_{FW}/P(0)$$\n",
    "\n",
    "In other words, the Fisher-Weil duration measures the sensitivity of the price relative to parallel shift in the spot rates.\n",
    "\n",
    "### Quasi-modified duration\n",
    "Suppose that the interest compounds $m$ times every year. Then we may define the **Quasi-modified duration** in a similar way, as the sensitivity to the parallel shift of the spot rates. Let $(x_0,\\ldots, x_n)$ be a cashflow, where the payment $x_k$ is received in the period $k$. Let $(s_1,\\ldots, s_n)$ be the spot rates of each period, quoted as annual interest. Then we have\n",
    "$$D_M = -\\frac{1}{P(0)}\\frac{dP(\\lambda)}{d\\lambda}\\Big|_{\\lambda = 0} = \\frac{1}{PV}\\sum_1^n \\left(\\frac{k}{m}\\right)x_k\\left(1+\\frac{s_k}{m}\\right)^{-(k+1)}$$\n",
    "\n",
    "Note that this is also a weighted sum of the time that we receive each payment. The weights are almost the ratio of the present value of each payment over the present value of the total cashflow, except that we multiplied $(1+\\frac{s_k}{m})^{-(k+1)}$ instead of $(1+\\frac{s_k}{m})^{-k}$ for discounting. "
   ],
   "metadata": {
    "collapsed": false
   },
   "id": "2eb8fec0be23a3cd"
  },
  {
   "cell_type": "markdown",
   "source": [
    "**Example**\n",
    "Suppose that the spot rates are given by $(7.67, 8.27, 8.81, 9.31, 9.75, 10.16, 10.52, 10.85, 11.15, 11.42, 11.67, 11.89)$. We consider two bonds, where bond A is a 12-year 6\\% bond, and bond B is a 5-year 10% bond. Assume that the coupon are paid annually. Compute price and the quasi-modified duration of the above two bonds. "
   ],
   "metadata": {
    "collapsed": false
   },
   "id": "fb0dc99ba3b6c376"
  },
  {
   "cell_type": "code",
   "outputs": [
    {
     "data": {
      "text/plain": "         year Spot rates Bond A Bond B Discount Factor       PV A        PV B  \\\n            0                 0      0             1.0        0.0         0.0   \n            1       7.67      6     10        0.928764   5.572583    9.287638   \n            2       8.27      6     10        0.853068   5.118409    8.530681   \n            3       8.81      6     10        0.776236   4.657414    7.762356   \n            4       9.31      6     10        0.700423   4.202538     7.00423   \n            5       9.75      6    110        0.628026   3.768154   69.082817   \n            6      10.16      6      0        0.559573   3.357436         0.0   \n            7      10.52      6      0        0.496494   2.978963         0.0   \n            8      10.85      6      0        0.438646   2.631877         0.0   \n            9      11.15      6      0        0.386202   2.317213         0.0   \n           10      11.42      6      0        0.339132   2.034791         0.0   \n           11      11.67      6      0         0.29696   1.781762         0.0   \n           12      11.89    106      0         0.25972  27.530277         0.0   \nSum                                                     65.951416  101.667724   \nDuration                                                                        \n\n         Modified Discount Factor       PV' A       PV' B  \n                              1.0    0.000000    0.000000  \n                         0.862602    5.175613    8.626022  \n                         0.787908    9.454898   15.758163  \n                         0.713386   12.840953   21.401589  \n                         0.640768   15.378422   25.630703  \n                         0.572233   17.166987  314.728097  \n                         0.507964   18.286686    0.000000  \n                         0.449234   18.867844    0.000000  \n                         0.395712   18.994154    0.000000  \n                          0.34746   18.762862    0.000000  \n                         0.304372   18.262346    0.000000  \n                         0.265927   17.551157    0.000000  \n                          0.23212  295.257237    0.000000  \nSum                                465.999159  386.144574  \nDuration                             7.065795    3.798104  ",
      "text/html": "<div>\n<style scoped>\n    .dataframe tbody tr th:only-of-type {\n        vertical-align: middle;\n    }\n\n    .dataframe tbody tr th {\n        vertical-align: top;\n    }\n\n    .dataframe thead th {\n        text-align: right;\n    }\n</style>\n<table border=\"1\" class=\"dataframe\">\n  <thead>\n    <tr style=\"text-align: right;\">\n      <th></th>\n      <th>year</th>\n      <th>Spot rates</th>\n      <th>Bond A</th>\n      <th>Bond B</th>\n      <th>Discount Factor</th>\n      <th>PV A</th>\n      <th>PV B</th>\n      <th>Modified Discount Factor</th>\n      <th>PV' A</th>\n      <th>PV' B</th>\n    </tr>\n  </thead>\n  <tbody>\n    <tr>\n      <th></th>\n      <td>0</td>\n      <td></td>\n      <td>0</td>\n      <td>0</td>\n      <td>1.0</td>\n      <td>0.0</td>\n      <td>0.0</td>\n      <td>1.0</td>\n      <td>0.000000</td>\n      <td>0.000000</td>\n    </tr>\n    <tr>\n      <th></th>\n      <td>1</td>\n      <td>7.67</td>\n      <td>6</td>\n      <td>10</td>\n      <td>0.928764</td>\n      <td>5.572583</td>\n      <td>9.287638</td>\n      <td>0.862602</td>\n      <td>5.175613</td>\n      <td>8.626022</td>\n    </tr>\n    <tr>\n      <th></th>\n      <td>2</td>\n      <td>8.27</td>\n      <td>6</td>\n      <td>10</td>\n      <td>0.853068</td>\n      <td>5.118409</td>\n      <td>8.530681</td>\n      <td>0.787908</td>\n      <td>9.454898</td>\n      <td>15.758163</td>\n    </tr>\n    <tr>\n      <th></th>\n      <td>3</td>\n      <td>8.81</td>\n      <td>6</td>\n      <td>10</td>\n      <td>0.776236</td>\n      <td>4.657414</td>\n      <td>7.762356</td>\n      <td>0.713386</td>\n      <td>12.840953</td>\n      <td>21.401589</td>\n    </tr>\n    <tr>\n      <th></th>\n      <td>4</td>\n      <td>9.31</td>\n      <td>6</td>\n      <td>10</td>\n      <td>0.700423</td>\n      <td>4.202538</td>\n      <td>7.00423</td>\n      <td>0.640768</td>\n      <td>15.378422</td>\n      <td>25.630703</td>\n    </tr>\n    <tr>\n      <th></th>\n      <td>5</td>\n      <td>9.75</td>\n      <td>6</td>\n      <td>110</td>\n      <td>0.628026</td>\n      <td>3.768154</td>\n      <td>69.082817</td>\n      <td>0.572233</td>\n      <td>17.166987</td>\n      <td>314.728097</td>\n    </tr>\n    <tr>\n      <th></th>\n      <td>6</td>\n      <td>10.16</td>\n      <td>6</td>\n      <td>0</td>\n      <td>0.559573</td>\n      <td>3.357436</td>\n      <td>0.0</td>\n      <td>0.507964</td>\n      <td>18.286686</td>\n      <td>0.000000</td>\n    </tr>\n    <tr>\n      <th></th>\n      <td>7</td>\n      <td>10.52</td>\n      <td>6</td>\n      <td>0</td>\n      <td>0.496494</td>\n      <td>2.978963</td>\n      <td>0.0</td>\n      <td>0.449234</td>\n      <td>18.867844</td>\n      <td>0.000000</td>\n    </tr>\n    <tr>\n      <th></th>\n      <td>8</td>\n      <td>10.85</td>\n      <td>6</td>\n      <td>0</td>\n      <td>0.438646</td>\n      <td>2.631877</td>\n      <td>0.0</td>\n      <td>0.395712</td>\n      <td>18.994154</td>\n      <td>0.000000</td>\n    </tr>\n    <tr>\n      <th></th>\n      <td>9</td>\n      <td>11.15</td>\n      <td>6</td>\n      <td>0</td>\n      <td>0.386202</td>\n      <td>2.317213</td>\n      <td>0.0</td>\n      <td>0.34746</td>\n      <td>18.762862</td>\n      <td>0.000000</td>\n    </tr>\n    <tr>\n      <th></th>\n      <td>10</td>\n      <td>11.42</td>\n      <td>6</td>\n      <td>0</td>\n      <td>0.339132</td>\n      <td>2.034791</td>\n      <td>0.0</td>\n      <td>0.304372</td>\n      <td>18.262346</td>\n      <td>0.000000</td>\n    </tr>\n    <tr>\n      <th></th>\n      <td>11</td>\n      <td>11.67</td>\n      <td>6</td>\n      <td>0</td>\n      <td>0.29696</td>\n      <td>1.781762</td>\n      <td>0.0</td>\n      <td>0.265927</td>\n      <td>17.551157</td>\n      <td>0.000000</td>\n    </tr>\n    <tr>\n      <th></th>\n      <td>12</td>\n      <td>11.89</td>\n      <td>106</td>\n      <td>0</td>\n      <td>0.25972</td>\n      <td>27.530277</td>\n      <td>0.0</td>\n      <td>0.23212</td>\n      <td>295.257237</td>\n      <td>0.000000</td>\n    </tr>\n    <tr>\n      <th>Sum</th>\n      <td></td>\n      <td></td>\n      <td></td>\n      <td></td>\n      <td></td>\n      <td>65.951416</td>\n      <td>101.667724</td>\n      <td></td>\n      <td>465.999159</td>\n      <td>386.144574</td>\n    </tr>\n    <tr>\n      <th>Duration</th>\n      <td></td>\n      <td></td>\n      <td></td>\n      <td></td>\n      <td></td>\n      <td></td>\n      <td></td>\n      <td></td>\n      <td>7.065795</td>\n      <td>3.798104</td>\n    </tr>\n  </tbody>\n</table>\n</div>"
     },
     "metadata": {},
     "output_type": "display_data"
    }
   ],
   "source": [
    "import pandas as pd\n",
    "spot_rates = [7.67, 8.27, 8.81, 9.31, 9.75, 10.16, 10.52, 10.85, 11.15, 11.42, 11.67, 11.89]\n",
    "cashflow_A = [0] + [6] * 11 + [106]\n",
    "cashflow_B = [0] + [10] * 4 + [110]\n",
    "P_A = 65.95\n",
    "P_B = 101.66\n",
    "\n",
    "discount_factors = [1]\n",
    "for k in range(len(spot_rates)):\n",
    "    discount_factors.append(1/ (1 + spot_rates[k]/100)**(k+1))\n",
    "\n",
    "modified_discount_factors = [1]\n",
    "for k in range(len(spot_rates)):\n",
    "    modified_discount_factors.append(1/ (1 + spot_rates[k]/100)**(k+2))\n",
    "\n",
    "year = list(range(12+1))\n",
    "table = pd.DataFrame(index = ['']*13)\n",
    "table['year'] = year\n",
    "table['Spot rates'] = ['']+spot_rates\n",
    "table['Bond A'] = cashflow_A\n",
    "table['Bond B'] = cashflow_B + [0] * 7\n",
    "table['Discount Factor'] = discount_factors\n",
    "table['PV A'] = table['Bond A'] * table['Discount Factor']\n",
    "table['PV B'] = table['Bond B'] * table['Discount Factor']\n",
    "table['Modified Discount Factor'] = modified_discount_factors\n",
    "table['PV\\' A'] = table['Bond A'] * table['Modified Discount Factor'] * table['year']\n",
    "table['PV\\' B'] = table['Bond B'] * table['Modified Discount Factor'] * table['year']\n",
    "\n",
    "PV_A = sum(table['PV A'])\n",
    "PV_B = sum(table['PV B'])\n",
    "P_derivative_A = sum(table['PV\\' A'])\n",
    "P_derivative_B = sum(table['PV\\' B'])\n",
    "\n",
    "table.loc['Sum'] = ['', '','', '', '', PV_A, PV_B, '', P_derivative_A , P_derivative_B] \n",
    "table.loc['Duration'] = ['', '','', '', '', '', '', '', P_derivative_A/PV_A, P_derivative_B/PV_B] \n",
    "\n",
    "display(table)"
   ],
   "metadata": {
    "collapsed": false,
    "ExecuteTime": {
     "end_time": "2024-04-30T08:04:42.141799Z",
     "start_time": "2024-04-30T08:04:42.118837Z"
    }
   },
   "id": "31dac399745926f",
   "execution_count": 46
  },
  {
   "cell_type": "markdown",
   "source": [
    "The modified discount factor in the above table are computed by $(1+s_k)^{-(k+1)}$ as in the duration formula, and the PV\\' A is $k\\cdot x_k \\cdot(1+s_k)^{-(k+1)}$, which is the negative of the derivative of $x_k(1+s_k+\\lambda)^{-k}$ at $\\lambda = 0$. The computation shows that bond A has price 65.95, and duration 7.07 years, and bond B has price 101.67, and duration 3.80 years. "
   ],
   "metadata": {
    "collapsed": false
   },
   "id": "f63631c21cf8ff36"
  },
  {
   "cell_type": "markdown",
   "source": [
    "# Immunization\n",
    "The Immunization under the term structure is exactly the same as the immunization we covered previously. We will match both the present value, and the duration of the portfolio with the given obligation. \n"
   ],
   "metadata": {
    "collapsed": false
   },
   "id": "7b557d86e8cdc380"
  },
  {
   "cell_type": "markdown",
   "source": [
    "**Exercise 4.15**(Stream immunization) \n",
    "A company faces a stream of obligations over the next 8 years as shown: where the numbers denote thousands of dollars. The spot rate curve is that of the above table. Try to find a portfolio, consisting of the two bonds described in the above example, that has the same present value as the obligation stream and is immunized against an additive shift in the spot rate curve.\n",
    "\n",
    "| year | 1   | 2   | 3   | 4   | 5   | 6   | 7   | 8  |\n",
    "|------|-----|-----|-----|-----|-----|-----|-----|----|\n",
    "|      | 500 | 900 | 600 | 500 | 100 | 100 | 100 | 50 |\n"
   ],
   "metadata": {
    "collapsed": false
   },
   "id": "2c9bb001934fbf88"
  },
  {
   "cell_type": "markdown",
   "source": [
    "**Solution**\n",
    "We first compute the price $P$, and the duration $D$ of this obligation. Then we solve the system of linear equations \n",
    "$$\\begin{cases}\n",
    "x_1P_A+x_2P_B = P \\\\ \n",
    "x_1\\frac{P_A}{P}D_A+x_2\\frac{P_B}{P}D_B = D\n",
    "\\end{cases}$$ \n",
    "where $P_A, P_B$ are the price of bond A, bond B computed from above, and $D_A, D_B$ are the quasi-modified duration of bond $A$ and bond $B$. The solution $x_1$ and $x_2$ means a portfolio with $x_1$ units of bond A, and $x_2$ units of bond B. "
   ],
   "metadata": {
    "collapsed": false
   },
   "id": "62e8b9d4617a7d9f"
  },
  {
   "cell_type": "code",
   "outputs": [
    {
     "name": "stdout",
     "output_type": "stream",
     "text": [
      "The present value of the obligation is 2238.44\n",
      "The duration of this obligation is 2.45 years\n"
     ]
    }
   ],
   "source": [
    "cashflow = [0, 500, 900, 600, 500, 100, 100, 100, 50]\n",
    "pv = 0\n",
    "pv_derivative = 0\n",
    "for i in range(len(cashflow)):\n",
    "    pv += cashflow[i] * discount_factors[i]\n",
    "    pv_derivative += i * cashflow[i] * modified_discount_factors[i]\n",
    "    \n",
    "print(f\"The present value of the obligation is {pv:.2f}\")\n",
    "print(f'The duration of this obligation is {pv_derivative/pv:.2f} years')"
   ],
   "metadata": {
    "collapsed": false,
    "ExecuteTime": {
     "end_time": "2024-04-30T08:11:54.657238Z",
     "start_time": "2024-04-30T08:11:54.638651Z"
    }
   },
   "id": "8104d0e5cbc4d0a7",
   "execution_count": 48
  },
  {
   "cell_type": "markdown",
   "source": [
    "Then We solve the following system of linear equations\n",
    "$$\\begin{cases}\n",
    "65.95x_1 + 101.67x_2 = 2238.44 \\\\\n",
    "\\frac{65.95\\cdot 7.07}{2238.44}x_1 + \\frac{101.67\\cdot 3.80}{2238.44}x_2 = 2.45\n",
    "\\end{cases}$$\n",
    "\n",
    "We see that $x_1 = -13.84$, $x_2 = 31.00$"
   ],
   "metadata": {
    "collapsed": false
   },
   "id": "c3c8a76993add6c"
  },
  {
   "cell_type": "markdown",
   "source": [
    "**Exercise 5.1**:\n",
    "(Capital budgeting) A firm is considering funding several proposed projects that have the financial properties shown in the following table. The available budget is 600,000. What set of projects would be recommended by the approximate method based on benefit-cost ratios? What is the optimal set of projects?\n",
    "\n",
    "| Project | Outlay (in 1,000) | Present Worth |\n",
    "|---------|-------------------|---------------|\n",
    "| 1       | 100               | 200           |\n",
    "| 2       | 300               | 500           |\n",
    "| 3       | 200               | 300           |\n",
    "| 4       | 150               | 200           |\n",
    "| 5       | 150               | 250           | \n"
   ],
   "metadata": {
    "collapsed": false
   },
   "id": "23fd35ad0f066d84"
  },
  {
   "cell_type": "code",
   "outputs": [
    {
     "data": {
      "text/plain": "array([1., 1., 1., 0., 0.])"
     },
     "execution_count": 5,
     "metadata": {},
     "output_type": "execute_result"
    }
   ],
   "source": [
    "from scipy.optimize import linprog\n",
    "obj = [-200, -500, -300, -200, -250]\n",
    "lhs_ineq = [[100, 300, 200, 150, 150]]\n",
    "rhs_ineq = [600]\n",
    "opt = linprog(c=obj, A_ub=lhs_ineq, b_ub=rhs_ineq, integrality = [1,1,1,1,1], bounds = [(0,1)])\n",
    "opt.x"
   ],
   "metadata": {
    "collapsed": false,
    "ExecuteTime": {
     "end_time": "2024-05-14T04:54:33.347185Z",
     "start_time": "2024-05-14T04:54:33.342138Z"
    }
   },
   "id": "9a690a2fabb2786b",
   "execution_count": 5
  },
  {
   "cell_type": "markdown",
   "source": [
    "Based on the benefit cost ratio approximation, it is optimal to select project 1,2,5. The net cost is 550, and NPV is 950\n",
    "Based on the above computation, we see that it is most optimal to select project 1,2,3. The net cost is 600, and NPV is 1000"
   ],
   "metadata": {
    "collapsed": false
   },
   "id": "ba127a6dc42ac86"
  },
  {
   "cell_type": "markdown",
   "source": [
    "**Exercise 5.2** (County transportation choices) Suppose that the goals and specific projects shown in the table are being considered by the County Transportation Authority. The total available budget is 5 million.\n",
    "\n",
    "|                                 | Cost (in 1000) | NPV (in 1000) |\n",
    "|---------------------------------|----------------|---------------|\n",
    "| - Road between Augen and Burger |                |               | \n",
    "| 1. Concrete, 2 lanes            | 2000           | 4000          |\n",
    "| 2. Concrete, 4 lanes            | 3000           | 5000          |\n",
    "| 3. Asphalt, 2 lanes             | 1500           | 3000          |\n",
    "| 4. Asphalt, 4 lanes             | 2200           | 4300          |\n",
    "| - Bridge at Cay Road            |                |               | \n",
    "| 5. Repair existing              | 500            | 1000          |\n",
    "| 6. Add lane                     | 1500           | 1500          |\n",
    "| 7. New Structure                | 2500           | 2500          |\n",
    "| - Traffic Control in Downsberg  |                |               | \n",
    "| 8. Traffic lights               | 100            | 300           |\n",
    "| 9. Turn Lanes                   | 600            | 1000          |\n",
    "| 10. Underpass                   | 1000           | 2000          |\n",
    "\n",
    "The bridge at Cay Road is actually part of the road between Augen and Burger. Therefore it is not reasonable for the bridge to have fewer lanes than the road itself. This means that if projects 2 or 4 are carried out, either projects 6 or 7 must also be carried out. Formulate a zero—one programming problem that includes this additional requirement. Solve the problem.                            "
   ],
   "metadata": {
    "collapsed": false
   },
   "id": "68fbed71412d8327"
  },
  {
   "cell_type": "markdown",
   "source": [
    "**Solution:**\n",
    "Suppose $x_i\\in\\{0,1\\}$ denotes either we choose project $i$ or not. Then, we would like to maximize \n",
    "$$4000x_1+5000x_2+\\cdots+2000x_{10}$$\n",
    "subject to the constraints\n",
    "$$\\begin{align}\n",
    "2000x_2+3000x_2+\\cdots + 1000x_{10} &\\leq 5000 \\\\\n",
    "x_1+x_2+x_3+x_4 &\\leq 1 \\\\\n",
    "x_5+x_6+x_7 &\\leq 1 \\\\\n",
    "x_8+x_9+x_{10} &\\leq 1 \\\\\n",
    "x_6+x_7-x_2-x_4 &\\geq 0\n",
    "\\end{align}$$\n",
    "\n",
    "Note that the last condition is saying that if $x_2+x_4 = 1$ (i.e, project 2 or 4 are carried out), then $x_6+x_7 = 1$ (i.e, project 6 or project 7 must be carried out)\n",
    "\n",
    "We run the following program so solve this linear programming problem. We see that it is most optimal to select project 4, 6, 10. The net cost is 4700,000 and NPV is 7800,000"
   ],
   "metadata": {
    "collapsed": false
   },
   "id": "ee8e6dcbabd77320"
  },
  {
   "cell_type": "code",
   "outputs": [
    {
     "data": {
      "text/plain": "array([0., 0., 0., 1., 0., 1., 0., 0., 0., 1.])"
     },
     "execution_count": 13,
     "metadata": {},
     "output_type": "execute_result"
    }
   ],
   "source": [
    "from scipy.optimize import linprog\n",
    "obj = [-4000, -5000, -3000, -4300, -1000, -1500, -2500, -300, -1000, -2000]\n",
    "lhs_ineq = [[2000, 3000, 1500, 2200, 500, 1500, 2500, 100, 600, 1000], [1,1,1,1,0,0,0,0,0,0], [0,0,0,0,1,1,1,0,0,0], [0,0,0,0,0,0,0,1,1,1], [0,1, 0, 1, 0, -1, -1, 0, 0, 0]]\n",
    "rhs_ineq = [5000, 1, 1, 1, 0]\n",
    "opt = linprog(c=obj, A_ub=lhs_ineq, b_ub=rhs_ineq, integrality = [1,1,1,1,1,1,1,1,1,1], bounds = [(0,1)])\n",
    "opt.x"
   ],
   "metadata": {
    "collapsed": false,
    "ExecuteTime": {
     "end_time": "2024-05-14T05:22:25.971796Z",
     "start_time": "2024-05-14T05:22:25.958732Z"
    }
   },
   "id": "c29ead476d6fbc4e",
   "execution_count": 13
  },
  {
   "cell_type": "markdown",
   "source": [
    "**Exercise 5.3**\n",
    "(Two-period budget) A company has identified a number of promising projects, as indicated in Table 5.7. The cash flows for the first 2 years are shown (they are all negative). The cash flows in later years are positive, and the net present value of each project is shown. The company managers have decided that they can allocate up to 250,000 in each of the first 2 years to fund these projects. If less than 250,000 is used the first year, the balance can be invested at 10% and used to augment the next year’s budget. Which projects should be funded?\n",
    "\n",
    "| project | 1   | 2    | NPV |\n",
    "|---------|-----|------|-----|\n",
    "| 1       | -90 | -58  | 150 |\n",
    "| 2       | -80 | -80  | 200 |\n",
    "| 3       | -50 | -100 | 100 |\n",
    "| 4       | -20 | -64  | 100 |\n",
    "| 5       | -40 | -50  | 120 |\n",
    "| 6       | -80 | -20  | 150 |\n",
    "| 7       | -80 | -100 | 240 |"
   ],
   "metadata": {
    "collapsed": false
   },
   "id": "fa7e2839f4e64cf3"
  },
  {
   "cell_type": "markdown",
   "source": [
    "**Solution:**\n",
    "We first convert the problem to a linear programing problem. Suppose $x_i\\in \\{0,1\\}$ denotes either we select project $i$ or not. Let $y\\geq 0$ denote the surplus of the funds in year 1. Then, we would like to maximize \n",
    "$$150x_1+200x_2+\\cdots+240x_7$$\n",
    "subject to the constraints\n",
    "$$90x_1+80x_2+\\cdots+80x_7+y\\leq 250$$\n",
    "$$58x_1+80x_2+\\cdots+240x_7 \\leq 250 + 1.1y$$\n",
    "We run the following program to solve this linear programming problem. We see that it is most optimal to select project 4,5,6,7"
   ],
   "metadata": {
    "collapsed": false
   },
   "id": "7c45d82dd6c041b5"
  },
  {
   "cell_type": "code",
   "outputs": [
    {
     "data": {
      "text/plain": "array([0.       , 0.       , 0.       , 1.       , 1.       , 1.       ,\n       1.       , 1.9047619])"
     },
     "execution_count": 12,
     "metadata": {},
     "output_type": "execute_result"
    }
   ],
   "source": [
    "from scipy.optimize import linprog\n",
    "from scipy.optimize import milp\n",
    "obj = [-150, -200, -100, -100, -120, -150, -240, 0]\n",
    "lhs_ineq = [[90, 80, 50, 20, 40, 80, 80, 1], [58, 80, 100, 54, 50, 20, 100, -1.1], [1,0,0,0,0,0,0,0], [0,1,0,0,0,0,0,0], [0,0,1,0,0,0,0,0], [0,0,0,1,0,0,0,0], [0,0,0,0,1,0,0,0], [0,0,0,0,0,1,0,0], [0,0,0,0,0,0,1,0]]\n",
    "rhs_ineq = [250, 250, 1, 1, 1, 1, 1, 1, 1]\n",
    "opt = linprog(c=obj, A_ub=lhs_ineq, b_ub=rhs_ineq, integrality = [1,1,1,1,1,1,1,0])\n",
    "opt.x"
   ],
   "metadata": {
    "collapsed": false,
    "ExecuteTime": {
     "end_time": "2024-05-14T04:59:54.558029Z",
     "start_time": "2024-05-14T04:59:54.541324Z"
    }
   },
   "id": "1e34795764f9e3a8",
   "execution_count": 12
  },
  {
   "cell_type": "markdown",
   "source": [
    "**Exercise 5.4** (Bond matrix) The cash matching and other problems can be conveniently represented in matrix form. Suppose there are m bonds. We define for each bond j its associated yearly cash flow stream (column) vector $\\vec{c_j}$, which is n-dimensional. The yearly obligations are likewise represented by the n-dimensional vector $\\vec{y}$. We can stack the $c_j$ vectors side by side to form the columns of a bond matrix C. Finally we let $\\vec{p}$ and $\\vec{x}$ be m-dimensional column vectors. The cash matching problem can be expressed as\n",
    "$$\\text{minimize } \\vec{p}^T\\vec{x}$$\n",
    "$$\\text{subject to } \\begin{align}&C\\vec{x} > \\vec{y} \\\\ &\\vec{x}\\geq 0\\end{align}$$\n",
    "(a) Identify $C,\\vec{y},\\vec{p}$ and $\\vec{x}$ in table 5.3  \\\n",
    "(b) Show that if all bonds are priced according to a common term structure of interest rates, there is a vector $\\vec{v}$ satisfying\n",
    "$$C^T\\vec{v}= \\vec{p}$$\n",
    "What are the components of $\\vec{v}$? \\\n",
    "(c) Suppose $\\vec{b}$ is a vector whose components represent obligations in each period. Show that a portfolio $\\vec{x}$ meeting these obligations exactly satisfies $C\\vec{x} =\\vec{b}$. \\\n",
    "(d) With $\\vec{x}$ and $\\vec{v}$ defined as before, show that the price of the portfolio $\\vec{x}$ is $\\vec{v}^T\\vec{b}$. Interpret this result.\n"
   ],
   "metadata": {
    "collapsed": false
   },
   "id": "6962e0763acb9967"
  },
  {
   "cell_type": "markdown",
   "source": [
    "**Solution** \\\n",
    "a) $C = \\begin{bmatrix}10 & 7 & 8 & 6 & 7 & 5 & 10 & 8 & 7 & 100 \\\\\n",
    "10 & 7 & 8 & 6 & 7 & 5 & 10 & 8 & 107 & 0 \\\\ \n",
    "10 & 7 & 8 & 6 & 7 & 5 & 110 & 108 & 0 & 0 \\\\\n",
    "10 & 7 & 8 & 6 & 7 & 105 & 0 & 0 & 0 & 0 \\\\\n",
    " 10 & 7 & 8 & 106 & 107 & 0 & 0 & 0 & 0 & 0 \\\\\n",
    "  110 & 107 & 108 & 0 & 0 & 0 & 0 & 0 & 0 & 0\\end{bmatrix}$, $\\vec{y} = \\begin{bmatrix}100 \\\\ 200 \\\\ 800 \\\\ 100 \\\\ 800 \\\\ 1200\\end{bmatrix}, \\vec{p} = \\begin{bmatrix}109\\\\ 94.8 \\\\ 99.5 \\\\ 93.1 \\\\ 97.2 \\\\ 92.9 \\\\ 110 \\\\ 104 \\\\ 102 \\\\ 95.2\\end{bmatrix}, \\vec{x} = \\begin{bmatrix}0 \\\\ 11.2 \\\\ 0 \\\\ 6.81 \\\\ 0 \\\\ 0 \\\\ 0 \\\\ 6.3 \\\\ 0.28 \\\\ 0\\end{bmatrix}$\n",
    "  \n",
    "b) If bonds are priced according to term structure $(s_1, s_2,\\ldots, s_n)$ where $s_i$ is spot rates at year $i$. Then we define the vector $\\vec{v} = (d_1,\\ldots, d_n)$ where $d_i = \\frac{1}{(1+s_i)^i}$. Then the price of the bond $i$, which has cashflow $\\vec{c_j}$ is computed by \n",
    "$$p_i = c_{i1}d_1+c_{i2}d_2+\\cdots+c_{in}d_n = \\vec{c_i}^T\\vec{v}.$$\n",
    "Hence, we have \n",
    "$$\\vec{p} = C^T\\vec{v}$$\n",
    "The components of $\\vec{v}$ are the discount factors $d_i$. \n",
    "\n",
    "c) This is directly from the definition. The $i$-th entry of $C\\vec{x}$ is the cashflow of this portfolio at year $i$. \n",
    "\n",
    "d) The price of this portfolio is $\\vec{x}^T\\vec{p} = \\vec{x}^T(C^T\\vec{v}) = (C\\vec{x})^T\\vec{v} = \\vec{b}^T\\vec{v} = \\vec{v}^T\\vec{b}$. \n",
    "\n",
    "This result means that if the cashflow of this portfolio equals the obligation. Then the value of this portfolio is exactly the present value of the obligation. \n"
   ],
   "metadata": {
    "collapsed": false
   },
   "id": "bd4b5880488b2239"
  },
  {
   "cell_type": "markdown",
   "source": [
    "**Exercise 5.9** (Little Bear Oil) You have purchased a lease for the Little Bear Oil well. This well has initial reserves of 100 thousand barrels of oil. In any year you have three choices of how to operate the well: (a) you can not pump, in which case there is no operating cost and no change in oil reserves; (b) you can pump normally, in which case the operating cost is 50 thousand, and you will pump out 20% of what the reserves were at the beginning of the year; or (c) you can use enhanced pumping using water pressure, in which case the operating cost is 120 thousand, and you will pump out 36% of what the reserves were at the beginning of the year. The price of oil is 10 per barrel and the interest rate is 10%. Assume that both your operating costs and the oil revenues come at the beginning of the year (through advance sales). Your lease is for a period of 3 years."
   ],
   "metadata": {
    "collapsed": false
   },
   "id": "b736dbea94a545fe"
  }
 ],
 "metadata": {
  "kernelspec": {
   "display_name": "Python 3",
   "language": "python",
   "name": "python3"
  },
  "language_info": {
   "codemirror_mode": {
    "name": "ipython",
    "version": 2
   },
   "file_extension": ".py",
   "mimetype": "text/x-python",
   "name": "python",
   "nbconvert_exporter": "python",
   "pygments_lexer": "ipython2",
   "version": "2.7.6"
  }
 },
 "nbformat": 4,
 "nbformat_minor": 5
}
