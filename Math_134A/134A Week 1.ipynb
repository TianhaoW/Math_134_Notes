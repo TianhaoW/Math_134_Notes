{
 "cells": [
  {
   "cell_type": "markdown",
   "source": [
    "# Math 134A Week 1"
   ],
   "metadata": {
    "collapsed": false
   },
   "id": "c82cdd99a0c9a6c3"
  },
  {
   "cell_type": "markdown",
   "source": [
    "## Compound Interest\n",
    "Let $A$ be the **principal**, which is the original amount of money we saved in the bank. Let $r$ be the **annual interest rate**. Suppose that the interest is compounded annually, then the amount of money we received in year $t$ is given by \n",
    "$$A(1+r)^t$$\n",
    "\n",
    "If the interest is compounded quarterly, then the amount of money we received in year $t$ is given by \n",
    "$$A\\left(1+\\frac{r}{4}\\right)^{4t}$$\n",
    "\n",
    "If we further divide the interval for which we receive the interest as $1/n$ year, and take the limit as $n\\rightarrow\\infty$, then we get the **continuous compound interest model**\n",
    "$$\\lim_{n\\rightarrow \\infty} A\\left(1+\\frac{r}{n}\\right)^{nt} = Ae^{rt}$$"
   ],
   "metadata": {
    "collapsed": false
   },
   "id": "b631f41058d5a568"
  },
  {
   "cell_type": "markdown",
   "source": [
    "## Present Value and Future Value\n",
    "Since we can save the money in the bank, and it will grow according to the interest rate. Hence, the money received tomorrow will worth less than the same amount of money received today. We introduce the notion of **present value/future value** as a tool to compare the value the money received in different time. \n",
    "\n",
    "Suppose the annual interest rate is $r$, and a cash flow $(x_0, x_1,\\ldots, x_n)$ where $x_i$ is the amount of money that we will receive or lose in year $n$. Then its **present value**, which the value of this cash flow at year $0$ is given by \n",
    "$$PV = x_0 + \\frac{x_1}{1+r}+\\frac{x_2}{(1+r)^2}+\\cdots+\\frac{x_n}{(1+r)^n}$$\n",
    "Its **future value** at year $n$ is given by \n",
    "$$FV = x_0(1+r)^n+x_1(1+r)^{n-1}+\\cdots+x_n$$\n",
    "\n",
    "We also call $\\frac{1}{1+r}$ as the **discount factor**. This is how the money received in the future will be discounted by. \n",
    "\n",
    "In the continuous compound model, the discount factor is $e^{-r}$. Suppose the cash flow we have is $(x_{t_0}, x_{t_1},\\ldots, x_{t_n})$ where $x_{t_i}$ is the money received at time $t_i$. Then its present value is given by\n",
    "$$PV = \\sum_0^n x_{t_k}e^{-rt_k}$$\n",
    "\n",
    "If the present value of two cash flow are the same, then we say that they are **equivalent**. "
   ],
   "metadata": {
    "collapsed": false
   },
   "id": "85debf1c7f63d68a"
  },
  {
   "cell_type": "code",
   "outputs": [],
   "source": [
    "import math\n",
    "def PV(r, cf, continuous_compounding = False, dt = None): \n",
    "    if dt is None: dt = range(len(cf))\n",
    "    pv = 0\n",
    "    if not continuous_compounding:\n",
    "        for k in range(0, len(cf)):\n",
    "            pv += cf[k] / (1+r)**dt[k]\n",
    "    else:\n",
    "        for k in range(0, len(cf)):\n",
    "            pv += cf[k] * math.exp(-r * dt[k])\n",
    "    return pv\n",
    "\n",
    "# This will return the future value of a cash flow at time T. If T is not specified, then we take T as the time that we receive the last cash flow\n",
    "def FV(r, cf, continuous_compounding = False, dt = None, T = None):\n",
    "    if dt is None: dt = range(len(cf))\n",
    "    if T is None: T = dt[-1]\n",
    "    fv = 0\n",
    "    if not continuous_compounding:\n",
    "        for k in range(0, len(cf)):\n",
    "            fv += cf[k] * (1+r)**(T - dt[k])\n",
    "    else:\n",
    "        for k in range(0, len(cf)):\n",
    "            fv += cf[k] * math.exp(r * (T - dt[k]))\n",
    "    return fv   \n",
    "    "
   ],
   "metadata": {
    "collapsed": false,
    "ExecuteTime": {
     "end_time": "2024-04-29T00:03:09.879245Z",
     "start_time": "2024-04-29T00:03:09.865716Z"
    }
   },
   "id": "30c6defef1f4464d",
   "execution_count": 2
  },
  {
   "cell_type": "markdown",
   "source": [
    "#### Example in Lecture:\n",
    "Compute the present value of the cash flow $[-2,1,1, 1]$ with $r = 0.1$, compounded yearly. "
   ],
   "metadata": {
    "collapsed": false
   },
   "id": "a068fd3db01fb310"
  },
  {
   "cell_type": "code",
   "outputs": [
    {
     "name": "stdout",
     "output_type": "stream",
     "text": [
      "The present value of the above cash flow is 0.49\n"
     ]
    }
   ],
   "source": [
    "print(f\"The present value of the above cash flow is {PV(r = 0.1, cf = [-2,1,1,1]):.2f}\")"
   ],
   "metadata": {
    "collapsed": false,
    "ExecuteTime": {
     "end_time": "2024-04-29T00:03:12.661768Z",
     "start_time": "2024-04-29T00:03:12.648214Z"
    }
   },
   "id": "9111eda52b1b5a6f",
   "execution_count": 3
  },
  {
   "cell_type": "markdown",
   "source": [
    "## Internal rate of return\n",
    "Usually, there are investments where we need to deposit an amount money first, and then receive money in the future. This corresponds to a cash flow $(x_0,x_1,\\ldots, x_n)$ with $x_0 < 0$, and all other $x_i \\geq 0$. The **Internal rate of return(IRR)** is a tool to analyze the actual interest paid by this investment. More precisely, the IRR is a number $r$ such that the present value corresponding to this cash flow is $0$. In other words, the cash flow corresponding to investment is the same as the cash flow generated by saving the money $x_0$ in the bank with interest rate $r$ (which has present value $0$). \n",
    "\n",
    " "
   ],
   "metadata": {
    "collapsed": false
   },
   "id": "a5f9cca70b6c3a4f"
  },
  {
   "cell_type": "code",
   "outputs": [],
   "source": [
    "from scipy.optimize import fsolve\n",
    "\n",
    "def irr(cf):\n",
    "    \n",
    "    def simple_npv(r, cf):\n",
    "        return sum(cf[k]/(1+r)**k for k in range(len(cf)))\n",
    "    \n",
    "    result = fsolve(simple_npv, x0 = 0.1, args = cf)\n",
    "    return result[0]\n"
   ],
   "metadata": {
    "collapsed": false,
    "ExecuteTime": {
     "end_time": "2024-04-29T00:03:18.015777Z",
     "start_time": "2024-04-29T00:03:17.481574Z"
    }
   },
   "id": "76463f26195127d",
   "execution_count": 4
  },
  {
   "cell_type": "markdown",
   "source": [
    "**Example** \\\n",
    "Consider an investment opportunity which requires 10000 as the initial capital, and returns 2000, 3000, 4000, 5000, 6000 at year 1, 2, 3, 4, 5 respectively. Compute the internal rate of return of this investment. "
   ],
   "metadata": {
    "collapsed": false
   },
   "id": "aa716fd1a0f5beaa"
  },
  {
   "cell_type": "code",
   "outputs": [
    {
     "name": "stdout",
     "output_type": "stream",
     "text": [
      "The irr of this investment is 23.29%\n"
     ]
    }
   ],
   "source": [
    "print(f\"The irr of this investment is {irr([-10000,2000,3000,4000,5000,6000]) * 100:.2f}%\")"
   ],
   "metadata": {
    "collapsed": false,
    "ExecuteTime": {
     "end_time": "2024-04-29T00:05:38.815842Z",
     "start_time": "2024-04-29T00:05:38.807786Z"
    }
   },
   "id": "e22f0ffa89d60679",
   "execution_count": 8
  },
  {
   "cell_type": "markdown",
   "source": [
    "### Explanation for IRR.\n",
    "Usually, we have a lot of different fixed income investment tools. For example, there are annuity, bonds, certificate of deposits(cd) and so on. We wish to have a tool to compute their \"interest rate\". \n",
    "\n",
    "Consider the following example of a coupon paying bonds. Its price is 100, and we will receive 10 in year 1, and in year 2. In year 3, we will get our 100 back along with the 10 dollar coupon. The corresponding cashflow is given by $(-100, 10, 10, 110)$. We can compute that its internal rate of return is\n"
   ],
   "metadata": {
    "collapsed": false
   },
   "id": "8eb47c1da6c53ce9"
  },
  {
   "cell_type": "code",
   "outputs": [
    {
     "name": "stdout",
     "output_type": "stream",
     "text": [
      "The internal rate of return of this bond is 0.1\n"
     ]
    }
   ],
   "source": [
    "r = irr([-100, 10, 10, 110])\n",
    "print(\"The internal rate of return of this bond is\", r)"
   ],
   "metadata": {
    "collapsed": false,
    "ExecuteTime": {
     "end_time": "2024-04-09T18:22:55.651031Z",
     "start_time": "2024-04-09T18:22:55.647710Z"
    }
   },
   "id": "1821e8ed1a44d672",
   "execution_count": 5
  },
  {
   "cell_type": "markdown",
   "source": [
    "The irr being $0.1$ means that instead of spending 100 to buy this bond, we can save this 100 in the bank. If the bank offer an interest rate $0.1$, compounded yearly, then we will receive the same amount of money as purchasing this bond in year 3. So the irr of this bond is really the \"interest rate\" of this investment tool.\n",
    "\n",
    "Also, note that the 10 dollar coupon received in year 1 and year 2 will also be saved to bank immediately. Then the amount of money we get from this bond in year 3 is given by \n",
    "$$10*1.1^2+10 * 1.1 + 110$$\n",
    "which is also the future value of the cashflow $(0, 10, 10, 100)$ with interest rate $r = 0.1$.\n",
    "\n",
    "The amount of money we get in year 3 by saving 100 in the bank with interest rate $r = 0.1$ is given by \n",
    "$$100*(1.1)^3$$\n",
    "\n",
    "We call the following program, and we see that they are the same. Hence $0.1$ is really the \"interest rate\" of this coupon paying bond."
   ],
   "metadata": {
    "collapsed": false
   },
   "id": "e476cd67650809fb"
  },
  {
   "cell_type": "code",
   "outputs": [
    {
     "name": "stdout",
     "output_type": "stream",
     "text": [
      "The future value of saving 100 in the bank with this interest rate is given by 133.1\n",
      "The future value of investing 100 in that investment root is given by 133.1\n"
     ]
    }
   ],
   "source": [
    "print(f\"The future value of saving 100 in the bank with this interest rate is given by {FV(r, [100], T = 3):.1f}\")\n",
    "print(f\"The future value of investing 100 in that investment root is given by {FV(r, [0, 10, 10, 110]):.1f}\")"
   ],
   "metadata": {
    "collapsed": false,
    "ExecuteTime": {
     "end_time": "2024-04-09T18:22:56.392892Z",
     "start_time": "2024-04-09T18:22:56.389312Z"
    }
   },
   "id": "10e2f6d184292f5b",
   "execution_count": 6
  }
 ],
 "metadata": {
  "kernelspec": {
   "display_name": "Python 3",
   "language": "python",
   "name": "python3"
  },
  "language_info": {
   "codemirror_mode": {
    "name": "ipython",
    "version": 2
   },
   "file_extension": ".py",
   "mimetype": "text/x-python",
   "name": "python",
   "nbconvert_exporter": "python",
   "pygments_lexer": "ipython2",
   "version": "2.7.6"
  }
 },
 "nbformat": 4,
 "nbformat_minor": 5
}
