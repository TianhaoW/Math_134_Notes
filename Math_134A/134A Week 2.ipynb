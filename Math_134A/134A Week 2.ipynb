{
 "cells": [
  {
   "cell_type": "markdown",
   "id": "15236c0d02b512d0",
   "metadata": {
    "collapsed": false
   },
   "source": [
    "# Math 134A Week 2"
   ]
  },
  {
   "cell_type": "code",
   "execution_count": 1,
   "id": "3225912e",
   "metadata": {},
   "outputs": [],
   "source": [
    "import pandas as pd\n",
    "\n",
    "# Import all the functions from the Utility_functions.py file\n",
    "from Utility_functions import *"
   ]
  },
  {
   "cell_type": "markdown",
   "id": "33967af299addfc9",
   "metadata": {
    "collapsed": false
   },
   "source": [
    "**Problem 3**:(Effective rates) Find the corresponding effective rates for: \\\n",
    "(a) 3% compounded monthly.  \\\n",
    "(b) 18% compounded monthly. \\\n",
    "(c) 18% compounded quarterly."
   ]
  },
  {
   "cell_type": "code",
   "execution_count": 2,
   "id": "1c1cb0cb4b9358fd",
   "metadata": {
    "ExecuteTime": {
     "end_time": "2024-04-22T02:56:14.991011Z",
     "start_time": "2024-04-22T02:56:14.985781Z"
    },
    "collapsed": false
   },
   "outputs": [
    {
     "name": "stdout",
     "output_type": "stream",
     "text": [
      "a) 3.042%\n",
      "b) 19.562%\n",
      "c) 19.252%\n"
     ]
    }
   ],
   "source": [
    "print(f\"a) {((1 + 0.03/12)**12 - 1)*100:.3f}%\")\n",
    "print(f\"b) {((1 + 0.18/12)**12 - 1)*100:.3f}%\")\n",
    "print(f\"c) {((1 + 0.18/4)**4 - 1)*100:.3f}%\")"
   ]
  },
  {
   "cell_type": "markdown",
   "id": "385fe1b8ba146072",
   "metadata": {
    "collapsed": false
   },
   "source": [
    "**Problem 5**: (Tree cut) Suppose that you have the opportunity to plant trees that later can be sold for lumber. This project requires an initial outlay of money in order to purchase and plant the seedlings. No other cash flow occurs until the trees are harvested. However, you have a choice as to when to harvest. If you harvest after 1 year, you get your return quickly; but if you wait, the trees will have additional growth and the revenue generated from the sale of the trees will be greater. Assume that the cash flow streams associated with these alternatives are:\n",
    "  - Wait 1 year: $(-1, 2)$\n",
    "  - Wait 2 year: $(-1, 0, 3)$\n",
    "  - Wait 3 year: $(-1, 0, 0, 4)$\n",
    "  - $\\vdots$\n",
    "  - Wait n year $(-1, 0, 0,\\ldots, n+1)$\n",
    "\n",
    "The prevailing interest rate is 10%. When is the best time to cut the trees?"
   ]
  },
  {
   "cell_type": "markdown",
   "id": "ff1a17290702079",
   "metadata": {
    "collapsed": false
   },
   "source": [
    "**Solution:**\n",
    "The present value of cutting a tree in year n is \n",
    "$$pv(n) = -1 + (n+1)/1.1^n$$\n",
    "Its derivative respect to $n$ is \n",
    "$$\\frac{1.1^n - \\ln 1.1\\cdot 1.1^n\\cdot (n+1)}{1.1^{2n}} = \\frac{1.1^n(1-\\ln 1.1\\cdot (n+1))}{1.1^{2n}}$$\n",
    "It has a critical point (which is also the global maximum) when \n",
    "$$1-\\ln 1.1\\cdot (n+1) = 0$$\n",
    "which implies that $pv(n)$ is maximized when \n",
    "$$n = \\frac{1}{\\ln 1.1} - 1 = 9.49$$\n",
    "We conclude that it is most optimal to cut the tree at year 9 or year 10. \n",
    "\n",
    "The other method is to compute the present value of cutting the tree at year $n$ for a list of $n$, and find the maximum among them."
   ]
  },
  {
   "cell_type": "code",
   "execution_count": 3,
   "id": "773f1d06423ee9db",
   "metadata": {
    "ExecuteTime": {
     "end_time": "2024-04-16T19:31:14.931526Z",
     "start_time": "2024-04-16T19:31:14.917043Z"
    },
    "collapsed": false
   },
   "outputs": [
    {
     "name": "stdout",
     "output_type": "stream",
     "text": [
      "The present value of cutting the tree at year 1 is given by 0.8181818181818181\n",
      "The present value of cutting the tree at year 2 is given by 1.4793388429752063\n",
      "The present value of cutting the tree at year 3 is given by 2.00525920360631\n",
      "The present value of cutting the tree at year 4 is given by 2.4150672768253525\n",
      "The present value of cutting the tree at year 5 is given by 2.72552793835493\n",
      "The present value of cutting the tree at year 6 is given by 2.95131751037644\n",
      "The present value of cutting the tree at year 7 is given by 3.1052649458456516\n",
      "The present value of cutting the tree at year 8 is given by 3.1985664218875973\n",
      "The present value of cutting the tree at year 9 is given by 3.240976183724846\n",
      "The present value of cutting the tree at year 10 is given by 3.240976183724846\n",
      "The present value of cutting the tree at year 11 is given by 3.2059267937767064\n",
      "The present value of cutting the tree at year 12 is given by 3.142200630234634\n",
      "The present value of cutting the tree at year 13 is given by 3.055301316313628\n",
      "The present value of cutting the tree at year 14 is given by 2.9499688145911955\n",
      "The present value of cutting the tree at year 15 is given by 2.8302727899066134\n",
      "The present value of cutting the tree at year 16 is given by 2.6996953084325246\n",
      "The present value of cutting the tree at year 17 is given by 2.5612040402024294\n",
      "The present value of cutting the tree at year 18 is given by 2.417317008275058\n",
      "The present value of cutting the tree at year 19 is given by 2.270159816531156\n",
      "The present value of cutting the tree at year 20 is given by 2.1215161885070124\n",
      "The present value of cutting the tree at year 21 is given by 1.9728725604828687\n",
      "The present value of cutting the tree at year 22 is given by 1.8254573921944615\n",
      "The present value of cutting the tree at year 23 is given by 1.6802757870619396\n",
      "The present value of cutting the tree at year 24 is given by 1.5381399498692612\n",
      "The present value of cutting the tree at year 25 is given by 1.3996959526036648\n",
      "The present value of cutting the tree at year 26 is given by 1.2654472279824804\n",
      "The present value of cutting the tree at year 27 is given by 1.1357751644279275\n",
      "The present value of cutting the tree at year 28 is given by 1.0109571353379834\n",
      "The present value of cutting the tree at year 29 is given by 0.8911822589385425\n",
      "The present value of cutting the tree at year 30 is given by 0.7765651523362065\n",
      "The present value of cutting the tree at year 31 is given by 0.6671579142157946\n",
      "The present value of cutting the tree at year 32 is given by 0.5629605445773076\n",
      "The present value of cutting the tree at year 33 is given by 0.46392998665643126\n",
      "The present value of cutting the tree at year 34 is given by 0.36998795542714125\n",
      "The present value of cutting the tree at year 35 is given by 0.2810276985812228\n",
      "The present value of cutting the tree at year 36 is given by 0.19691981938144543\n",
      "The present value of cutting the tree at year 37 is given by 0.11751727608095641\n",
      "The present value of cutting the tree at year 38 is given by 0.04265965950137063\n",
      "The present value of cutting the tree at year 39 is given by -0.027823161304083355\n"
     ]
    }
   ],
   "source": [
    "for n in range(1, 40):\n",
    "    print(\"The present value of cutting the tree at year\", n, \"is given by\", -1+(n+1)/1.1**n)"
   ]
  },
  {
   "cell_type": "markdown",
   "id": "7defb5897b5052fa",
   "metadata": {
    "collapsed": false
   },
   "source": [
    "**Problem 6:** - (Equivalent rates) What nominal annual rate of interest (to five digits) is equivalent to 10\\% yearly under \\\n",
    "(a) monthly compounding? \\\n",
    "(b) continuous compounding?"
   ]
  },
  {
   "cell_type": "markdown",
   "id": "222f09e1b94c473c",
   "metadata": {
    "collapsed": false
   },
   "source": [
    "**Solution:**\n",
    "a) We need to find interest rate $r$ such that $(1+\\frac{r}{12})^{12} = 1.1$. Hence, we get \n",
    "$$r = (\\sqrt[12]{1.1} - 1 ) \\cdot 12$$\n",
    "b) We need to find $r$ such that $e^r = 1.1$. Hence, we get \n",
    "$$r = \\ln 1.1$$\n",
    "We run the following codes for the computation"
   ]
  },
  {
   "cell_type": "code",
   "execution_count": 4,
   "id": "4170456ef345fd2a",
   "metadata": {
    "ExecuteTime": {
     "end_time": "2024-04-16T19:31:14.947037Z",
     "start_time": "2024-04-16T19:31:14.931526Z"
    },
    "collapsed": false
   },
   "outputs": [
    {
     "name": "stdout",
     "output_type": "stream",
     "text": [
      "a), the nominal interest rate is 9.56897%, so that the monthly compounding has an effective rate 10%\n",
      "b), the nominal interest rate is 9.53102%, so that the continuous compounding has an effective rate 10%\n"
     ]
    }
   ],
   "source": [
    "print(f\"a), the nominal interest rate is {(1.1**(1/12) - 1) * 12 * 100:.5f}%, so that the monthly compounding has an effective rate 10%\")\n",
    "print(f\"b), the nominal interest rate is {math.log(1.1, math.e) * 100:.5f}%, so that the continuous compounding has an effective rate 10%\")"
   ]
  },
  {
   "cell_type": "markdown",
   "id": "4d2f97b811e80bab",
   "metadata": {
    "collapsed": false
   },
   "source": [
    "**Remark:**\n",
    "The reason we care about the effective rate is that we can assume everything is compounded yearly under the effective rate. \n",
    "\n",
    "Consider the following example.\n",
    "\n",
    "Suppose that we have a nominal annual rate of interest 12\\%, compounded monthly. Given a cashflow $(100, 100, 100)$, where the money are received in year 0, year 1, and year 2. Then its present value respect to this interest rate is \n",
    "$$npv = 100+\\frac{100}{1.01^{12}}+\\frac{100}{1.01^{20}}$$\n",
    "\n",
    "We see that the effective rate $r_0 = 1.01^{12} - 1$, and the present value of the above cash flow under the effective rate with annual compounding is \n",
    "$$100+\\frac{100}{1+r}+\\frac{100}{(1+r)^2}$$\n",
    "which is the same as above.\n",
    "\n",
    "Hence, after we convert the nominal interest rate to the effective rate, we can assume that the interest is compounded annually."
   ]
  },
  {
   "cell_type": "markdown",
   "id": "f4df91766ae0b9de",
   "metadata": {
    "collapsed": false
   },
   "source": [
    "**Problem 7:**(A prize) A major lottery advertises that it pays the winner 10 million. However, this prize money is paid at the rate of 500,000 each year (with the first payment being immediate) for a total of 20 payments. What is the present value of this prize at 10\\% interest?"
   ]
  },
  {
   "cell_type": "markdown",
   "id": "7ab9e84b90648ab",
   "metadata": {
    "collapsed": false
   },
   "source": [
    "**Solution:** We run the following codes to generate the cash flow, and also the present value of this prize."
   ]
  },
  {
   "cell_type": "code",
   "execution_count": 5,
   "id": "79d7381544ff06e7",
   "metadata": {
    "ExecuteTime": {
     "end_time": "2024-04-16T19:31:14.962361Z",
     "start_time": "2024-04-16T19:31:14.948071Z"
    },
    "collapsed": false
   },
   "outputs": [
    {
     "name": "stdout",
     "output_type": "stream",
     "text": [
      "The cash flow corresponding to the prize payment is [500000, 500000, 500000, 500000, 500000, 500000, 500000, 500000, 500000, 500000, 500000, 500000, 500000, 500000, 500000, 500000, 500000, 500000, 500000, 500000]\n",
      "The present value of this prize is given by 4682460.05\n"
     ]
    }
   ],
   "source": [
    "cashflow = [500000] * 20\n",
    "print(\"The cash flow corresponding to the prize payment is\", cashflow)\n",
    "print(f\"The present value of this prize is given by {PV(0.1, cashflow):.2f}\")"
   ]
  },
  {
   "cell_type": "markdown",
   "id": "7855ef61ed95a553",
   "metadata": {
    "collapsed": false
   },
   "source": [
    "**Problem 8:**\n",
    "(Sunk costs) A young couple has made a nonrefundable deposit of the first month’s rent (equal to 1,000) on a 6-month apartment lease. The next day they find a different apartment that they like just as well, but its monthly rent is only 900. They plan to be in the apartment only 6 months. Should they switch to the new apartment? What if they plan to stay 1 year? Assume an interest rate of 12%."
   ]
  },
  {
   "cell_type": "code",
   "execution_count": 6,
   "id": "c796daba56afc447",
   "metadata": {
    "ExecuteTime": {
     "end_time": "2024-04-22T02:51:58.860564Z",
     "start_time": "2024-04-22T02:51:58.850518Z"
    },
    "collapsed": false
   },
   "outputs": [
    {
     "name": "stdout",
     "output_type": "stream",
     "text": [
      "The present value of the 6 months rental payments if they don't switch to the new apartment is 5853.43\n",
      "The present value of the 6 months rental payments if they switch to the new apartment is 6268.09\n",
      "Hence, it is better not to switch to the new apartment if they only stay for 6 months\n",
      "\n",
      "The present value of the 12 months rental payments if they don't switch to the new apartment is 11367.63\n",
      "The present value of the 12 months rental payments if they switch to the new apartment is 11230.87\n",
      "Hence, it is better to switch to the new apartment if they will stay for 12 months\n"
     ]
    }
   ],
   "source": [
    "cf1 = [1000] * 6\n",
    "cf2 = [1900] + [900] * 5\n",
    "r = 0.12/12\n",
    "print(f\"The present value of the 6 months rental payments if they don't switch to the new apartment is {PV(r, cf1):.2f}\")\n",
    "print(f\"The present value of the 6 months rental payments if they switch to the new apartment is {PV(r, cf2):.2f}\")\n",
    "print(\"Hence, it is better not to switch to the new apartment if they only stay for 6 months\\n\")\n",
    "cf3 = [1000] * 12\n",
    "cf4 = [1900] + [900] * 11\n",
    "print(f\"The present value of the 12 months rental payments if they don't switch to the new apartment is {PV(r, cf3):.2f}\")\n",
    "print(f\"The present value of the 12 months rental payments if they switch to the new apartment is {PV(r, cf4):.2f}\")\n",
    "print(\"Hence, it is better to switch to the new apartment if they will stay for 12 months\")"
   ]
  },
  {
   "cell_type": "markdown",
   "id": "c441c672e72f8e9",
   "metadata": {
    "collapsed": false
   },
   "source": [
    "**Problem 11:** (An appraisal) You are considering the purchase of a nice home. It is in every way perfect for you and in excellent condition, except for the roof. The roof has only 5 years of life remaining. A new roof would last 20 years, but would cost 20,000. The house is expected to last forever. Assuming that costs will remain constant and that the interest rate is 5\\%, what value would you assign to the existing roof?\n",
    "\n",
    "Hint: Consider the present value of change the roof now, and then every 20 years, and change the root in 5 year, and then every 20 years. The difference between their present value is the value of existing roof."
   ]
  },
  {
   "cell_type": "markdown",
   "id": "9134d0519f4dc120",
   "metadata": {
    "collapsed": false
   },
   "source": [
    "**Solution:**\n",
    "We will first compute the present value of the cost of replacing the roof now, and also every 20 years after. The cash flow of the cost is given by\n",
    "$$(20000,0,\\ldots,0, 20000, 0,0,\\ldots, 0, 20000,0 \\ldots)$$\n",
    "It has present value \n",
    "$$PV = \\sum_0^\\infty 20000\\cdot (1/1.05)^{20n} = 20000 \\cdot \\left(\\frac{1}{1-(\\frac{1}{1.05})^{20}} \\right)$$\n",
    "\n",
    "We also compute the present value of the cost of using the existing roof for 5 years, and then replace it with a new one after every 20 years. The cash flow of the cost is \n",
    "$$(0,0,\\ldots,0, 20000, 0,0,\\ldots, 0, 20000,0 \\ldots)$$\n",
    "It has present value\n",
    "$$PV = \\sum_0^\\infty 20000\\cdot(1/1.05)^{20n+5} = \\frac{20000}{1.05^5}\\cdot \\left(\\frac{1}{1-(\\frac{1}{1.05})^{20}} \\right)$$\n",
    "We run the following code for the computation, and their difference is the value of the existing roof."
   ]
  },
  {
   "cell_type": "code",
   "execution_count": 7,
   "id": "3703392d46517f30",
   "metadata": {
    "ExecuteTime": {
     "end_time": "2024-04-16T19:31:14.977503Z",
     "start_time": "2024-04-16T19:31:14.963404Z"
    },
    "collapsed": false
   },
   "outputs": [
    {
     "name": "stdout",
     "output_type": "stream",
     "text": [
      "The present value of the option 1 is given by  32097.03\n",
      "The present value of the option 2 is given by  25148.87\n",
      "The value of the existing roof is given by  6948.17\n"
     ]
    }
   ],
   "source": [
    "print(f\"The present value of the option 1 is given by {20000*(1/(1-1/1.05**20)): .2f}\")\n",
    "print(f\"The present value of the option 2 is given by {20000/(1.05)**5*(1/(1-1/1.05**20)): .2f}\")\n",
    "print(f\"The value of the existing roof is given by {20000*(1/(1-1/1.05**20))-20000/(1.05)**5*(1/(1-1/1.05**20)): .2f}\")"
   ]
  },
  {
   "cell_type": "markdown",
   "id": "8f2fd7cf98be89d9",
   "metadata": {
    "collapsed": false
   },
   "source": [
    "**Problem 12:**(Oil depletion allowance) A wealthy investor spends 1 million to drill and develop an oil well that has estimated reserves of 200,000 barrels. The well is to be operated over 5 years, producing the estimated quantities shown in the following table. It is estimated that the oil will be sold for 20 per barrel. The net income is also shown. \n",
    "\n",
    "A depletion allowance, for tax purposes, can be computed in either of two ways each year: 22\\% of gross revenue up to 50\\% of net income before such deduction (option 1), or the investment cost of the product, equal in this case to the unit cost of the reserves, 5 per barrel (option 2). The allowance is deducted from the net income to determine the taxable income. The investor is in the 45\\% tax bracket.\n",
    "\n",
    "-  Complete Table 2.6 and show that the total depletion allowance exceeds the original investment.\n",
    "-  Calculate the PV and the IRR for this investment. Assume an interest rate of 20\\%."
   ]
  },
  {
   "cell_type": "code",
   "execution_count": 8,
   "id": "1a545fec8d5c4d0",
   "metadata": {
    "ExecuteTime": {
     "end_time": "2024-04-16T19:31:15.008882Z",
     "start_time": "2024-04-16T19:31:14.977503Z"
    },
    "collapsed": false
   },
   "outputs": [
    {
     "data": {
      "text/html": [
       "<div>\n",
       "<style scoped>\n",
       "    .dataframe tbody tr th:only-of-type {\n",
       "        vertical-align: middle;\n",
       "    }\n",
       "\n",
       "    .dataframe tbody tr th {\n",
       "        vertical-align: top;\n",
       "    }\n",
       "\n",
       "    .dataframe thead th {\n",
       "        text-align: right;\n",
       "    }\n",
       "</style>\n",
       "<table border=\"1\" class=\"dataframe\">\n",
       "  <thead>\n",
       "    <tr style=\"text-align: right;\">\n",
       "      <th></th>\n",
       "      <th>Year</th>\n",
       "      <th>Barrel Produced</th>\n",
       "      <th>Gross Revenue</th>\n",
       "      <th>Net Income</th>\n",
       "      <th>Option 1</th>\n",
       "      <th>Option 2</th>\n",
       "      <th>Depletion Allowance</th>\n",
       "      <th>Taxable Income</th>\n",
       "      <th>Tax</th>\n",
       "      <th>After Tax Income</th>\n",
       "    </tr>\n",
       "  </thead>\n",
       "  <tbody>\n",
       "    <tr>\n",
       "      <th>0</th>\n",
       "      <td>1</td>\n",
       "      <td>80000</td>\n",
       "      <td>1600000</td>\n",
       "      <td>1200000</td>\n",
       "      <td>352000.0</td>\n",
       "      <td>400000.0</td>\n",
       "      <td>400000.0</td>\n",
       "      <td>800000.0</td>\n",
       "      <td>360000.0</td>\n",
       "      <td>840000.0</td>\n",
       "    </tr>\n",
       "    <tr>\n",
       "      <th>1</th>\n",
       "      <td>2</td>\n",
       "      <td>70000</td>\n",
       "      <td>1400000</td>\n",
       "      <td>1000000</td>\n",
       "      <td>NaN</td>\n",
       "      <td>NaN</td>\n",
       "      <td>NaN</td>\n",
       "      <td>NaN</td>\n",
       "      <td>NaN</td>\n",
       "      <td>NaN</td>\n",
       "    </tr>\n",
       "    <tr>\n",
       "      <th>2</th>\n",
       "      <td>3</td>\n",
       "      <td>50000</td>\n",
       "      <td>1000000</td>\n",
       "      <td>500000</td>\n",
       "      <td>NaN</td>\n",
       "      <td>NaN</td>\n",
       "      <td>NaN</td>\n",
       "      <td>NaN</td>\n",
       "      <td>NaN</td>\n",
       "      <td>NaN</td>\n",
       "    </tr>\n",
       "    <tr>\n",
       "      <th>3</th>\n",
       "      <td>4</td>\n",
       "      <td>30000</td>\n",
       "      <td>600000</td>\n",
       "      <td>200000</td>\n",
       "      <td>NaN</td>\n",
       "      <td>NaN</td>\n",
       "      <td>NaN</td>\n",
       "      <td>NaN</td>\n",
       "      <td>NaN</td>\n",
       "      <td>NaN</td>\n",
       "    </tr>\n",
       "    <tr>\n",
       "      <th>4</th>\n",
       "      <td>5</td>\n",
       "      <td>10000</td>\n",
       "      <td>200000</td>\n",
       "      <td>50000</td>\n",
       "      <td>NaN</td>\n",
       "      <td>NaN</td>\n",
       "      <td>NaN</td>\n",
       "      <td>NaN</td>\n",
       "      <td>NaN</td>\n",
       "      <td>NaN</td>\n",
       "    </tr>\n",
       "  </tbody>\n",
       "</table>\n",
       "</div>"
      ],
      "text/plain": [
       "   Year  Barrel Produced  Gross Revenue  Net Income  Option 1  Option 2  \\\n",
       "0     1            80000        1600000     1200000  352000.0  400000.0   \n",
       "1     2            70000        1400000     1000000       NaN       NaN   \n",
       "2     3            50000        1000000      500000       NaN       NaN   \n",
       "3     4            30000         600000      200000       NaN       NaN   \n",
       "4     5            10000         200000       50000       NaN       NaN   \n",
       "\n",
       "   Depletion Allowance  Taxable Income       Tax  After Tax Income  \n",
       "0             400000.0        800000.0  360000.0          840000.0  \n",
       "1                  NaN             NaN       NaN               NaN  \n",
       "2                  NaN             NaN       NaN               NaN  \n",
       "3                  NaN             NaN       NaN               NaN  \n",
       "4                  NaN             NaN       NaN               NaN  "
      ]
     },
     "metadata": {},
     "output_type": "display_data"
    }
   ],
   "source": [
    "raw_data = pd.read_csv(\"../data/Week_2_Problem_12.csv\")\n",
    "display(raw_data)"
   ]
  },
  {
   "cell_type": "code",
   "execution_count": 9,
   "id": "1bdec61be8d3ff87",
   "metadata": {
    "ExecuteTime": {
     "end_time": "2024-04-16T19:31:15.024290Z",
     "start_time": "2024-04-16T19:31:15.009932Z"
    },
    "collapsed": false
   },
   "outputs": [
    {
     "data": {
      "text/html": [
       "<div>\n",
       "<style scoped>\n",
       "    .dataframe tbody tr th:only-of-type {\n",
       "        vertical-align: middle;\n",
       "    }\n",
       "\n",
       "    .dataframe tbody tr th {\n",
       "        vertical-align: top;\n",
       "    }\n",
       "\n",
       "    .dataframe thead th {\n",
       "        text-align: right;\n",
       "    }\n",
       "</style>\n",
       "<table border=\"1\" class=\"dataframe\">\n",
       "  <thead>\n",
       "    <tr style=\"text-align: right;\">\n",
       "      <th></th>\n",
       "      <th>Year</th>\n",
       "      <th>Barrel Produced</th>\n",
       "      <th>Gross Revenue</th>\n",
       "      <th>Net Income</th>\n",
       "      <th>Option 1</th>\n",
       "      <th>Option 2</th>\n",
       "      <th>Depletion Allowance</th>\n",
       "      <th>Taxable Income</th>\n",
       "      <th>Tax</th>\n",
       "      <th>After Tax Income</th>\n",
       "    </tr>\n",
       "  </thead>\n",
       "  <tbody>\n",
       "    <tr>\n",
       "      <th>0</th>\n",
       "      <td>1</td>\n",
       "      <td>80000</td>\n",
       "      <td>1600000</td>\n",
       "      <td>1200000</td>\n",
       "      <td>320000.0</td>\n",
       "      <td>400000</td>\n",
       "      <td>400000.0</td>\n",
       "      <td>800000.0</td>\n",
       "      <td>360000.0</td>\n",
       "      <td>840000.0</td>\n",
       "    </tr>\n",
       "    <tr>\n",
       "      <th>1</th>\n",
       "      <td>2</td>\n",
       "      <td>70000</td>\n",
       "      <td>1400000</td>\n",
       "      <td>1000000</td>\n",
       "      <td>280000.0</td>\n",
       "      <td>350000</td>\n",
       "      <td>350000.0</td>\n",
       "      <td>650000.0</td>\n",
       "      <td>292500.0</td>\n",
       "      <td>707500.0</td>\n",
       "    </tr>\n",
       "    <tr>\n",
       "      <th>2</th>\n",
       "      <td>3</td>\n",
       "      <td>50000</td>\n",
       "      <td>1000000</td>\n",
       "      <td>500000</td>\n",
       "      <td>200000.0</td>\n",
       "      <td>250000</td>\n",
       "      <td>250000.0</td>\n",
       "      <td>250000.0</td>\n",
       "      <td>112500.0</td>\n",
       "      <td>387500.0</td>\n",
       "    </tr>\n",
       "    <tr>\n",
       "      <th>3</th>\n",
       "      <td>4</td>\n",
       "      <td>30000</td>\n",
       "      <td>600000</td>\n",
       "      <td>200000</td>\n",
       "      <td>100000.0</td>\n",
       "      <td>150000</td>\n",
       "      <td>150000.0</td>\n",
       "      <td>50000.0</td>\n",
       "      <td>22500.0</td>\n",
       "      <td>177500.0</td>\n",
       "    </tr>\n",
       "    <tr>\n",
       "      <th>4</th>\n",
       "      <td>5</td>\n",
       "      <td>10000</td>\n",
       "      <td>200000</td>\n",
       "      <td>50000</td>\n",
       "      <td>25000.0</td>\n",
       "      <td>50000</td>\n",
       "      <td>50000.0</td>\n",
       "      <td>0.0</td>\n",
       "      <td>0.0</td>\n",
       "      <td>50000.0</td>\n",
       "    </tr>\n",
       "  </tbody>\n",
       "</table>\n",
       "</div>"
      ],
      "text/plain": [
       "   Year  Barrel Produced  Gross Revenue  Net Income  Option 1  Option 2  \\\n",
       "0     1            80000        1600000     1200000  320000.0    400000   \n",
       "1     2            70000        1400000     1000000  280000.0    350000   \n",
       "2     3            50000        1000000      500000  200000.0    250000   \n",
       "3     4            30000         600000      200000  100000.0    150000   \n",
       "4     5            10000         200000       50000   25000.0     50000   \n",
       "\n",
       "   Depletion Allowance  Taxable Income       Tax  After Tax Income  \n",
       "0             400000.0        800000.0  360000.0          840000.0  \n",
       "1             350000.0        650000.0  292500.0          707500.0  \n",
       "2             250000.0        250000.0  112500.0          387500.0  \n",
       "3             150000.0         50000.0   22500.0          177500.0  \n",
       "4              50000.0             0.0       0.0           50000.0  "
      ]
     },
     "metadata": {},
     "output_type": "display_data"
    }
   ],
   "source": [
    "raw_data['Option 1'] = pd.DataFrame([raw_data['Gross Revenue'] * 0.2, raw_data['Net Income'] * 0.5]).min()\n",
    "raw_data['Option 2'] = raw_data['Barrel Produced'] * 5\n",
    "raw_data['Depletion Allowance'] = pd.DataFrame([raw_data['Option 1'], raw_data['Option 2']]).max()\n",
    "raw_data['Taxable Income'] = raw_data['Net Income'] - raw_data['Depletion Allowance']\n",
    "raw_data['Tax'] = raw_data['Taxable Income'] * 0.45\n",
    "raw_data['After Tax Income'] = raw_data['Net Income'] - raw_data['Tax']\n",
    "display(raw_data)"
   ]
  },
  {
   "cell_type": "code",
   "execution_count": 10,
   "id": "c43e23d2390b611b",
   "metadata": {
    "ExecuteTime": {
     "end_time": "2024-04-16T19:31:15.039519Z",
     "start_time": "2024-04-16T19:31:15.025351Z"
    },
    "collapsed": false
   },
   "outputs": [
    {
     "name": "stdout",
     "output_type": "stream",
     "text": [
      "The cash flow of this investment is [-1000000, 840000.0, 707500.0, 387500.0, 177500.0, 50000.0]\n",
      "The present value of this investment is 521260.93\n",
      "The internal rate of return is 52.80%\n"
     ]
    }
   ],
   "source": [
    "cash_flow = raw_data['After Tax Income'].tolist()\n",
    "cash_flow = [-1000000] + cash_flow\n",
    "print(\"The cash flow of this investment is\", cash_flow)\n",
    "print(f\"The present value of this investment is {PV(0.2, cash_flow):.2f}\")\n",
    "print(f\"The internal rate of return is {irr(cash_flow)*100:.2f}%\")"
   ]
  },
  {
   "cell_type": "markdown",
   "id": "6d250bdaa4577e1e",
   "metadata": {
    "collapsed": false
   },
   "source": [
    "## Inflation and real interest rate\n",
    "\n",
    "Suppose that the **inflation rate** is $f$ in the sense that what can be purchased in $1$ dollar can be purchased in $1+f$ dollar in a year. We use the term **nominal dollars** to mean the dollar we used in real world, and **real dollar** to mean the hypothetical dollar that continue to have the same purchasing power. Then the real dollar in a year will only worth $1/(1+f)$ dollar this year. Let $r$ be the prevailing interest, then the $1$ real dollar today will become $1+r$ nominal dollar in a year, which is $(1+r)/(1+f)$ real dollar nowadays. We define the **real interest rate** $r_0$ as the interest rate for the real dollar, and it is defined by the equation\n",
    "$$1+r_0 = \\frac{1+r}{1+f}$$\n",
    "\n",
    "Note that when $|f|<1$, we have \n",
    "$$\\frac{1}{1+f} = 1-f+\\frac{f^2}{2}\\pm\\cdots$$\n",
    "and hence \n",
    "$$\\frac{1+r}{1+f}\\approx (1+r)(1-f) = 1+r-f-rf\\approx 1+(r-f)$$\n",
    "\n",
    "Hence, when $f$ is small, we have \n",
    "$$r_0\\approx r - f$$\n",
    "In other words, the real interest rate is approximately the interest rate minus the inflation rate.\n"
   ]
  },
  {
   "cell_type": "markdown",
   "id": "de10565f252f286e",
   "metadata": {
    "collapsed": false
   },
   "source": [
    "**Problem 17** (An erroneous analysis) A division of ABBOX Corporation has developed the concept of a new product. Production of the product would require 10 million in initial capital expenditure. It is anticipated that 1 million units would be sold each year for 5 years, and then the product would be obsolete and production would cease. Each year’s production would require 10,000 hours of labor and 100 tons of raw material. Currently, the average wage rate is 30 per hour and the cost of the raw material is 100 per ton. The product would sell for 3.30 per unit, and this price is expected to be maintained (in real terms). ABBOX management likes to use a 12% discount rate for projects of this type and faces a 34\\% tax rate on profit. The initial capital expenditure can be depreciated in a straight line fashion over 5 years. In its first analysis of this project, management did not apply inflation factors to the extrapolated revenues and operating costs. What present value did they obtain? How would the answer change if an inflation rate of 4\\% were applied? \n"
   ]
  },
  {
   "cell_type": "code",
   "execution_count": 11,
   "id": "ab599502a4cc538e",
   "metadata": {
    "ExecuteTime": {
     "end_time": "2024-04-16T19:31:15.054719Z",
     "start_time": "2024-04-16T19:31:15.040569Z"
    },
    "collapsed": false
   },
   "outputs": [
    {
     "name": "stdout",
     "output_type": "stream",
     "text": [
      "Without assuming the inflation, we have\n"
     ]
    },
    {
     "data": {
      "text/html": [
       "<div>\n",
       "<style scoped>\n",
       "    .dataframe tbody tr th:only-of-type {\n",
       "        vertical-align: middle;\n",
       "    }\n",
       "\n",
       "    .dataframe tbody tr th {\n",
       "        vertical-align: top;\n",
       "    }\n",
       "\n",
       "    .dataframe thead th {\n",
       "        text-align: right;\n",
       "    }\n",
       "</style>\n",
       "<table border=\"1\" class=\"dataframe\">\n",
       "  <thead>\n",
       "    <tr style=\"text-align: right;\">\n",
       "      <th></th>\n",
       "      <th>Year</th>\n",
       "      <th>Cost</th>\n",
       "      <th>Revenue</th>\n",
       "      <th>Income</th>\n",
       "      <th>Depreciation</th>\n",
       "      <th>Taxable Income</th>\n",
       "      <th>Tax</th>\n",
       "      <th>After Tax Income</th>\n",
       "    </tr>\n",
       "  </thead>\n",
       "  <tbody>\n",
       "    <tr>\n",
       "      <th>0</th>\n",
       "      <td>0</td>\n",
       "      <td>10000000</td>\n",
       "      <td>0.0</td>\n",
       "      <td>-10000000.0</td>\n",
       "      <td>0.0</td>\n",
       "      <td>0.0</td>\n",
       "      <td>0.0</td>\n",
       "      <td>-10000000.0</td>\n",
       "    </tr>\n",
       "    <tr>\n",
       "      <th>1</th>\n",
       "      <td>1</td>\n",
       "      <td>310000</td>\n",
       "      <td>3300000.0</td>\n",
       "      <td>2990000.0</td>\n",
       "      <td>2000000.0</td>\n",
       "      <td>990000.0</td>\n",
       "      <td>336600.0</td>\n",
       "      <td>2653400.0</td>\n",
       "    </tr>\n",
       "    <tr>\n",
       "      <th>2</th>\n",
       "      <td>2</td>\n",
       "      <td>310000</td>\n",
       "      <td>3300000.0</td>\n",
       "      <td>2990000.0</td>\n",
       "      <td>2000000.0</td>\n",
       "      <td>990000.0</td>\n",
       "      <td>336600.0</td>\n",
       "      <td>2653400.0</td>\n",
       "    </tr>\n",
       "    <tr>\n",
       "      <th>3</th>\n",
       "      <td>3</td>\n",
       "      <td>310000</td>\n",
       "      <td>3300000.0</td>\n",
       "      <td>2990000.0</td>\n",
       "      <td>2000000.0</td>\n",
       "      <td>990000.0</td>\n",
       "      <td>336600.0</td>\n",
       "      <td>2653400.0</td>\n",
       "    </tr>\n",
       "    <tr>\n",
       "      <th>4</th>\n",
       "      <td>4</td>\n",
       "      <td>310000</td>\n",
       "      <td>3300000.0</td>\n",
       "      <td>2990000.0</td>\n",
       "      <td>2000000.0</td>\n",
       "      <td>990000.0</td>\n",
       "      <td>336600.0</td>\n",
       "      <td>2653400.0</td>\n",
       "    </tr>\n",
       "    <tr>\n",
       "      <th>5</th>\n",
       "      <td>5</td>\n",
       "      <td>310000</td>\n",
       "      <td>3300000.0</td>\n",
       "      <td>2990000.0</td>\n",
       "      <td>2000000.0</td>\n",
       "      <td>990000.0</td>\n",
       "      <td>336600.0</td>\n",
       "      <td>2653400.0</td>\n",
       "    </tr>\n",
       "  </tbody>\n",
       "</table>\n",
       "</div>"
      ],
      "text/plain": [
       "   Year      Cost    Revenue      Income  Depreciation  Taxable Income  \\\n",
       "0     0  10000000        0.0 -10000000.0           0.0             0.0   \n",
       "1     1    310000  3300000.0   2990000.0     2000000.0        990000.0   \n",
       "2     2    310000  3300000.0   2990000.0     2000000.0        990000.0   \n",
       "3     3    310000  3300000.0   2990000.0     2000000.0        990000.0   \n",
       "4     4    310000  3300000.0   2990000.0     2000000.0        990000.0   \n",
       "5     5    310000  3300000.0   2990000.0     2000000.0        990000.0   \n",
       "\n",
       "        Tax  After Tax Income  \n",
       "0       0.0       -10000000.0  \n",
       "1  336600.0         2653400.0  \n",
       "2  336600.0         2653400.0  \n",
       "3  336600.0         2653400.0  \n",
       "4  336600.0         2653400.0  \n",
       "5  336600.0         2653400.0  "
      ]
     },
     "metadata": {},
     "output_type": "display_data"
    },
    {
     "name": "stdout",
     "output_type": "stream",
     "text": [
      "The present value of the income assuming that there is no inflation is -435086.82\n"
     ]
    }
   ],
   "source": [
    "print(\"Without assuming the inflation, we have\")\n",
    "data = pd.DataFrame({\"Year\": [0, 1, 2, 3, 4, 5]})\n",
    "data['Cost'] = [10000000] + [10000 * 30 + 100 * 100] * 5\n",
    "data['Revenue'] = [0] + [1000000 * 3.3] * 5\n",
    "data['Income'] = data['Revenue'] - data['Cost']\n",
    "data['Depreciation'] = [0]+ [10000000/5] * 5\n",
    "data['Taxable Income'] = data[\"Income\"] - data['Depreciation']\n",
    "data['Taxable Income'] = data['Taxable Income'].clip(lower = 0)\n",
    "data['Tax'] = data['Taxable Income'] * 0.34\n",
    "data['After Tax Income'] = data['Income'] - data['Tax']\n",
    "\n",
    "display(data)\n",
    "\n",
    "print(f\"The present value of the income assuming that there is no inflation is {PV(0.12, data['After Tax Income'].tolist()):.2f}\")\n"
   ]
  },
  {
   "cell_type": "code",
   "execution_count": 12,
   "id": "705cf50c6bf5784c",
   "metadata": {
    "ExecuteTime": {
     "end_time": "2024-04-16T19:31:15.070377Z",
     "start_time": "2024-04-16T19:31:15.054719Z"
    },
    "collapsed": false
   },
   "outputs": [
    {
     "name": "stdout",
     "output_type": "stream",
     "text": [
      "If we take the inflation into account, then\n"
     ]
    },
    {
     "data": {
      "text/html": [
       "<div>\n",
       "<style scoped>\n",
       "    .dataframe tbody tr th:only-of-type {\n",
       "        vertical-align: middle;\n",
       "    }\n",
       "\n",
       "    .dataframe tbody tr th {\n",
       "        vertical-align: top;\n",
       "    }\n",
       "\n",
       "    .dataframe thead th {\n",
       "        text-align: right;\n",
       "    }\n",
       "</style>\n",
       "<table border=\"1\" class=\"dataframe\">\n",
       "  <thead>\n",
       "    <tr style=\"text-align: right;\">\n",
       "      <th></th>\n",
       "      <th>Year</th>\n",
       "      <th>Cost</th>\n",
       "      <th>Revenue</th>\n",
       "      <th>Income</th>\n",
       "      <th>Depreciation</th>\n",
       "      <th>Taxable Income</th>\n",
       "      <th>Tax</th>\n",
       "      <th>After Tax Income</th>\n",
       "    </tr>\n",
       "  </thead>\n",
       "  <tbody>\n",
       "    <tr>\n",
       "      <th>0</th>\n",
       "      <td>0</td>\n",
       "      <td>1.000000e+07</td>\n",
       "      <td>0.000</td>\n",
       "      <td>-1.000000e+07</td>\n",
       "      <td>0.0</td>\n",
       "      <td>0.000000e+00</td>\n",
       "      <td>0.000000</td>\n",
       "      <td>-1.000000e+07</td>\n",
       "    </tr>\n",
       "    <tr>\n",
       "      <th>1</th>\n",
       "      <td>1</td>\n",
       "      <td>3.100000e+05</td>\n",
       "      <td>3300000.000</td>\n",
       "      <td>2.990000e+06</td>\n",
       "      <td>2000000.0</td>\n",
       "      <td>9.900000e+05</td>\n",
       "      <td>336600.000000</td>\n",
       "      <td>2.653400e+06</td>\n",
       "    </tr>\n",
       "    <tr>\n",
       "      <th>2</th>\n",
       "      <td>2</td>\n",
       "      <td>3.224000e+05</td>\n",
       "      <td>3432000.000</td>\n",
       "      <td>3.109600e+06</td>\n",
       "      <td>2000000.0</td>\n",
       "      <td>1.109600e+06</td>\n",
       "      <td>377264.000000</td>\n",
       "      <td>2.732336e+06</td>\n",
       "    </tr>\n",
       "    <tr>\n",
       "      <th>3</th>\n",
       "      <td>3</td>\n",
       "      <td>3.352960e+05</td>\n",
       "      <td>3569280.000</td>\n",
       "      <td>3.233984e+06</td>\n",
       "      <td>2000000.0</td>\n",
       "      <td>1.233984e+06</td>\n",
       "      <td>419554.560000</td>\n",
       "      <td>2.814429e+06</td>\n",
       "    </tr>\n",
       "    <tr>\n",
       "      <th>4</th>\n",
       "      <td>4</td>\n",
       "      <td>3.487078e+05</td>\n",
       "      <td>3712051.200</td>\n",
       "      <td>3.363343e+06</td>\n",
       "      <td>2000000.0</td>\n",
       "      <td>1.363343e+06</td>\n",
       "      <td>463536.742400</td>\n",
       "      <td>2.899807e+06</td>\n",
       "    </tr>\n",
       "    <tr>\n",
       "      <th>5</th>\n",
       "      <td>5</td>\n",
       "      <td>3.626562e+05</td>\n",
       "      <td>3860533.248</td>\n",
       "      <td>3.497877e+06</td>\n",
       "      <td>2000000.0</td>\n",
       "      <td>1.497877e+06</td>\n",
       "      <td>509278.212096</td>\n",
       "      <td>2.988599e+06</td>\n",
       "    </tr>\n",
       "  </tbody>\n",
       "</table>\n",
       "</div>"
      ],
      "text/plain": [
       "   Year          Cost      Revenue        Income  Depreciation  \\\n",
       "0     0  1.000000e+07        0.000 -1.000000e+07           0.0   \n",
       "1     1  3.100000e+05  3300000.000  2.990000e+06     2000000.0   \n",
       "2     2  3.224000e+05  3432000.000  3.109600e+06     2000000.0   \n",
       "3     3  3.352960e+05  3569280.000  3.233984e+06     2000000.0   \n",
       "4     4  3.487078e+05  3712051.200  3.363343e+06     2000000.0   \n",
       "5     5  3.626562e+05  3860533.248  3.497877e+06     2000000.0   \n",
       "\n",
       "   Taxable Income            Tax  After Tax Income  \n",
       "0    0.000000e+00       0.000000     -1.000000e+07  \n",
       "1    9.900000e+05  336600.000000      2.653400e+06  \n",
       "2    1.109600e+06  377264.000000      2.732336e+06  \n",
       "3    1.233984e+06  419554.560000      2.814429e+06  \n",
       "4    1.363343e+06  463536.742400      2.899807e+06  \n",
       "5    1.497877e+06  509278.212096      2.988599e+06  "
      ]
     },
     "metadata": {},
     "output_type": "display_data"
    },
    {
     "name": "stdout",
     "output_type": "stream",
     "text": [
      "The present value of the income assuming that there is no inflation is 89254.75\n"
     ]
    }
   ],
   "source": [
    "print(\"If we take the inflation into account, then\")\n",
    "data = pd.DataFrame({\"Year\": [0, 1, 2, 3, 4, 5]})\n",
    "data['Cost'] = [10000000] + [(10000 * 30 + 100 * 100) * 1.04**n for n in range(0,5)]\n",
    "data['Revenue'] = [0] + [1000000 * 3.3 * 1.04**n for n in range(0,5)]\n",
    "data['Income'] = data['Revenue'] - data['Cost']\n",
    "data['Depreciation'] = [0]+ [10000000/5] * 5\n",
    "data['Taxable Income'] = data[\"Income\"] - data['Depreciation']\n",
    "data['Taxable Income'] = data['Taxable Income'].clip(lower = 0)\n",
    "data['Tax'] = data['Taxable Income'] * 0.34\n",
    "data['After Tax Income'] = data['Income'] - data['Tax']\n",
    "\n",
    "display(data)\n",
    "\n",
    "print(f\"The present value of the income assuming that there is no inflation is {PV(0.12, data['After Tax Income'].tolist()):.2f}\")"
   ]
  }
 ],
 "metadata": {
  "kernelspec": {
   "display_name": "math-134-notes-ujRLJM6v-py3.12",
   "language": "python",
   "name": "python3"
  },
  "language_info": {
   "codemirror_mode": {
    "name": "ipython",
    "version": 3
   },
   "file_extension": ".py",
   "mimetype": "text/x-python",
   "name": "python",
   "nbconvert_exporter": "python",
   "pygments_lexer": "ipython3",
   "version": "3.12.0"
  }
 },
 "nbformat": 4,
 "nbformat_minor": 5
}
