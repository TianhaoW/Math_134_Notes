{
 "cells": [
  {
   "cell_type": "markdown",
   "id": "2e2df11734bbb692",
   "metadata": {},
   "source": [
    "# Math 134A Week 3"
   ]
  },
  {
   "cell_type": "code",
   "execution_count": 1,
   "id": "73d49797df847f91",
   "metadata": {
    "ExecuteTime": {
     "end_time": "2024-04-29T09:13:09.574367Z",
     "start_time": "2024-04-29T09:13:08.650737Z"
    }
   },
   "outputs": [],
   "source": [
    "import math\n",
    "from scipy.optimize import fsolve\n",
    "import numpy_financial as npf\n",
    "import pandas as pd\n",
    "\n",
    "# Computing the present value of a cash flow with interest rate r. \n",
    "def PV(r, cf, continuous_compounding = False, dt = None): \n",
    "    if dt is None: dt = range(len(cf))\n",
    "    pv = 0\n",
    "    if not continuous_compounding:\n",
    "        for k in range(0, len(cf)):\n",
    "            pv += cf[k] / (1+r)**dt[k]\n",
    "    else:\n",
    "        for k in range(0, len(cf)):\n",
    "            pv += cf[k] * math.exp(-r * dt[k])\n",
    "    return pv\n",
    "\n",
    "# This will return the future value of a cash flow at time T. If T is not specified, then we take T as the time that we receive the last cash flow\n",
    "def FV(r, cf, continuous_compounding = False, dt = None, T = None):\n",
    "    if dt is None: dt = range(len(cf))\n",
    "    if T is None: T = dt[-1]\n",
    "    fv = 0\n",
    "    if not continuous_compounding:\n",
    "        for k in range(0, len(cf)):\n",
    "            fv += cf[k] * (1+r)**(T - dt[k])\n",
    "    else:\n",
    "        for k in range(0, len(cf)):\n",
    "            fv += cf[k] * math.exp(r * (T - dt[k]))\n",
    "    return fv   \n",
    "\n",
    "# Computing the internal rate of return by using the fsolve function to find roots to a polynomial\n",
    "def irr(cf):\n",
    "    def simple_npv(r, cf):\n",
    "        return sum(cf[k]/(1+r)**k for k in range(len(cf)))\n",
    "    \n",
    "    result = fsolve(simple_npv, x0 = 0.1, args = cf)\n",
    "    return result[0]\n",
    "\n",
    "# Computing the internal rate of return by using the irr function in numpy financial library\n",
    "def irr2(cf):\n",
    "    return npf.irr(cf)\n",
    "\n",
    "# This function computes the YTM of a bond mature in dt years, with face value F, price P, and coupon c paid m times every year\n",
    "def YTM(F, P, dt, c = 0, m = 1):\n",
    "    cf = [-P] + [c/m] * (dt * m - 1) + [F+c/m]\n",
    "    return irr(cf) * m\n",
    "    \n",
    "# This function computes the price of a bond mature in dt years, with face value F, YTM y, and yearly coupon c paid m times every year \n",
    "def bond_price(F, y, dt, c = 0, m = 1):\n",
    "    cf = [0] + [c/m] * (dt * m - 1) + [F+c/m]\n",
    "    return PV(y/m, cf)\n",
    "\n",
    "def macaulay_duration(c, y, m, n):\n",
    "    \"\"\"\n",
    "    c is the coupon rate per period\n",
    "    y is the yield per period\n",
    "    m is the number of periods per year\n",
    "    n is the number of periods remaining\n",
    "    \"\"\"\n",
    "    D = (1+y)/(m*y) - (1 + y + n*(c-y))/(m*c * ((1+y)**n - 1) + m*y)\n",
    "    return D\n",
    "    "
   ]
  },
  {
   "cell_type": "markdown",
   "id": "5fc1f33d33c5f9ce",
   "metadata": {},
   "source": [
    "## Example of fixed income securities\n",
    "- **Certificate of Deposit (CD)**\n",
    "- Government securities: \n",
    "  - **U.S. Treasury bills**\n",
    "  - **U.S. Treasury notes** \n",
    "  - **U.S. Treasure bonds**\n",
    "- **Municipal bonds**\n",
    "- **Corporate bonds**\n",
    "\n",
    "## Example of other fixed income investment\n",
    "- **Annuity**\n",
    "- **Mortgages**\n",
    "\n",
    "The above two fixed income investments are usually not considered as a security since they are usually not traded on markets. "
   ]
  },
  {
   "cell_type": "markdown",
   "id": "7e220cbc589a09a8",
   "metadata": {},
   "source": [
    "\n",
    "## Annuity\n",
    "A **perpetual annuity** pays a fixed amount A at the end of every period forever. Its corresponding cash flow is $(0, A, A, A,\\ldots)$. Suppose that the prevailing interest per period is $r$. The present value of this annuity is \n",
    "$$P = \\sum_{k=1}^\\infty \\frac{A}{(1+r)^k} = A/r$$\n",
    "\n",
    "In practice, the payment stream for an annuity has a finite lifetime. Suppose that an annuity pays a fixed amount A at the end of every period, and stops after n periodical payments. Let $r$ be the prevailling interest per period. Then the present value of this annuity is \n",
    "$$P = \\sum_{k=1}^n \\frac{A}{(1+r)^k} = \\frac{A}{r}\\left(1-\\frac{1}{(1+r)^n}\\right)$$\n",
    "\n",
    "We also note that the annuity formula can be used in a reverse way to compute the monthly payment to a loan (which is usually called **amortization**). In this case, $P$ and $r$ are given, which are the amount of money we borrowed, and $r$ is the loan rate per period. Then $A$ is the monthly payment to the loan. We can solve that \n",
    "$$A = \\frac{r(1+r)^nP}{(1+r)^n - 1}$$"
   ]
  },
  {
   "cell_type": "code",
   "execution_count": 3,
   "id": "119962ac0c2777e4",
   "metadata": {
    "ExecuteTime": {
     "end_time": "2024-04-18T17:10:28.414851Z",
     "start_time": "2024-04-18T17:10:28.411752Z"
    }
   },
   "outputs": [],
   "source": [
    "def loan_payment(P, r, n):\n",
    "    return (P * r)/(1 - 1/(1+r)**n)"
   ]
  },
  {
   "cell_type": "markdown",
   "id": "9774d661362a9e3e",
   "metadata": {},
   "source": [
    "## Example\n",
    "Suppose you have borrowed 1000 from a credit union. The loan has a yearly interest 12\\% compounded monthly. You are to make equal monthly payments to repay the loan over 6 months. How much is the monthly payment?"
   ]
  },
  {
   "cell_type": "code",
   "execution_count": 3,
   "id": "a6a6a5649446b551",
   "metadata": {
    "ExecuteTime": {
     "end_time": "2024-04-16T19:31:23.139195Z",
     "start_time": "2024-04-16T19:31:23.124981Z"
    }
   },
   "outputs": [
    {
     "name": "stdout",
     "output_type": "stream",
     "text": [
      "The monthly payment for the loan is 172.55\n"
     ]
    }
   ],
   "source": [
    "monthly_payment = loan_payment(1000, 0.01, 6)\n",
    "print(f\"The monthly payment for the loan is {monthly_payment:.2f}\")"
   ]
  },
  {
   "cell_type": "code",
   "execution_count": 4,
   "id": "94019ab873522392",
   "metadata": {
    "ExecuteTime": {
     "end_time": "2024-04-16T19:31:23.154408Z",
     "start_time": "2024-04-16T19:31:23.140235Z"
    }
   },
   "outputs": [
    {
     "data": {
      "text/html": [
       "<div>\n",
       "<style scoped>\n",
       "    .dataframe tbody tr th:only-of-type {\n",
       "        vertical-align: middle;\n",
       "    }\n",
       "\n",
       "    .dataframe tbody tr th {\n",
       "        vertical-align: top;\n",
       "    }\n",
       "\n",
       "    .dataframe thead th {\n",
       "        text-align: right;\n",
       "    }\n",
       "</style>\n",
       "<table border=\"1\" class=\"dataframe\">\n",
       "  <thead>\n",
       "    <tr style=\"text-align: right;\">\n",
       "      <th></th>\n",
       "      <th>Month</th>\n",
       "      <th>previous_balance</th>\n",
       "      <th>current_interest</th>\n",
       "      <th>payment</th>\n",
       "      <th>net_balance</th>\n",
       "    </tr>\n",
       "  </thead>\n",
       "  <tbody>\n",
       "    <tr>\n",
       "      <th>0</th>\n",
       "      <td>1</td>\n",
       "      <td>1000.00</td>\n",
       "      <td>10.00</td>\n",
       "      <td>172.55</td>\n",
       "      <td>837.45</td>\n",
       "    </tr>\n",
       "    <tr>\n",
       "      <th>1</th>\n",
       "      <td>2</td>\n",
       "      <td>837.45</td>\n",
       "      <td>8.37</td>\n",
       "      <td>172.55</td>\n",
       "      <td>673.28</td>\n",
       "    </tr>\n",
       "    <tr>\n",
       "      <th>2</th>\n",
       "      <td>3</td>\n",
       "      <td>673.28</td>\n",
       "      <td>6.73</td>\n",
       "      <td>172.55</td>\n",
       "      <td>507.46</td>\n",
       "    </tr>\n",
       "    <tr>\n",
       "      <th>3</th>\n",
       "      <td>4</td>\n",
       "      <td>507.46</td>\n",
       "      <td>5.07</td>\n",
       "      <td>172.55</td>\n",
       "      <td>339.99</td>\n",
       "    </tr>\n",
       "    <tr>\n",
       "      <th>4</th>\n",
       "      <td>5</td>\n",
       "      <td>339.99</td>\n",
       "      <td>3.40</td>\n",
       "      <td>172.55</td>\n",
       "      <td>170.84</td>\n",
       "    </tr>\n",
       "    <tr>\n",
       "      <th>5</th>\n",
       "      <td>6</td>\n",
       "      <td>170.84</td>\n",
       "      <td>1.71</td>\n",
       "      <td>172.55</td>\n",
       "      <td>0.00</td>\n",
       "    </tr>\n",
       "  </tbody>\n",
       "</table>\n",
       "</div>"
      ],
      "text/plain": [
       "   Month  previous_balance  current_interest  payment  net_balance\n",
       "0      1           1000.00             10.00   172.55       837.45\n",
       "1      2            837.45              8.37   172.55       673.28\n",
       "2      3            673.28              6.73   172.55       507.46\n",
       "3      4            507.46              5.07   172.55       339.99\n",
       "4      5            339.99              3.40   172.55       170.84\n",
       "5      6            170.84              1.71   172.55         0.00"
      ]
     },
     "metadata": {},
     "output_type": "display_data"
    }
   ],
   "source": [
    "import pandas as pd\n",
    "\n",
    "pd.set_option('float_format', '{:.2f}'.format)\n",
    "data = pd.DataFrame()\n",
    "data['Month'] = [1, 2, 3, 4, 5, 6]\n",
    "previous_balance = [1000]\n",
    "current_interest = [1000 * 0.01]\n",
    "payment = [monthly_payment] * 6\n",
    "net_balance = [1000 * 1.01 - monthly_payment]\n",
    "for i in range(1, 6):\n",
    "    previous_balance.append(net_balance[-1])\n",
    "    current_interest.append(previous_balance[-1] * 0.01)\n",
    "    net_balance.append(previous_balance[-1] + current_interest[-1] - monthly_payment)\n",
    "data['previous_balance'] = previous_balance\n",
    "data['current_interest'] = current_interest\n",
    "data['payment'] = payment\n",
    "data['net_balance'] = net_balance\n",
    "display(data)\n"
   ]
  },
  {
   "cell_type": "markdown",
   "id": "8599cb50557905f1",
   "metadata": {},
   "source": [
    "## Example\n",
    "Suppose we borrowed 30000 from a bank with fixed annual interest rate 12\\%, compounded monthly, for 30 years, with monthly payment. Compute the monthly payment, and draw a graph showing the ratio of interest and principal paid over each year."
   ]
  },
  {
   "cell_type": "code",
   "execution_count": 5,
   "id": "3fadc72ecd340bfb",
   "metadata": {
    "ExecuteTime": {
     "end_time": "2024-04-16T19:31:23.806443Z",
     "start_time": "2024-04-16T19:31:23.156463Z"
    }
   },
   "outputs": [
    {
     "name": "stdout",
     "output_type": "stream",
     "text": [
      "The monthly payment is 308.58\n"
     ]
    },
    {
     "data": {
      "image/png": "[encoded data removed]",
      "text/plain": [
       "<Figure size 640x480 with 1 Axes>"
      ]
     },
     "metadata": {},
     "output_type": "display_data"
    }
   ],
   "source": [
    "# Plotting percent of interest paid vs principle paid on a loan throughout the loans lifetime\n",
    "import matplotlib.pyplot as plt\n",
    "# Loan parameters\n",
    "loan_amount = 30000\n",
    "interest_rate = 0.12\n",
    "loan_term_years = 30\n",
    "num_payments = loan_term_years * 12\n",
    "monthly_rate = interest_rate / 12\n",
    "# Calculate the monthly payment\n",
    "monthly_payment = loan_payment(loan_amount, monthly_rate, num_payments)\n",
    "print(f\"The monthly payment is {monthly_payment:.2f}\")\n",
    "# Initialize lists for interest, principal, and month number\n",
    "interest_paid = []\n",
    "principal_paid = []\n",
    "year_numbers = [year + 1 for year in range(loan_term_years)]\n",
    "# Calculate interest and principal payments for each year\n",
    "remaining_balance = loan_amount\n",
    "for year in range(loan_term_years):\n",
    "    annual_interest = 0\n",
    "    annual_principal = 0\n",
    "    for month in range(12):\n",
    "        interest = remaining_balance * monthly_rate\n",
    "        principal = monthly_payment - interest\n",
    "        remaining_balance -= principal\n",
    "        annual_interest += interest\n",
    "        annual_principal += principal\n",
    "    interest_paid.append(annual_interest / (12*monthly_payment) * 100)\n",
    "    principal_paid.append(annual_principal / (12*monthly_payment) * 100)\n",
    "# Plot the interest and principal paid over time\n",
    "plt.plot(year_numbers, interest_paid, label='Interest Paid (%)')\n",
    "plt.plot(year_numbers, principal_paid, label='Principal Paid (%)')\n",
    "plt.xlabel('Year')\n",
    "plt.ylabel('Amount (% of Total Monthly Payment)')\n",
    "plt.title('Interest and Principal Paid Over Time')\n",
    "plt.legend()\n",
    "plt.grid()\n",
    "plt.show()"
   ]
  },
  {
   "cell_type": "markdown",
   "id": "147be474a10eaabe",
   "metadata": {},
   "source": [
    "**Exercise 3.1**: (Amortization) A debt of 25,000 is to be amortized over 7 years at 7\\% interest. What value of monthly payments will achieve this? Suppose that the interest is compounded monthly for calculation. "
   ]
  },
  {
   "cell_type": "code",
   "execution_count": 6,
   "id": "e5ad99a20b681828",
   "metadata": {
    "ExecuteTime": {
     "end_time": "2024-04-16T19:31:23.822222Z",
     "start_time": "2024-04-16T19:31:23.806443Z"
    }
   },
   "outputs": [
    {
     "name": "stdout",
     "output_type": "stream",
     "text": [
      "The monthly payment is 377.32\n"
     ]
    }
   ],
   "source": [
    "print(f\"The monthly payment is {loan_payment(25000, 0.07/12, 7*12):.2f}\")"
   ]
  },
  {
   "cell_type": "markdown",
   "id": "80b22c63fbc87148",
   "metadata": {},
   "source": [
    "**Exercise 3.3**: (Uncertain annuity ) Gavin’s grandfather, Mr. Jones, has just turned 90 years old and is applying for a lifetime annuity that will pay 10,000 per year, starting 1 year from now, until he dies. He asks Gavin to analyze it for him. Gavin finds that according to statistical summaries, the chance (probability) that Mr. Jones will die at any particular age is as follows:\n",
    "\n",
    "| age         | 90  | 91  | 92  | 93  | 94  | 95  | 96  | 97  | 98  | 99  | 100 | 101 | \n",
    "|-------------|-----|-----|-----|-----|-----|-----|-----|-----|-----|-----|-----|-----|\n",
    "| probability | .07 | .08 | .09 | .10 | .10 | .10 | .10 | .10 | .10 | .07 | .05 | .04 |\n",
    "\n",
    "Then Gavin (and you) answer the following questions:\n",
    "(a) What is the life expectancy of Mr. Jones? \\\n",
    "(b) What is the present value of an annuity at 8\\% interest that has a lifetime equal to Mr. Jones’s life expectancy? (For an annuity of a non-integral number of years, use an averaging method.) \\\n",
    "(c) What is the expected present value of the annuity?"
   ]
  },
  {
   "cell_type": "code",
   "execution_count": 57,
   "id": "ae29b961155d36e6",
   "metadata": {
    "ExecuteTime": {
     "end_time": "2024-04-18T07:18:12.529176Z",
     "start_time": "2024-04-18T07:18:12.513774Z"
    }
   },
   "outputs": [
    {
     "name": "stdout",
     "output_type": "stream",
     "text": [
      "a) The life expectancy for Mr. Jones is 95.13\n",
      "b) We will compute the present value of this annuity if the lifetime of Mr. Jones is 95 and 96 respectively\n",
      "   The PV of the annuity if Mr. Jones died at age 95 is P_95 = 39927.10\n",
      "   The PV of the annuity if Mr. Jones died at age 96 is P_96 = 46228.80\n",
      "   We take a weighted average 0.87 * PV_95 + 0.13 * PV_96 = 40746.32\n",
      "c) The expected present value of the annuity is computed by E[P] = (1-0.07) * 10000/1.08 + (1-0.08 - 0.07) * 10000/1.08^2 + ... 0.04 * 100000/1.08^11= 38386.95\n"
     ]
    }
   ],
   "source": [
    "print(f\"a) The life expectancy for Mr. Jones is {90 * 0.07 + 91 * 0.08 + 92 * 0.09 + 93 * 0.1 + 94 * 0.1 + 95 * 0.1 + 96 * 0.1 + 97 * 0.1 + 98 * 0.1 + 99 * 0.07 + 100 * 0.05 + 101 * 0.04:.2f}\")\n",
    "\n",
    "print(\"b) We will compute the present value of this annuity if the lifetime of Mr. Jones is 95 and 96 respectively\")\n",
    "cf1 = [0] + [10000] * 5\n",
    "cf2 = [0] + [10000] * 6\n",
    "p95 = PV(r = 0.08, cf = cf1)\n",
    "p96 = PV(r = 0.08, cf = cf2)\n",
    "print(f\"   The PV of the annuity if Mr. Jones died at age 95 is P_95 = {p95:.2f}\")\n",
    "print(f\"   The PV of the annuity if Mr. Jones died at age 96 is P_96 = {p96:.2f}\")\n",
    "print(f\"   We take a weighted average 0.87 * PV_95 + 0.13 * PV_96 = {0.13 * p96 + 0.87 * p95:.2f}\")\n",
    "\n",
    "ecf = [0, 9300, 8500, 7600, 6600, 5600, 4600, 3600, 2600, 1600, 900, 400]\n",
    "print(f\"c) The expected present value of the annuity is computed by E[P] = (1-0.07) * 10000/1.08 + (1-0.08 - 0.07) * 10000/1.08^2 + ... 0.04 * 100000/1.08^11= {PV(0.08, ecf):.2f}\")"
   ]
  },
  {
   "cell_type": "markdown",
   "id": "aaa5e99408df0b77",
   "metadata": {},
   "source": [
    "**Exercise 3.5**: (Mortgage restructuring) An investor purchased a small apartment building for 250,000. She made a down payment of 50,000 and financed the balance with a 30-year, fixed-rate mortgage at 12% annual interest, compounded monthly. For exactly 20 years she has made equal-sized monthly payments as required by the terms of the loan. Now she has the opportunity to restructure the mortgage by refinancing the balance. She could borrow the current balance, pay off the original loan, and assume a new loan for the balance. (No points or any other charges are involved in the transaction.) The new loan is a 20-year, fixed-rate loan at 9%, compounded monthly, to be paid in equal monthly installments. Suppose she has a risk-free savings account that pays 5%, compounded monthly. Should she restructure the mortgage?"
   ]
  },
  {
   "cell_type": "markdown",
   "id": "f1abbc6d31e3d887",
   "metadata": {},
   "source": [
    "**Solution**: \n",
    "We will first compute the monthly payment of the first mortgage. Then we compute the remaining balance at the end of year 20 by computing the present value of the remaining 10 year payment at the end of year 20 under 12\\% annual interest. Then we compute the new monthly payment if we choose to reconstruct the remaining balance.\n",
    "\n",
    "Now, we get two cash flow of payments. We will compute their present value at the end of year 20, and choose the one with smaller present value. We run the following codes to do the computation."
   ]
  },
  {
   "cell_type": "code",
   "execution_count": 7,
   "id": "f8d13e813864375",
   "metadata": {
    "ExecuteTime": {
     "end_time": "2024-04-16T19:31:23.837760Z",
     "start_time": "2024-04-16T19:31:23.823277Z"
    }
   },
   "outputs": [
    {
     "name": "stdout",
     "output_type": "stream",
     "text": [
      "The monthly payment of the first loan is 2057.23\n",
      "The remaining balance to the first loan at the end of year 20 is 143389.67\n",
      "The new monthly payment if reconstruct the loan is 1290.11\n",
      "The present value of the payments if we do not reconstruct the loan is 193957.97 at the end of year 20\n",
      "The present value of the payments if we reconstruct the loan is 195484.94 at the end of year 20\n",
      "Hence, we choose not to restructure the loan\n"
     ]
    }
   ],
   "source": [
    "monthly_payment_old = loan_payment(200000, 0.01, 30*12)\n",
    "print(f\"The monthly payment of the first loan is {monthly_payment_old:.2f}\")\n",
    "\n",
    "payment_cf = [0] + [monthly_payment_old] * 20 * 12\n",
    "payment_pv = PV(0.01, payment_cf)\n",
    "#remaining_amount = FV(0.01, [200000-payment_pv], T= 20 * 12)\n",
    "remaining_payment1_cf = [0] + [monthly_payment_old] * 10 * 12\n",
    "remaining_balance = PV(0.01, remaining_payment1_cf)\n",
    "print(f\"The remaining balance to the first loan at the end of year 20 is {remaining_balance:.2f}\")\n",
    "\n",
    "monthly_payment_new = loan_payment(remaining_balance, 0.09/12, 20 * 12)\n",
    "print(f\"The new monthly payment if reconstruct the loan is {monthly_payment_new:.2f}\")\n",
    "\n",
    "remaining_payment1_cf = [0] + [monthly_payment_old] * 10 * 12\n",
    "remaining_payment2_cf = [0] + [monthly_payment_new] * 20 * 12\n",
    "print(f\"The present value of the payments if we do not reconstruct the loan is {PV(0.05/12, remaining_payment1_cf):.2f} at the end of year 20\")\n",
    "print(f\"The present value of the payments if we reconstruct the loan is {PV(0.05/12, remaining_payment2_cf):.2f} at the end of year 20\")\n",
    "print(\"Hence, we choose not to restructure the loan\")\n"
   ]
  },
  {
   "cell_type": "markdown",
   "id": "14df09a3fb393679",
   "metadata": {},
   "source": [
    "# Bonds\n",
    "\n",
    "A **bond** is an obligation by the bond issuer to pay money to the bondholder according to rules specified at the time the bond is issued. Generally, a bond pays a specific amount, its **face value** or, equivalently, its **par value** at the date of maturity. Most bonds pay periodic coupon payments, which is usually a fraction of its face value. We call the internal rate of return of bond as its **yield to maturity (YTM)**. Given the YTM of a bond, we can also compute its price by calculating the present value of the bond's payment cashflow.\n",
    "\n",
    "The U.S. Treasury bills does not pay coupon. The \"interest\" is the difference between its face value and price you paid."
   ]
  },
  {
   "cell_type": "markdown",
   "id": "f61392e1df1e213b",
   "metadata": {},
   "source": [
    "**Example**\n",
    "Here is a table of the recent auction result of the 52-week U.S. Treasury bill. We can compute the YTM of the following bills. "
   ]
  },
  {
   "cell_type": "code",
   "execution_count": 3,
   "id": "813ff49d6c8bc269",
   "metadata": {
    "ExecuteTime": {
     "end_time": "2024-04-18T05:55:33.324705Z",
     "start_time": "2024-04-18T05:55:33.294815Z"
    }
   },
   "outputs": [
    {
     "data": {
      "text/html": [
       "<div>\n",
       "<style scoped>\n",
       "    .dataframe tbody tr th:only-of-type {\n",
       "        vertical-align: middle;\n",
       "    }\n",
       "\n",
       "    .dataframe tbody tr th {\n",
       "        vertical-align: top;\n",
       "    }\n",
       "\n",
       "    .dataframe thead th {\n",
       "        text-align: right;\n",
       "    }\n",
       "</style>\n",
       "<table border=\"1\" class=\"dataframe\">\n",
       "  <thead>\n",
       "    <tr style=\"text-align: right;\">\n",
       "      <th></th>\n",
       "      <th>CUSIP</th>\n",
       "      <th>Security Type</th>\n",
       "      <th>Security Term</th>\n",
       "      <th>Auction Date</th>\n",
       "      <th>Issue Date</th>\n",
       "      <th>Maturity Date</th>\n",
       "      <th>Price per $100</th>\n",
       "    </tr>\n",
       "  </thead>\n",
       "  <tbody>\n",
       "    <tr>\n",
       "      <th>0</th>\n",
       "      <td>912797KS5</td>\n",
       "      <td>Bill</td>\n",
       "      <td>52-Week</td>\n",
       "      <td>04/16/2024</td>\n",
       "      <td>04/18/2024</td>\n",
       "      <td>04/17/2025</td>\n",
       "      <td>95.030389</td>\n",
       "    </tr>\n",
       "    <tr>\n",
       "      <th>1</th>\n",
       "      <td>912797KJ5</td>\n",
       "      <td>Bill</td>\n",
       "      <td>52-Week</td>\n",
       "      <td>03/19/2024</td>\n",
       "      <td>03/21/2024</td>\n",
       "      <td>03/20/2025</td>\n",
       "      <td>95.136556</td>\n",
       "    </tr>\n",
       "    <tr>\n",
       "      <th>2</th>\n",
       "      <td>912797KA4</td>\n",
       "      <td>Bill</td>\n",
       "      <td>52-Week</td>\n",
       "      <td>02/20/2024</td>\n",
       "      <td>02/22/2024</td>\n",
       "      <td>02/20/2025</td>\n",
       "      <td>95.252833</td>\n",
       "    </tr>\n",
       "    <tr>\n",
       "      <th>3</th>\n",
       "      <td>912797JR9</td>\n",
       "      <td>Bill</td>\n",
       "      <td>52-Week</td>\n",
       "      <td>01/23/2024</td>\n",
       "      <td>01/25/2024</td>\n",
       "      <td>01/23/2025</td>\n",
       "      <td>95.379222</td>\n",
       "    </tr>\n",
       "    <tr>\n",
       "      <th>4</th>\n",
       "      <td>912796ZV4</td>\n",
       "      <td>Bill</td>\n",
       "      <td>52-Week</td>\n",
       "      <td>12/26/2023</td>\n",
       "      <td>12/28/2023</td>\n",
       "      <td>12/26/2024</td>\n",
       "      <td>95.353944</td>\n",
       "    </tr>\n",
       "  </tbody>\n",
       "</table>\n",
       "</div>"
      ],
      "text/plain": [
       "       CUSIP Security Type Security Term Auction Date  Issue Date  \\\n",
       "0  912797KS5          Bill       52-Week   04/16/2024  04/18/2024   \n",
       "1  912797KJ5          Bill       52-Week   03/19/2024  03/21/2024   \n",
       "2  912797KA4          Bill       52-Week   02/20/2024  02/22/2024   \n",
       "3  912797JR9          Bill       52-Week   01/23/2024  01/25/2024   \n",
       "4  912796ZV4          Bill       52-Week   12/26/2023  12/28/2023   \n",
       "\n",
       "  Maturity Date  Price per $100  \n",
       "0    04/17/2025       95.030389  \n",
       "1    03/20/2025       95.136556  \n",
       "2    02/20/2025       95.252833  \n",
       "3    01/23/2025       95.379222  \n",
       "4    12/26/2024       95.353944  "
      ]
     },
     "execution_count": 3,
     "metadata": {},
     "output_type": "execute_result"
    }
   ],
   "source": [
    "data = pd.read_csv(\"../data/52_week_bill.csv\")\n",
    "data.head(5)"
   ]
  },
  {
   "cell_type": "code",
   "execution_count": 5,
   "id": "3f01328b60921e20",
   "metadata": {
    "ExecuteTime": {
     "end_time": "2024-04-18T17:10:42.935891Z",
     "start_time": "2024-04-18T17:10:42.932385Z"
    }
   },
   "outputs": [
    {
     "name": "stdout",
     "output_type": "stream",
     "text": [
      "The YTM for the first bill is 5.23%\n"
     ]
    }
   ],
   "source": [
    "print(f\"The YTM for the first bill is {irr([-95.03, 100])*100:.2f}%\")"
   ]
  },
  {
   "cell_type": "markdown",
   "id": "861fb381b2cee3b7",
   "metadata": {},
   "source": [
    "**Example**\n",
    "Consider the following auction result for a 3-year U.S. Treasury note. Verify the YTM from the price, and the price from the YTM\n",
    "\n",
    "![3-year note aucton result](../img/3_year_note_auction.png)"
   ]
  },
  {
   "cell_type": "code",
   "execution_count": 14,
   "id": "2b6ee2982174b0f5",
   "metadata": {
    "ExecuteTime": {
     "end_time": "2024-04-18T18:12:13.789414Z",
     "start_time": "2024-04-18T18:12:13.783019Z"
    }
   },
   "outputs": [
    {
     "name": "stdout",
     "output_type": "stream",
     "text": [
      "The YTM of this bond computed from its price is 4.548%\n",
      "The price of this bond computed from its YTM is 99.8668\n"
     ]
    }
   ],
   "source": [
    "cf = [-99.8668, 2.25, 2.25, 2.25, 2.25, 2.25, 102.25]\n",
    "print(f\"The YTM of this bond computed from its price is {2 * irr(cf) * 100:.3f}%\")\n",
    "\n",
    "cf2 = [0, 2.25, 2.25, 2.25, 2.25, 2.25, 102.25]\n",
    "r = 0.04548/2\n",
    "print(f\"The price of this bond computed from its YTM is {PV(r, cf2):.4f}\")"
   ]
  },
  {
   "cell_type": "code",
   "execution_count": 101,
   "id": "29b75f96dfa75968",
   "metadata": {
    "ExecuteTime": {
     "end_time": "2024-04-18T08:57:17.640772Z",
     "start_time": "2024-04-18T08:57:17.636177Z"
    }
   },
   "outputs": [
    {
     "name": "stdout",
     "output_type": "stream",
     "text": [
      "The YTM computed from the price is 4.548%\n",
      "The price computed from the YTM is 99.8668\n"
     ]
    }
   ],
   "source": [
    "print(f\"The YTM computed from the price is {YTM(P = 99.8668, F = 100, c = 4.5, dt = 3, m = 2) * 100:.3f}%\")\n",
    "print(f\"The price computed from the YTM is {bond_price(F = 100, y = 0.04548, c = 4.5, dt = 3, m = 2):.4f}\")"
   ]
  },
  {
   "cell_type": "markdown",
   "id": "674f646f579aaf6",
   "metadata": {},
   "source": [
    "**Exercise 3.7**: \n",
    "(Callable bond) The Z Corporation issues a 10%, 20-year bond at a time when yields are 10%. The bond has a call provision that allows the corporation to force a bondholder to redeem his or her bond at face value plus 5%. After 5 years the corporation finds that exercise of this call provision is advantageous. What can you deduce about the yield at that time? (Assume one coupon payment per year.)"
   ]
  },
  {
   "cell_type": "markdown",
   "id": "1eca080c5ae1622b",
   "metadata": {},
   "source": [
    "**Solution:** \\\n",
    "The remaining cashflow after 5 years is $[0, 10, 10, \\ldots, 10, 110]$. Since the company find it advantageous to call back the bond, then the price of the bond after year 5 is at least 105. Hence, the yield of the bond after year 5 is at most the irr of the cash flow $[-105, 10, 10,\\ldots, 10, 110]$, which is 9.366\\%. We conclude that YTM$\\leq 9.366 \\%$"
   ]
  },
  {
   "cell_type": "code",
   "execution_count": 4,
   "id": "946aa3d43f573951",
   "metadata": {
    "ExecuteTime": {
     "end_time": "2024-04-29T09:31:46.200130Z",
     "start_time": "2024-04-29T09:31:46.189836Z"
    }
   },
   "outputs": [
    {
     "name": "stdout",
     "output_type": "stream",
     "text": [
      "The irr of the above cashflow is 9.366%\n"
     ]
    }
   ],
   "source": [
    "cashflow = [-105] + [10] * 14 + [110]\n",
    "print(f\"The irr of the above cashflow is {irr(cashflow)*100:.3f}%\")"
   ]
  },
  {
   "cell_type": "markdown",
   "id": "3bbf97d26f3ef253",
   "metadata": {},
   "source": [
    "**Exercise 3.13**: \n",
    "(Bond price) An 8% bond with 18 years to maturity has a yield of 9%. What is the price of this bond?"
   ]
  },
  {
   "cell_type": "code",
   "execution_count": 10,
   "id": "ce5c94d7764fb243",
   "metadata": {
    "ExecuteTime": {
     "end_time": "2024-04-18T17:30:52.915515Z",
     "start_time": "2024-04-18T17:30:52.911662Z"
    }
   },
   "outputs": [
    {
     "name": "stdout",
     "output_type": "stream",
     "text": [
      "The cash flow of payment of this bond is [0, 4, 4, 4, 4, 4, 4, 4, 4, 4, 4, 4, 4, 4, 4, 4, 4, 4, 4, 4, 4, 4, 4, 4, 4, 4, 4, 4, 4, 4, 4, 4, 4, 4, 4, 4, 104]\n",
      "The price of this bond is 91.17\n"
     ]
    }
   ],
   "source": [
    "cf = [0] + [4] * (18 * 2 - 1) + [104]\n",
    "print(\"The cash flow of payment of this bond is\", cf)\n",
    "r = 0.045\n",
    "print(f\"The price of this bond is {PV(r, cf):.2f}\")"
   ]
  },
  {
   "cell_type": "markdown",
   "id": "33097bdb8f81eee5",
   "metadata": {},
   "source": [
    "## Bond Duration\n",
    "In bond analysis, it is common to use yield instead of the interest rate. Duration measures the bond's sensitivity to changes in yield, which relates directly to price. There are two commonly used types of duration: **Macaulay duration** and **modified duration**. \n",
    "\n",
    "Macaulay duration is the weighted average time to receive the bond's cash flows, considering the yield. Suppose a financial instrument makes payments $m$ times per year, with the payment in period being $c_k$, and there are $n$ periods remaining. The Macaulay duration is defined as:\n",
    "$$D = \\frac{\\sum_{k=1}^n \\frac{k}{m}\\frac{c_k}{(1+\\lambda/m)^k}}{P}$$\n",
    "\n",
    "Denote $P_k$ to be the present value of payment $c_k$ received in the period $k$. Then we have $P_k = \\frac{c_k}{(1+\\lambda/m)^k}$. Hence, we may write $D$ as \n",
    "$$D = \\frac{\\sum_{k=1}^n \\frac{k}{m}P_k}{P}$$\n",
    "\n",
    "Note that we also have $\\frac{dP_k}{d\\lambda} = -\\frac{k}{m(1+\\lambda/m)}P_k$. Let $P$ be the present value of the payment cashflow, which is also the price of the bond. Then we have $P = P_1+\\cdots+P_k$, and thus \n",
    "$$\\frac{dP}{d\\lambda} = \\sum_1^n \\frac{dP_k}{d\\lambda} = \\sum_1^n\\frac{-\\frac{k}{m} P_k}{1+\\lambda/m} = \\frac{-D\\cdot P}{1+\\lambda/m} = -D_MP$$\n",
    "We call $D_M = \\frac{D}{1+\\lambda/m}$ as the **modified duration**. Roughly speaking\n",
    "$$\\frac{\\Delta P}{P} \\approx -D_M\\Delta \\lambda$$\n",
    "\n",
    "In the case where all coupon payments are identical (the normal case for bonds), there is an explicit formula for the Macaulay duration. For a bond with a coupon rate $c$ per period, yield $y$ per period, $m$ periods per year, and exactly $n$ periods remaining, the Macaulay duration is:\n",
    "$$D = \\frac{1+y}{my}-\\frac{1+y+n(c-y)}{mc[(1+y)^n - 1] + my}$$"
   ]
  },
  {
   "cell_type": "markdown",
   "id": "aeebf6c478b686b8",
   "metadata": {},
   "source": [
    "**Example**: \n",
    "Consider a bond with YTM 10%, and modified duration being 10 years. If the YTM increase to 11%, what can we say about the price of this bond\n",
    "\n",
    "a) Increase by 1% \\\n",
    "b) Decrease by 1% \\\n",
    "c) Increase by 10% \\\n",
    "d) Decrease by 10%\n",
    "\n",
    "**Solution:** The price of this bond will decrease by 10%."
   ]
  },
  {
   "cell_type": "markdown",
   "id": "d1929e7a55f5a7ce",
   "metadata": {},
   "source": [
    "**Exercise 3.14**: \n",
    "(Duration) Find the price and duration of a 10-year, 8% bond that is trading at a yield of 10%. Assume that the coupon is paid semi-annually."
   ]
  },
  {
   "cell_type": "code",
   "execution_count": 13,
   "id": "f3c575e948e57812",
   "metadata": {
    "ExecuteTime": {
     "end_time": "2024-04-18T18:10:37.582327Z",
     "start_time": "2024-04-18T18:10:37.579390Z"
    }
   },
   "outputs": [
    {
     "name": "stdout",
     "output_type": "stream",
     "text": [
      "The duration is 6.84 years\n"
     ]
    }
   ],
   "source": [
    "print(f\"The duration is {macaulay_duration(c = 0.04, y = 0.05, m = 2, n = 20):.2f} years\")"
   ]
  },
  {
   "cell_type": "markdown",
   "id": "ce3f5f69b54719ae",
   "metadata": {},
   "source": [
    "**Example**\n",
    "Show that for a zero-coupon bond, its duration equals to its time to maturity."
   ]
  }
 ],
 "metadata": {
  "kernelspec": {
   "display_name": "Python 3 (ipykernel)",
   "language": "python",
   "name": "python3"
  },
  "language_info": {
   "codemirror_mode": {
    "name": "ipython",
    "version": 3
   },
   "file_extension": ".py",
   "mimetype": "text/x-python",
   "name": "python",
   "nbconvert_exporter": "python",
   "pygments_lexer": "ipython3",
   "version": "3.9.13"
  }
 },
 "nbformat": 4,
 "nbformat_minor": 5
}
