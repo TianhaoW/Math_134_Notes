{
 "cells": [
  {
   "cell_type": "markdown",
   "id": "57ee31a3e81699a3",
   "metadata": {
    "collapsed": false
   },
   "source": [
    "# Math 134A Week 8"
   ]
  },
  {
   "cell_type": "markdown",
   "id": "26dba2b498dad5a7",
   "metadata": {
    "collapsed": false
   },
   "source": [
    "# Market Portfolio\n",
    "If everyone uses the mean-variance approach to investing, and has the same estimates for the asset's return, variance, and covariance, then every one must invest in the same fund $F$ of risky assets by the one fund theorem. It follows from the equilibrium that $F$ must be the **market portfolio** $M$, whose weights in each asset is the proportion of total market capitalization. "
   ]
  },
  {
   "cell_type": "markdown",
   "id": "90a41db0-71f6-408b-bdd4-d2e6c0fa1106",
   "metadata": {},
   "source": [
    "**Example**\n",
    "Suppose that there are three stocks A,B,C on the market, and they each have 100, 200, 200 shares on the market. Suppose that the current stock price for each of them is $3,2,1$. Find the weights in each stock of the market portfoloio. \n",
    "\n",
    "Suppose further that their expected rate of return are $0.1, 0.05, 0.1$, and variances are $0.3, 0.1, 0.2$, and they are uncorrelated. Compute the expected rate of return and variance of the market portfolio. "
   ]
  },
  {
   "cell_type": "markdown",
   "source": [
    "**Solution:** \\\n",
    "The market cap of each stock is $300, 400, 200$. Hence, the market portfolio has weights $1/3, 4/9, 2/9$ in stocks $A,B,C$. \n",
    "\n",
    "The expected rate of return of the market portfolio is \n",
    "$$\\overline{r_M} = \\frac{1}{3}\\cdot 0.1 + \\frac{4}{9}\\cdot 0.05 + \\frac{2}{9}\\cdot 0.1 = \\frac{7}{90}\\approx 7.78\\%$$\n",
    "\n",
    "The variance of the market portfolio is \n",
    "$$\\sigma_M^2 = \\left(\\frac{1}{3}\\right)^2\\cdot 0.3 + \\left(\\frac{4}{9}\\right)^2\\cdot 0.1 + \\left(\\frac{2}{9}\\right)^2\\cdot 0.2 = \\frac{2.7 + 1.6 + 0.8}{81}\\approx 0.063$$\n"
   ],
   "metadata": {
    "collapsed": false
   },
   "id": "f90773948eaa9cd8"
  },
  {
   "cell_type": "markdown",
   "id": "23310f38-8b61-4699-ad29-55a7bd64b3e9",
   "metadata": {},
   "source": [
    "# Capital Market Line\n",
    "Following from the one fund theorem, we know that the efficient frontier is a straight line connecting the risk-free asset with the market portfolio. We call this as the **capital market line**. Denote $r_f$ be the risk-free rate, and $\\overline{r_M}, \\sigma_M^2$ be the expected return and variance of the market portfolio, then a point $(\\overline{r}, \\sigma)$ on the capital market line satisfies \n",
    "$$\\overline{r} = r_f+\\frac{\\overline{r_M}-r_f}{\\sigma_M}\\sigma$$"
   ]
  },
  {
   "cell_type": "markdown",
   "id": "da3e0a8b64e63d97",
   "metadata": {
    "collapsed": false
   },
   "source": [
    "**Exercise 7.1** (Capital market line) Assume that the expected rate of return on the market portfolio is 23\\% and the rate of return on T-bills (the risk-free rate) is 7%. The standard deviation of the market is 32\\%. Assume that the market portfolio is efficient. \\\n",
    "(a) What is the equation of the capital market line? \\\n",
    "(b) (i) If an expected return of 39\\% is desired, what is the standard deviation of this position? \\\n",
    "    (ii) If you have 1,000 to invest, how should you allocate it to achieve the above position? \\\n",
    "(c) If you invest 300 in the risk-free asset and 700 in the market portfolio, how much money should you expect to have at the end of the year?"
   ]
  },
  {
   "cell_type": "markdown",
   "id": "f9e5f81876ea7077",
   "metadata": {
    "collapsed": false
   },
   "source": [
    "**Solution:** \\\n",
    "a) The equation of the capital market line is \n",
    "$$\\overline{r} = 0.07 + \\frac{0.23 - 0.07}{0.32}\\sigma = 0.07 + 0.5\\sigma$$\n",
    "b) i) Substitute 0.39 into the above equation, we get \n",
    "$$0.39 = 0.07+0.5\\sigma$$\n",
    "Solving this equation gives $\\sigma = 0.64$\n",
    "\n",
    "ii) We denote $\\alpha$ to be the weight of this portfolio in the market portfolio, and $1-\\alpha$ to be the weight in risk-free asset. Then, we have \n",
    "$$0.39 = \\alpha\\cdot 0.23 + (1-\\alpha)\\cdot 0.07$$\n",
    "Solving this equation gives $\\alpha = 2, 1-\\alpha = -1$. Thus, we should borrow 1000, and invest 2000 in the market portfolio. \n",
    "\n",
    "c) The expected money that we get is \n",
    "$$300 \\cdot 1.07 + 700 \\cdot 1.23 = 1182$$"
   ]
  },
  {
   "cell_type": "markdown",
   "id": "9683841a1b00680f",
   "metadata": {
    "collapsed": false
   },
   "source": [
    "# Capital Asset Pricing Model (CAPM)\n",
    "The capital market lines gives the expected return of an efficient portfolio given its standard deviation. We now derive a similar formula for a portfolio that is not necessarily efficient. \n",
    "\n",
    "Assuming that the market portfolio $M$ is efficient, the expected return $\\overline{r_i}$ of any asset $i$ satisfies \n",
    "$$\\overline{r_i}-r_f = \\beta_i(\\overline{r_M}-r_f)$$\n",
    "where \n",
    "$$\\beta_i = \\frac{\\sigma_{iM}}{\\sigma_M^2}$$\n",
    "\n",
    "We call the $\\beta_i$ in the above formula as the **beta** if an asset. The beta is really the risk characteristic of an asset. We call $\\overline{r_i}-r_f$ as the **expected excess rate of return** of the asset $i$. Then the CAPM says that the excess rate of return of an asset is porportional to the expected excess rate of return of the market portfolio, and the proportion factor is $\\beta$. "
   ]
  },
  {
   "cell_type": "markdown",
   "id": "c9d0987200348398",
   "metadata": {
    "collapsed": false
   },
   "source": [
    "**Example**\n",
    "Consider an efficient portfolio with variance $\\sigma^2$. Compute the weights of this portfolio in the risk-free asset and the market portfolio. Then, compute its expected rate of return using the above formula."
   ]
  },
  {
   "cell_type": "markdown",
   "source": [
    "**Solution:** \\\n",
    "By the one fund theorem, we know that an efficient portfolio has weight $\\alpha$ in the market portfolio and weight $1-\\alpha$ in the risk-free asset. Its variance is \n",
    "$$\\sigma^2 = \\alpha^2\\sigma_M^2$$\n",
    "and thus $\\alpha = \\frac{\\sigma}{\\sigma_M}$. Its beta value is \n",
    "$$\\beta = \\frac{\\text{Cov}(\\alpha r_M+(1-\\alpha)r_f, r_M)}{\\sigma_M^2} = \\frac{\\alpha\\sigma_M^2}{\\sigma_M^2} = \\alpha = \\frac{\\sigma}{\\sigma_M}$$\n",
    "By the CAPM, its expected rate of return is \n",
    "$$\\overline{r} = r_f+ \\beta(\\overline{r_M}-r_f) = r_f+\\frac{\\overline{r_M} - r_f}{\\sigma_M}\\sigma$$\n",
    "which is exactly what we expect from the capital market line formula. "
   ],
   "metadata": {
    "collapsed": false
   },
   "id": "5005c2fe35f4cd43"
  },
  {
   "cell_type": "markdown",
   "id": "758b35a5fb8a9abb",
   "metadata": {
    "collapsed": false
   },
   "source": [
    "**Example**\n",
    "Suppose that a portfolio contains $n$ assets with weights $w_1,\\ldots, w_n$, and the bata of each asset is $\\beta_1,\\ldots, \\beta_n$. Compute the $\\beta$ of this portfolio. "
   ]
  },
  {
   "cell_type": "markdown",
   "source": [
    "**Solution**\n",
    "The rate of return of this asset is $r = \\sum_1^n w_ir_i$. Hence, its beta is \n",
    "$$\\beta = \\frac{\\text{Cov}(r, r_M)}{\\sigma_M^2} = \\frac{\\sum_1^n w_i\\text{Cov}(r_i, r_M)}{\\sigma_M^2} = \\sum_1^n w_i\\beta_i$$"
   ],
   "metadata": {
    "collapsed": false
   },
   "id": "8488e4782c8f9bbd"
  },
  {
   "cell_type": "markdown",
   "id": "c06d5611e41f23c0",
   "metadata": {
    "collapsed": false
   },
   "source": [
    "**Exercise 7.2** (A small world) Consider a world in which there are only two risky assets, A and B, and a risk-free asset F. The two risky assets are in equal supply in the market; that is, $M = \\frac{1}{2}(A +B)$. The following information is known: $r_F = 0.1, \\sigma_A^2 = 0.04, \\sigma_{AB} = 0.01, \\sigma_B^2 = 0.02$ and $\\overline{r_M} = 0.18$. \n",
    "\n",
    "a) Find a general expression (without substituting values) for $\\sigma_M^2, \\beta_A$ and $\\beta_B$. \\\n",
    "b) According to the CAPM, what are the numerical values of $\\overline{r_A}$ and $\\overline{r_B}$. "
   ]
  },
  {
   "cell_type": "markdown",
   "id": "a12a39366cc5f823",
   "metadata": {
    "collapsed": false
   },
   "source": [
    "**Solution:** \\\n",
    "a) We have \n",
    "$$\\sigma_M^2 = \\text{Cov}(0.5r_A + 0.5r_B, 0.5r_A+0.5r_B) = 0.5^2\\sigma_A^2 + 0.5^2\\sigma_B^2 + 2\\cdot 0.5\\cdot 0.5 \\cdot\\sigma_{AB} = 0.25\\sigma_A^2 + 0.25\\sigma_B^2 + 0.5\\sigma_{AB}$$\n",
    "$$\\beta_A = \\frac{\\text{Cov}(r_A, 0.5r_A+0.5r_B)}{\\sigma_M^2} = \\frac{0.5\\sigma_A^2 + 0.5\\sigma_{AB}}{\\sigma_M^2}$$\n",
    "$$\\beta_B = \\frac{0.5\\sigma_B^2 + 0.5\\sigma_{AB}}{\\sigma_M^2}$$\n",
    "\n",
    "b) By substituting the numbers, we get $\\sigma_M^2 = 0.02$, $\\beta_A = 1.25$, $\\beta_B = 0.75$. By the CAPM, we get \n",
    "$$\\overline{r_A} = 0.1+1.25\\cdot(0.18-0.1) = 0.2$$\n",
    "$$\\overline{r_B} = 0.1 + 0.75\\cdot (0.18-0.1) = 0.16$$\n"
   ]
  },
  {
   "cell_type": "markdown",
   "id": "227cc62794481dd",
   "metadata": {
    "collapsed": false
   },
   "source": [
    "**Example**\n",
    "Suppose that there are only two risky assets $A$ and $B$, and we have the following data\n",
    "\n",
    "| a | Number of shares outstanding | price per share | Expected rate of return | Variance of the return |\n",
    "|---|------------------------------|-----------------|-------------------------|------------------------| \n",
    "| A | 100                          | 5               | 0.085                   | 0.25                   |\n",
    "| B | 200                          | 2.5             | 0.076                   | 0.16                   |\n",
    "\n",
    "Suppose that there is also a risk-free asset, and the correlation coefficient between asset $A$ and asset $B$ is 0.5. Suppose further that the market follows the CAPM exactly, in the sense that the market portfolio is efficient. \n",
    "\n",
    "1) Determine the weights of the market portfolio in assets A and B\n",
    "2) Compute the expected rate of return and standard deviation of the market portfolio\n",
    "3) What is the risk-free rate $r_f$?\n",
    "4) What is the beta of the asset A, and asset B?\n",
    "5) Verify that the expected rate of return of $A$ and $B$ satisfies the CAPM model"
   ]
  },
  {
   "cell_type": "markdown",
   "id": "996fc054fb8a6acb",
   "metadata": {
    "collapsed": false
   },
   "source": [
    "**Solution:** \\\n",
    "1). The market cap of asset and asset B are $500, 500$. Hence, the weights of the market portfolio in asset A and asset B are $0.5, 0.5$.\n",
    "\n",
    "2). We have $\\overline{r_M} = 0.5\\overline{r_A} + 0.5\\overline{r_B} = 8.05\\%$, $\\sigma_M^2 = 0.25\\sigma_A^2 + 0.25\\sigma_B^2 + 2\\cdot0.5\\cdot 0.5 \\cdot \\rho_{AB}\\sigma_{A}\\sigma_B = 0.1525$. Thus, $\\sigma_M \\approx 0.39$\n",
    "\n",
    "3). By the one fund theorem, and the assumption that the market portfolio is efficient, the following equation is true for some $\\lambda$\n",
    "$$\\begin{bmatrix}0.25 & 0.5 \\\\ 0.5 & 0.16\\end{bmatrix}\\begin{bmatrix}0.5\\lambda \\\\ 0.5\\lambda\\end{bmatrix} = \\begin{bmatrix}0.085-r_f \\\\ 0.076-r_f\\end{bmatrix}$$\n",
    "Solving this equation gives $r_f = 5\\%$. \n",
    "\n",
    "4). We have $\\beta_A = \\frac{\\text{Cov}(r_A, 0.5r_A+0.5r_B)}{\\sigma_M^2} = \\frac{0.5\\sigma_A^2+0.5\\sigma_{AB}}{0.1525} = \\frac{0.175}{0.1525} = \\frac{70}{61} = \\approx 1.15$, and $\\beta_B = \\frac{0.13}{0.1525} \\approx 0.85$\n",
    "\n",
    "3). We can also compute the $\\beta$ first, and use this to compute the risk-free rate. We have \n",
    "$$\\overline{r_A}-r_f = \\beta_A(\\overline{r_M}-r_f)$$\n",
    "and thus\n",
    "$$0.085-r_f = \\frac{70}{61}(0.0805 - r_f)$$\n",
    "Solving this equation gives $r_f = 0.05$. \n"
   ]
  },
  {
   "cell_type": "markdown",
   "id": "1eb26e934f7be382",
   "metadata": {
    "collapsed": false
   },
   "source": [
    "**Exercise 7.3**(Bounds on returns) Consider a universe of just three securities. They have expected rates of return of 10%, 20%, and 10%, respectively. Two portfolios are known to lie on the minimum-variance set. They are defined by the portfolio weights\n",
    "$$\\mathbf{w} = \\begin{bmatrix}0.6 \\\\ 0.2 \\\\ 0.2\\end{bmatrix},\\;\\;\\;\\;\\mathbf{v} = \\begin{bmatrix}0.8 \\\\ -0.2 \\\\ 0.4\\end{bmatrix}$$\n",
    "It is also known that the market portfolio is efficient.\n",
    "\n",
    "(a) Given this information, what are the minimum and maximum possible values for the expected rate of return on the market portfolio? \\\n",
    "(b) Now suppose you are told that w represents the minimum-variance portfolio. Does this change your answers to part (a)?"
   ]
  },
  {
   "cell_type": "markdown",
   "source": [
    "**Solution:** \\\n",
    "a) By the two fund theorem, we know that the market portfolio is of the form \n",
    "$$\\alpha\\vec{w}+(1-\\alpha)\\vec{v}$$\n",
    "for some $\\alpha\\in\\mathbb{R}$. This gives a line in the 3-dimensional space of the weight vector. Since the market portfolio has non-negative weights, we are interested in the segment of this line in the first quadrant. We will first compute the end points of this line segment.\n",
    "\n",
    "We compute the end points of the line segment by computing the intersection point with the $yz, xz, xy$ plane. We solve each of the following equations \n",
    "$$0.6\\alpha + 0.8(1-\\alpha) = 0$$\n",
    "$$0.2\\alpha - 0.2(1-\\alpha) = 0$$\n",
    "$$0.2\\alpha + 0.4(1-\\alpha) = 0$$\n",
    "and we get $\\alpha = 4, 0.5, 2$ respectively, and the intersection points with the coordinate planes are $(0, 1.4, -0.4), (0.7, 0, 0.3), (0.4, 0.6, 0)$ respectively. Thus, the end points of the line segment are $(0.7, 0, 0.3), (0.4, 0.6, 0)$, and the weight vector of the market portfolio is \n",
    "$$t(0,7, 0, 0.3)+(1-t)(0.4, 0.6, 0)\\;\\;\\;\\; t\\in[0,1]$$\n",
    "The expected rate of return of the portfolio with this weight vector is $t\\cdot 0.1 + (1-t)\\cdot 0.16$. Since $t\\in[0,1]$, we conclude that the expected rate of return of the market portfolio is between $0.1$ and $0.16$.\n",
    "\n",
    "b) If $\\vec{w}$ represent the minimum-variance portfolio, then the market portfolio is on the efficient frontier, and thus, its expected rate of return is bounded from below by the expected rate of return of the minimum-variance portfolio, which is $0.12$. We update the minimum possible value to 0.12. "
   ],
   "metadata": {
    "collapsed": false
   },
   "id": "e1e0aab9534fe227"
  },
  {
   "cell_type": "markdown",
   "source": [
    "**Proof of the CAPM**\n",
    "Hint: Consider the portfolio consisting with weight $\\alpha$ in asset $i$ and weight $1-\\alpha$ in the market portfolio. This will trace out a curve in $r-\\sigma$ diagram. What can we say about the curve at $\\alpha = 0$."
   ],
   "metadata": {
    "collapsed": false
   },
   "id": "b5a45c33bc5051d0"
  }
 ],
 "metadata": {
  "kernelspec": {
   "display_name": "Python 3 (ipykernel)",
   "language": "python",
   "name": "python3"
  },
  "language_info": {
   "codemirror_mode": {
    "name": "ipython",
    "version": 3
   },
   "file_extension": ".py",
   "mimetype": "text/x-python",
   "name": "python",
   "nbconvert_exporter": "python",
   "pygments_lexer": "ipython3",
   "version": "3.11.5"
  }
 },
 "nbformat": 4,
 "nbformat_minor": 5
}
